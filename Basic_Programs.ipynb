{
 "cells": [
  {
   "cell_type": "code",
   "execution_count": 35,
   "metadata": {},
   "outputs": [
    {
     "name": "stdout",
     "output_type": "stream",
     "text": [
      "Hello World\n"
     ]
    }
   ],
   "source": [
    "#1.WAS to print \"Hello World\" by using shell.\n",
    "print(\"Hello World\")"
   ]
  },
  {
   "cell_type": "code",
   "execution_count": 36,
   "metadata": {},
   "outputs": [
    {
     "name": "stdout",
     "output_type": "stream",
     "text": [
      "Hello World\n"
     ]
    }
   ],
   "source": [
    "#2.WAS to print \"hello World\" by using puthon print function.\n",
    "print(\"Hello World\")"
   ]
  },
  {
   "cell_type": "code",
   "execution_count": 37,
   "metadata": {},
   "outputs": [
    {
     "name": "stdout",
     "output_type": "stream",
     "text": [
      "50\n"
     ]
    }
   ],
   "source": [
    "#3.WAS to initialize variable and value as 50.\n",
    "a=50\n",
    "print(a)"
   ]
  },
  {
   "cell_type": "code",
   "execution_count": 38,
   "metadata": {},
   "outputs": [
    {
     "name": "stdout",
     "output_type": "stream",
     "text": [
      "150\n",
      "120\n",
      "250\n"
     ]
    }
   ],
   "source": [
    "#4.WAS to initialize multivariable values 150,120,250.\n",
    "a,b,c=150,120,250\n",
    "print(a)\n",
    "print(b)\n",
    "print(c) "
   ]
  },
  {
   "cell_type": "code",
   "execution_count": 39,
   "metadata": {},
   "outputs": [
    {
     "name": "stdout",
     "output_type": "stream",
     "text": [
      "<class 'set'>\n",
      "<class 'list'>\n",
      "<class 'tuple'>\n",
      "<class 'str'>\n"
     ]
    }
   ],
   "source": [
    "#5.WAS to print type of the data in given value.\n",
    "x={10,20}\n",
    "print(type(x))\n",
    "y=[1,2,3]\n",
    "print(type(y))\n",
    "z=('a','b','c')\n",
    "print(type(z))\n",
    "q=\"a123d4\"\n",
    "print(type(q))"
   ]
  },
  {
   "cell_type": "code",
   "execution_count": 40,
   "metadata": {},
   "outputs": [
    {
     "name": "stdout",
     "output_type": "stream",
     "text": [
      "2782434059200\n",
      "2782434076672\n"
     ]
    }
   ],
   "source": [
    "#6.WAS print the address of memory block in given value.\n",
    "w=[1,2,3,4]\n",
    "print(id(w))\n",
    "print(id([1,2,3,4]))"
   ]
  },
  {
   "cell_type": "code",
   "execution_count": 41,
   "metadata": {},
   "outputs": [
    {
     "name": "stdout",
     "output_type": "stream",
     "text": [
      "Rohith\n",
      "21\n",
      "['Rohith', 21, 8008535363, 'rohiths819@gmail.com']\n",
      "rohiths819@gmail.com\n",
      "8008535363\n",
      "{'name': 'Rohith', 'age': 21, 'phone': 8008535363, 'email': 'rohiths819@gmail.com'}\n",
      "8008535363\n",
      "Rohith\n"
     ]
    }
   ],
   "source": [
    "#7.WAS to print your details, first store your details and extract the values and display it.\n",
    "name,age,phone,email='Rohith',21,8008535363,'rohiths819@gmail.com'\n",
    "print(name)\n",
    "print(age)\n",
    "Details=['Rohith',21,8008535363,'rohiths819@gmail.com']\n",
    "print(Details)\n",
    "print(Details[-1])\n",
    "print(Details[2])\n",
    "details={'name':'Rohith','age':21,'phone':8008535363,'email':'rohiths819@gmail.com'}\n",
    "print(details)\n",
    "print(details['phone'])\n",
    "print(details['name'])\n"
   ]
  },
  {
   "cell_type": "code",
   "execution_count": 42,
   "metadata": {},
   "outputs": [
    {
     "name": "stdout",
     "output_type": "stream",
     "text": [
      "[1, 2, 3]\n",
      "hlo\n"
     ]
    }
   ],
   "source": [
    "#8.WAS to swap the two values with a temp varaiable.\n",
    "x='hlo'\n",
    "y=[1,2,3]\n",
    "temp=x\n",
    "x=y\n",
    "y=temp\n",
    "print(x)\n",
    "print(y)"
   ]
  },
  {
   "cell_type": "code",
   "execution_count": 43,
   "metadata": {},
   "outputs": [
    {
     "name": "stdout",
     "output_type": "stream",
     "text": [
      "[1, 2, 3]\n",
      "hlo\n"
     ]
    }
   ],
   "source": [
    "#9.WAS to swap the two values without a temp varaiable.\n",
    "n='hlo'\n",
    "m=[1,2,3]\n",
    "n,m=m,n\n",
    "print(n)\n",
    "print(m)"
   ]
  },
  {
   "cell_type": "code",
   "execution_count": 44,
   "metadata": {},
   "outputs": [
    {
     "name": "stdout",
     "output_type": "stream",
     "text": [
      "{'1': 'Rohith'}\n",
      "Rohith\n",
      "{'1': 'Prudhvi'}\n",
      "Prudhvi\n"
     ]
    }
   ],
   "source": [
    "#10.WAS to initialize a value and print the value,after print the value then reinitialize the new value to existing varaible and display the value.\n",
    "k={'1':'Rohith'}\n",
    "print(k) \n",
    "print(k['1'])\n",
    "k['1']=\"Prudhvi\"\n",
    "print(k)\n",
    "print(k['1'])"
   ]
  },
  {
   "cell_type": "code",
   "execution_count": 45,
   "metadata": {},
   "outputs": [
    {
     "name": "stdout",
     "output_type": "stream",
     "text": [
      "['1', '0']\n",
      "['1', '0']\n"
     ]
    }
   ],
   "source": [
    "#WAS to convert single value datatype to multi value datatype.(i/p:l=10,o/p:['1','0']).\n",
    "l=10\n",
    "l=str(l)\n",
    "print(list(l))\n",
    "#OR\n",
    "l=10\n",
    "print(list(str(l)))"
   ]
  },
  {
   "cell_type": "code",
   "execution_count": 46,
   "metadata": {},
   "outputs": [
    {
     "name": "stdout",
     "output_type": "stream",
     "text": [
      "Pyspiders\n",
      "[1, 2, 3, 'q', 's', 'p', 'i', 'd', 'e', 'r', 's']\n"
     ]
    }
   ],
   "source": [
    "#12.WAS to concat the two mutivalue datatype.(we have to use component assignment operstor(+=) to concat tow different multi value dataypes)\n",
    "f='Py'          #same datatype.\n",
    "p='spiders'\n",
    "f+=p\n",
    "print(f)\n",
    "j='qspiders'    # different dataypes with += operator\n",
    "u=[1,2,3]\n",
    "u+=j\n",
    "print(u) \n",
    "v='Jspiders'    #different datatypes without using += operator\n",
    "y=('a','b')\n",
    "#print(v+y)   \n",
    "# TypeError: can only concatenate str (not \"tuple\") to str \n"
   ]
  },
  {
   "cell_type": "code",
   "execution_count": 47,
   "metadata": {},
   "outputs": [
    {
     "name": "stdout",
     "output_type": "stream",
     "text": [
      "5\n"
     ]
    }
   ],
   "source": [
    "#13.WAS to check the length of the collection.\n",
    "t=(100,200,300,400,500)\n",
    "print(len(t))"
   ]
  },
  {
   "cell_type": "code",
   "execution_count": 48,
   "metadata": {},
   "outputs": [
    {
     "name": "stdout",
     "output_type": "stream",
     "text": [
      "30\n"
     ]
    }
   ],
   "source": [
    "#14.WAS to check find out the middle value  of the given collection.\n",
    "q=[10,20,30,40]\n",
    "print(q[len(q)//2])"
   ]
  },
  {
   "cell_type": "code",
   "execution_count": 49,
   "metadata": {},
   "outputs": [
    {
     "name": "stdout",
     "output_type": "stream",
     "text": [
      "Good Morning Sir\n"
     ]
    }
   ],
   "source": [
    "#15.WAS to concat the new string into the starting of the given string.\n",
    "a='Sir'\n",
    "b='Good Morning '\n",
    "b+=a\n",
    "print(b)"
   ]
  },
  {
   "cell_type": "code",
   "execution_count": 50,
   "metadata": {},
   "outputs": [
    {
     "name": "stdout",
     "output_type": "stream",
     "text": [
      "Have a Great Day\n"
     ]
    }
   ],
   "source": [
    "#16.WAS to concat the new string into the ending of the given string.\n",
    "n=\"Have a \"\n",
    "m=\"Great Day\"\n",
    "n+=m\n",
    "print(n)"
   ]
  },
  {
   "cell_type": "code",
   "execution_count": 51,
   "metadata": {},
   "outputs": [
    {
     "name": "stdout",
     "output_type": "stream",
     "text": [
      "My is name Rohith\n"
     ]
    }
   ],
   "source": [
    "#17.WAS to concat the new string into the middle of the given string.\n",
    "g='My is Rohith'\n",
    "h='name'\n",
    "g=g[:6]+h+g[5:]\n",
    "print(g)"
   ]
  },
  {
   "cell_type": "code",
   "execution_count": 52,
   "metadata": {},
   "outputs": [
    {
     "name": "stdout",
     "output_type": "stream",
     "text": [
      "marVels\n"
     ]
    }
   ],
   "source": [
    "#18.WAS to modify the new character into the middle of the given string.\n",
    "r='marvels'\n",
    "print(r[0:len(r)//2]+'V'+r[(len(r)//2)+1:])"
   ]
  },
  {
   "cell_type": "code",
   "execution_count": 53,
   "metadata": {},
   "outputs": [
    {
     "name": "stdout",
     "output_type": "stream",
     "text": [
      "maRVEls\n"
     ]
    }
   ],
   "source": [
    "#19.WAS to modify the sequence of the characters in given string.\n",
    "r='marvels'\n",
    "print(r[0:2]+'RVE'+r[5:])"
   ]
  },
  {
   "cell_type": "code",
   "execution_count": 54,
   "metadata": {},
   "outputs": [
    {
     "name": "stdout",
     "output_type": "stream",
     "text": [
      "marVels\n"
     ]
    }
   ],
   "source": [
    "#20.WAS to replace the old character into a new character of the given string.\n",
    "r='marvels'\n",
    "print(r[:-4]+'V'+r[-3:])"
   ]
  },
  {
   "cell_type": "code",
   "execution_count": 55,
   "metadata": {},
   "outputs": [
    {
     "name": "stdout",
     "output_type": "stream",
     "text": [
      "marels\n"
     ]
    }
   ],
   "source": [
    "#21.WAS to delete the specific character in the given string.\n",
    "r='marvels'\n",
    "print(r[:3]+r[4:])"
   ]
  },
  {
   "cell_type": "code",
   "execution_count": 56,
   "metadata": {},
   "outputs": [
    {
     "name": "stdout",
     "output_type": "stream",
     "text": [
      "hello Good Morning\n"
     ]
    }
   ],
   "source": [
    "#22.WAS to concat the new string into the specific position of the given string.\n",
    "w='hello Morning'\n",
    "print(w[:6]+'Good'+w[-8:])"
   ]
  },
  {
   "cell_type": "code",
   "execution_count": 57,
   "metadata": {},
   "outputs": [
    {
     "name": "stdout",
     "output_type": "stream",
     "text": [
      "mals\n"
     ]
    }
   ],
   "source": [
    "#23.WAS to delete the sequence of characters in given string.\n",
    "r='marvels'\n",
    "r=r[:2]+r[-2:]\n",
    "print(r)"
   ]
  },
  {
   "cell_type": "code",
   "execution_count": 58,
   "metadata": {},
   "outputs": [
    {
     "name": "stdout",
     "output_type": "stream",
     "text": [
      "[10, 20, 30]\n",
      "2782434079488\n",
      "['a', 'b', 10, 20, 30]\n",
      "2782434079488\n"
     ]
    }
   ],
   "source": [
    "#24.WAS to concat the new value into the starting of the given list.\n",
    "l=[10,20,30]\n",
    "print(l)\n",
    "print(id(l))\n",
    "l[0:0]=['a','b']\n",
    "print(l)\n",
    "print(id(l))"
   ]
  },
  {
   "cell_type": "code",
   "execution_count": 59,
   "metadata": {},
   "outputs": [
    {
     "name": "stdout",
     "output_type": "stream",
     "text": [
      "[10, 20, 30]\n",
      "2782434057408\n",
      "[10, 20, 30, 'a', 'b']\n",
      "2782434057408\n"
     ]
    }
   ],
   "source": [
    "#25.WAS to concat the new values into the ending of the given list.\n",
    "l=[10,20,30]\n",
    "print(l)\n",
    "print(id(l))\n",
    "l[len(l):len(l)]=['a','b']\n",
    "print(l)\n",
    "print(id(l))"
   ]
  },
  {
   "cell_type": "code",
   "execution_count": 60,
   "metadata": {},
   "outputs": [
    {
     "name": "stdout",
     "output_type": "stream",
     "text": [
      "[10, 'ab', True, (2+4j), b'10101', 20.5]\n",
      "2782433716352\n",
      "[10, 'ab', True, 10, 20, 30, (2+4j), b'10101', 20.5]\n",
      "2782433716352\n"
     ]
    }
   ],
   "source": [
    "#26.WAS to concat the new value into the middle of the given list.\n",
    "j=[10,'ab',True,2+4j,b'10101',20.5]\n",
    "print(j)\n",
    "print(id(j))\n",
    "j[len(j)//2:len(j)//2]=[10,20,30]\n",
    "print(j)\n",
    "print(id(j))"
   ]
  },
  {
   "cell_type": "code",
   "execution_count": 61,
   "metadata": {},
   "outputs": [
    {
     "name": "stdout",
     "output_type": "stream",
     "text": [
      "[10, 15.2, (10+2j), False, 'hello']\n",
      "2782434181632\n",
      "[10, 15.2, 'ab', 'bc', 'cd', (10+2j), False, 'hello']\n",
      "2782434181632\n"
     ]
    }
   ],
   "source": [
    "#27.WAS to concat the new value into the specifi position of the given list.\n",
    "z=[10,15.2,10+2j,False,'hello']\n",
    "print(z)\n",
    "print(id(z))\n",
    "z[-3:-3]=['ab','bc','cd']\n",
    "print(z)\n",
    "print(id(z))"
   ]
  },
  {
   "cell_type": "code",
   "execution_count": 62,
   "metadata": {},
   "outputs": [
    {
     "name": "stdout",
     "output_type": "stream",
     "text": [
      "[10, 10.5, (10+10j), True, '10']\n",
      "2782434067200\n",
      "[10, 10.1, (10+10j), True, '10']\n",
      "2782434067200\n"
     ]
    }
   ],
   "source": [
    "#28.WAS to modify the new value into the specific position of the given list.\n",
    "l=[10,10.5,10+10j,True,'10']\n",
    "print(l)\n",
    "print(id(l))\n",
    "l[1]=10.1\n",
    "print(l)\n",
    "print(id(l))"
   ]
  },
  {
   "cell_type": "code",
   "execution_count": 63,
   "metadata": {},
   "outputs": [
    {
     "name": "stdout",
     "output_type": "stream",
     "text": [
      "[10, 10.5, (10+10j), True, '10']\n",
      "2782433655488\n",
      "[11, 10.5, (10+10j), True, '10']\n",
      "2782433655488\n"
     ]
    }
   ],
   "source": [
    "#29.WAS to modify the new value into the starting f the given list.\n",
    "n=[10,10.5,10+10j,True,'10']\n",
    "print(n)\n",
    "print(id(n))\n",
    "n[0]=11\n",
    "print(n)\n",
    "print(id(n))"
   ]
  },
  {
   "cell_type": "code",
   "execution_count": 64,
   "metadata": {},
   "outputs": [
    {
     "name": "stdout",
     "output_type": "stream",
     "text": [
      "[1, 'a', False, (1+2j), [12, 11], ('a', 'b'), 20]\n",
      "2782434073216\n",
      "[1, 'a', False, (1+2j), [12, 11], ('a', 'b'), {10, 20, 30}]\n",
      "2782434073216\n"
     ]
    }
   ],
   "source": [
    "#30.WAS to modify the new value into the ending of the given list.\n",
    "v=[1,'a',False,1+2j,[12,11],('a','b'),20]\n",
    "print(v)\n",
    "print(id(v))\n",
    "v[len(v)-1]={10,20,30}\n",
    "print(v)\n",
    "print(id(v))"
   ]
  },
  {
   "cell_type": "code",
   "execution_count": 65,
   "metadata": {},
   "outputs": [
    {
     "name": "stdout",
     "output_type": "stream",
     "text": [
      "[1, 'a', False, (1+2j), [12, 11], ('a', 'b'), 20]\n",
      "2782433509312\n",
      "[1, 'a', False, {1: 'a', 2: 'b'}, [12, 11], ('a', 'b'), 20]\n",
      "2782433509312\n"
     ]
    }
   ],
   "source": [
    "#31.WAS to modify the new value into the middle of the given list.\n",
    "a=[1,'a',False,1+2j,[12,11],('a','b'),20]\n",
    "print(a)\n",
    "print(id(a))\n",
    "a[len(a)//2]={1:'a',2:'b'}\n",
    "print(a)\n",
    "print(id(a))"
   ]
  },
  {
   "cell_type": "code",
   "execution_count": 66,
   "metadata": {},
   "outputs": [
    {
     "name": "stdout",
     "output_type": "stream",
     "text": [
      "[1, 2, 3, 4, 5, 6, 7, 8, 9]\n",
      "2782434060352\n",
      "[1, 'a', 3, 'b', 5, 'c', 7, 'd', 9]\n",
      "2782434060352\n"
     ]
    }
   ],
   "source": [
    "#33.WAS to modify the sequence of values into a given list.\n",
    "d=[1,2,3,4,5,6,7,8,9]\n",
    "print(d)\n",
    "print(id(d))\n",
    "d[1::2]=['a','b','c','d']\n",
    "print(d)\n",
    "print(id(d))"
   ]
  },
  {
   "cell_type": "code",
   "execution_count": 67,
   "metadata": {},
   "outputs": [
    {
     "name": "stdout",
     "output_type": "stream",
     "text": [
      "[1, 3, 4, 5, 16, 7, 64, 6, 81, 15]\n",
      "[1, 3, 4, 5, 16, 7, 64, 6, 81, 15]\n"
     ]
    }
   ],
   "source": [
    "#i/p:d=[1,3,2,5,4,7,8,6,9,15] --> o/p:d=[1,3,4,5,16,7,64,6,81,15]\n",
    "d=[1,3,2,5,4,7,8,6,9,15]\n",
    "d[2::2]=[4,16,64,81]\n",
    "print(d)\n",
    "#OR\n",
    "d=[1,3,2,5,4,7,8,6,9,15]\n",
    "d[::2]=[d[0]**2,d[2]**2,d[4]**2,d[6]**2,d[8]**2]\n",
    "print(d)"
   ]
  },
  {
   "cell_type": "code",
   "execution_count": 68,
   "metadata": {},
   "outputs": [
    {
     "name": "stdout",
     "output_type": "stream",
     "text": [
      "[10, 10.21, (5+4j), True, 'abc', ('a', 'b', 'c'), {1, 2, 3}, {1: 'a', 2: 'b'}]\n"
     ]
    }
   ],
   "source": [
    "#34.WAS to delete the value in the specific positon of the given list.\n",
    "s=[10,10.21,5+4j,True,'abc',[10,20,30],('a','b','c'),{1,2,3},{1:'a',2:'b'}]\n",
    "del s[5]\n",
    "print(s)"
   ]
  },
  {
   "cell_type": "code",
   "execution_count": 69,
   "metadata": {},
   "outputs": [
    {
     "name": "stdout",
     "output_type": "stream",
     "text": [
      "[10, 10.21, (5+4j), True, 'abc', [10, 20, 30], ('a', 'b', 'c'), {1, 2, 3}]\n"
     ]
    }
   ],
   "source": [
    "#35.WAS to delete the value in the end of list.\n",
    "s=[10,10.21,5+4j,True,'abc',[10,20,30],('a','b','c'),{1,2,3},{1:'a',2:'b'}]\n",
    "del s[-1]\n",
    "print(s)"
   ]
  },
  {
   "cell_type": "code",
   "execution_count": 70,
   "metadata": {},
   "outputs": [
    {
     "name": "stdout",
     "output_type": "stream",
     "text": [
      "[10, 10.21, (5+4j), True, [10, 20, 30], ('a', 'b', 'c'), {1, 2, 3}, {1: 'a', 2: 'b'}]\n"
     ]
    }
   ],
   "source": [
    "#36.WAS to delete the value in the middle of the list.\n",
    "s=[10,10.21,5+4j,True,'abc',[10,20,30],('a','b','c'),{1,2,3},{1:'a',2:'b'}]\n",
    "del s[len(s)//2]\n",
    "print(s)"
   ]
  },
  {
   "cell_type": "code",
   "execution_count": 71,
   "metadata": {},
   "outputs": [
    {
     "name": "stdout",
     "output_type": "stream",
     "text": [
      "[10.21, (5+4j), True, 'abc', [10, 20, 30], ('a', 'b', 'c'), {1, 2, 3}, {1: 'a', 2: 'b'}]\n",
      "[10.21, (5+4j), True, 'abc', [10, 20, 30], ('a', 'b', 'c'), {1, 2, 3}, {1: 'a', 2: 'b'}]\n"
     ]
    }
   ],
   "source": [
    "#37.WAS to delete new value into the starting of list.\n",
    "s=[10,10.21,5+4j,True,'abc',[10,20,30],('a','b','c'),{1,2,3},{1:'a',2:'b'}]\n",
    "del s[0]\n",
    "print(s)\n",
    "#OR\n",
    "v=[10,10.21,5+4j,True,'abc',[10,20,30],('a','b','c'),{1,2,3},{1:'a',2:'b'}]\n",
    "v[0:1]=[]\n",
    "print(v)"
   ]
  },
  {
   "cell_type": "code",
   "execution_count": 72,
   "metadata": {},
   "outputs": [
    {
     "name": "stdout",
     "output_type": "stream",
     "text": [
      "({1, 2, 3}, 10, 10.21, (5+4j), True, 'abc', [10, 20, 30], ('a', 'b', 'c'))\n"
     ]
    }
   ],
   "source": [
    "#38.WAS to concat the new value into starting of the tuple.\n",
    "b=(10,10.21,5+4j,True,'abc',[10,20,30],('a','b','c'))\n",
    "b=({1,2,3},)+b\n",
    "print(b)\n"
   ]
  },
  {
   "cell_type": "code",
   "execution_count": 73,
   "metadata": {},
   "outputs": [
    {
     "name": "stdout",
     "output_type": "stream",
     "text": [
      "(10, 10.21, (5+4j), 'hi', 'bye', True, 'abc', [10, 20, 30], ('a', 'b', 'c'))\n"
     ]
    }
   ],
   "source": [
    "#39.WAS to concat the new value into the middle of the tuple.\n",
    "b=(10,10.21,5+4j,True,'abc',[10,20,30],('a','b','c'))\n",
    "b=b[:len(b)//2]+('hi','bye')+b[len(b)//2:]\n",
    "print(b)"
   ]
  },
  {
   "cell_type": "code",
   "execution_count": 74,
   "metadata": {},
   "outputs": [
    {
     "name": "stdout",
     "output_type": "stream",
     "text": [
      "(10, 10.21, (5+4j), True, 'abc', [10, 20, 30], ('a', 'b', 'c'), {1: 'a', 2: 'b'})\n"
     ]
    }
   ],
   "source": [
    "#40.WAS concat the value into the ending of the the tuple.\n",
    "b=(10,10.21,5+4j,True,'abc',[10,20,30],('a','b','c'))\n",
    "b+=({1:'a',2:'b'},)\n",
    "print(b)"
   ]
  },
  {
   "cell_type": "code",
   "execution_count": 5,
   "metadata": {},
   "outputs": [
    {
     "name": "stdout",
     "output_type": "stream",
     "text": [
      "(10, 10.21, (5+4j), True, 'abc', {10, 20, 30}, {'a': 10, 'b': 20})\n"
     ]
    }
   ],
   "source": [
    "#41.WAS to modify the sequence of values in given tuple.\n",
    "b=(10,10.21,5+4j,True,'abc',[10,20,30],('a','b','c'))\n",
    "#b[-2:]=({10,20,30},{'a':10,\"b\":20}) #In tuple we can't modify the value or sequence of values.\n",
    "#TypeError: 'tuple' object does not support item assignment\n",
    "lst=list(b)  #but we can modify the value or sequence of values intuple by using typecasting.\n",
    "lst[-2:]=({10,20,30},{'a':10,\"b\":20})\n",
    "b=tuple(lst)\n",
    "print(b)"
   ]
  },
  {
   "cell_type": "code",
   "execution_count": 8,
   "metadata": {},
   "outputs": [
    {
     "name": "stdout",
     "output_type": "stream",
     "text": [
      "(10, 10.21, (5+4j), True, 'abc')\n"
     ]
    }
   ],
   "source": [
    "#42. WAS to delete sequence of values in given tuple.\n",
    "b=(10,10.21,5+4j,True,'abc',[10,20,30],('a','b','c'))\n",
    "#del b[-2:]          # In tuple we can't delete sequence of values but we can delete entire tuple.\n",
    "#TypeError: 'tuple' object does not support item deletion\n",
    "lst=list(b)  #but we can del the value or sequence of values in tuple by using typecasting.\n",
    "del lst[-2:]\n",
    "b=tuple(lst)\n",
    "print(b)"
   ]
  },
  {
   "cell_type": "code",
   "execution_count": null,
   "metadata": {},
   "outputs": [
    {
     "name": "stdout",
     "output_type": "stream",
     "text": [
      "{1, 2, 3, 4, 5, 'b', 'a', 'c'}\n"
     ]
    }
   ],
   "source": [
    "#43.WAS to convert the new value into set.\n",
    "s={1,2,3,4,5,}\n",
    "q={\"a\",\"b\",\"c\"}\n",
    "s|=q\n",
    "print(s)"
   ]
  },
  {
   "cell_type": "code",
   "execution_count": null,
   "metadata": {},
   "outputs": [
    {
     "name": "stdout",
     "output_type": "stream",
     "text": [
      "{1, 2}\n"
     ]
    }
   ],
   "source": [
    "#44.WAS to delete the specific value into the set.\n",
    "p={1,2,3,4,5}\n",
    "o={3,4,5,6,7}\n",
    "p-=o\n",
    "print(p)"
   ]
  },
  {
   "cell_type": "code",
   "execution_count": null,
   "metadata": {},
   "outputs": [
    {
     "name": "stdout",
     "output_type": "stream",
     "text": [
      "{'a': 'Good Morning', 'b': 'Good Night'}\n"
     ]
    }
   ],
   "source": [
    "#45.WAS to concat the new key and value in the dict.\n",
    "d={'a':'Good Morning'}\n",
    "d['b']=\"Good Night\"\n",
    "print(d)"
   ]
  },
  {
   "cell_type": "code",
   "execution_count": null,
   "metadata": {},
   "outputs": [
    {
     "name": "stdout",
     "output_type": "stream",
     "text": [
      "{'a': 10, 'b': 20, 'c': 30}\n"
     ]
    }
   ],
   "source": [
    "#46.WAS to delete the specific key and value in given dict.\n",
    "s={\"a\":10,'b':20,'c':30,\"d\":40}\n",
    "del s['d']\n",
    "print(s)\n"
   ]
  },
  {
   "cell_type": "code",
   "execution_count": null,
   "metadata": {},
   "outputs": [
    {
     "name": "stdout",
     "output_type": "stream",
     "text": [
      "{'10': 'hello', '20': 'Hai', '30': 'Bye', '40': 'Hlo'}\n"
     ]
    }
   ],
   "source": [
    "#47.WAS to modify the specific value in the given dict.\n",
    "d={'10':'hello','20':'Hii','30':'Bye','40':'Hlo'}\n",
    "d['20']='Hai'\n",
    "print(d)"
   ]
  },
  {
   "cell_type": "code",
   "execution_count": null,
   "metadata": {},
   "outputs": [
    {
     "name": "stdout",
     "output_type": "stream",
     "text": [
      "[1, 2, 3, 4, 5, 'a', 'b', 'c', 'd']\n"
     ]
    }
   ],
   "source": [
    "#48.WAS to concat list and tuple value by using typecasting\n",
    "p=[1,2,3,4,5]\n",
    "o=('a','b','c','d')\n",
    "p=p+list(o)\n",
    "print(p)"
   ]
  },
  {
   "cell_type": "code",
   "execution_count": null,
   "metadata": {},
   "outputs": [
    {
     "name": "stdout",
     "output_type": "stream",
     "text": [
      "[1, 2, 3, 4, 5, 'a', 'b', 'c', 'd']\n"
     ]
    }
   ],
   "source": [
    "#49.WAS to concat the list and tuple value without typecasting.\n",
    "p=[1,2,3,4,5]\n",
    "o=('a','b','c','d')\n",
    "p+=o\n",
    "print(p)"
   ]
  },
  {
   "cell_type": "code",
   "execution_count": null,
   "metadata": {},
   "outputs": [
    {
     "name": "stdout",
     "output_type": "stream",
     "text": [
      "False\n",
      "True\n"
     ]
    }
   ],
   "source": [
    "#50.WAS to check the given number is divisible by 3.\n",
    "n=4\n",
    "print(n%3==0)\n",
    "n=9\n",
    "print(n%3==0)"
   ]
  },
  {
   "cell_type": "code",
   "execution_count": null,
   "metadata": {},
   "outputs": [
    {
     "name": "stdout",
     "output_type": "stream",
     "text": [
      "True\n",
      "False\n"
     ]
    }
   ],
   "source": [
    "#51.WAS to check the given number is divisible by 2 and 6.\n",
    "n=12\n",
    "print(n%2==0 and n%6==0)\n",
    "n=21\n",
    "print(n%2==0 and n%6==0)"
   ]
  },
  {
   "cell_type": "code",
   "execution_count": null,
   "metadata": {},
   "outputs": [
    {
     "name": "stdout",
     "output_type": "stream",
     "text": [
      "8\n",
      "98\n",
      "998\n",
      "1998\n",
      "1998\n"
     ]
    }
   ],
   "source": [
    "#52.WAS to extract the last digit in given integer number(without typecasting).\n",
    "n=1998\n",
    "print(n%10)#last digit\n",
    "print(n%100)#last 2 digits\n",
    "print(n%1000)#last 3 digits\n",
    "print(n%10000)#last 4 digits\n",
    "print(n%100000)#last 5 digits"
   ]
  },
  {
   "cell_type": "code",
   "execution_count": null,
   "metadata": {},
   "outputs": [
    {
     "name": "stdout",
     "output_type": "stream",
     "text": [
      "False\n",
      "True\n"
     ]
    }
   ],
   "source": [
    "#53.WAS to check the last digit divisible by 3 from given integer value(without typecasting).\n",
    "n=1998\n",
    "print((n%10)%3==0)\n",
    "n=1999\n",
    "print((n%10)%3==0)\n"
   ]
  },
  {
   "cell_type": "code",
   "execution_count": null,
   "metadata": {},
   "outputs": [
    {
     "name": "stdout",
     "output_type": "stream",
     "text": [
      "True\n",
      "False\n",
      "True\n",
      "False\n"
     ]
    }
   ],
   "source": [
    "#54.WAS to check the last digit is divisible by 3 from given string number(with typecasting).\n",
    "m,n='112244','112233'\n",
    "c=n[-1]\n",
    "q=m[-1]\n",
    "print(int(c)%3==0)\n",
    "print(int(m)%3==0)\n",
    "#OR\n",
    "print((int(str(n[-1]))%3==0))\n",
    "print((int(str(m[-1]))%3==0))"
   ]
  },
  {
   "cell_type": "code",
   "execution_count": null,
   "metadata": {},
   "outputs": [
    {
     "name": "stdout",
     "output_type": "stream",
     "text": [
      "True\n",
      "False\n"
     ]
    }
   ],
   "source": [
    "#55.WAS to check the given number is greater than 150.\n",
    "n,m=160,140\n",
    "print(n>150)\n",
    "print(m>150)"
   ]
  },
  {
   "cell_type": "code",
   "execution_count": null,
   "metadata": {},
   "outputs": [
    {
     "name": "stdout",
     "output_type": "stream",
     "text": [
      "True\n",
      "True\n",
      "False\n"
     ]
    }
   ],
   "source": [
    "#56.WAS to check the given number is greater than or equals to 100.\n",
    "a,b,c=130,100,90\n",
    "print(a>=100)\n",
    "print(b>=100)\n",
    "print(c>=100)"
   ]
  },
  {
   "cell_type": "code",
   "execution_count": null,
   "metadata": {},
   "outputs": [
    {
     "name": "stdout",
     "output_type": "stream",
     "text": [
      "False\n",
      "True\n"
     ]
    }
   ],
   "source": [
    "#57.WAS to check the given number is less than 150.\n",
    "n,m=160,140\n",
    "print(n<150)\n",
    "print(m<150)"
   ]
  },
  {
   "cell_type": "code",
   "execution_count": null,
   "metadata": {},
   "outputs": [
    {
     "name": "stdout",
     "output_type": "stream",
     "text": [
      "False\n",
      "True\n",
      "True\n"
     ]
    }
   ],
   "source": [
    "#58.WAS to check the given number is less than or equals to 100.\n",
    "a,b,c=120,100,80\n",
    "print(a<=100)\n",
    "print(b<=100)\n",
    "print(c<=100)"
   ]
  },
  {
   "cell_type": "code",
   "execution_count": null,
   "metadata": {},
   "outputs": [
    {
     "name": "stdout",
     "output_type": "stream",
     "text": [
      "False\n",
      "True\n",
      "False\n"
     ]
    }
   ],
   "source": [
    "#59.WAS to check the given number is greater than 15 and less than 24.\n",
    "n,m,o,=14,20,26\n",
    "print(n>15 and n<24)\n",
    "print(m>15 and m<24)\n",
    "print(o>15 and o<24)"
   ]
  },
  {
   "cell_type": "code",
   "execution_count": null,
   "metadata": {},
   "outputs": [
    {
     "name": "stdout",
     "output_type": "stream",
     "text": [
      "even\n",
      "False\n"
     ]
    }
   ],
   "source": [
    "#60.WAS to check the given number is even.\n",
    "n,m=124,125\n",
    "print(n%2==0 and \"even\")\n",
    "print(m%2==0)"
   ]
  },
  {
   "cell_type": "code",
   "execution_count": null,
   "metadata": {},
   "outputs": [
    {
     "name": "stdout",
     "output_type": "stream",
     "text": [
      "False\n",
      "odd\n"
     ]
    }
   ],
   "source": [
    "#61.WAS to check the given number is odd.\n",
    "n,m=132,133\n",
    "print(n%2!=0)\n",
    "print(m%2!=0 and \"odd\")"
   ]
  },
  {
   "cell_type": "code",
   "execution_count": 76,
   "metadata": {},
   "outputs": [],
   "source": [
    "#In Between: Start<value and value>End\n",
    "#Between: Start<=value and value>=End\n",
    "#Range: Start<=value and value>End."
   ]
  },
  {
   "cell_type": "code",
   "execution_count": 79,
   "metadata": {},
   "outputs": [
    {
     "name": "stdout",
     "output_type": "stream",
     "text": [
      "Good_Morning Good_Morning Good_Morning Good_Morning Good_Morning Good_Morning \n"
     ]
    }
   ],
   "source": [
    "#62.WAS to check perform the replication of a given string with 6.\n",
    "q=\"Good_Morning \"\n",
    "print(q*6)"
   ]
  },
  {
   "cell_type": "code",
   "execution_count": 80,
   "metadata": {},
   "outputs": [
    {
     "name": "stdout",
     "output_type": "stream",
     "text": [
      "False\n",
      "False\n"
     ]
    }
   ],
   "source": [
    "#63.WAS to check given number is divisible by 3 and greater than 22.\n",
    "n,m=21,26\n",
    "print(n%3==0 and n>22)\n",
    "print(m%3==0 and m>22)"
   ]
  },
  {
   "cell_type": "code",
   "execution_count": 81,
   "metadata": {},
   "outputs": [
    {
     "name": "stdout",
     "output_type": "stream",
     "text": [
      "False\n",
      "True\n"
     ]
    }
   ],
   "source": [
    "#64.WAS to check perform the length of the collection is even or not.\n",
    "s,t=\"Good Work\",'Good Day'\n",
    "print(len(s)%2==0)\n",
    "print(len(t)%2==0)"
   ]
  },
  {
   "cell_type": "code",
   "execution_count": 83,
   "metadata": {},
   "outputs": [
    {
     "name": "stdout",
     "output_type": "stream",
     "text": [
      "True\n",
      "True\n"
     ]
    }
   ],
   "source": [
    "#65.WAS to check perform the length of the collection is less than 55 and greater than 16.\n",
    "s='My name is M.Rohith'\n",
    "print(len(s)>16 and len(s)<55)\n",
    "#OR\n",
    "print(16<len(s)<55)"
   ]
  },
  {
   "cell_type": "code",
   "execution_count": 91,
   "metadata": {},
   "outputs": [
    {
     "name": "stdout",
     "output_type": "stream",
     "text": [
      "True\n",
      "False\n"
     ]
    }
   ],
   "source": [
    "#66.WAS to check perform the length oof the collection is divisible by 5 and odd.\n",
    "t='1,2,3,4,5,6,7,8'\n",
    "s='1,2,3,4,5,6,7,8,9'\n",
    "print(len(t)%5==0 and len(t)%2!=0)\n",
    "print(len(s)%5==0 and len(s)%2!=0)"
   ]
  },
  {
   "cell_type": "code",
   "execution_count": 98,
   "metadata": {},
   "outputs": [
    {
     "name": "stdout",
     "output_type": "stream",
     "text": [
      "False\n",
      "True\n",
      "True\n",
      "True\n",
      "False\n",
      "True\n",
      "True\n",
      "True\n"
     ]
    }
   ],
   "source": [
    "#67.WAS to check extract the middle position of given collection(str,list,tuple).\n",
    "p=\"helloworld\"\n",
    "q=[1,2,[10,'a',20,'b'],3]\n",
    "r=('a','b',(1,2,3),'c')\n",
    "s=(1,2,3,4)\n",
    "res=type(s[len(s)//2])\n",
    "res1=type(p[len(p)//2])\n",
    "res2=type(q[len(q)//2])\n",
    "res3=type(r[len(r)//2])\n",
    "print(res==str or res==list or res==tuple)\n",
    "print(res1==str or res1==list or res1==tuple)\n",
    "print(res2==str or res2==list or res2==tuple)\n",
    "print(res3==str or res3==list or res3==tuple)\n",
    "#OR\n",
    "print(res in [str,list,tuple])\n",
    "print(res1 in [str,list,tuple])\n",
    "print(res3 in [str,list,tuple])\n",
    "print(res3 in [str,list,tuple])"
   ]
  },
  {
   "cell_type": "code",
   "execution_count": 99,
   "metadata": {},
   "outputs": [
    {
     "name": "stdout",
     "output_type": "stream",
     "text": [
      "True\n",
      "False\n"
     ]
    }
   ],
   "source": [
    "#68.WAS to check the given number is greater than 20 and less than 30 and it should be even.\n",
    "n,m=22,21\n",
    "print(n>20 and n<30 and n%2==0)\n",
    "print(m>20 and m<30 and m%2==0)"
   ]
  },
  {
   "cell_type": "code",
   "execution_count": 103,
   "metadata": {},
   "outputs": [
    {
     "name": "stdout",
     "output_type": "stream",
     "text": [
      "True\n",
      "False\n"
     ]
    }
   ],
   "source": [
    "#69.WAS to check the given number is even and it should be less than 120.\n",
    "n,m=118,122\n",
    "print(n%2==0 and n<120 )\n",
    "print(m%2==0 and m<120)"
   ]
  },
  {
   "cell_type": "code",
   "execution_count": 106,
   "metadata": {},
   "outputs": [
    {
     "name": "stdout",
     "output_type": "stream",
     "text": [
      "True\n",
      "True\n",
      "False\n"
     ]
    }
   ],
   "source": [
    "#70.WAS to check the given number is even and present from 40 to 70\n",
    "n,m,o=40,62,72\n",
    "print(n%2==0 and n>=40 and n<=70)\n",
    "print(m%2==0 and m>=40 and m<=70)\n",
    "print(o%2==0 and o>=40 and o<=70)"
   ]
  },
  {
   "cell_type": "code",
   "execution_count": 107,
   "metadata": {},
   "outputs": [
    {
     "name": "stdout",
     "output_type": "stream",
     "text": [
      "True\n",
      "False\n"
     ]
    }
   ],
   "source": [
    "#71.WAS to check the given number is odd and it should be greater than 97.\n",
    "n,m=99,100\n",
    "print(n%2!=0 and n>97)\n",
    "print(m%2!=0 and m>97)"
   ]
  },
  {
   "cell_type": "code",
   "execution_count": 112,
   "metadata": {},
   "outputs": [
    {
     "name": "stdout",
     "output_type": "stream",
     "text": [
      "True\n",
      "False\n"
     ]
    }
   ],
   "source": [
    "#72.WAS to check the given number is less than 122 and greater than 48 and number should be divisible by 4.\n",
    "n,m=120,123\n",
    "print(48<n<122 and n%4==0)\n",
    "print(48<m<122 and m%4==0)"
   ]
  },
  {
   "cell_type": "code",
   "execution_count": 111,
   "metadata": {},
   "outputs": [
    {
     "name": "stdout",
     "output_type": "stream",
     "text": [
      "10\n",
      "15\n",
      "False\n"
     ]
    }
   ],
   "source": [
    "#73.WAS to check the given number is divisible by 3 or 5 and display the value.\n",
    "n,m,o=10,15,4\n",
    "print((n%3==0 or n%5==0) and n)\n",
    "print((m%3==0 or m%5==0) and m)\n",
    "print((o%3==0 or o%5==0) and o)"
   ]
  },
  {
   "cell_type": "code",
   "execution_count": 113,
   "metadata": {},
   "outputs": [
    {
     "name": "stdout",
     "output_type": "stream",
     "text": [
      "True\n",
      "False\n"
     ]
    }
   ],
   "source": [
    "#74.WAS to check the given number is between 100 to 200 including th limit.\n",
    "s,t=100,201\n",
    "print(100<=s<=200)\n",
    "print(100<=t<=200)"
   ]
  },
  {
   "cell_type": "code",
   "execution_count": 115,
   "metadata": {},
   "outputs": [
    {
     "name": "stdout",
     "output_type": "stream",
     "text": [
      "False\n",
      "True\n"
     ]
    }
   ],
   "source": [
    "#75.WAS to check the given number in between 100 to 200.\n",
    "q,p=99,200\n",
    "print(100<=q<=200)\n",
    "print(100<=p<=200)"
   ]
  },
  {
   "cell_type": "code",
   "execution_count": 3,
   "metadata": {},
   "outputs": [
    {
     "name": "stdout",
     "output_type": "stream",
     "text": [
      "101\n",
      "False\n",
      "100\n",
      "True\n"
     ]
    }
   ],
   "source": [
    "#76.WAE to check the given string last character ASCII value should be divisible by 5 or not.\n",
    "s=\"apple\"\n",
    "print(ord(s[-1]))\n",
    "print(ord(s[-1])%5==0)\n",
    "a='world'\n",
    "print(ord(a[-1]))\n",
    "print(ord(a[-1])%5==0)"
   ]
  },
  {
   "cell_type": "code",
   "execution_count": 4,
   "metadata": {},
   "outputs": [
    {
     "name": "stdout",
     "output_type": "stream",
     "text": [
      "False\n",
      "False\n"
     ]
    }
   ],
   "source": [
    "#77.WAE to check the given number is present between 60 to 130 and the number should be divisible by 3 and 4 and the last digit should be (greater/less) than 9.\n",
    "n=129\n",
    "print(60<=n<=130 and n%3==0 and n%4==0 and n%9>0)\n",
    "m=120\n",
    "print(60<=m<=130 and m%3==0 and m%4==0 and m%9<0)"
   ]
  },
  {
   "cell_type": "code",
   "execution_count": 8,
   "metadata": {},
   "outputs": [
    {
     "name": "stdout",
     "output_type": "stream",
     "text": [
      "True\n",
      "False\n"
     ]
    }
   ],
   "source": [
    "#79.WAE to check the given number is even or greater than 25.\n",
    "n=26\n",
    "print(n%2==0 or n>25)\n",
    "m=19\n",
    "print(m%2==0 or m>25)"
   ]
  },
  {
   "cell_type": "code",
   "execution_count": 9,
   "metadata": {},
   "outputs": [
    {
     "name": "stdout",
     "output_type": "stream",
     "text": [
      "True\n",
      "False\n"
     ]
    }
   ],
   "source": [
    "#80.WAE to check the given number is divisible by either 3 or 5.\n",
    "n=25\n",
    "print(n%3==0 or n%5==0)\n",
    "m=22\n",
    "print(m%3==0 or m%5==0)"
   ]
  },
  {
   "cell_type": "code",
   "execution_count": 10,
   "metadata": {},
   "outputs": [
    {
     "name": "stdout",
     "output_type": "stream",
     "text": [
      "True\n",
      "False\n"
     ]
    }
   ],
   "source": [
    "#81.WAE to check the given number is not an even number.\n",
    "n=23\n",
    "print(n%2!=0)\n",
    "m=22\n",
    "print(m%2!=0)"
   ]
  },
  {
   "cell_type": "code",
   "execution_count": 11,
   "metadata": {},
   "outputs": [
    {
     "name": "stdout",
     "output_type": "stream",
     "text": [
      "True\n",
      "False\n"
     ]
    }
   ],
   "source": [
    "#82.WAE to check the given number is not an odd number.\n",
    "n=20\n",
    "print(n%2==0)\n",
    "m=31\n",
    "print(m%2==0)"
   ]
  },
  {
   "cell_type": "code",
   "execution_count": 12,
   "metadata": {},
   "outputs": [
    {
     "name": "stdout",
     "output_type": "stream",
     "text": [
      "True\n",
      "False\n"
     ]
    }
   ],
   "source": [
    "#83.WAE to check the given number is not a divisible by 3.\n",
    "n=22\n",
    "print(n%3!=0)\n",
    "m=21\n",
    "print(m%3!=0)"
   ]
  },
  {
   "cell_type": "code",
   "execution_count": 16,
   "metadata": {},
   "outputs": [
    {
     "name": "stdout",
     "output_type": "stream",
     "text": [
      "True\n",
      "False\n"
     ]
    }
   ],
   "source": [
    "#84.WAE to check the given number is not a divisible by 3 and 5.\n",
    "n=8\n",
    "print(n%3!=0 and n%5!=0)\n",
    "m=15\n",
    "print(m%3!=0 and m%5!=0)"
   ]
  },
  {
   "cell_type": "code",
   "execution_count": 17,
   "metadata": {},
   "outputs": [
    {
     "name": "stdout",
     "output_type": "stream",
     "text": [
      "True\n",
      "False\n"
     ]
    }
   ],
   "source": [
    "#85.WAE to check the given number is not a divisible by 3 or 5.\n",
    "n=8\n",
    "print(n%3!=0 or n%5!=0)\n",
    "m=15\n",
    "print(m%3!=0 or m%5!=0)"
   ]
  },
  {
   "cell_type": "code",
   "execution_count": 20,
   "metadata": {},
   "outputs": [
    {
     "name": "stdout",
     "output_type": "stream",
     "text": [
      "65\n",
      "False\n",
      "66\n",
      "True\n"
     ]
    }
   ],
   "source": [
    "#86.WAE to check the given character value is not divisible by 5.\n",
    "n=\"A\"\n",
    "print(ord(n))\n",
    "print(ord(n)%5!=0)\n",
    "m=\"B\"\n",
    "print(ord(m))\n",
    "print(ord(m)%5!=0)"
   ]
  },
  {
   "cell_type": "code",
   "execution_count": 21,
   "metadata": {},
   "outputs": [
    {
     "name": "stdout",
     "output_type": "stream",
     "text": [
      "b\n",
      "Q\n"
     ]
    }
   ],
   "source": [
    "#87.WAE to check find out the ASCII character in a given number.\n",
    "n=98\n",
    "print(chr(n))\n",
    "m=81\n",
    "print(chr(m))"
   ]
  },
  {
   "cell_type": "code",
   "execution_count": 22,
   "metadata": {},
   "outputs": [
    {
     "name": "stdout",
     "output_type": "stream",
     "text": [
      "90\n",
      "103\n"
     ]
    }
   ],
   "source": [
    "#88.WAE to check find out the ASCII value in agiven character.\n",
    "n='Z'\n",
    "print(ord(n))\n",
    "m='g'\n",
    "print(ord(m))"
   ]
  },
  {
   "cell_type": "code",
   "execution_count": 25,
   "metadata": {},
   "outputs": [
    {
     "name": "stdout",
     "output_type": "stream",
     "text": [
      "True\n",
      "False\n",
      "False\n"
     ]
    }
   ],
   "source": [
    "#89.WAE to check the given character is uppercase or not.\n",
    "s='G'\n",
    "print(len(s)==1 and \"A\"<=s<=\"Z\")\n",
    "n='s'\n",
    "print(len(n)==1 and \"A\"<=n<=\"Z\")\n",
    "m=\"SA\"\n",
    "print(len(m)==1 and \"A\"<=m<=\"Z\")"
   ]
  },
  {
   "cell_type": "code",
   "execution_count": 28,
   "metadata": {},
   "outputs": [
    {
     "name": "stdout",
     "output_type": "stream",
     "text": [
      "True\n",
      "False\n",
      "False\n"
     ]
    }
   ],
   "source": [
    "#90.WAE to check the given character is lowercase or not.\n",
    "s='g'\n",
    "print(len(s)==1 and \"a\"<=s<=\"z\")\n",
    "n=\"S\"\n",
    "print(len(n)==1 and \"a\"<=n<=\"z\")\n",
    "m=\"as\"\n",
    "print(len(m)==1 and \"a\"<=m<=\"z\")"
   ]
  },
  {
   "cell_type": "code",
   "execution_count": 32,
   "metadata": {},
   "outputs": [
    {
     "name": "stdout",
     "output_type": "stream",
     "text": [
      "True\n",
      "True\n",
      "False\n"
     ]
    }
   ],
   "source": [
    "#91.WAE to check the given character is the alphabet.\n",
    "c=\"a\"\n",
    "print(len(c)==1 and (\"a\"<=c<=\"z\" or \"A\"<=c<=\"Z\"))\n",
    "b=\"H\"\n",
    "print(len(b)==1 and (\"a\"<=b<=\"z\" or \"A\"<=b<=\"Z\"))\n",
    "a=\"As\"\n",
    "print(len(a)==1 and (\"a\"<=a<=\"z\" or \"A\"<=a<=\"Z\"))"
   ]
  },
  {
   "cell_type": "code",
   "execution_count": 35,
   "metadata": {},
   "outputs": [
    {
     "name": "stdout",
     "output_type": "stream",
     "text": [
      "True\n",
      "False\n",
      "False\n"
     ]
    }
   ],
   "source": [
    "#92.WAE to check the given character is the ASCII number.\n",
    "a='5'\n",
    "print(len(a)==1 and \"0\"<=a<=\"9\")\n",
    "b=\"a\"\n",
    "print(len(b)==1 and \"0\"<=b<=\"9\")\n",
    "c='71'\n",
    "print(len(c)==1 and \"0\"<=c<=\"9\")"
   ]
  },
  {
   "cell_type": "code",
   "execution_count": 64,
   "metadata": {},
   "outputs": [
    {
     "name": "stdout",
     "output_type": "stream",
     "text": [
      "True\n",
      "False\n"
     ]
    }
   ],
   "source": [
    "#93.WAE to check the given character is the special character or not.\n",
    "a=\"$\"\n",
    "print(not (\"A\"<=a<=\"Z\" or \"a\"<=a<=\"z\" or \"0\"<=a<=\"9\"))\n",
    "m=\"K\"\n",
    "print(not (\"A\"<=m<=\"Z\" or \"a\"<=m<=\"z\" or \"0\"<=m<=\"9\"))"
   ]
  },
  {
   "cell_type": "code",
   "execution_count": 65,
   "metadata": {},
   "outputs": [
    {
     "name": "stdout",
     "output_type": "stream",
     "text": [
      "True\n",
      "False\n"
     ]
    }
   ],
   "source": [
    "#94.WAE to check the given character not be uppercase.\n",
    "n=\"a\"\n",
    "print (not (\"A\"<=n<=\"Z\"))\n",
    "m=\"L\"\n",
    "print (not (\"A\"<=m<=\"Z\"))"
   ]
  },
  {
   "cell_type": "code",
   "execution_count": 67,
   "metadata": {},
   "outputs": [
    {
     "name": "stdout",
     "output_type": "stream",
     "text": [
      "True\n",
      "False\n"
     ]
    }
   ],
   "source": [
    "#95.WAE to check the given character not be lowercase.\n",
    "n=\"M\"\n",
    "print(not(\"a\"<=n<=\"z\"))\n",
    "M='n'\n",
    "print(not(\"a\"<=M<=\"z\"))"
   ]
  },
  {
   "cell_type": "code",
   "execution_count": 4,
   "metadata": {},
   "outputs": [
    {
     "name": "stdout",
     "output_type": "stream",
     "text": [
      "False\n",
      "True\n"
     ]
    }
   ],
   "source": [
    "#96.WAE to check the given character not to be alphabet.\n",
    "n=\"m\"\n",
    "print(not(\"a\"<=n<=\"z\" or \"A\"<=n<=\"Z\" ))\n",
    "m=\"$\"\n",
    "print(not (\"A\"<=m<=\"Z\" or \"a\"<=m<=\"z\" ))\n"
   ]
  },
  {
   "cell_type": "code",
   "execution_count": 12,
   "metadata": {},
   "outputs": [
    {
     "name": "stdout",
     "output_type": "stream",
     "text": [
      "False\n",
      "True\n"
     ]
    }
   ],
   "source": [
    "#97.WAE to check the given character should not be a ASCII number.\n",
    "n=\"5\"\n",
    "print(not ('0'<=n<='9'))\n",
    "m='*'\n",
    "print(not ('0'<=m<='9'))\n"
   ]
  },
  {
   "cell_type": "code",
   "execution_count": 10,
   "metadata": {},
   "outputs": [
    {
     "name": "stdout",
     "output_type": "stream",
     "text": [
      "False\n",
      "True\n"
     ]
    }
   ],
   "source": [
    "#98.WAE to check the given character should not be a special character.\n",
    "n='&'\n",
    "print(\"A\"<=n<=\"Z\" or \"a\"<=n<=\"z\" or \"0\"<=n<=\"9\")\n",
    "a=\"7\"\n",
    "print(\"A\"<=a<=\"Z\" or \"a\"<=a<=\"z\" or \"0\"<=a<=\"9\")"
   ]
  },
  {
   "cell_type": "code",
   "execution_count": 16,
   "metadata": {},
   "outputs": [
    {
     "name": "stdout",
     "output_type": "stream",
     "text": [
      "True\n",
      "False\n"
     ]
    }
   ],
   "source": [
    "#99.WAE to Check the given character is vowel.\n",
    "ch=\"A\"\n",
    "print(ch in \"AEIOUaeiou\")\n",
    "CH=\"q\"\n",
    "print((CH in \"AEIOUaeiou\"))"
   ]
  },
  {
   "cell_type": "code",
   "execution_count": 18,
   "metadata": {},
   "outputs": [
    {
     "name": "stdout",
     "output_type": "stream",
     "text": [
      "False\n",
      "True\n"
     ]
    }
   ],
   "source": [
    "#100.WAE to check the given character is not a vowel.\n",
    "s=\"a\"\n",
    "print(s not in \"AEIOUaeiou\")\n",
    "s='N'\n",
    "print(s not in \"AEIOUaeiou\")\n"
   ]
  },
  {
   "cell_type": "code",
   "execution_count": 2,
   "metadata": {},
   "outputs": [
    {
     "name": "stdout",
     "output_type": "stream",
     "text": [
      "f\n"
     ]
    }
   ],
   "source": [
    "#101.WAE to convert uppercase to lowercase in given character.\n",
    "n=\"F\"\n",
    "print(chr(ord(n)+32))"
   ]
  },
  {
   "cell_type": "code",
   "execution_count": 3,
   "metadata": {},
   "outputs": [
    {
     "name": "stdout",
     "output_type": "stream",
     "text": [
      "J\n"
     ]
    }
   ],
   "source": [
    "#102.WAE to convert lowercase to uppercase in given character.\n",
    "n=\"j\"\n",
    "print(chr(ord(n)-32))"
   ]
  },
  {
   "cell_type": "code",
   "execution_count": 5,
   "metadata": {},
   "outputs": [
    {
     "name": "stdout",
     "output_type": "stream",
     "text": [
      "x\n",
      "T\n"
     ]
    }
   ],
   "source": [
    "#103.WAE to extract the previous character in the given character.\n",
    "n=\"y\"\n",
    "print(chr(ord(n)-1))\n",
    "m='U'\n",
    "print(chr(ord(m)-1))\n"
   ]
  },
  {
   "cell_type": "code",
   "execution_count": 7,
   "metadata": {},
   "outputs": [
    {
     "name": "stdout",
     "output_type": "stream",
     "text": [
      "s\n",
      "R\n"
     ]
    }
   ],
   "source": [
    "#104.WAE to extract the next character in the given character.\n",
    "n=\"r\"\n",
    "print(chr(ord(n)+1))\n",
    "m=\"Q\"\n",
    "print(chr(ord(m)+1)) "
   ]
  },
  {
   "cell_type": "code",
   "execution_count": 10,
   "metadata": {},
   "outputs": [
    {
     "name": "stdout",
     "output_type": "stream",
     "text": [
      "True\n",
      "False\n",
      "False\n"
     ]
    }
   ],
   "source": [
    "#105.WAE to check the given character is convert to ASCII value and the value is even as well as the character should be uppercase.\n",
    "n=\"D\"\n",
    "print(len(n)==1 and ord(n)%2==0 and \"A\"<=n<=\"Z\")\n",
    "m=\"C\"\n",
    "print(len(m)==1 and ord(m)%2==0 and \"A\"<=m<=\"Z\")\n",
    "o='f'\n",
    "print(len(o)==1 and ord(o)%2==0 and \"A\"<=o<=\"Z\")"
   ]
  },
  {
   "cell_type": "code",
   "execution_count": 14,
   "metadata": {},
   "outputs": [
    {
     "name": "stdout",
     "output_type": "stream",
     "text": [
      "True\n",
      "False\n",
      "False\n"
     ]
    }
   ],
   "source": [
    "#106.WAE to check the given character is converted to ASCII value and value is odd as well as the character should be uppercase.\n",
    "n=\"E\"\n",
    "print(len(n)==1 and ord(n)%2!=0 and \"A\"<=n<=\"Z\")\n",
    "m=\"H\"\n",
    "print(len(m)==1 and ord(m)%2!=0 and \"A\"<=m<=\"Z\")\n",
    "o=\"g\"\n",
    "print(len(o)==1 and ord(o)%2==0 and \"A\"<=o<=\"Z\")\n"
   ]
  },
  {
   "cell_type": "code",
   "execution_count": 16,
   "metadata": {},
   "outputs": [
    {
     "name": "stdout",
     "output_type": "stream",
     "text": [
      "False\n",
      "True\n"
     ]
    }
   ],
   "source": [
    "#107.WAE to check which the given number is converted to character is not a special symbol.\n",
    "s=91\n",
    "print(\"a\"<=chr(s)<=\"z\" or 'A'<=chr(s)<='Z' or \"0\"<=chr(s)<='9')\n",
    "n=121\n",
    "print(\"a\"<=chr(n)<=\"z\" or 'A'<=chr(n)<='Z' or \"0\"<=chr(n)<='9')"
   ]
  },
  {
   "cell_type": "code",
   "execution_count": 18,
   "metadata": {},
   "outputs": [
    {
     "name": "stdout",
     "output_type": "stream",
     "text": [
      "True\n",
      "False\n"
     ]
    }
   ],
   "source": [
    "#108.WAE to check the given number is a ASCII character is a vowel.\n",
    "b=65\n",
    "print(chr(b) in 'AEIOUaeiou')\n",
    "c=98\n",
    "print(chr(c) in \"aeiouAEIOU\")"
   ]
  },
  {
   "cell_type": "code",
   "execution_count": 23,
   "metadata": {},
   "outputs": [
    {
     "name": "stdout",
     "output_type": "stream",
     "text": [
      "True\n",
      "False\n"
     ]
    }
   ],
   "source": [
    "#109.WAE to check the first and second character are sequence or not in given string.\n",
    "l=\"xyz\"\n",
    "print(ord(l[0])+1==ord(l[1])) \n",
    "u=\"ADB\"\n",
    "print(ord(u[0])==ord(u[1])-1)"
   ]
  },
  {
   "cell_type": "code",
   "execution_count": 25,
   "metadata": {},
   "outputs": [
    {
     "name": "stdout",
     "output_type": "stream",
     "text": [
      "True\n"
     ]
    }
   ],
   "source": [
    "#110.WAE to check the given character ASCII value should be either greater than 50 or greater than 25 or less than 112.\n",
    "c='q'\n",
    "print(ord(c)>50 or ord(c)<112)"
   ]
  },
  {
   "cell_type": "code",
   "execution_count": 26,
   "metadata": {},
   "outputs": [
    {
     "name": "stdout",
     "output_type": "stream",
     "text": [
      "122\n"
     ]
    }
   ],
   "source": [
    "#111.WAE to given number should increased by 1.\n",
    "m=121\n",
    "m+=1\n",
    "print(m)"
   ]
  },
  {
   "cell_type": "code",
   "execution_count": 27,
   "metadata": {},
   "outputs": [
    {
     "name": "stdout",
     "output_type": "stream",
     "text": [
      "120\n"
     ]
    }
   ],
   "source": [
    "#112.WAE to given number should decreased by 1.\n",
    "n=121\n",
    "n-=1\n",
    "print(n)"
   ]
  },
  {
   "cell_type": "code",
   "execution_count": 28,
   "metadata": {},
   "outputs": [
    {
     "name": "stdout",
     "output_type": "stream",
     "text": [
      "145\n"
     ]
    }
   ],
   "source": [
    "#113.WAE to given number should increased by 2.\n",
    "n=143\n",
    "n+=2\n",
    "print(n)"
   ]
  },
  {
   "cell_type": "code",
   "execution_count": 29,
   "metadata": {},
   "outputs": [
    {
     "name": "stdout",
     "output_type": "stream",
     "text": [
      "141\n"
     ]
    }
   ],
   "source": [
    "#114.WAE to given number should decreased by 2.\n",
    "m=143\n",
    "m-=2\n",
    "print(m)"
   ]
  },
  {
   "cell_type": "code",
   "execution_count": 31,
   "metadata": {},
   "outputs": [
    {
     "name": "stdout",
     "output_type": "stream",
     "text": [
      "True\n",
      "False\n"
     ]
    }
   ],
   "source": [
    "#115.WAE to check the given integer number is present in the collection.\n",
    "n=143\n",
    "o=152\n",
    "m=[113,123,143,153]\n",
    "print(n in m)\n",
    "print(o in m)\n"
   ]
  },
  {
   "cell_type": "code",
   "execution_count": 32,
   "metadata": {},
   "outputs": [
    {
     "name": "stdout",
     "output_type": "stream",
     "text": [
      "500\n"
     ]
    }
   ],
   "source": [
    "#116.WAE to perform the addition operation A value and B value and final result should be be updated to A.\n",
    "A=250\n",
    "B=250\n",
    "A+=B\n",
    "print(A)"
   ]
  },
  {
   "cell_type": "code",
   "execution_count": 34,
   "metadata": {},
   "outputs": [
    {
     "name": "stdout",
     "output_type": "stream",
     "text": [
      "True\n",
      "False\n"
     ]
    }
   ],
   "source": [
    "#117.WAE to check the given value is present in the collection.\n",
    "n='PRUDHVI'\n",
    "m=\"R\"\n",
    "l=\"i\"\n",
    "print(m in n)\n",
    "print(l in n)\n"
   ]
  },
  {
   "cell_type": "code",
   "execution_count": 35,
   "metadata": {},
   "outputs": [
    {
     "name": "stdout",
     "output_type": "stream",
     "text": [
      "True\n",
      "False\n"
     ]
    }
   ],
   "source": [
    "#118.WAE to check the given list is present in the list.\n",
    "n=[10,20,(30,40),[50,\"BYE\"]]\n",
    "m=[50,'BYE']\n",
    "p=[50,'bye']\n",
    "print(m in n)\n",
    "print(p in n)"
   ]
  },
  {
   "cell_type": "code",
   "execution_count": 36,
   "metadata": {},
   "outputs": [
    {
     "name": "stdout",
     "output_type": "stream",
     "text": [
      "True\n",
      "False\n"
     ]
    }
   ],
   "source": [
    "#119.WAE to check the given dict value is present in tuple.\n",
    "q=(10,30,50,{'hii',\"bye\"},{40:'HELLO'})\n",
    "r={40:\"HELLO\"}\n",
    "s={40:\"hello\"}\n",
    "print(r in q)\n",
    "print(s in q)"
   ]
  },
  {
   "cell_type": "code",
   "execution_count": 37,
   "metadata": {},
   "outputs": [
    {
     "name": "stdout",
     "output_type": "stream",
     "text": [
      "True\n",
      "False\n"
     ]
    }
   ],
   "source": [
    "#120.WAE to given value is integer value or not.\n",
    "n=10\n",
    "m=\"10\"\n",
    "print(type(n)==int)\n",
    "print(type(m)==int)"
   ]
  },
  {
   "cell_type": "code",
   "execution_count": 38,
   "metadata": {},
   "outputs": [
    {
     "name": "stdout",
     "output_type": "stream",
     "text": [
      "True\n",
      "False\n"
     ]
    }
   ],
   "source": [
    "#121.WAE to check given value is string value or not.\n",
    "n=\"Prudhvi\"\n",
    "m=143\n",
    "print(type(n)==str)\n",
    "print(type(m)==str)"
   ]
  },
  {
   "cell_type": "code",
   "execution_count": 41,
   "metadata": {},
   "outputs": [
    {
     "name": "stdout",
     "output_type": "stream",
     "text": [
      "True\n",
      "False\n"
     ]
    }
   ],
   "source": [
    "#122.WAE to check given value is single value or not.\n",
    "n=True\n",
    "m={10,20}\n",
    "print(type(n) in [int,float,complex,bool,bytes,type(None)])\n",
    "print(type(m) in [int,float,complex,bool,bytes,type(None)])"
   ]
  },
  {
   "cell_type": "code",
   "execution_count": 43,
   "metadata": {},
   "outputs": [
    {
     "name": "stdout",
     "output_type": "stream",
     "text": [
      "True\n",
      "False\n"
     ]
    }
   ],
   "source": [
    "#123.WAE to check given value is not a single value.\n",
    "w=(\"hello\",)\n",
    "u=b'10101'\n",
    "print(type(w) not in [int,float,complex,bool,bytes,type(None)])\n",
    "print(type(u) not in [int,float,complex,bool,bytes,type(None)])"
   ]
  },
  {
   "cell_type": "code",
   "execution_count": 44,
   "metadata": {},
   "outputs": [
    {
     "name": "stdout",
     "output_type": "stream",
     "text": [
      "True\n",
      "False\n"
     ]
    }
   ],
   "source": [
    "#124.WAE to check given value is multivalue or not.\n",
    "e={10:\"HERO\"}\n",
    "f=10+2j\n",
    "print(type(e) in [str,list,set,tuple,dict])\n",
    "print(type(f) in [str,list,set,tuple,dict])"
   ]
  },
  {
   "cell_type": "code",
   "execution_count": 45,
   "metadata": {},
   "outputs": [
    {
     "name": "stdout",
     "output_type": "stream",
     "text": [
      "True\n",
      "False\n"
     ]
    }
   ],
   "source": [
    "#125.WAE to check given value is a mutable value or not.\n",
    "a=[1,2,3]\n",
    "b=\"143\"\n",
    "print(type(a) in [list,set,dict])\n",
    "print(type(b) in [list,set,dict])"
   ]
  },
  {
   "cell_type": "code",
   "execution_count": 46,
   "metadata": {},
   "outputs": [
    {
     "name": "stdout",
     "output_type": "stream",
     "text": [
      "True\n",
      "False\n"
     ]
    }
   ],
   "source": [
    "#126.WAE to check the given value is a immutable value or not.\n",
    "a=(10,20,30)\n",
    "b={'a','b','c'}\n",
    "print(type(a) not in [list,set,dict])\n",
    "print(type(b) not in [list,set,dict])"
   ]
  },
  {
   "cell_type": "code",
   "execution_count": 47,
   "metadata": {},
   "outputs": [
    {
     "name": "stdout",
     "output_type": "stream",
     "text": [
      "True\n",
      "False\n"
     ]
    }
   ],
   "source": [
    "#127.WAE to check the given value is divisible by 6 as well as that value present in the collection or not.\n",
    "n=36\n",
    "p=22\n",
    "m=[22,34,36,78]\n",
    "print(n%6==0 and n in m)\n",
    "print(p%6==0 and p in m)\n"
   ]
  },
  {
   "cell_type": "code",
   "execution_count": 48,
   "metadata": {},
   "outputs": [
    {
     "name": "stdout",
     "output_type": "stream",
     "text": [
      "3\n"
     ]
    }
   ],
   "source": [
    "#128.WAE to perform the bitwise AND operation given values are(15 and 19).\n",
    "n=15\n",
    "m=19\n",
    "print(n&m)"
   ]
  },
  {
   "cell_type": "code",
   "execution_count": 50,
   "metadata": {},
   "outputs": [
    {
     "name": "stdout",
     "output_type": "stream",
     "text": [
      "127\n"
     ]
    }
   ],
   "source": [
    "#129.WAE to perform the bitwise OR operation given values are(115 and 79).\n",
    "n=115\n",
    "m=79\n",
    "print(n|m)"
   ]
  },
  {
   "cell_type": "code",
   "execution_count": 51,
   "metadata": {},
   "outputs": [
    {
     "name": "stdout",
     "output_type": "stream",
     "text": [
      "46\n"
     ]
    }
   ],
   "source": [
    "#130.WAE to perform the bitwise XOR operation given values are(56 and 22).\n",
    "n=56\n",
    "m=22\n",
    "print(n^m)"
   ]
  },
  {
   "cell_type": "code",
   "execution_count": 52,
   "metadata": {},
   "outputs": [
    {
     "name": "stdout",
     "output_type": "stream",
     "text": [
      "-16\n"
     ]
    }
   ],
   "source": [
    "#131.WAE to perform the bitwise not operation given values 15.\n",
    "n=15\n",
    "print(~n)"
   ]
  },
  {
   "cell_type": "code",
   "execution_count": 53,
   "metadata": {},
   "outputs": [
    {
     "name": "stdout",
     "output_type": "stream",
     "text": [
      "256\n"
     ]
    }
   ],
   "source": [
    "#132.WAE to perform the bitwise left shift operation with 32 and skipping value is 3.\n",
    "n=32\n",
    "m=3\n",
    "print(n<<m)"
   ]
  },
  {
   "cell_type": "code",
   "execution_count": 54,
   "metadata": {},
   "outputs": [
    {
     "name": "stdout",
     "output_type": "stream",
     "text": [
      "6\n"
     ]
    }
   ],
   "source": [
    "#133.WAE to perform the bitwise right shift operation with 25 and skipping value is 2.\n",
    "n=25\n",
    "m=2\n",
    "print(n>>m)"
   ]
  },
  {
   "cell_type": "code",
   "execution_count": 56,
   "metadata": {},
   "outputs": [
    {
     "name": "stdout",
     "output_type": "stream",
     "text": [
      "1000\n"
     ]
    }
   ],
   "source": [
    "#134.WAE to find out the output of a given condition:(10+20*80 and 10**3) or ({10,20}or not([15-16])).\n",
    "a=(10+20*80 and 10**3) or ({10,20}or not([15-16]))\n",
    "print(a)"
   ]
  },
  {
   "cell_type": "code",
   "execution_count": 59,
   "metadata": {},
   "outputs": [
    {
     "name": "stdout",
     "output_type": "stream",
     "text": [
      "True\n",
      "False\n"
     ]
    }
   ],
   "source": [
    "#135.WAE to check if a given key is present in a dict.\n",
    "d={10:20,'a':\"Hello\",(1,):('a','b')}\n",
    "k='a'\n",
    "l=\"10\"\n",
    "print(k in d.keys())\n",
    "print(l in d.keys())"
   ]
  },
  {
   "cell_type": "code",
   "execution_count": 60,
   "metadata": {},
   "outputs": [
    {
     "name": "stdout",
     "output_type": "stream",
     "text": [
      "True\n",
      "False\n"
     ]
    }
   ],
   "source": [
    "#136.WAE to check if a given value is present in a dict.\n",
    "d={10:20,'a':\"Hello\",(1,):('a','b')}\n",
    "k=20\n",
    "l=1\n",
    "print(k in d.values())\n",
    "print(l in d.values())"
   ]
  },
  {
   "cell_type": "code",
   "execution_count": 61,
   "metadata": {},
   "outputs": [
    {
     "name": "stdout",
     "output_type": "stream",
     "text": [
      "True\n",
      "False\n"
     ]
    }
   ],
   "source": [
    "#137.WAE to check if the key is present in a dict or not.\n",
    "d={10:20,'a':\"Hello\",(1,):('a','b')}\n",
    "k=1\n",
    "l=(1,)\n",
    "print(k not in d.keys())\n",
    "print(l not in d.keys())"
   ]
  },
  {
   "cell_type": "code",
   "execution_count": 62,
   "metadata": {},
   "outputs": [
    {
     "name": "stdout",
     "output_type": "stream",
     "text": [
      "True\n",
      "False\n"
     ]
    }
   ],
   "source": [
    "#138.WAE to check if a given key value pair is present in a dict.\n",
    "d={10:20,'a':\"Hello\",(1,):('a','b')}\n",
    "l=(\"a\",\"Hello\")\n",
    "b=('10','20')\n",
    "print(l in d.items())\n",
    "print(b in d.items())"
   ]
  },
  {
   "cell_type": "code",
   "execution_count": 66,
   "metadata": {},
   "outputs": [
    {
     "name": "stdout",
     "output_type": "stream",
     "text": [
      "True\n",
      "True\n",
      "False\n",
      "True\n"
     ]
    },
    {
     "name": "stderr",
     "output_type": "stream",
     "text": [
      "<>:5: SyntaxWarning: \"is\" with a literal. Did you mean \"==\"?\n",
      "<>:9: SyntaxWarning: \"is\" with a literal. Did you mean \"==\"?\n",
      "<>:5: SyntaxWarning: \"is\" with a literal. Did you mean \"==\"?\n",
      "<>:9: SyntaxWarning: \"is\" with a literal. Did you mean \"==\"?\n",
      "C:\\Users\\saipr\\AppData\\Local\\Temp\\ipykernel_30648\\2081024052.py:5: SyntaxWarning: \"is\" with a literal. Did you mean \"==\"?\n",
      "  print(125 is 125)\n",
      "C:\\Users\\saipr\\AppData\\Local\\Temp\\ipykernel_30648\\2081024052.py:9: SyntaxWarning: \"is\" with a literal. Did you mean \"==\"?\n",
      "  print(289 is 289)\n"
     ]
    }
   ],
   "source": [
    "#139.WAE to check if the two values are pointing to the same address or not.\n",
    "a=125\n",
    "b=125\n",
    "print(a is b)\n",
    "print(125 is 125)\n",
    "c=289\n",
    "d=289\n",
    "print(c is d)\n",
    "print(289 is 289)"
   ]
  },
  {
   "cell_type": "code",
   "execution_count": 68,
   "metadata": {},
   "outputs": [
    {
     "name": "stdout",
     "output_type": "stream",
     "text": [
      "True\n",
      "False\n"
     ]
    }
   ],
   "source": [
    "#140.WAE to check both the values should be integer and both values are pointhing to same address.\n",
    "a=143\n",
    "b=143\n",
    "print(type(a)==int and type(b)==int and a is b)\n",
    "c=285\n",
    "d=285\n",
    "print(type(c)==int and type(d)==int and c is d)"
   ]
  }
 ],
 "metadata": {
  "kernelspec": {
   "display_name": "Python 3",
   "language": "python",
   "name": "python3"
  },
  "language_info": {
   "codemirror_mode": {
    "name": "ipython",
    "version": 3
   },
   "file_extension": ".py",
   "mimetype": "text/x-python",
   "name": "python",
   "nbconvert_exporter": "python",
   "pygments_lexer": "ipython3",
   "version": "3.10.9"
  },
  "orig_nbformat": 4
 },
 "nbformat": 4,
 "nbformat_minor": 2
}
