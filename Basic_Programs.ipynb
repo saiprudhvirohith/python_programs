{
 "cells": [
  {
   "cell_type": "code",
   "execution_count": 1,
   "metadata": {},
   "outputs": [
    {
     "name": "stdout",
     "output_type": "stream",
     "text": [
      "Hello World\n"
     ]
    }
   ],
   "source": [
    "#1.WAS to print \"Hello World\" by using shell.\n",
    "print(\"Hello World\")"
   ]
  },
  {
   "cell_type": "code",
   "execution_count": 2,
   "metadata": {},
   "outputs": [
    {
     "name": "stdout",
     "output_type": "stream",
     "text": [
      "Hello World\n"
     ]
    }
   ],
   "source": [
    "#2.WAS to print \"hello World\" by using puthon print function.\n",
    "print(\"Hello World\")"
   ]
  },
  {
   "cell_type": "code",
   "execution_count": 3,
   "metadata": {},
   "outputs": [
    {
     "name": "stdout",
     "output_type": "stream",
     "text": [
      "50\n"
     ]
    }
   ],
   "source": [
    "#3.WAS to initialize variable and value as 50.\n",
    "a=50\n",
    "print(a)"
   ]
  },
  {
   "cell_type": "code",
   "execution_count": 4,
   "metadata": {},
   "outputs": [
    {
     "name": "stdout",
     "output_type": "stream",
     "text": [
      "150\n",
      "120\n",
      "250\n"
     ]
    }
   ],
   "source": [
    "#4.WAS to initialize multivariable values 150,120,250.\n",
    "a,b,c=150,120,250\n",
    "print(a)\n",
    "print(b)\n",
    "print(c) "
   ]
  },
  {
   "cell_type": "code",
   "execution_count": 8,
   "metadata": {},
   "outputs": [
    {
     "name": "stdout",
     "output_type": "stream",
     "text": [
      "<class 'set'>\n",
      "<class 'list'>\n",
      "<class 'tuple'>\n",
      "<class 'str'>\n"
     ]
    }
   ],
   "source": [
    "#5.WAS to print type of the data in given value.\n",
    "x={10,20}\n",
    "print(type(x))\n",
    "y=[1,2,3]\n",
    "print(type(y))\n",
    "z=('a','b','c')\n",
    "print(type(z))\n",
    "q=\"a123d4\"\n",
    "print(type(q))"
   ]
  },
  {
   "cell_type": "code",
   "execution_count": 11,
   "metadata": {},
   "outputs": [
    {
     "name": "stdout",
     "output_type": "stream",
     "text": [
      "2199329870208\n",
      "2199330066368\n"
     ]
    }
   ],
   "source": [
    "#6.WAS print the address of memory block in given value.\n",
    "w=[1,2,3,4]\n",
    "print(id(w))\n",
    "print(id([1,2,3,4]))"
   ]
  },
  {
   "cell_type": "code",
   "execution_count": 19,
   "metadata": {},
   "outputs": [
    {
     "name": "stdout",
     "output_type": "stream",
     "text": [
      "Rohith\n",
      "21\n",
      "['Rohith', 21, 8008535363, 'rohiths819@gmail.com']\n",
      "rohiths819@gmail.com\n",
      "8008535363\n",
      "{'name': 'Rohith', 'age': 21, 'phone': 8008535363, 'email': 'rohiths819@gmail.com'}\n",
      "8008535363\n",
      "Rohith\n"
     ]
    }
   ],
   "source": [
    "#7.WAS to print your details, first store your details and extract the values and display it.\n",
    "name,age,phone,email='Rohith',21,8008535363,'rohiths819@gmail.com'\n",
    "print(name)\n",
    "print(age)\n",
    "Details=['Rohith',21,8008535363,'rohiths819@gmail.com']\n",
    "print(Details)\n",
    "print(Details[-1])\n",
    "print(Details[2])\n",
    "details={'name':'Rohith','age':21,'phone':8008535363,'email':'rohiths819@gmail.com'}\n",
    "print(details)\n",
    "print(details['phone'])\n",
    "print(details['name'])\n"
   ]
  },
  {
   "cell_type": "code",
   "execution_count": 20,
   "metadata": {},
   "outputs": [
    {
     "name": "stdout",
     "output_type": "stream",
     "text": [
      "[1, 2, 3]\n",
      "hlo\n"
     ]
    }
   ],
   "source": [
    "#8.WAS to swap the two values with a temp varaiable.\n",
    "x='hlo'\n",
    "y=[1,2,3]\n",
    "temp=x\n",
    "x=y\n",
    "y=temp\n",
    "print(x)\n",
    "print(y)"
   ]
  },
  {
   "cell_type": "code",
   "execution_count": 21,
   "metadata": {},
   "outputs": [
    {
     "name": "stdout",
     "output_type": "stream",
     "text": [
      "[1, 2, 3]\n",
      "hlo\n"
     ]
    }
   ],
   "source": [
    "#9.WAS to swap the two values without a temp varaiable.\n",
    "n='hlo'\n",
    "m=[1,2,3]\n",
    "n,m=m,n\n",
    "print(n)\n",
    "print(m)"
   ]
  },
  {
   "cell_type": "code",
   "execution_count": 23,
   "metadata": {},
   "outputs": [
    {
     "name": "stdout",
     "output_type": "stream",
     "text": [
      "{'1': 'Rohith'}\n",
      "Rohith\n",
      "{'1': 'Prudhvi'}\n",
      "Prudhvi\n"
     ]
    }
   ],
   "source": [
    "#10.WAS to initialize a value and print the value,after print the value then reinitialize the new value to existing varaible and display the value.\n",
    "k={'1':'Rohith'}\n",
    "print(k) \n",
    "print(k['1'])\n",
    "k['1']=\"Prudhvi\"\n",
    "print(k)\n",
    "print(k['1'])"
   ]
  },
  {
   "cell_type": "code",
   "execution_count": 25,
   "metadata": {},
   "outputs": [
    {
     "name": "stdout",
     "output_type": "stream",
     "text": [
      "['1', '0']\n",
      "['1', '0']\n"
     ]
    }
   ],
   "source": [
    "#WAS to convert single value datatype to multi value datatype.(i/p:l=10,o/p:['1','0']).\n",
    "l=10\n",
    "l=str(l)\n",
    "print(list(l))\n",
    "#OR\n",
    "l=10\n",
    "print(list(str(l)))"
   ]
  },
  {
   "cell_type": "code",
   "execution_count": 32,
   "metadata": {},
   "outputs": [
    {
     "name": "stdout",
     "output_type": "stream",
     "text": [
      "Pyspiders\n",
      "[1, 2, 3, 'q', 's', 'p', 'i', 'd', 'e', 'r', 's']\n"
     ]
    }
   ],
   "source": [
    "#12.WAS to concat the two mutivalue datatype.(we have to use component assignment operstor(+=) to concat tow different multi value dataypes)\n",
    "f='Py'          #same datatype.\n",
    "p='spiders'\n",
    "f+=p\n",
    "print(f)\n",
    "j='qspiders'    # different dataypes with += operator\n",
    "u=[1,2,3]\n",
    "u+=j\n",
    "print(u) \n",
    "v='Jspiders'    #different datatypes without using += operator\n",
    "y=('a','b')\n",
    "#print(v+y)   \n",
    "# TypeError: can only concatenate str (not \"tuple\") to str \n"
   ]
  },
  {
   "cell_type": "code",
   "execution_count": 40,
   "metadata": {},
   "outputs": [
    {
     "name": "stdout",
     "output_type": "stream",
     "text": [
      "5\n"
     ]
    }
   ],
   "source": [
    "#13.WAS to check the length of the collection.\n",
    "t=(100,200,300,400,500)\n",
    "print(len(t))"
   ]
  },
  {
   "cell_type": "code",
   "execution_count": 38,
   "metadata": {},
   "outputs": [
    {
     "name": "stdout",
     "output_type": "stream",
     "text": [
      "30\n"
     ]
    }
   ],
   "source": [
    "#14.WAS to check find out the middle value  of the given collection.\n",
    "q=[10,20,30,40]\n",
    "print(q[len(q)//2])"
   ]
  },
  {
   "cell_type": "code",
   "execution_count": 42,
   "metadata": {},
   "outputs": [
    {
     "name": "stdout",
     "output_type": "stream",
     "text": [
      "Good Morning Sir\n"
     ]
    }
   ],
   "source": [
    "#15.WAS to concat the new string into the starting of the given string.\n",
    "a='Sir'\n",
    "b='Good Morning '\n",
    "b+=a\n",
    "print(b)"
   ]
  },
  {
   "cell_type": "code",
   "execution_count": 44,
   "metadata": {},
   "outputs": [
    {
     "name": "stdout",
     "output_type": "stream",
     "text": [
      "Have a Great Day\n"
     ]
    }
   ],
   "source": [
    "#16.WAS to concat the new string into the ending of the given string.\n",
    "n=\"Have a \"\n",
    "m=\"Great Day\"\n",
    "n+=m\n",
    "print(n)"
   ]
  },
  {
   "cell_type": "code",
   "execution_count": 46,
   "metadata": {},
   "outputs": [
    {
     "name": "stdout",
     "output_type": "stream",
     "text": [
      "My is name Rohith\n"
     ]
    }
   ],
   "source": [
    "#17.WAS to concat the new string into the middle of the given string.\n",
    "g='My is Rohith'\n",
    "h='name'\n",
    "g=g[:6]+h+g[5:]\n",
    "print(g)"
   ]
  },
  {
   "cell_type": "code",
   "execution_count": 47,
   "metadata": {},
   "outputs": [
    {
     "name": "stdout",
     "output_type": "stream",
     "text": [
      "marVels\n"
     ]
    }
   ],
   "source": [
    "#18.WAS to modify the new character into the middle of the given string.\n",
    "r='marvels'\n",
    "print(r[0:len(r)//2]+'V'+r[(len(r)//2)+1:])"
   ]
  },
  {
   "cell_type": "code",
   "execution_count": 52,
   "metadata": {},
   "outputs": [
    {
     "name": "stdout",
     "output_type": "stream",
     "text": [
      "maRVEls\n"
     ]
    }
   ],
   "source": [
    "#19.WAS to modify the sequence of the characters in given string.\n",
    "r='marvels'\n",
    "print(r[0:2]+'RVE'+r[5:])"
   ]
  },
  {
   "cell_type": "code",
   "execution_count": 53,
   "metadata": {},
   "outputs": [
    {
     "name": "stdout",
     "output_type": "stream",
     "text": [
      "marVels\n"
     ]
    }
   ],
   "source": [
    "#20.WAS to replace the old character into a new character of the given string.\n",
    "r='marvels'\n",
    "print(r[:-4]+'V'+r[-3:])"
   ]
  },
  {
   "cell_type": "code",
   "execution_count": 55,
   "metadata": {},
   "outputs": [
    {
     "name": "stdout",
     "output_type": "stream",
     "text": [
      "marels\n"
     ]
    }
   ],
   "source": [
    "#21.WAS to delete the specific character in the given string.\n",
    "r='marvels'\n",
    "print(r[:3]+r[4:])"
   ]
  },
  {
   "cell_type": "code",
   "execution_count": 56,
   "metadata": {},
   "outputs": [
    {
     "name": "stdout",
     "output_type": "stream",
     "text": [
      "hello Good Morning\n"
     ]
    }
   ],
   "source": [
    "#22.WAS to concat the new string into the specific position of the given string.\n",
    "w='hello Morning'\n",
    "print(w[:6]+'Good'+w[-8:])"
   ]
  },
  {
   "cell_type": "code",
   "execution_count": 58,
   "metadata": {},
   "outputs": [
    {
     "name": "stdout",
     "output_type": "stream",
     "text": [
      "mals\n"
     ]
    }
   ],
   "source": [
    "#23.WAS to delete the sequence of characters in given string.\n",
    "r='marvels'\n",
    "r=r[:2]+r[-2:]\n",
    "print(r)"
   ]
  },
  {
   "cell_type": "code",
   "execution_count": 62,
   "metadata": {},
   "outputs": [
    {
     "name": "stdout",
     "output_type": "stream",
     "text": [
      "[10, 20, 30]\n",
      "2199318914624\n",
      "['a', 'b', 10, 20, 30]\n",
      "2199318914624\n"
     ]
    }
   ],
   "source": [
    "#24.WAS to concat the new value into the starting of the given list.\n",
    "l=[10,20,30]\n",
    "print(l)\n",
    "print(id(l))\n",
    "l[0:0]=['a','b']\n",
    "print(l)\n",
    "print(id(l))"
   ]
  },
  {
   "cell_type": "code",
   "execution_count": 63,
   "metadata": {},
   "outputs": [
    {
     "name": "stdout",
     "output_type": "stream",
     "text": [
      "[10, 20, 30]\n",
      "2199330014976\n",
      "[10, 20, 30, 'a', 'b']\n",
      "2199330014976\n"
     ]
    }
   ],
   "source": [
    "#25.WAS to concat the new values into the ending of the given list.\n",
    "l=[10,20,30]\n",
    "print(l)\n",
    "print(id(l))\n",
    "l[len(l):len(l)]=['a','b']\n",
    "print(l)\n",
    "print(id(l))"
   ]
  },
  {
   "cell_type": "code",
   "execution_count": 65,
   "metadata": {},
   "outputs": [
    {
     "name": "stdout",
     "output_type": "stream",
     "text": [
      "[10, 'ab', True, (2+4j), b'10101', 20.5]\n",
      "2199330099456\n",
      "[10, 'ab', True, 10, 20, 30, (2+4j), b'10101', 20.5]\n",
      "2199330099456\n"
     ]
    }
   ],
   "source": [
    "#26.WAS to concat the new value into the middle of the given list.\n",
    "j=[10,'ab',True,2+4j,b'10101',20.5]\n",
    "print(j)\n",
    "print(id(j))\n",
    "j[len(j)//2:len(j)//2]=[10,20,30]\n",
    "print(j)\n",
    "print(id(j))"
   ]
  },
  {
   "cell_type": "code",
   "execution_count": 66,
   "metadata": {},
   "outputs": [
    {
     "name": "stdout",
     "output_type": "stream",
     "text": [
      "[10, 15.2, (10+2j), False, 'hello']\n",
      "2199351440384\n",
      "[10, 15.2, 'ab', 'bc', 'cd', (10+2j), False, 'hello']\n",
      "2199351440384\n"
     ]
    }
   ],
   "source": [
    "#27.WAS to concat the new value into the specifi position of the given list.\n",
    "z=[10,15.2,10+2j,False,'hello']\n",
    "print(z)\n",
    "print(id(z))\n",
    "z[-3:-3]=['ab','bc','cd']\n",
    "print(z)\n",
    "print(id(z))"
   ]
  },
  {
   "cell_type": "code",
   "execution_count": 67,
   "metadata": {},
   "outputs": [
    {
     "name": "stdout",
     "output_type": "stream",
     "text": [
      "[10, 10.5, (10+10j), True, '10']\n",
      "2199329883648\n",
      "[10, 10.1, (10+10j), True, '10']\n",
      "2199329883648\n"
     ]
    }
   ],
   "source": [
    "#28.WAS to modify the new value into the specific position of the given list.\n",
    "l=[10,10.5,10+10j,True,'10']\n",
    "print(l)\n",
    "print(id(l))\n",
    "l[1]=10.1\n",
    "print(l)\n",
    "print(id(l))"
   ]
  },
  {
   "cell_type": "code",
   "execution_count": 68,
   "metadata": {},
   "outputs": [
    {
     "name": "stdout",
     "output_type": "stream",
     "text": [
      "[10, 10.5, (10+10j), True, '10']\n",
      "2199330104448\n",
      "[11, 10.5, (10+10j), True, '10']\n",
      "2199330104448\n"
     ]
    }
   ],
   "source": [
    "#29.WAS to modify the new value into the starting f the given list.\n",
    "n=[10,10.5,10+10j,True,'10']\n",
    "print(n)\n",
    "print(id(n))\n",
    "n[0]=11\n",
    "print(n)\n",
    "print(id(n))"
   ]
  },
  {
   "cell_type": "code",
   "execution_count": 69,
   "metadata": {},
   "outputs": [
    {
     "name": "stdout",
     "output_type": "stream",
     "text": [
      "[1, 'a', False, (1+2j), [12, 11], ('a', 'b'), 20]\n",
      "2199330105216\n",
      "[1, 'a', False, (1+2j), [12, 11], ('a', 'b'), {10, 20, 30}]\n",
      "2199330105216\n"
     ]
    }
   ],
   "source": [
    "#30.WAS to modify the new value into the ending of the given list.\n",
    "v=[1,'a',False,1+2j,[12,11],('a','b'),20]\n",
    "print(v)\n",
    "print(id(v))\n",
    "v[len(v)-1]={10,20,30}\n",
    "print(v)\n",
    "print(id(v))"
   ]
  },
  {
   "cell_type": "code",
   "execution_count": 70,
   "metadata": {},
   "outputs": [
    {
     "name": "stdout",
     "output_type": "stream",
     "text": [
      "[1, 'a', False, (1+2j), [12, 11], ('a', 'b'), 20]\n",
      "2199351485120\n",
      "[1, 'a', False, {1: 'a', 2: 'b'}, [12, 11], ('a', 'b'), 20]\n",
      "2199351485120\n"
     ]
    }
   ],
   "source": [
    "#31.WAS to modify the new value into the middle of the given list.\n",
    "a=[1,'a',False,1+2j,[12,11],('a','b'),20]\n",
    "print(a)\n",
    "print(id(a))\n",
    "a[len(a)//2]={1:'a',2:'b'}\n",
    "print(a)\n",
    "print(id(a))"
   ]
  },
  {
   "cell_type": "code",
   "execution_count": 71,
   "metadata": {},
   "outputs": [
    {
     "name": "stdout",
     "output_type": "stream",
     "text": [
      "[1, 2, 3, 4, 5, 6, 7, 8, 9]\n",
      "2199330099968\n",
      "[1, 'a', 3, 'b', 5, 'c', 7, 'd', 9]\n",
      "2199330099968\n"
     ]
    }
   ],
   "source": [
    "#33.WAS to modify the sequence of values into a given list.\n",
    "d=[1,2,3,4,5,6,7,8,9]\n",
    "print(d)\n",
    "print(id(d))\n",
    "d[1::2]=['a','b','c','d']\n",
    "print(d)\n",
    "print(id(d))"
   ]
  },
  {
   "cell_type": "code",
   "execution_count": 73,
   "metadata": {},
   "outputs": [
    {
     "name": "stdout",
     "output_type": "stream",
     "text": [
      "[1, 3, 4, 5, 16, 7, 64, 6, 81, 15]\n",
      "[1, 3, 4, 5, 16, 7, 64, 6, 81, 15]\n"
     ]
    }
   ],
   "source": [
    "#i/p:d=[1,3,2,5,4,7,8,6,9,15] --> o/p:d=[1,3,4,5,16,7,64,6,81,15]\n",
    "d=[1,3,2,5,4,7,8,6,9,15]\n",
    "d[2::2]=[4,16,64,81]\n",
    "print(d)\n",
    "#OR\n",
    "d=[1,3,2,5,4,7,8,6,9,15]\n",
    "d[::2]=[d[0]**2,d[2]**2,d[4]**2,d[6]**2,d[8]**2]\n",
    "print(d)"
   ]
  },
  {
   "cell_type": "code",
   "execution_count": 74,
   "metadata": {},
   "outputs": [
    {
     "name": "stdout",
     "output_type": "stream",
     "text": [
      "[10, 10.21, (5+4j), True, 'abc', ('a', 'b', 'c'), {1, 2, 3}, {1: 'a', 2: 'b'}]\n"
     ]
    }
   ],
   "source": [
    "#34.WAS to delete the value in the specific positon of the given list.\n",
    "s=[10,10.21,5+4j,True,'abc',[10,20,30],('a','b','c'),{1,2,3},{1:'a',2:'b'}]\n",
    "del s[5]\n",
    "print(s)"
   ]
  },
  {
   "cell_type": "code",
   "execution_count": 75,
   "metadata": {},
   "outputs": [
    {
     "name": "stdout",
     "output_type": "stream",
     "text": [
      "[10, 10.21, (5+4j), True, 'abc', [10, 20, 30], ('a', 'b', 'c'), {1, 2, 3}]\n"
     ]
    }
   ],
   "source": [
    "#35.WAS to delete the value in the end of list.\n",
    "s=[10,10.21,5+4j,True,'abc',[10,20,30],('a','b','c'),{1,2,3},{1:'a',2:'b'}]\n",
    "del s[-1]\n",
    "print(s)"
   ]
  },
  {
   "cell_type": "code",
   "execution_count": 76,
   "metadata": {},
   "outputs": [
    {
     "name": "stdout",
     "output_type": "stream",
     "text": [
      "[10, 10.21, (5+4j), True, [10, 20, 30], ('a', 'b', 'c'), {1, 2, 3}, {1: 'a', 2: 'b'}]\n"
     ]
    }
   ],
   "source": [
    "#36.WAS to delete the value in the middle of the list.\n",
    "s=[10,10.21,5+4j,True,'abc',[10,20,30],('a','b','c'),{1,2,3},{1:'a',2:'b'}]\n",
    "del s[len(s)//2]\n",
    "print(s)"
   ]
  },
  {
   "cell_type": "code",
   "execution_count": 77,
   "metadata": {},
   "outputs": [
    {
     "name": "stdout",
     "output_type": "stream",
     "text": [
      "[10.21, (5+4j), True, 'abc', [10, 20, 30], ('a', 'b', 'c'), {1, 2, 3}, {1: 'a', 2: 'b'}]\n",
      "[10.21, (5+4j), True, 'abc', [10, 20, 30], ('a', 'b', 'c'), {1, 2, 3}, {1: 'a', 2: 'b'}]\n"
     ]
    }
   ],
   "source": [
    "#37.WAS to delete new value into the starting of list.\n",
    "s=[10,10.21,5+4j,True,'abc',[10,20,30],('a','b','c'),{1,2,3},{1:'a',2:'b'}]\n",
    "del s[0]\n",
    "print(s)\n",
    "#OR\n",
    "v=[10,10.21,5+4j,True,'abc',[10,20,30],('a','b','c'),{1,2,3},{1:'a',2:'b'}]\n",
    "v[0:1]=[]\n",
    "print(v)"
   ]
  },
  {
   "cell_type": "code",
   "execution_count": 82,
   "metadata": {},
   "outputs": [
    {
     "name": "stdout",
     "output_type": "stream",
     "text": [
      "({1, 2, 3}, 10, 10.21, (5+4j), True, 'abc', [10, 20, 30], ('a', 'b', 'c'))\n"
     ]
    }
   ],
   "source": [
    "#38.WAS to concat the new value into starting of the tuple.\n",
    "b=(10,10.21,5+4j,True,'abc',[10,20,30],('a','b','c'))\n",
    "b=({1,2,3},)+b\n",
    "print(b)\n"
   ]
  },
  {
   "cell_type": "code",
   "execution_count": 87,
   "metadata": {},
   "outputs": [
    {
     "name": "stdout",
     "output_type": "stream",
     "text": [
      "(10, 10.21, (5+4j), 'hi', 'bye', True, 'abc', [10, 20, 30], ('a', 'b', 'c'))\n"
     ]
    }
   ],
   "source": [
    "#39.WAS to concat the new value into the middle of the tuple.\n",
    "b=(10,10.21,5+4j,True,'abc',[10,20,30],('a','b','c'))\n",
    "b=b[:len(b)//2]+('hi','bye')+b[len(b)//2:]\n",
    "print(b)"
   ]
  },
  {
   "cell_type": "code",
   "execution_count": 85,
   "metadata": {},
   "outputs": [
    {
     "name": "stdout",
     "output_type": "stream",
     "text": [
      "(10, 10.21, (5+4j), True, 'abc', [10, 20, 30], ('a', 'b', 'c'), {1: 'a', 2: 'b'})\n"
     ]
    }
   ],
   "source": [
    "#40.WAS concat the value into the ending of the the tuple.\n",
    "b=(10,10.21,5+4j,True,'abc',[10,20,30],('a','b','c'))\n",
    "b+=({1:'a',2:'b'},)\n",
    "print(b)"
   ]
  },
  {
   "cell_type": "code",
   "execution_count": 90,
   "metadata": {},
   "outputs": [
    {
     "ename": "NameError",
     "evalue": "name 'b' is not defined",
     "output_type": "error",
     "traceback": [
      "\u001b[1;31m---------------------------------------------------------------------------\u001b[0m",
      "\u001b[1;31mNameError\u001b[0m                                 Traceback (most recent call last)",
      "Cell \u001b[1;32mIn[90], line 4\u001b[0m\n\u001b[0;32m      2\u001b[0m b\u001b[39m=\u001b[39m(\u001b[39m10\u001b[39m,\u001b[39m10.21\u001b[39m,\u001b[39m5\u001b[39m\u001b[39m+\u001b[39m\u001b[39m4\u001b[39mj,\u001b[39mTrue\u001b[39;00m,\u001b[39m'\u001b[39m\u001b[39mabc\u001b[39m\u001b[39m'\u001b[39m,[\u001b[39m10\u001b[39m,\u001b[39m20\u001b[39m,\u001b[39m30\u001b[39m],(\u001b[39m'\u001b[39m\u001b[39ma\u001b[39m\u001b[39m'\u001b[39m,\u001b[39m'\u001b[39m\u001b[39mb\u001b[39m\u001b[39m'\u001b[39m,\u001b[39m'\u001b[39m\u001b[39mc\u001b[39m\u001b[39m'\u001b[39m))\n\u001b[0;32m      3\u001b[0m \u001b[39mdel\u001b[39;00m b\n\u001b[1;32m----> 4\u001b[0m \u001b[39mprint\u001b[39m(b)\n",
      "\u001b[1;31mNameError\u001b[0m: name 'b' is not defined"
     ]
    }
   ],
   "source": [
    "#42. WAS to delete sequence of values in given tuple.\n",
    "b=(10,10.21,5+4j,True,'abc',[10,20,30],('a','b','c'))\n",
    "del b          # In tuple we can't delete sequence of values but we can delete entire tuple.\n",
    "print(b)"
   ]
  },
  {
   "cell_type": "code",
   "execution_count": null,
   "metadata": {},
   "outputs": [],
   "source": []
  }
 ],
 "metadata": {
  "kernelspec": {
   "display_name": "Python 3",
   "language": "python",
   "name": "python3"
  },
  "language_info": {
   "codemirror_mode": {
    "name": "ipython",
    "version": 3
   },
   "file_extension": ".py",
   "mimetype": "text/x-python",
   "name": "python",
   "nbconvert_exporter": "python",
   "pygments_lexer": "ipython3",
   "version": "3.10.9"
  },
  "orig_nbformat": 4
 },
 "nbformat": 4,
 "nbformat_minor": 2
}
