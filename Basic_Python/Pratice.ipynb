{
 "cells": [
  {
   "cell_type": "markdown",
   "metadata": {},
   "source": [
    "String Datatype"
   ]
  },
  {
   "cell_type": "code",
   "execution_count": 1,
   "metadata": {},
   "outputs": [
    {
     "name": "stdout",
     "output_type": "stream",
     "text": [
      "HelloWorld\n",
      "2203086380400\n",
      "<class 'str'>\n"
     ]
    }
   ],
   "source": [
    "a='HelloWorld'\n",
    "print(a)\n",
    "print(id(a))\n",
    "print(type(a))"
   ]
  },
  {
   "cell_type": "code",
   "execution_count": 2,
   "metadata": {},
   "outputs": [
    {
     "name": "stdout",
     "output_type": "stream",
     "text": [
      "2203086380400\n",
      "Hello World\n",
      "2203092468400\n"
     ]
    }
   ],
   "source": [
    "\n",
    "a[2]\n",
    "a[-4]\n",
    "a[-7]\n",
    "a[0:]\n",
    "a[-1::-1]\n",
    "a[0::2]\n",
    "print(id(a))\n",
    "a=a[0:5]+\" \"+a[5:]\n",
    "print(a)\n",
    "print(id(a))"
   ]
  },
  {
   "cell_type": "markdown",
   "metadata": {},
   "source": [
    "List Datatype"
   ]
  },
  {
   "cell_type": "code",
   "execution_count": 3,
   "metadata": {},
   "outputs": [
    {
     "name": "stdout",
     "output_type": "stream",
     "text": [
      "[1, 2, 3, 4, 5, 6, 7]\n",
      "2203092512512\n",
      "<class 'list'>\n"
     ]
    }
   ],
   "source": [
    "b=[1,2,3,4,5,6,7]\n",
    "print(b)\n",
    "print(id(b))\n",
    "print(type(b))"
   ]
  },
  {
   "cell_type": "code",
   "execution_count": 4,
   "metadata": {},
   "outputs": [
    {
     "data": {
      "text/plain": [
       "[7, 6, 5, 4, 3, 2, 1]"
      ]
     },
     "execution_count": 4,
     "metadata": {},
     "output_type": "execute_result"
    }
   ],
   "source": [
    "b[3]\n",
    "b[-4]\n",
    "b[0:]\n",
    "b[0:-1]\n",
    "b[-1::-1]\n"
   ]
  },
  {
   "cell_type": "code",
   "execution_count": 5,
   "metadata": {},
   "outputs": [
    {
     "name": "stdout",
     "output_type": "stream",
     "text": [
      "[10, 50, 60, 80, 'string']\n",
      "[10, 10, 50, 60, 80]\n"
     ]
    }
   ],
   "source": [
    "import copy\n",
    "l=[10,50,60,80]\n",
    "u=copy.deepcopy(l)\n",
    "u[1:3]=[10,50,60]\n",
    "s='string'\n",
    "l+=[s]\n",
    "print(l)\n",
    "print(u)"
   ]
  },
  {
   "cell_type": "code",
   "execution_count": 6,
   "metadata": {},
   "outputs": [
    {
     "name": "stdout",
     "output_type": "stream",
     "text": [
      "[115, 'pys', {'A': 14, (10,): {70, 10, 50, 60}}, (15, 625), [15.06, 80, 'a', 'b']]\n",
      "[115, 'pys', {'A': 14, (10,): {70, 10, 50, 60}}, (15, 625, 18), [15.06, 80, 'a', 'b']]\n"
     ]
    }
   ],
   "source": [
    "X=[115,\"pys\",{'A':14,(10,):{10,50}},(15,625),[15.06,80]]\n",
    "Y=X.copy()\n",
    "X[2][(10,)]|={60,70}\n",
    "Y[-1]+=['a','b']\n",
    "Y[-2]+=(18,)\n",
    "print(X)\n",
    "print(Y)"
   ]
  },
  {
   "cell_type": "code",
   "execution_count": 7,
   "metadata": {},
   "outputs": [
    {
     "name": "stdout",
     "output_type": "stream",
     "text": [
      "[115, 'pys', {'A': 14, (10,): {70, 10, 50, 60}}, (15, 625), [15.06, 80, 'a', 'b']]\n",
      "[115, 'pys', {'A': 14, (10,): {70, 10, 50, 60}}, (15, 625, 10), [15.06, 80, 'a', 'b']]\n"
     ]
    }
   ],
   "source": [
    "X=[115,\"pys\",{'A':14,(10,):{10,50}},(15,625),[15.06,80]]\n",
    "Y=X.copy()\n",
    "X[2][(10,)]|={60,70}\n",
    "Y[-1]+=['a','b']\n",
    "Y[-2]+=(10,)\n",
    "print(X)\n",
    "print(Y)"
   ]
  },
  {
   "cell_type": "code",
   "execution_count": 8,
   "metadata": {},
   "outputs": [
    {
     "ename": "SyntaxError",
     "evalue": "invalid syntax (<string>, line 0)",
     "output_type": "error",
     "traceback": [
      "Traceback \u001b[1;36m(most recent call last)\u001b[0m:\n",
      "\u001b[0m  File \u001b[0;32m~\\AppData\\Roaming\\Python\\Python310\\site-packages\\IPython\\core\\interactiveshell.py:3508\u001b[0m in \u001b[0;35mrun_code\u001b[0m\n    exec(code_obj, self.user_global_ns, self.user_ns)\u001b[0m\n",
      "\u001b[1;36m  Cell \u001b[1;32mIn[8], line 3\u001b[1;36m\n\u001b[1;33m    first_name=eval(input(\"Enter your first name:\"))\u001b[1;36m\n",
      "\u001b[1;36m  File \u001b[1;32m<string>\u001b[1;36m\u001b[0m\n\u001b[1;33m    \u001b[0m\n\u001b[1;37m    ^\u001b[0m\n\u001b[1;31mSyntaxError\u001b[0m\u001b[1;31m:\u001b[0m invalid syntax\n"
     ]
    }
   ],
   "source": [
    "# Write a Python program which accepts the user's first and\n",
    "# last name and print them in reverse order with a space between them.\n",
    "first_name=eval(input(\"Enter your first name:\"))\n",
    "last_name=eval(input(\"Enter your last name:\"))\n",
    "print(last_name,first_name)\n"
   ]
  },
  {
   "cell_type": "code",
   "execution_count": null,
   "metadata": {},
   "outputs": [
    {
     "name": "stdout",
     "output_type": "stream",
     "text": [
      "Madireddy Rohith\n"
     ]
    }
   ],
   "source": [
    "# Write a Python program which accepts the user's first and\n",
    "# last name and print them in reverse order with a space between them.\n",
    "first_name=eval(input(\"Enter your first name:\"))\n",
    "last_name=eval(input(\"Enter your last name:\"))\n",
    "name=last_name+\" \"+first_name\n",
    "print(name)"
   ]
  },
  {
   "cell_type": "code",
   "execution_count": null,
   "metadata": {},
   "outputs": [
    {
     "name": "stdout",
     "output_type": "stream",
     "text": [
      "area of circle is 50.24\n"
     ]
    }
   ],
   "source": [
    "#write a program to find the area of a circle\n",
    "r=4\n",
    "print('area of circle is',(3.14*(r**2)))"
   ]
  },
  {
   "cell_type": "code",
   "execution_count": null,
   "metadata": {},
   "outputs": [
    {
     "name": "stdout",
     "output_type": "stream",
     "text": [
      "14\n",
      "14\n"
     ]
    }
   ],
   "source": [
    "# Write a Python program that accepts an integer (n) andcomputes the value of n+nn+nnn.\n",
    "n=int(input(\"Enter a value:\"))\n",
    "print(n+(n**2)+(n**3))\n",
    "print(n+(n*n)+(n*n*n))\n"
   ]
  },
  {
   "cell_type": "code",
   "execution_count": null,
   "metadata": {},
   "outputs": [
    {
     "name": "stdout",
     "output_type": "stream",
     "text": [
      "Hello WorldHello WorldHello WorldHello WorldHello WorldHello WorldHello WorldHello WorldHello WorldHello WorldHello WorldHello WorldHello WorldHello WorldHello WorldHello WorldHello WorldHello WorldHello WorldHello WorldHello WorldHello WorldHello WorldHello WorldHello WorldHello WorldHello WorldHello WorldHello WorldHello World\n",
      "Hello World\n",
      "Hello World\n",
      "Hello World\n",
      "Hello World\n",
      "Hello World\n",
      "Hello World\n",
      "Hello World\n",
      "Hello World\n",
      "Hello World\n",
      "Hello World\n",
      "Hello World\n",
      "Hello World\n",
      "Hello World\n",
      "Hello World\n",
      "Hello World\n",
      "Hello World\n",
      "Hello World\n",
      "Hello World\n",
      "Hello World\n",
      "Hello World\n",
      "Hello World\n",
      "Hello World\n",
      "Hello World\n",
      "Hello World\n",
      "Hello World\n",
      "Hello World\n",
      "Hello World\n",
      "Hello World\n",
      "Hello World\n",
      "Hello World\n",
      "\n"
     ]
    }
   ],
   "source": [
    "#Write a program in Python to print “Hello World” 30 times on the screen.\n",
    "n=\"Hello World\"\n",
    "print(n*30)\n",
    "print((n+'\\n')*30)"
   ]
  },
  {
   "cell_type": "code",
   "execution_count": null,
   "metadata": {},
   "outputs": [
    {
     "name": "stdout",
     "output_type": "stream",
     "text": [
      "11\n"
     ]
    }
   ],
   "source": [
    "print((a:=10)+(b:=1))"
   ]
  },
  {
   "cell_type": "code",
   "execution_count": null,
   "metadata": {},
   "outputs": [
    {
     "name": "stdout",
     "output_type": "stream",
     "text": [
      "A B C D E F G H I J K L M N O P Q R S T U V W X Y Z "
     ]
    }
   ],
   "source": [
    "a=65\n",
    "b=90\n",
    "while a<=b:\n",
    "    print(chr(a),end=' ')\n",
    "    a+=1"
   ]
  },
  {
   "cell_type": "code",
   "execution_count": null,
   "metadata": {},
   "outputs": [
    {
     "name": "stdout",
     "output_type": "stream",
     "text": [
      "A B C D E F G H I J K L M N O P Q R S T U V W X Y Z "
     ]
    }
   ],
   "source": [
    "a=\"A\"\n",
    "b=\"Z\"\n",
    "while a<=b:\n",
    "    print(a,end=\" \")\n",
    "    a=chr(ord(a)+1)"
   ]
  },
  {
   "cell_type": "code",
   "execution_count": null,
   "metadata": {},
   "outputs": [
    {
     "name": "stdout",
     "output_type": "stream",
     "text": [
      "5050\n"
     ]
    }
   ],
   "source": [
    "n=100\n",
    "m=1\n",
    "sum=0\n",
    "while m<=n:\n",
    "    sum+=m\n",
    "    m+=1\n",
    "print(sum)\n",
    "    \n",
    "        "
   ]
  },
  {
   "cell_type": "code",
   "execution_count": null,
   "metadata": {},
   "outputs": [
    {
     "name": "stdout",
     "output_type": "stream",
     "text": [
      "15 14 13 12 11 10 9 8 7 6 5 4 3 2 1 "
     ]
    }
   ],
   "source": [
    "n=15\n",
    "while n:\n",
    "    print(n,end=\" \")\n",
    "    n-=1"
   ]
  },
  {
   "cell_type": "code",
   "execution_count": null,
   "metadata": {},
   "outputs": [
    {
     "name": "stdout",
     "output_type": "stream",
     "text": [
      "2\n",
      "3\n",
      "5\n",
      "7\n",
      "11\n",
      "13\n",
      "17\n",
      "19\n",
      "23\n",
      "29\n",
      "31\n",
      "37\n",
      "41\n",
      "43\n",
      "47\n",
      "53\n",
      "59\n",
      "61\n",
      "67\n",
      "71\n",
      "73\n",
      "79\n",
      "83\n",
      "89\n",
      "97\n"
     ]
    }
   ],
   "source": [
    "n=100\n",
    "s=1\n",
    "while s<=n:\n",
    "    m=1\n",
    "    count=0\n",
    "    while m<=s:\n",
    "        if s%m==0:\n",
    "            count+=1\n",
    "        m+=1\n",
    "    if count==2:\n",
    "        print(s)\n",
    "    s+=1"
   ]
  },
  {
   "cell_type": "code",
   "execution_count": null,
   "metadata": {},
   "outputs": [
    {
     "name": "stdout",
     "output_type": "stream",
     "text": [
      "8\n"
     ]
    }
   ],
   "source": [
    "n=62845\n",
    "lar=0\n",
    "while n:\n",
    "    ld=n%10\n",
    "    if lar<ld:\n",
    "        lar=ld\n",
    "    n=n//10\n",
    "print(lar)"
   ]
  },
  {
   "cell_type": "code",
   "execution_count": null,
   "metadata": {},
   "outputs": [
    {
     "name": "stdout",
     "output_type": "stream",
     "text": [
      "2\n"
     ]
    }
   ],
   "source": [
    "n=62845\n",
    "i=9\n",
    "while n:\n",
    "    m=n%10\n",
    "    if i>m:\n",
    "        i=m\n",
    "    n=n//10\n",
    "print(i)"
   ]
  },
  {
   "cell_type": "code",
   "execution_count": null,
   "metadata": {},
   "outputs": [
    {
     "name": "stdout",
     "output_type": "stream",
     "text": [
      "8\n"
     ]
    }
   ],
   "source": [
    "n=62895\n",
    "lar=0\n",
    "while n:\n",
    "    ld=n%10\n",
    "    if lar<ld and ld%2==0:\n",
    "        lar=ld\n",
    "    n=n//10\n",
    "print(lar)"
   ]
  },
  {
   "cell_type": "code",
   "execution_count": null,
   "metadata": {},
   "outputs": [
    {
     "name": "stdout",
     "output_type": "stream",
     "text": [
      "15\n"
     ]
    }
   ],
   "source": [
    "n=12345\n",
    "i=0\n",
    "while n:\n",
    "    m=n%10\n",
    "    i+=m\n",
    "    n=n//10\n",
    "print(i)"
   ]
  },
  {
   "cell_type": "code",
   "execution_count": null,
   "metadata": {},
   "outputs": [
    {
     "name": "stdout",
     "output_type": "stream",
     "text": [
      "120\n"
     ]
    }
   ],
   "source": [
    "n=12345\n",
    "i=1\n",
    "while n:\n",
    "    m=n%10\n",
    "    i*=m\n",
    "    n=n//10\n",
    "print(i)"
   ]
  },
  {
   "cell_type": "code",
   "execution_count": null,
   "metadata": {},
   "outputs": [
    {
     "name": "stdout",
     "output_type": "stream",
     "text": [
      "-5\n"
     ]
    }
   ],
   "source": [
    "n=12345\n",
    "i=n%10\n",
    "n=n//10\n",
    "while n:\n",
    "    ld=n%10\n",
    "    i-=ld\n",
    "    n=n//10\n",
    "print(i)"
   ]
  },
  {
   "cell_type": "code",
   "execution_count": null,
   "metadata": {},
   "outputs": [
    {
     "name": "stdout",
     "output_type": "stream",
     "text": [
      "-13\n"
     ]
    }
   ],
   "source": [
    "n=12345\n",
    "temp=str(n)\n",
    "res=int(temp[0])\n",
    "i=1\n",
    "while i<len(temp):\n",
    "    res-=int(temp[i])\n",
    "    i+=1\n",
    "print(res)"
   ]
  },
  {
   "cell_type": "code",
   "execution_count": null,
   "metadata": {},
   "outputs": [
    {
     "name": "stdout",
     "output_type": "stream",
     "text": [
      "-13\n"
     ]
    }
   ],
   "source": [
    "n=12345\n",
    "t=int(str(n)[::-1])\n",
    "res=t%10\n",
    "t=t//10\n",
    "while t:\n",
    "    id=t%10\n",
    "    res-=id\n",
    "    t=t//10\n",
    "print(res)"
   ]
  },
  {
   "cell_type": "code",
   "execution_count": null,
   "metadata": {},
   "outputs": [
    {
     "name": "stdout",
     "output_type": "stream",
     "text": [
      "2\n",
      "4\n",
      "4\n",
      "2\n"
     ]
    }
   ],
   "source": [
    "n=1234554321\n",
    "while n:\n",
    "    m=n%10\n",
    "    if m%2==0:\n",
    "        print(m)\n",
    "    n=n//10"
   ]
  },
  {
   "cell_type": "code",
   "execution_count": null,
   "metadata": {},
   "outputs": [
    {
     "name": "stdout",
     "output_type": "stream",
     "text": [
      "3\n",
      "You entered 4 Words.\n"
     ]
    }
   ],
   "source": [
    "n=\" Hello  World hai\"\n",
    "start=0\n",
    "count=0\n",
    "while start<len(n):\n",
    "    if n[start]==\" \":\n",
    "        count+=1\n",
    "    start+=1\n",
    "print(count)\n",
    "if count>0:\n",
    "    print(\"You entered\",count+1,\"Words.\")"
   ]
  },
  {
   "cell_type": "code",
   "execution_count": null,
   "metadata": {},
   "outputs": [
    {
     "name": "stdout",
     "output_type": "stream",
     "text": [
      "25\n",
      "26\n",
      "27\n",
      "28\n",
      "29\n",
      "30\n",
      "31\n",
      "32\n",
      "33\n",
      "34\n",
      "35\n"
     ]
    }
   ],
   "source": [
    "#Wap to print the sequence of values from m to n.\n",
    "m=25\n",
    "n=35\n",
    "if m>n:\n",
    "    m,n=n,m\n",
    "\n",
    "while m<=n:\n",
    "    print(m)\n",
    "    m+=1"
   ]
  },
  {
   "cell_type": "code",
   "execution_count": null,
   "metadata": {},
   "outputs": [
    {
     "name": "stdout",
     "output_type": "stream",
     "text": [
      "S*a*n*d*e*e*p*"
     ]
    }
   ],
   "source": [
    "s=\"Sandeep\"\n",
    "for i in s:\n",
    "    print(i,end=\"*\")"
   ]
  },
  {
   "cell_type": "code",
   "execution_count": null,
   "metadata": {},
   "outputs": [
    {
     "name": "stdout",
     "output_type": "stream",
     "text": [
      "s*a*n*d*e*e*p*"
     ]
    }
   ],
   "source": [
    "s=\"sandeep\"\n",
    "start=0\n",
    "while start<len(s):\n",
    "    print(s[start],end=\"*\")\n",
    "    start+=1"
   ]
  },
  {
   "cell_type": "code",
   "execution_count": null,
   "metadata": {},
   "outputs": [
    {
     "name": "stdout",
     "output_type": "stream",
     "text": [
      "end\n"
     ]
    }
   ],
   "source": [
    "n=\"\"\n",
    "start=0\n",
    "while start<len(n):\n",
    "    print(n[start])\n",
    "    start+=1\n",
    "else:\n",
    "    print(\"end\")"
   ]
  },
  {
   "cell_type": "code",
   "execution_count": null,
   "metadata": {},
   "outputs": [
    {
     "name": "stdout",
     "output_type": "stream",
     "text": [
      "ROHITH\n"
     ]
    }
   ],
   "source": [
    "st=eval(input())\n",
    "res=\"\"\n",
    "for i in st:\n",
    "    if \"a\"<=i<=\"z\":\n",
    "        res+=chr(ord(i)-32)\n",
    "    else:\n",
    "        res+=i\n",
    "print(res)"
   ]
  },
  {
   "cell_type": "code",
   "execution_count": null,
   "metadata": {},
   "outputs": [
    {
     "name": "stdout",
     "output_type": "stream",
     "text": [
      "\"Helo\n"
     ]
    }
   ],
   "source": [
    "st=(input(\"Enter the string:\"))\n",
    "res=\"\"\n",
    "for i in st:\n",
    "    if i not in res:\n",
    "        res+=i \n",
    "print(res)"
   ]
  },
  {
   "cell_type": "code",
   "execution_count": null,
   "metadata": {},
   "outputs": [
    {
     "name": "stdout",
     "output_type": "stream",
     "text": [
      "2\n"
     ]
    }
   ],
   "source": [
    "st=(input(\"Enter the string:\"))\n",
    "count=0\n",
    "for i in st:\n",
    "    if \"A\"<=i<=\"Z\":\n",
    "        count+=1\n",
    "print(count)"
   ]
  },
  {
   "cell_type": "code",
   "execution_count": null,
   "metadata": {},
   "outputs": [
    {
     "name": "stdout",
     "output_type": "stream",
     "text": [
      "hlo\n"
     ]
    }
   ],
   "source": [
    "st=input(\"enter the string:\")\n",
    "res=\"\"\n",
    "for i in range(0,len(st)):\n",
    "    if i%2==0:\n",
    "        res+=st[i]\n",
    "print(res)"
   ]
  },
  {
   "cell_type": "code",
   "execution_count": null,
   "metadata": {},
   "outputs": [
    {
     "name": "stdout",
     "output_type": "stream",
     "text": [
      "l\n",
      "o\n",
      "\n"
     ]
    }
   ],
   "source": [
    "st=input(\"enter the string:\")\n",
    "res=\"\"\n",
    "for i in range(0,len(st)):\n",
    "    if i%2==0 and \"a\"<=st[i]<=\"z\":\n",
    "        print(st[i])\n",
    "print(res)"
   ]
  },
  {
   "cell_type": "code",
   "execution_count": null,
   "metadata": {},
   "outputs": [
    {
     "name": "stdout",
     "output_type": "stream",
     "text": [
      "370 is a Armstrong number\n"
     ]
    }
   ],
   "source": [
    "num=input(\"Enter the number:\")\n",
    "pow=len(num)\n",
    "res=0\n",
    "for i in num:\n",
    "    res+=int(i)**pow\n",
    "if int(num)==res:\n",
    "    print(num ,\"is a Armstrong number\")\n",
    "else:\n",
    "    print(num ,\"is not a Armstrong number\")\n",
    "    \n"
   ]
  },
  {
   "cell_type": "code",
   "execution_count": null,
   "metadata": {},
   "outputs": [
    {
     "name": "stdout",
     "output_type": "stream",
     "text": [
      "1 1\n",
      "1 2\n",
      "2 1\n",
      "2 2\n",
      "3 1\n",
      "3 2\n",
      "4 1\n",
      "4 2\n"
     ]
    }
   ],
   "source": [
    "for i in range(1,5):\n",
    "    for j in range(1,3):\n",
    "        print(i,j)"
   ]
  },
  {
   "cell_type": "code",
   "execution_count": null,
   "metadata": {},
   "outputs": [
    {
     "name": "stdout",
     "output_type": "stream",
     "text": [
      "{'We': 2, 'are': 3, 'the': 3, 'Best': 4}\n"
     ]
    }
   ],
   "source": [
    "st=\"We are the Best\"\n",
    "n=\"\"\n",
    "res={}\n",
    "for i in st:\n",
    "    if i!=\" \":\n",
    "        n+=i\n",
    "    elif len(n)!=0:\n",
    "        res[n]=len(n)\n",
    "        n=\"\"\n",
    "if len(n)!=0:\n",
    "    res[n]=len(n)\n",
    "print(res)"
   ]
  },
  {
   "cell_type": "code",
   "execution_count": null,
   "metadata": {},
   "outputs": [
    {
     "name": "stdout",
     "output_type": "stream",
     "text": [
      "[12, 125, 125, 25, 25, 5]\n"
     ]
    }
   ],
   "source": [
    "def sum_of_agustic_values(S):\n",
    "    n = len(S)\n",
    "    result =[]\n",
    "    for i in range(1, n+1):\n",
    "        for j in range(i, n+1):\n",
    "            result += [int(S[i-1:j+1])]\n",
    "    return result\n",
    "\n",
    "# Example usage\n",
    "input_string = \"125\"\n",
    "output = sum_of_agustic_values(input_string)\n",
    "print(output)\n"
   ]
  },
  {
   "cell_type": "code",
   "execution_count": null,
   "metadata": {},
   "outputs": [
    {
     "name": "stdout",
     "output_type": "stream",
     "text": [
      "12\n",
      "12\n",
      "138\n"
     ]
    }
   ],
   "source": [
    "st=\"111\"\n",
    "n=len(st)-1\n",
    "res=int(st)\n",
    "for i in st:\n",
    "    res+=int(i)\n",
    "for i in range(n):\n",
    "    if i==0:\n",
    "        print(int(st[i])+int(st[i+1:]))\n",
    "        res+=int(st[i])+int(st[i+1:])\n",
    "    else:\n",
    "        print(int(st[0:i+1])+int(st[i+1:]))\n",
    "        res+=int(st[0:i+1])+int(st[i+1:])\n",
    "print(res)\n",
    "\n",
    "\n",
    "    \n",
    "    "
   ]
  },
  {
   "cell_type": "code",
   "execution_count": null,
   "metadata": {},
   "outputs": [
    {
     "ename": "TypeError",
     "evalue": "'int' object is not iterable",
     "output_type": "error",
     "traceback": [
      "\u001b[1;31m---------------------------------------------------------------------------\u001b[0m",
      "\u001b[1;31mTypeError\u001b[0m                                 Traceback (most recent call last)",
      "\u001b[1;32mc:\\Users\\saipr\\OneDrive\\Documents\\rohith\\python_programs\\Basic_Python\\Pratice.ipynb Cell 44\u001b[0m line \u001b[0;36m1\n\u001b[0;32m     <a href='vscode-notebook-cell:/c%3A/Users/saipr/OneDrive/Documents/rohith/python_programs/Basic_Python/Pratice.ipynb#X62sZmlsZQ%3D%3D?line=11'>12</a>\u001b[0m \u001b[39m# Example usage:\u001b[39;00m\n\u001b[0;32m     <a href='vscode-notebook-cell:/c%3A/Users/saipr/OneDrive/Documents/rohith/python_programs/Basic_Python/Pratice.ipynb#X62sZmlsZQ%3D%3D?line=12'>13</a>\u001b[0m input_str \u001b[39m=\u001b[39m \u001b[39m\"\u001b[39m\u001b[39m125\u001b[39m\u001b[39m\"\u001b[39m\n\u001b[1;32m---> <a href='vscode-notebook-cell:/c%3A/Users/saipr/OneDrive/Documents/rohith/python_programs/Basic_Python/Pratice.ipynb#X62sZmlsZQ%3D%3D?line=13'>14</a>\u001b[0m output_str \u001b[39m=\u001b[39m find_sum_of_agustic_values(input_str)\n\u001b[0;32m     <a href='vscode-notebook-cell:/c%3A/Users/saipr/OneDrive/Documents/rohith/python_programs/Basic_Python/Pratice.ipynb#X62sZmlsZQ%3D%3D?line=14'>15</a>\u001b[0m \u001b[39mprint\u001b[39m(output_str)\n",
      "\u001b[1;32mc:\\Users\\saipr\\OneDrive\\Documents\\rohith\\python_programs\\Basic_Python\\Pratice.ipynb Cell 44\u001b[0m line \u001b[0;36m1\n\u001b[0;32m      <a href='vscode-notebook-cell:/c%3A/Users/saipr/OneDrive/Documents/rohith/python_programs/Basic_Python/Pratice.ipynb#X62sZmlsZQ%3D%3D?line=8'>9</a>\u001b[0m \u001b[39mdef\u001b[39;00m \u001b[39mfind_sum_of_agustic_values\u001b[39m(S):\n\u001b[1;32m---> <a href='vscode-notebook-cell:/c%3A/Users/saipr/OneDrive/Documents/rohith/python_programs/Basic_Python/Pratice.ipynb#X62sZmlsZQ%3D%3D?line=9'>10</a>\u001b[0m     \u001b[39mreturn\u001b[39;00m \u001b[39mstr\u001b[39m(calculate_agustic_values(S))\n",
      "\u001b[1;32mc:\\Users\\saipr\\OneDrive\\Documents\\rohith\\python_programs\\Basic_Python\\Pratice.ipynb Cell 44\u001b[0m line \u001b[0;36m6\n\u001b[0;32m      <a href='vscode-notebook-cell:/c%3A/Users/saipr/OneDrive/Documents/rohith/python_programs/Basic_Python/Pratice.ipynb#X62sZmlsZQ%3D%3D?line=3'>4</a>\u001b[0m res \u001b[39m=\u001b[39m \u001b[39mint\u001b[39m(S)\n\u001b[0;32m      <a href='vscode-notebook-cell:/c%3A/Users/saipr/OneDrive/Documents/rohith/python_programs/Basic_Python/Pratice.ipynb#X62sZmlsZQ%3D%3D?line=4'>5</a>\u001b[0m \u001b[39mfor\u001b[39;00m i \u001b[39min\u001b[39;00m \u001b[39mrange\u001b[39m(\u001b[39m1\u001b[39m, \u001b[39mlen\u001b[39m(S)):\n\u001b[1;32m----> <a href='vscode-notebook-cell:/c%3A/Users/saipr/OneDrive/Documents/rohith/python_programs/Basic_Python/Pratice.ipynb#X62sZmlsZQ%3D%3D?line=5'>6</a>\u001b[0m     res \u001b[39m+\u001b[39m\u001b[39m=\u001b[39m \u001b[39msum\u001b[39m([\u001b[39mint\u001b[39m(x) \u001b[39mfor\u001b[39;00m x \u001b[39min\u001b[39;00m calculate_agustic_values(S[:i])]) \u001b[39m*\u001b[39m \u001b[39mint\u001b[39m(S[i:])\n\u001b[0;32m      <a href='vscode-notebook-cell:/c%3A/Users/saipr/OneDrive/Documents/rohith/python_programs/Basic_Python/Pratice.ipynb#X62sZmlsZQ%3D%3D?line=6'>7</a>\u001b[0m \u001b[39mreturn\u001b[39;00m res\n",
      "\u001b[1;31mTypeError\u001b[0m: 'int' object is not iterable"
     ]
    }
   ],
   "source": [
    "def calculate_agustic_values(S):\n",
    "    if not S:\n",
    "        return 0\n",
    "    res = int(S)\n",
    "    for i in range(1, len(S)):\n",
    "        res += sum([int(x) for x in calculate_agustic_values(S[:i])]) * int(S[i:])\n",
    "    return res\n",
    "\n",
    "def find_sum_of_agustic_values(S):\n",
    "    return str(calculate_agustic_values(S))\n",
    "\n",
    "# Example usage:\n",
    "input_str = \"125\"\n",
    "output_str = find_sum_of_agustic_values(input_str)\n",
    "print(output_str)"
   ]
  },
  {
   "cell_type": "code",
   "execution_count": null,
   "metadata": {},
   "outputs": [
    {
     "name": "stdout",
     "output_type": "stream",
     "text": [
      "181\n"
     ]
    }
   ],
   "source": [
    "def calculate_agustic_values(string):\n",
    "    def helper(s, curr_sum, prev, result):\n",
    "        if not s:\n",
    "            result[0] += curr_sum\n",
    "            return\n",
    "        for i in range(1, len(s) + 1):\n",
    "            if s[:i] != '0':\n",
    "                helper(s[i:], curr_sum + int(s[:i]), int(s[:i]), result)\n",
    "                if prev:\n",
    "                    helper(s[i:], curr_sum + int(s[:i]) * prev, int(s[:i]) * prev, result)\n",
    "\n",
    "    result = [0]\n",
    "    helper(string, 0, 0, result)\n",
    "    return str(result[0])\n",
    "\n",
    "# Example usage\n",
    "input_string = \"111\"\n",
    "output = calculate_agustic_values(input_string)\n",
    "print(output)"
   ]
  },
  {
   "cell_type": "code",
   "execution_count": null,
   "metadata": {},
   "outputs": [
    {
     "name": "stdout",
     "output_type": "stream",
     "text": [
      "Prudhvi\n"
     ]
    }
   ],
   "source": [
    "n=\"Prudhvi\"\n",
    "name=input(\"Enter the proper user name: \")\n",
    "while n:\n",
    "    if name==n:\n",
    "        print(name)\n",
    "        break;\n",
    "    else:\n",
    "        name=input(\"Enter the correct User name:\")\n"
   ]
  },
  {
   "cell_type": "code",
   "execution_count": null,
   "metadata": {},
   "outputs": [
    {
     "name": "stdout",
     "output_type": "stream",
     "text": [
      "Number is lesser than user number\n",
      "Number is greater than user number\n",
      "The number is equal to user number \n"
     ]
    }
   ],
   "source": [
    "num=21\n",
    "while True:\n",
    "    user=int(input(\"Enter the number:\"))\n",
    "    if num==user:\n",
    "        print(\"The number is equal to user number \")\n",
    "        break\n",
    "    elif num>user:\n",
    "        print(\"Number is greater than user number\")\n",
    "    elif num<user:\n",
    "        print(\"Number is lesser than user number\")"
   ]
  },
  {
   "cell_type": "code",
   "execution_count": null,
   "metadata": {},
   "outputs": [
    {
     "name": "stdout",
     "output_type": "stream",
     "text": [
      "2 is a prime number\n"
     ]
    }
   ],
   "source": [
    "num=int(input(\"Enter the number\"))\n",
    "start=1\n",
    "count=0\n",
    "while start<=num:\n",
    "    if num%start==0:\n",
    "        count+=1\n",
    "        start+=1\n",
    "if count==2:\n",
    "    print(num, \"is a prime number\")\n",
    "else:\n",
    "    print(num,\" is not a prime number\")"
   ]
  },
  {
   "cell_type": "code",
   "execution_count": null,
   "metadata": {},
   "outputs": [],
   "source": [
    "num=int(input(\"Enter the number\"))\n",
    "for i in range(2,num):\n",
    "    if num%i==0:\n",
    "        print(\"not a prime number\")\n",
    "        break\n",
    "    else:\n",
    "        print(\"prime number\")"
   ]
  },
  {
   "cell_type": "code",
   "execution_count": null,
   "metadata": {},
   "outputs": [
    {
     "name": "stdout",
     "output_type": "stream",
     "text": [
      "Given string having lowercase alphabet\n"
     ]
    }
   ],
   "source": [
    "st=input(\"Enter the string\")\n",
    "for i in st:\n",
    "    if \"a\"<=i<=\"z\":\n",
    "        print(\"Given string having lowercase alphabet\")\n",
    "        break"
   ]
  },
  {
   "cell_type": "code",
   "execution_count": null,
   "metadata": {},
   "outputs": [
    {
     "name": "stdout",
     "output_type": "stream",
     "text": [
      "Given list having integer\n"
     ]
    }
   ],
   "source": [
    "l=eval(input())\n",
    "for i in l:\n",
    "    if type(i)==int:\n",
    "        print(\"Given list having integer\")\n",
    "        break"
   ]
  },
  {
   "cell_type": "code",
   "execution_count": null,
   "metadata": {},
   "outputs": [
    {
     "name": "stdout",
     "output_type": "stream",
     "text": [
      "Given tuple is heterogeneous\n"
     ]
    }
   ],
   "source": [
    "l=eval(input())\n",
    "for i in range(1,len(l)):\n",
    "    if type(l[i])!=type(l[0]):\n",
    "        print(\"Given tuple is heterogeneous\")\n",
    "        break\n",
    "    else:\n",
    "        print(\"Given tuple is Homogeneous\")"
   ]
  },
  {
   "cell_type": "markdown",
   "metadata": {},
   "source": [
    "17-10-23"
   ]
  },
  {
   "cell_type": "code",
   "execution_count": null,
   "metadata": {},
   "outputs": [
    {
     "name": "stdout",
     "output_type": "stream",
     "text": [
      "1\n",
      "2\n",
      "3\n",
      "4\n",
      "5\n",
      "7\n",
      "8\n",
      "9\n",
      "10\n"
     ]
    }
   ],
   "source": [
    "for i in range(1,11):\n",
    "    if i==6:\n",
    "        continue\n",
    "    print(i)"
   ]
  },
  {
   "cell_type": "code",
   "execution_count": null,
   "metadata": {},
   "outputs": [
    {
     "name": "stdout",
     "output_type": "stream",
     "text": [
      "2\n",
      "4\n",
      "6\n",
      "8\n",
      "10\n",
      "12\n",
      "14\n",
      "16\n",
      "18\n",
      "20\n",
      "22\n",
      "24\n",
      "26\n",
      "28\n",
      "30\n",
      "32\n",
      "34\n",
      "36\n",
      "38\n",
      "40\n",
      "42\n",
      "44\n",
      "46\n",
      "48\n",
      "50\n",
      "52\n",
      "54\n",
      "56\n",
      "58\n",
      "60\n",
      "62\n",
      "64\n",
      "66\n",
      "68\n",
      "70\n",
      "72\n",
      "74\n",
      "76\n",
      "78\n",
      "80\n",
      "82\n",
      "84\n",
      "86\n",
      "88\n",
      "90\n",
      "92\n",
      "94\n",
      "96\n",
      "98\n",
      "100\n"
     ]
    }
   ],
   "source": [
    "#Wap tp print all the even numbers b/w range of 1 to 100 using continue.\n",
    "for i in range(1,101):\n",
    "    if i%2!=0:\n",
    "        continue\n",
    "    print(i)"
   ]
  },
  {
   "cell_type": "code",
   "execution_count": null,
   "metadata": {},
   "outputs": [
    {
     "name": "stdout",
     "output_type": "stream",
     "text": [
      "A\n",
      "U\n"
     ]
    }
   ],
   "source": [
    "#Wap to extract all the uppercase vowels for the given string.\n",
    "st=input(\"Enter the string: \")\n",
    "for i in st:\n",
    "    if i not in \"AEIOU\":\n",
    "        continue\n",
    "    print(i)"
   ]
  },
  {
   "cell_type": "code",
   "execution_count": null,
   "metadata": {},
   "outputs": [
    {
     "name": "stdout",
     "output_type": "stream",
     "text": [
      "(20+5j)\n",
      "(10+2j)\n",
      "(5-6j)\n"
     ]
    }
   ],
   "source": [
    "#Wap to extract all the complex no for the given set collection.\n",
    "#s={10+2j,10,20,20+5j,\"Hello\",2.5,True,5-6j}\n",
    "s=eval(input())\n",
    "for i in s:\n",
    "    if type(i)!=complex:\n",
    "        continue\n",
    "    print(i)"
   ]
  },
  {
   "cell_type": "code",
   "execution_count": null,
   "metadata": {},
   "outputs": [
    {
     "name": "stdout",
     "output_type": "stream",
     "text": [
      "True\n",
      "1\n",
      "2\n",
      "3\n",
      "4\n",
      "5\n",
      "6\n",
      "7\n",
      "8\n",
      "9\n",
      "11\n",
      "22\n",
      "33\n",
      "44\n",
      "55\n",
      "66\n",
      "77\n",
      "88\n",
      "99\n"
     ]
    }
   ],
   "source": [
    "#Wap to print palindrome no b/w the range 1 to 100.\n",
    "n=int(input())\n",
    "for i in range(1,n):\n",
    "    if i!=int(str(i)[::-1]):\n",
    "        continue\n",
    "    print(i)"
   ]
  },
  {
   "cell_type": "markdown",
   "metadata": {},
   "source": [
    "18-10-23"
   ]
  },
  {
   "cell_type": "code",
   "execution_count": null,
   "metadata": {},
   "outputs": [
    {
     "name": "stdout",
     "output_type": "stream",
     "text": [
      "not a Lowercase Charcter\n",
      "Lowercase Charcter\n"
     ]
    }
   ],
   "source": [
    "#Wap to check wheather the given character is lowercas aor not using function.\n",
    "def Lower(Chr):\n",
    "    if \"a\"<=Chr<=\"z\":\n",
    "        print(\"Lowercase Charcter\")\n",
    "    else:\n",
    "        print(\"not a Lowercase Charcter\")\n",
    "Lower(\"A\")\n",
    "Lower(\"a\")"
   ]
  },
  {
   "cell_type": "code",
   "execution_count": null,
   "metadata": {},
   "outputs": [
    {
     "name": "stdout",
     "output_type": "stream",
     "text": [
      "Given number is not present in the collection\n"
     ]
    }
   ],
   "source": [
    "#Wap to check if the given number is present inside a collection or not.\n",
    "def num(n):\n",
    "    l=[1,2,3,6,7,8]\n",
    "    if n in l:\n",
    "        print(\"Given number is present in the collection\")\n",
    "    else:\n",
    "        print(\"Given number is not present in the collection\") \n",
    "num(5)   "
   ]
  },
  {
   "cell_type": "code",
   "execution_count": null,
   "metadata": {},
   "outputs": [
    {
     "name": "stdout",
     "output_type": "stream",
     "text": [
      "Given string is not a numeric String\n"
     ]
    }
   ],
   "source": [
    "#Wap to check given string is numeric or not.\n",
    "def numeric(st):\n",
    "    for i in st:\n",
    "        if not \"0\"<=i<=\"9\":\n",
    "            print(\"Given string is not a numeric String\")\n",
    "            break\n",
    "    else:\n",
    "        print(\"Given String is a numeric string\")\n",
    "numeric(\"12A\")"
   ]
  },
  {
   "cell_type": "markdown",
   "metadata": {},
   "source": [
    "19-10-23"
   ]
  },
  {
   "cell_type": "code",
   "execution_count": 14,
   "metadata": {},
   "outputs": [
    {
     "name": "stdout",
     "output_type": "stream",
     "text": [
      "not a prime\n"
     ]
    }
   ],
   "source": [
    "def prime(num):\n",
    "    for i in range(2,num):\n",
    "        if i%2!=0:\n",
    "            print(\"not a prime\")\n",
    "            break\n",
    "    else:\n",
    "        print(\"Prime\")\n",
    "prime(4)   "
   ]
  },
  {
   "cell_type": "code",
   "execution_count": 15,
   "metadata": {},
   "outputs": [
    {
     "data": {
      "text/plain": [
       "('Add:', 15, ' Sub:', -5, ' mult:', 50, ' div:', 0)"
      ]
     },
     "execution_count": 15,
     "metadata": {},
     "output_type": "execute_result"
    }
   ],
   "source": [
    "def num():\n",
    "    n=int(input())\n",
    "    m=int(input())\n",
    "    return \"Add:\",n+m,\" Sub:\",n-m,\" mult:\",n*m,\" div:\",n//m\n",
    "num()"
   ]
  },
  {
   "cell_type": "code",
   "execution_count": 16,
   "metadata": {},
   "outputs": [
    {
     "data": {
      "text/plain": [
       "'htihoR'"
      ]
     },
     "execution_count": 16,
     "metadata": {},
     "output_type": "execute_result"
    }
   ],
   "source": [
    "def String():\n",
    "    st=input()\n",
    "    return st[::-1]\n",
    "String()"
   ]
  },
  {
   "cell_type": "code",
   "execution_count": 18,
   "metadata": {},
   "outputs": [
    {
     "name": "stdout",
     "output_type": "stream",
     "text": [
      "2\n",
      "4\n"
     ]
    }
   ],
   "source": [
    "def List():\n",
    "    l=eval(input())\n",
    "    for i in l:\n",
    "        if type(i)==int and i%2==0:\n",
    "            print(i)\n",
    "List()\n",
    "            "
   ]
  },
  {
   "cell_type": "code",
   "execution_count": 20,
   "metadata": {},
   "outputs": [
    {
     "data": {
      "text/plain": [
       "'ROHITH'"
      ]
     },
     "execution_count": 20,
     "metadata": {},
     "output_type": "execute_result"
    }
   ],
   "source": [
    "def String():\n",
    "    st=(input())\n",
    "    res=\"\"\n",
    "    for i in st:\n",
    "        if \"a\"<=i<=\"z\":\n",
    "            res+=chr(ord(i)-32)\n",
    "        else:\n",
    "            res+=i\n",
    "    return res\n",
    "String()"
   ]
  },
  {
   "cell_type": "code",
   "execution_count": 5,
   "metadata": {},
   "outputs": [
    {
     "name": "stdout",
     "output_type": "stream",
     "text": [
      "palidrome\n"
     ]
    }
   ],
   "source": [
    "st=input()\n",
    "res=\"\"\n",
    "for i in st:\n",
    "    res=i+res\n",
    "if int(st)==int(res):\n",
    "    print('palidrome')"
   ]
  },
  {
   "cell_type": "code",
   "execution_count": 7,
   "metadata": {},
   "outputs": [
    {
     "name": "stdout",
     "output_type": "stream",
     "text": [
      "1\n"
     ]
    }
   ],
   "source": [
    "num=int(input())\n",
    "if num>=21:\n",
    "    print(num)\n",
    "else:\n",
    "    print(21-num)"
   ]
  },
  {
   "cell_type": "markdown",
   "metadata": {},
   "source": [
    "21-10-23"
   ]
  },
  {
   "cell_type": "code",
   "execution_count": 12,
   "metadata": {},
   "outputs": [
    {
     "name": "stdout",
     "output_type": "stream",
     "text": [
      "12Python15000\n",
      "Id=12\n",
      "Name=Python\n",
      "Sal=15000\n",
      "Id=12\tName=Python\tSal=15000\n",
      "Id=Python\tName=12\tSal=15000\n",
      "Id=12,Name=Python,Sal=15000\n"
     ]
    }
   ],
   "source": [
    "id=12\n",
    "name=\"Python\"\n",
    "sal=15000\n",
    "str='{}{}{}'.format(id,name,sal)\n",
    "print(str)\n",
    "str1=\"Id={}\\nName={}\\nSal={}\".format(id,name,sal)\n",
    "print(str1)\n",
    "str2=\"Id={}\\tName={}\\tSal={}\".format(id,name,sal)\n",
    "print(str2)\n",
    "str3=\"Id={1}\\tName={0}\\tSal={2}\".format(id,name,sal)\n",
    "print(str3)\n",
    "str4=\"Id={one},Name={two},Sal={three}\".format(one=id,two=name,three=sal)\n",
    "print(str4)"
   ]
  },
  {
   "cell_type": "code",
   "execution_count": 50,
   "metadata": {},
   "outputs": [
    {
     "name": "stdout",
     "output_type": "stream",
     "text": [
      "['f', 'l', 'a', 'm', 's']\n",
      "1\n",
      "['f', 'l', 'a', 's']\n",
      "1\n",
      "['f', 'l', 'a']\n",
      "0\n",
      "['f', 'a']\n",
      "1\n",
      "['f']\n",
      "0\n",
      "f\n"
     ]
    }
   ],
   "source": [
    "n=\"saiprudhvi\"\n",
    "m=\"shivani\"\n",
    "o=[\"f\",\"l\",\"a\",\"m\",\"e\",\"s\"]\n",
    "for i in n:\n",
    "    if i in m:\n",
    "        n=n.replace(i,\"\",1)\n",
    "        m=m.replace(i,\"\",1)\n",
    "l=len(n)+len(m)\n",
    "y=0\n",
    "while len(o)>1:\n",
    "    if y!=0:\n",
    "        index=(l-y)-1\n",
    "        while index >= len(o):\n",
    "            index-=(len(o))\n",
    "        y=len(o[index+1:])\n",
    "        o.pop(index)\n",
    "        print(o)\n",
    "        print(y)\n",
    "        \n",
    "    else: \n",
    "        index=((l%len(o)))-1\n",
    "        y=len(o[index+1:])\n",
    "        o.pop(index)\n",
    "        print(o)\n",
    "        print(y)\n",
    "print(o[0])\n",
    "\n",
    "        "
   ]
  },
  {
   "cell_type": "code",
   "execution_count": 37,
   "metadata": {},
   "outputs": [
    {
     "name": "stdout",
     "output_type": "stream",
     "text": [
      "1\n",
      "2\n"
     ]
    }
   ],
   "source": [
    "index=((8%6))-1\n",
    "print(index)\n",
    "index=((8%5))-1\n",
    "print(index)"
   ]
  }
 ],
 "metadata": {
  "kernelspec": {
   "display_name": "Python 3",
   "language": "python",
   "name": "python3"
  },
  "language_info": {
   "codemirror_mode": {
    "name": "ipython",
    "version": 3
   },
   "file_extension": ".py",
   "mimetype": "text/x-python",
   "name": "python",
   "nbconvert_exporter": "python",
   "pygments_lexer": "ipython3",
   "version": "3.10.9"
  },
  "orig_nbformat": 4
 },
 "nbformat": 4,
 "nbformat_minor": 2
}
