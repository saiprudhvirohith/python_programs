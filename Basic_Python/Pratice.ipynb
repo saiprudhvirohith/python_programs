{
 "cells": [
  {
   "cell_type": "markdown",
   "metadata": {},
   "source": [
    "String Datatype"
   ]
  },
  {
   "cell_type": "code",
   "execution_count": 52,
   "metadata": {},
   "outputs": [
    {
     "name": "stdout",
     "output_type": "stream",
     "text": [
      "HelloWorld\n",
      "2233406869744\n",
      "<class 'str'>\n"
     ]
    }
   ],
   "source": [
    "a='HelloWorld'\n",
    "print(a)\n",
    "print(id(a))\n",
    "print(type(a))"
   ]
  },
  {
   "cell_type": "code",
   "execution_count": 55,
   "metadata": {},
   "outputs": [
    {
     "name": "stdout",
     "output_type": "stream",
     "text": [
      "Hello  World\n",
      "2233428736304\n"
     ]
    }
   ],
   "source": [
    "\n",
    "a[2]\n",
    "a[-4]\n",
    "a[-7]\n",
    "a[0:]\n",
    "a[-1::-1]\n",
    "a[0::2]\n",
    "print(id(a))\n",
    "a=a[0:5]+\" \"+a[5:]\n",
    "print(a)\n",
    "print(id(a))"
   ]
  },
  {
   "cell_type": "markdown",
   "metadata": {},
   "source": [
    "List Datatype"
   ]
  },
  {
   "cell_type": "code",
   "execution_count": 57,
   "metadata": {},
   "outputs": [
    {
     "name": "stdout",
     "output_type": "stream",
     "text": [
      "[1, 2, 3, 4, 5, 6, 7]\n",
      "2233428783168\n",
      "<class 'list'>\n"
     ]
    }
   ],
   "source": [
    "b=[1,2,3,4,5,6,7]\n",
    "print(b)\n",
    "print(id(b))\n",
    "print(type(b))"
   ]
  },
  {
   "cell_type": "code",
   "execution_count": 62,
   "metadata": {},
   "outputs": [
    {
     "data": {
      "text/plain": [
       "[7, 6, 5, 4, 3, 2, 1]"
      ]
     },
     "execution_count": 62,
     "metadata": {},
     "output_type": "execute_result"
    }
   ],
   "source": [
    "b[3]\n",
    "b[-4]\n",
    "b[0:]\n",
    "b[0:-1]\n",
    "b[-1::-1]\n"
   ]
  },
  {
   "cell_type": "code",
   "execution_count": 18,
   "metadata": {},
   "outputs": [
    {
     "name": "stdout",
     "output_type": "stream",
     "text": [
      "[10, 50, 60, 80, 'string']\n",
      "[10, 10, 50, 60, 80]\n"
     ]
    }
   ],
   "source": [
    "import copy\n",
    "l=[10,50,60,80]\n",
    "u=copy.deepcopy(l)\n",
    "u[1:3]=[10,50,60]\n",
    "s='string'\n",
    "l+=[s]\n",
    "print(l)\n",
    "print(u)"
   ]
  },
  {
   "cell_type": "code",
   "execution_count": 27,
   "metadata": {},
   "outputs": [
    {
     "name": "stdout",
     "output_type": "stream",
     "text": [
      "[115, 'pys', {'A': 14, (10,): {70, 10, 50, 60}}, (15, 625), [15.06, 80, 'a', 'b']]\n",
      "[115, 'pys', {'A': 14, (10,): {70, 10, 50, 60}}, (15, 625, 18), [15.06, 80, 'a', 'b']]\n"
     ]
    }
   ],
   "source": [
    "X=[115,\"pys\",{'A':14,(10,):{10,50}},(15,625),[15.06,80]]\n",
    "Y=X.copy()\n",
    "X[2][(10,)]|={60,70}\n",
    "Y[-1]+=['a','b']\n",
    "Y[-2]+=(18,)\n",
    "print(X)\n",
    "print(Y)"
   ]
  },
  {
   "cell_type": "code",
   "execution_count": 11,
   "metadata": {},
   "outputs": [
    {
     "name": "stdout",
     "output_type": "stream",
     "text": [
      "[115, 'pys', {'A': 14, (10,): {70, 10, 50, 60}}, (15, 625), [15.06, 80, 'a', 'b']]\n",
      "[115, 'pys', {'A': 14, (10,): {70, 10, 50, 60}}, (15, 625, 10), [15.06, 80, 'a', 'b']]\n"
     ]
    }
   ],
   "source": [
    "X=[115,\"pys\",{'A':14,(10,):{10,50}},(15,625),[15.06,80]]\n",
    "Y=X.copy()\n",
    "X[2][(10,)]|={60,70}\n",
    "Y[-1]+=['a','b']\n",
    "Y[-2]+=(10,)\n",
    "print(X)\n",
    "print(Y)"
   ]
  },
  {
   "cell_type": "code",
   "execution_count": 2,
   "metadata": {},
   "outputs": [
    {
     "name": "stdout",
     "output_type": "stream",
     "text": [
      "Madireddy Rohith\n"
     ]
    }
   ],
   "source": [
    "# Write a Python program which accepts the user's first and\n",
    "# last name and print them in reverse order with a space between them.\n",
    "first_name=eval(input(\"Enter your first name:\"))\n",
    "last_name=eval(input(\"Enter your last name:\"))\n",
    "print(last_name,first_name)\n"
   ]
  },
  {
   "cell_type": "code",
   "execution_count": 3,
   "metadata": {},
   "outputs": [
    {
     "name": "stdout",
     "output_type": "stream",
     "text": [
      "Madireddy Rohith\n"
     ]
    }
   ],
   "source": [
    "# Write a Python program which accepts the user's first and\n",
    "# last name and print them in reverse order with a space between them.\n",
    "first_name=eval(input(\"Enter your first name:\"))\n",
    "last_name=eval(input(\"Enter your last name:\"))\n",
    "name=last_name+\" \"+first_name\n",
    "print(name)"
   ]
  },
  {
   "cell_type": "code",
   "execution_count": 4,
   "metadata": {},
   "outputs": [
    {
     "name": "stdout",
     "output_type": "stream",
     "text": [
      "area of circle is 50.24\n"
     ]
    }
   ],
   "source": [
    "#write a program to find the area of a circle\n",
    "r=4\n",
    "print('area of circle is',(3.14*(r**2)))"
   ]
  },
  {
   "cell_type": "code",
   "execution_count": 6,
   "metadata": {},
   "outputs": [
    {
     "name": "stdout",
     "output_type": "stream",
     "text": [
      "14\n",
      "14\n"
     ]
    }
   ],
   "source": [
    "# Write a Python program that accepts an integer (n) andcomputes the value of n+nn+nnn.\n",
    "n=int(input(\"Enter a value:\"))\n",
    "print(n+(n**2)+(n**3))\n",
    "print(n+(n*n)+(n*n*n))\n"
   ]
  },
  {
   "cell_type": "code",
   "execution_count": 14,
   "metadata": {},
   "outputs": [
    {
     "name": "stdout",
     "output_type": "stream",
     "text": [
      "Hello WorldHello WorldHello WorldHello WorldHello WorldHello WorldHello WorldHello WorldHello WorldHello WorldHello WorldHello WorldHello WorldHello WorldHello WorldHello WorldHello WorldHello WorldHello WorldHello WorldHello WorldHello WorldHello WorldHello WorldHello WorldHello WorldHello WorldHello WorldHello WorldHello World\n",
      "Hello World\n",
      "Hello World\n",
      "Hello World\n",
      "Hello World\n",
      "Hello World\n",
      "Hello World\n",
      "Hello World\n",
      "Hello World\n",
      "Hello World\n",
      "Hello World\n",
      "Hello World\n",
      "Hello World\n",
      "Hello World\n",
      "Hello World\n",
      "Hello World\n",
      "Hello World\n",
      "Hello World\n",
      "Hello World\n",
      "Hello World\n",
      "Hello World\n",
      "Hello World\n",
      "Hello World\n",
      "Hello World\n",
      "Hello World\n",
      "Hello World\n",
      "Hello World\n",
      "Hello World\n",
      "Hello World\n",
      "Hello World\n",
      "Hello World\n",
      "\n"
     ]
    }
   ],
   "source": [
    "#Write a program in Python to print “Hello World” 30 times on the screen.\n",
    "n=\"Hello World\"\n",
    "print(n*30)\n",
    "print((n+'\\n')*30)"
   ]
  },
  {
   "cell_type": "code",
   "execution_count": 21,
   "metadata": {},
   "outputs": [
    {
     "name": "stdout",
     "output_type": "stream",
     "text": [
      "2\n"
     ]
    }
   ],
   "source": [
    "print((a:=1)+(b:=1))"
   ]
  },
  {
   "cell_type": "code",
   "execution_count": 24,
   "metadata": {},
   "outputs": [
    {
     "name": "stdout",
     "output_type": "stream",
     "text": [
      "A B C D E F G H I J K L M N O P Q R S T U V W X Y Z "
     ]
    }
   ],
   "source": [
    "a=65\n",
    "b=90\n",
    "while a<=b:\n",
    "    print(chr(a),end=' ')\n",
    "    a+=1"
   ]
  },
  {
   "cell_type": "code",
   "execution_count": 26,
   "metadata": {},
   "outputs": [
    {
     "name": "stdout",
     "output_type": "stream",
     "text": [
      "A B C D E F G H I J K L M N O P Q R S T U V W X Y Z "
     ]
    }
   ],
   "source": [
    "a=\"A\"\n",
    "b=\"Z\"\n",
    "while a<=b:\n",
    "    print(a,end=\" \")\n",
    "    a=chr(ord(a)+1)"
   ]
  },
  {
   "cell_type": "code",
   "execution_count": 33,
   "metadata": {},
   "outputs": [
    {
     "name": "stdout",
     "output_type": "stream",
     "text": [
      "5050\n"
     ]
    }
   ],
   "source": [
    "n=100\n",
    "m=1\n",
    "sum=0\n",
    "while m<=n:\n",
    "    sum+=m\n",
    "    m+=1\n",
    "print(sum)\n",
    "    \n",
    "        "
   ]
  },
  {
   "cell_type": "code",
   "execution_count": 35,
   "metadata": {},
   "outputs": [
    {
     "name": "stdout",
     "output_type": "stream",
     "text": [
      "15 14 13 12 11 10 9 8 7 6 5 4 3 2 1 "
     ]
    }
   ],
   "source": [
    "n=15\n",
    "while n:\n",
    "    print(n,end=\" \")\n",
    "    n-=1"
   ]
  },
  {
   "cell_type": "code",
   "execution_count": 52,
   "metadata": {},
   "outputs": [
    {
     "name": "stdout",
     "output_type": "stream",
     "text": [
      "2\n",
      "3\n",
      "5\n",
      "7\n",
      "11\n",
      "13\n",
      "17\n",
      "19\n",
      "23\n",
      "29\n",
      "31\n",
      "37\n",
      "41\n",
      "43\n",
      "47\n",
      "53\n",
      "59\n",
      "61\n",
      "67\n",
      "71\n",
      "73\n",
      "79\n",
      "83\n",
      "89\n",
      "97\n"
     ]
    }
   ],
   "source": [
    "n=100\n",
    "s=2\n",
    "while s<=n:\n",
    "    m=1\n",
    "    count=0\n",
    "    while m<=s:\n",
    "        if s%m==0:\n",
    "            count+=1\n",
    "        m+=1\n",
    "    if count==2:\n",
    "        print(s)\n",
    "    s+=1"
   ]
  }
 ],
 "metadata": {
  "kernelspec": {
   "display_name": "Python 3",
   "language": "python",
   "name": "python3"
  },
  "language_info": {
   "codemirror_mode": {
    "name": "ipython",
    "version": 3
   },
   "file_extension": ".py",
   "mimetype": "text/x-python",
   "name": "python",
   "nbconvert_exporter": "python",
   "pygments_lexer": "ipython3",
   "version": "3.10.9"
  },
  "orig_nbformat": 4
 },
 "nbformat": 4,
 "nbformat_minor": 2
}
