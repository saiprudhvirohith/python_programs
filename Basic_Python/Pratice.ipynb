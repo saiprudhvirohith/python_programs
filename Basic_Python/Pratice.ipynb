{
 "cells": [
  {
   "cell_type": "markdown",
   "metadata": {},
   "source": [
    "String Datatype"
   ]
  },
  {
   "cell_type": "code",
   "execution_count": 52,
   "metadata": {},
   "outputs": [
    {
     "name": "stdout",
     "output_type": "stream",
     "text": [
      "HelloWorld\n",
      "2233406869744\n",
      "<class 'str'>\n"
     ]
    }
   ],
   "source": [
    "a='HelloWorld'\n",
    "print(a)\n",
    "print(id(a))\n",
    "print(type(a))"
   ]
  },
  {
   "cell_type": "code",
   "execution_count": 55,
   "metadata": {},
   "outputs": [
    {
     "name": "stdout",
     "output_type": "stream",
     "text": [
      "Hello  World\n",
      "2233428736304\n"
     ]
    }
   ],
   "source": [
    "\n",
    "a[2]\n",
    "a[-4]\n",
    "a[-7]\n",
    "a[0:]\n",
    "a[-1::-1]\n",
    "a[0::2]\n",
    "print(id(a))\n",
    "a=a[0:5]+\" \"+a[5:]\n",
    "print(a)\n",
    "print(id(a))"
   ]
  },
  {
   "cell_type": "markdown",
   "metadata": {},
   "source": [
    "List Datatype"
   ]
  },
  {
   "cell_type": "code",
   "execution_count": 57,
   "metadata": {},
   "outputs": [
    {
     "name": "stdout",
     "output_type": "stream",
     "text": [
      "[1, 2, 3, 4, 5, 6, 7]\n",
      "2233428783168\n",
      "<class 'list'>\n"
     ]
    }
   ],
   "source": [
    "b=[1,2,3,4,5,6,7]\n",
    "print(b)\n",
    "print(id(b))\n",
    "print(type(b))"
   ]
  },
  {
   "cell_type": "code",
   "execution_count": 62,
   "metadata": {},
   "outputs": [
    {
     "data": {
      "text/plain": [
       "[7, 6, 5, 4, 3, 2, 1]"
      ]
     },
     "execution_count": 62,
     "metadata": {},
     "output_type": "execute_result"
    }
   ],
   "source": [
    "b[3]\n",
    "b[-4]\n",
    "b[0:]\n",
    "b[0:-1]\n",
    "b[-1::-1]\n"
   ]
  },
  {
   "cell_type": "code",
   "execution_count": 18,
   "metadata": {},
   "outputs": [
    {
     "name": "stdout",
     "output_type": "stream",
     "text": [
      "[10, 50, 60, 80, 'string']\n",
      "[10, 10, 50, 60, 80]\n"
     ]
    }
   ],
   "source": [
    "import copy\n",
    "l=[10,50,60,80]\n",
    "u=copy.deepcopy(l)\n",
    "u[1:3]=[10,50,60]\n",
    "s='string'\n",
    "l+=[s]\n",
    "print(l)\n",
    "print(u)"
   ]
  },
  {
   "cell_type": "code",
   "execution_count": 27,
   "metadata": {},
   "outputs": [
    {
     "name": "stdout",
     "output_type": "stream",
     "text": [
      "[115, 'pys', {'A': 14, (10,): {70, 10, 50, 60}}, (15, 625), [15.06, 80, 'a', 'b']]\n",
      "[115, 'pys', {'A': 14, (10,): {70, 10, 50, 60}}, (15, 625, 18), [15.06, 80, 'a', 'b']]\n"
     ]
    }
   ],
   "source": [
    "X=[115,\"pys\",{'A':14,(10,):{10,50}},(15,625),[15.06,80]]\n",
    "Y=X.copy()\n",
    "X[2][(10,)]|={60,70}\n",
    "Y[-1]+=['a','b']\n",
    "Y[-2]+=(18,)\n",
    "print(X)\n",
    "print(Y)"
   ]
  },
  {
   "cell_type": "code",
   "execution_count": 11,
   "metadata": {},
   "outputs": [
    {
     "name": "stdout",
     "output_type": "stream",
     "text": [
      "[115, 'pys', {'A': 14, (10,): {70, 10, 50, 60}}, (15, 625), [15.06, 80, 'a', 'b']]\n",
      "[115, 'pys', {'A': 14, (10,): {70, 10, 50, 60}}, (15, 625, 10), [15.06, 80, 'a', 'b']]\n"
     ]
    }
   ],
   "source": [
    "X=[115,\"pys\",{'A':14,(10,):{10,50}},(15,625),[15.06,80]]\n",
    "Y=X.copy()\n",
    "X[2][(10,)]|={60,70}\n",
    "Y[-1]+=['a','b']\n",
    "Y[-2]+=(10,)\n",
    "print(X)\n",
    "print(Y)"
   ]
  }
 ],
 "metadata": {
  "kernelspec": {
   "display_name": "Python 3",
   "language": "python",
   "name": "python3"
  },
  "language_info": {
   "codemirror_mode": {
    "name": "ipython",
    "version": 3
   },
   "file_extension": ".py",
   "mimetype": "text/x-python",
   "name": "python",
   "nbconvert_exporter": "python",
   "pygments_lexer": "ipython3",
   "version": "3.10.9"
  },
  "orig_nbformat": 4
 },
 "nbformat": 4,
 "nbformat_minor": 2
}
