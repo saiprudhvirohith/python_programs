{
 "cells": [
  {
   "cell_type": "code",
   "execution_count": 2,
   "metadata": {},
   "outputs": [
    {
     "name": "stdout",
     "output_type": "stream",
     "text": [
      "P,r,u,d,h,v,i,P,r,u,d,h,v,i,"
     ]
    }
   ],
   "source": [
    "#1.WAP to print all the items present in the string between the range from m to n.\n",
    "a=\"Prudhvi\"\n",
    "m=0\n",
    "n=len(a)\n",
    "while m<n:\n",
    "    print(a[m],end=\",\")\n",
    "    m+=1\n",
    "m=0\n",
    "n=len(a)\n",
    "for i in range(m,n):\n",
    "    print(a[i],end=\",\")"
   ]
  },
  {
   "cell_type": "code",
   "execution_count": 3,
   "metadata": {},
   "outputs": [
    {
     "name": "stdout",
     "output_type": "stream",
     "text": [
      "R\n",
      "K\n",
      "R\n",
      "K\n"
     ]
    }
   ],
   "source": [
    "#2.WAP to print the uppercase characters in a given string.\n",
    "m=\"Ramesh Kumar\"\n",
    "e=0\n",
    "while e<len(m):\n",
    "    if \"A\"<=m[e]<=\"Z\":\n",
    "        print(m[e])\n",
    "    e+=1\n",
    "for i in m:\n",
    "    if \"A\"<=i<=\"Z\":\n",
    "        print(i)\n"
   ]
  },
  {
   "cell_type": "code",
   "execution_count": 6,
   "metadata": {},
   "outputs": [
    {
     "name": "stdout",
     "output_type": "stream",
     "text": [
      "a\n",
      "n\n",
      "i\n",
      "r\n",
      "e\n",
      "e\n",
      "a\n",
      "n\n",
      "i\n",
      "r\n",
      "e\n",
      "e\n"
     ]
    }
   ],
   "source": [
    "#3.WAP to print the lowercase characters in a given string.\n",
    "m=\"Mani Sree\"\n",
    "e=0\n",
    "while e<len(m):\n",
    "    if \"a\"<=m[e]<=\"z\":\n",
    "        print(m[e])\n",
    "    e+=1\n",
    "for i in m:\n",
    "    if \"a\"<=i<=\"z\":\n",
    "        print(i)"
   ]
  },
  {
   "cell_type": "code",
   "execution_count": 8,
   "metadata": {},
   "outputs": [
    {
     "name": "stdout",
     "output_type": "stream",
     "text": [
      "8\n",
      "1\n",
      "9\n",
      "8\n",
      "1\n",
      "9\n"
     ]
    }
   ],
   "source": [
    "#4.WAP to print the ascii numbers(Digits) characters in a given string.\n",
    "m=\"rohiths819@gmail.com\"\n",
    "e=0\n",
    "while e<len(m):\n",
    "    if \"0\"<=m[e]<=\"9\":\n",
    "        print(m[e])\n",
    "    e+=1\n",
    "for i in m:\n",
    "    if \"0\"<=i<=\"9\":\n",
    "        print(i)"
   ]
  },
  {
   "cell_type": "code",
   "execution_count": 10,
   "metadata": {},
   "outputs": [
    {
     "name": "stdout",
     "output_type": "stream",
     "text": [
      "@\n",
      ".\n",
      "@\n",
      ".\n"
     ]
    }
   ],
   "source": [
    "#5.WAP to print the special characters in a given string.\n",
    "m=\"rohiths819@gmail.com\"\n",
    "e=0\n",
    "while e<len(m):\n",
    "    if not (\"0\"<=m[e]<=\"9\" or \"A\"<=m[e]<=\"Z\" or \"a\"<=m[e]<=\"z\"):\n",
    "        print(m[e])\n",
    "    e+=1\n",
    "for i in m:\n",
    "    if not (\"0\"<=i<=\"9\" or \"A\"<=i<=\"Z\" or \"a\"<=i<=\"z\"):\n",
    "        print(i)"
   ]
  },
  {
   "cell_type": "code",
   "execution_count": 11,
   "metadata": {},
   "outputs": [
    {
     "name": "stdout",
     "output_type": "stream",
     "text": [
      "o\n",
      "i\n",
      "a\n",
      "i\n",
      "o\n",
      "o\n",
      "i\n",
      "a\n",
      "i\n",
      "o\n"
     ]
    }
   ],
   "source": [
    "#6.WAP to Print the vowels in a given string.\n",
    "m=\"rohiths819@gmail.com\"\n",
    "e=0\n",
    "while e<len(m):\n",
    "    if m[e] in \"AEIOUaeiou\":\n",
    "        print(m[e])\n",
    "    e+=1\n",
    "for i in m:\n",
    "    if i in \"AEIOUaeiou\":\n",
    "        print(i)"
   ]
  },
  {
   "cell_type": "code",
   "execution_count": 13,
   "metadata": {},
   "outputs": [
    {
     "name": "stdout",
     "output_type": "stream",
     "text": [
      "r,h,t,h,s,8,1,9,@,g,m,l,.,c,m,r,h,t,h,s,8,1,9,@,g,m,l,.,c,m,"
     ]
    }
   ],
   "source": [
    "#7.WAP to Print the consonants in a given string.\n",
    "m=\"rohiths819@gmail.com\"\n",
    "e=0\n",
    "while e<len(m):\n",
    "    if m[e] not in \"AEIOUaeiou\":\n",
    "        print(m[e],end=\",\")\n",
    "    e+=1\n",
    "for i in m:\n",
    "    if i not in \"AEIOUaeiou\":\n",
    "        print(i,end=\",\")"
   ]
  },
  {
   "cell_type": "code",
   "execution_count": 25,
   "metadata": {},
   "outputs": [
    {
     "name": "stdout",
     "output_type": "stream",
     "text": [
      "h\n",
      "t\n",
      "i\n",
      "h\n",
      "o\n",
      "R\n",
      "h\n",
      "t\n",
      "i\n",
      "h\n",
      "o\n",
      "R\n"
     ]
    }
   ],
   "source": [
    "#8.WAP to print the reverse of the characters in a given string.\n",
    "a=\"Rohith\"\n",
    "m=-1\n",
    "n=-(len(a))\n",
    "while m>=n:\n",
    "    print(a[m])\n",
    "    m-=1\n",
    "for i in range(len(a)-1,-1,-1):\n",
    "    print(a[i])\n"
   ]
  },
  {
   "cell_type": "code",
   "execution_count": 27,
   "metadata": {},
   "outputs": [
    {
     "name": "stdout",
     "output_type": "stream",
     "text": [
      "P\n",
      "u\n",
      "h\n",
      "i\n",
      "P\n",
      "u\n",
      "h\n",
      "i\n"
     ]
    }
   ],
   "source": [
    "#9.WAP to print even position values characters in a given string.\n",
    "m=\"Prudhvi\"\n",
    "n=0\n",
    "while n<len(m):\n",
    "    if n%2==0:\n",
    "        print(m[n])\n",
    "    n+=1\n",
    "for i in range(len(m)):\n",
    "    if i%2==0:\n",
    "        print(m[i])"
   ]
  },
  {
   "cell_type": "code",
   "execution_count": 28,
   "metadata": {},
   "outputs": [
    {
     "name": "stdout",
     "output_type": "stream",
     "text": [
      "r\n",
      "d\n",
      "v\n",
      "r\n",
      "d\n",
      "v\n"
     ]
    }
   ],
   "source": [
    "#10.WAP to print odd position values characters in a given string.\n",
    "m=\"Prudhvi\"\n",
    "n=0\n",
    "while n<len(m):\n",
    "    if n%2!=0:\n",
    "        print(m[n])\n",
    "    n+=1\n",
    "for i in range(len(m)):\n",
    "    if i%2!=0:\n",
    "        print(m[i])"
   ]
  },
  {
   "cell_type": "code",
   "execution_count": 30,
   "metadata": {},
   "outputs": [
    {
     "name": "stdout",
     "output_type": "stream",
     "text": [
      "7\n",
      "7\n"
     ]
    }
   ],
   "source": [
    "#11.WAP to count the total Number of characters in a given string.(with length function)\n",
    "m=\"Prudhvi\"\n",
    "n=0\n",
    "count=0\n",
    "while n<len(m):\n",
    "    count+=1\n",
    "    n+=1\n",
    "print(count)\n",
    "count1=0\n",
    "for i in range(len(m)):\n",
    "    count1+=1\n",
    "print(count1)"
   ]
  },
  {
   "cell_type": "code",
   "execution_count": 33,
   "metadata": {},
   "outputs": [
    {
     "name": "stdout",
     "output_type": "stream",
     "text": [
      "7\n",
      "7\n"
     ]
    }
   ],
   "source": [
    "#12.WAP to count the total Number of characters in a given string.(without length function)\n",
    "m=\"Prudhvi\"\n",
    "temp=m\n",
    "count=0\n",
    "while m:\n",
    "    count+=1\n",
    "    m=m[1:]\n",
    "print(count)\n",
    "count1=0\n",
    "for i in temp:\n",
    "    count1+=1\n",
    "print(count1)"
   ]
  },
  {
   "cell_type": "code",
   "execution_count": 37,
   "metadata": {},
   "outputs": [
    {
     "name": "stdout",
     "output_type": "stream",
     "text": [
      "14\n",
      "14\n"
     ]
    }
   ],
   "source": [
    "#13.WAP to count alphabets in a given string.\n",
    "m=\"Prudhvi_Villain\"\n",
    "n=0\n",
    "count=0\n",
    "while n<len(m):\n",
    "    if \"A\"<=m[n]<=\"Z\" or \"a\"<=m[n]<=\"z\":\n",
    "        count+=1\n",
    "    n+=1\n",
    "print(count)\n",
    "count1=0\n",
    "for i in range(len(m)):\n",
    "    if \"A\"<=m[i]<=\"Z\" or \"a\"<=m[i]<=\"z\":\n",
    "        count1+=1\n",
    "print(count1)"
   ]
  },
  {
   "cell_type": "code",
   "execution_count": 38,
   "metadata": {},
   "outputs": [
    {
     "name": "stdout",
     "output_type": "stream",
     "text": [
      "2\n",
      "2\n"
     ]
    }
   ],
   "source": [
    "#14.WAP to count Number of uppercase in a given string.\n",
    "m=\"Prudhvi_Villain\"\n",
    "n=0\n",
    "count=0\n",
    "while n<len(m):\n",
    "    if \"A\"<=m[n]<=\"Z\":\n",
    "        count+=1\n",
    "    n+=1\n",
    "print(count)\n",
    "count1=0\n",
    "for i in range(len(m)):\n",
    "    if \"A\"<=m[i]<=\"Z\":\n",
    "        count1+=1\n",
    "print(count1)"
   ]
  },
  {
   "cell_type": "code",
   "execution_count": 39,
   "metadata": {},
   "outputs": [
    {
     "name": "stdout",
     "output_type": "stream",
     "text": [
      "12\n",
      "12\n"
     ]
    }
   ],
   "source": [
    "#15.WAP to count lowercase in a given string.\n",
    "m=\"Prudhvi_Villain\"\n",
    "n=0\n",
    "count=0\n",
    "while n<len(m):\n",
    "    if \"a\"<=m[n]<=\"z\":\n",
    "        count+=1\n",
    "    n+=1\n",
    "print(count)\n",
    "count1=0\n",
    "for i in range(len(m)):\n",
    "    if \"a\"<=m[i]<=\"z\":\n",
    "        count1+=1\n",
    "print(count1)"
   ]
  },
  {
   "cell_type": "code",
   "execution_count": 40,
   "metadata": {},
   "outputs": [
    {
     "name": "stdout",
     "output_type": "stream",
     "text": [
      "2\n",
      "2\n"
     ]
    }
   ],
   "source": [
    "#16.WAP to count Number of special symbols in a given string.\n",
    "m=\"rohiths819@gmail.com\"\n",
    "e=0\n",
    "count=0\n",
    "while e<len(m):\n",
    "    if not (\"0\"<=m[e]<=\"9\" or \"A\"<=m[e]<=\"Z\" or \"a\"<=m[e]<=\"z\"):\n",
    "        count+=1\n",
    "    e+=1\n",
    "print(count)\n",
    "count1=0\n",
    "for i in m:\n",
    "    if not (\"0\"<=i<=\"9\" or \"A\"<=i<=\"Z\" or \"a\"<=i<=\"z\"):\n",
    "        count1+=1\n",
    "print(count1)"
   ]
  },
  {
   "cell_type": "code",
   "execution_count": 42,
   "metadata": {},
   "outputs": [
    {
     "name": "stdout",
     "output_type": "stream",
     "text": [
      "24\n",
      "24\n"
     ]
    }
   ],
   "source": [
    "#17.WAP to count uppercase and lowercase in a given string.\n",
    "m=\"saiprudhvirohith8008@gmail.com\"\n",
    "n=0\n",
    "count=0\n",
    "while n<len(m):\n",
    "    if \"A\"<=m[n]<=\"Z\" or \"a\"<=m[n]<=\"z\":\n",
    "        count+=1\n",
    "    n+=1\n",
    "print(count)\n",
    "count1=0\n",
    "for i in range(len(m)):\n",
    "    if \"A\"<=m[i]<=\"Z\" or \"a\"<=m[i]<=\"z\":\n",
    "        count1+=1\n",
    "print(count1)"
   ]
  },
  {
   "cell_type": "code",
   "execution_count": 44,
   "metadata": {},
   "outputs": [
    {
     "name": "stdout",
     "output_type": "stream",
     "text": [
      "4\n",
      "4\n"
     ]
    }
   ],
   "source": [
    "#18.WAP to count Number of ascii numbers in a given string.\n",
    "m=\"saiprudhvirohith8008@gmail.com\"\n",
    "e=0\n",
    "count=0\n",
    "while e<len(m):\n",
    "    if \"0\"<=m[e]<=\"9\":\n",
    "        count+=1\n",
    "    e+=1\n",
    "print(count)\n",
    "count1=0\n",
    "for i in m:\n",
    "    if \"0\"<=i<=\"9\":\n",
    "        count1+=1\n",
    "print(count1)"
   ]
  },
  {
   "cell_type": "code",
   "execution_count": 49,
   "metadata": {},
   "outputs": [
    {
     "name": "stdout",
     "output_type": "stream",
     "text": [
      "7\n",
      "7\n"
     ]
    }
   ],
   "source": [
    "#19.WAP to Count Total Number of Words in a String.\n",
    "st=\"My name is Madireddy Sai Prudhvi Rohith\"\n",
    "s=\"\"\n",
    "i=0\n",
    "count=0\n",
    "while i<len(st):\n",
    "    if st[i]!=\" \":\n",
    "        s+=st[i]\n",
    "    elif len(s)!=0:\n",
    "        count+=1\n",
    "        s=\"\"\n",
    "    i+=1\n",
    "if len(s)!=0:\n",
    "    count+=1\n",
    "print(count)\n",
    "\n",
    "s=\"\"\n",
    "count=0\n",
    "for i in st:\n",
    "    if i!=\" \":\n",
    "        s+=i\n",
    "    elif len(s)!=0:\n",
    "        count+=1\n",
    "        s=\"\"\n",
    "if len(s)!=0:\n",
    "    count+=1\n",
    "print(count)\n"
   ]
  },
  {
   "cell_type": "code",
   "execution_count": 51,
   "metadata": {},
   "outputs": [
    {
     "name": "stdout",
     "output_type": "stream",
     "text": [
      "7\n",
      "7\n"
     ]
    }
   ],
   "source": [
    "#20.WAP to Count Total Number of spaces in a String.\n",
    "st=\"My name is Madireddy Sai Prudhvi Rohith\"\n",
    "i=0\n",
    "count=0\n",
    "while i<len(st):\n",
    "    if st[i]==\" \":\n",
    "        count+=1\n",
    "    i+=1\n",
    "print(count)\n",
    "\n",
    "count=0\n",
    "for i in st:\n",
    "    if i==\" \":\n",
    "        count+=1\n",
    "print(count)"
   ]
  },
  {
   "cell_type": "code",
   "execution_count": 52,
   "metadata": {},
   "outputs": [
    {
     "name": "stdout",
     "output_type": "stream",
     "text": [
      "12\n",
      "12\n"
     ]
    }
   ],
   "source": [
    "#21.WAP to Count Vowels in a String.\n",
    "m=\"My name is Madireddy Sai Prudhvi Rohith\"\n",
    "e=0\n",
    "count=0\n",
    "while e<len(m):\n",
    "    if m[e] in \"AEIOUaeiou\":\n",
    "        count+=1\n",
    "    e+=1\n",
    "print(count)\n",
    "\n",
    "count1=0\n",
    "for i in m:\n",
    "    if i in \"AEIOUaeiou\":\n",
    "        count1+=1\n",
    "print(count1)"
   ]
  },
  {
   "cell_type": "code",
   "execution_count": 53,
   "metadata": {},
   "outputs": [
    {
     "name": "stdout",
     "output_type": "stream",
     "text": [
      "27\n",
      "27\n"
     ]
    }
   ],
   "source": [
    "#22.WAP to Count consonants in a String.\n",
    "m=\"My name is Madireddy Sai Prudhvi Rohith\"\n",
    "e=0\n",
    "count=0\n",
    "while e<len(m):\n",
    "    if m[e] not in \"AEIOUaeiou\":\n",
    "        count+=1\n",
    "    e+=1\n",
    "print(count)\n",
    "\n",
    "count1=0\n",
    "for i in m:\n",
    "    if i not in \"AEIOUaeiou\":\n",
    "        count1+=1\n",
    "print(count1)\n"
   ]
  },
  {
   "cell_type": "code",
   "execution_count": 56,
   "metadata": {},
   "outputs": [
    {
     "name": "stdout",
     "output_type": "stream",
     "text": [
      "12\n",
      "27\n",
      "12\n",
      "27\n"
     ]
    }
   ],
   "source": [
    "#23.WAP to Count Vowels and Consonants in a String.\n",
    "m=\"My name is Madireddy Sai Prudhvi Rohith\"\n",
    "e=0\n",
    "v_count=0\n",
    "c_count=0\n",
    "while e<len(m):\n",
    "    if m[e] in \"AEIOUaeiou\":\n",
    "        v_count+=1\n",
    "    elif m[e] not in \"AEIOUaeiou\":\n",
    "        c_count+=1\n",
    "    e+=1\n",
    "print(v_count)\n",
    "print(c_count)\n",
    "\n",
    "v_count1=0\n",
    "c_count1=0\n",
    "for i in m:\n",
    "    if i in \"AEIOUaeiou\":\n",
    "        v_count1+=1\n",
    "    elif i not in \"AEIOUaeiou\":\n",
    "        c_count1+=1\n",
    "print(v_count1)\n",
    "print(c_count1)\n"
   ]
  },
  {
   "cell_type": "code",
   "execution_count": 3,
   "metadata": {},
   "outputs": [
    {
     "name": "stdout",
     "output_type": "stream",
     "text": [
      "5\n",
      "5\n"
     ]
    }
   ],
   "source": [
    "#24.WAP to count Number of new lines in a given string.\n",
    "m=\"My name\\nis\\nMadireddy\\nSai\\nPrudhvi\\nRohith\"\n",
    "n=0\n",
    "count=0\n",
    "while n<len(m):\n",
    "    if m[n]==\"\\n\":\n",
    "        count+=1\n",
    "    n+=1\n",
    "print(count)\n",
    "\n",
    "count1=0\n",
    "for i in m:\n",
    "    if i==\"\\n\":\n",
    "        count1+=1\n",
    "print(count1)"
   ]
  },
  {
   "cell_type": "code",
   "execution_count": 5,
   "metadata": {},
   "outputs": [
    {
     "name": "stdout",
     "output_type": "stream",
     "text": [
      "6\n",
      "6\n"
     ]
    }
   ],
   "source": [
    "#25.WAP to count Number of new lines in a given string.\n",
    "m=\"\"\"My name\n",
    "is\n",
    "Madireddy\n",
    "Sai\n",
    "Prudhvi\n",
    "Rohith\"\"\"\n",
    "n=0\n",
    "count=1\n",
    "while n<len(m):\n",
    "    if m[n]==\"\\n\":\n",
    "        count+=1\n",
    "    n+=1\n",
    "print(count)\n",
    "\n",
    "count1=1\n",
    "for i in m:\n",
    "    if i==\"\\n\":\n",
    "        count1+=1\n",
    "print(count1)"
   ]
  },
  {
   "cell_type": "code",
   "execution_count": 3,
   "metadata": {},
   "outputs": [
    {
     "name": "stdout",
     "output_type": "stream",
     "text": [
      "4 24 2\n",
      "4 24 2\n"
     ]
    }
   ],
   "source": [
    "#26.WAP to count no of alphabets, numbers, and special characters in a given string.\n",
    "m=\"saiprudhvirohith8008@gmail.com\"\n",
    "e=0\n",
    "num_count=0\n",
    "alp_count=0\n",
    "sp_count=0\n",
    "while e<len(m):\n",
    "    if \"0\"<=m[e]<=\"9\":\n",
    "        num_count+=1\n",
    "    elif \"A\"<=m[e]<=\"Z\" or \"a\"<=m[e]<=\"z\":\n",
    "        alp_count+=1\n",
    "    else:\n",
    "        sp_count+=1\n",
    "    e+=1\n",
    "print(num_count,alp_count,sp_count)\n",
    "num_count1=0\n",
    "alp_count1=0\n",
    "sp_count1=0\n",
    "for i in m:\n",
    "    if \"0\"<=i<=\"9\":\n",
    "        num_count1+=1\n",
    "    elif \"A\"<=i<=\"Z\" or \"a\"<=i<=\"z\":\n",
    "        alp_count1+=1\n",
    "    else:\n",
    "        sp_count1+=1\n",
    "print(num_count1,alp_count1,sp_count1)"
   ]
  },
  {
   "cell_type": "code",
   "execution_count": 14,
   "metadata": {},
   "outputs": [
    {
     "name": "stdout",
     "output_type": "stream",
     "text": [
      "2\n",
      "2\n"
     ]
    }
   ],
   "source": [
    "#27.WAP to Count Total no of words in a first line of the Doc String.\n",
    "m=\"\"\"My name  dhh\n",
    "is\n",
    "Madireddy\n",
    "Sai\n",
    "Prudhvi\n",
    "Rohith\"\"\"\n",
    "n=0\n",
    "res=\"\"\n",
    "count=1\n",
    "while n<len(m):\n",
    "    if m[n]!=\" \"or m[n]!=\"\\n\":\n",
    "        res+=m[n]\n",
    "    elif m[n]==\"\\n\":\n",
    "        break\n",
    "    else:\n",
    "        if len(res)!=0:\n",
    "            count+=1    \n",
    "    n+=1\n",
    "if len(res)!=0:\n",
    "    count+=1\n",
    "print(count)\n",
    "\n",
    "count1=1\n",
    "res=\"\"\n",
    "for i in m:\n",
    "    if i!=\" \"or i!=\"\\n\":\n",
    "        res+=i\n",
    "    elif i==\"\\n\":\n",
    "        break\n",
    "    else:\n",
    "        if len(res)!=0:\n",
    "            count1+=1    \n",
    "    n+=1\n",
    "if len(res)!=0:\n",
    "    count1+=1\n",
    "print(count1)"
   ]
  },
  {
   "cell_type": "code",
   "execution_count": 16,
   "metadata": {},
   "outputs": [
    {
     "name": "stdout",
     "output_type": "stream",
     "text": [
      "18\n",
      "18\n"
     ]
    }
   ],
   "source": [
    "#28.WAP to sum of digits in a given string.\n",
    "m=\"rohiths819@gmail.com\"\n",
    "e=0\n",
    "sum=0\n",
    "while e<len(m):\n",
    "    if \"0\"<=m[e]<=\"9\":\n",
    "        sum+=int(m[e])\n",
    "    e+=1\n",
    "print(sum)\n",
    "\n",
    "sum1=0\n",
    "for i in m:\n",
    "    if \"0\"<=i<=\"9\":\n",
    "        sum1+=int(i)\n",
    "print(sum1)"
   ]
  }
 ],
 "metadata": {
  "kernelspec": {
   "display_name": "Python 3",
   "language": "python",
   "name": "python3"
  },
  "language_info": {
   "codemirror_mode": {
    "name": "ipython",
    "version": 3
   },
   "file_extension": ".py",
   "mimetype": "text/x-python",
   "name": "python",
   "nbconvert_exporter": "python",
   "pygments_lexer": "ipython3",
   "version": "3.10.9"
  },
  "orig_nbformat": 4
 },
 "nbformat": 4,
 "nbformat_minor": 2
}
