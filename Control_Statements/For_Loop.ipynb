{
 "cells": [
  {
   "cell_type": "code",
   "execution_count": 1,
   "metadata": {},
   "outputs": [
    {
     "name": "stdout",
     "output_type": "stream",
     "text": [
      "H\n",
      "E\n",
      "L\n",
      "L\n",
      "O\n"
     ]
    }
   ],
   "source": [
    "#Wap to extract each and every character in given string by using for loop.\n",
    "st=\"HELLO\"\n",
    "for i in st:\n",
    "    print(i)"
   ]
  },
  {
   "cell_type": "code",
   "execution_count": 3,
   "metadata": {},
   "outputs": [
    {
     "name": "stdout",
     "output_type": "stream",
     "text": [
      "10\n",
      "2.5\n",
      "True\n",
      "[10, 20, 30]\n",
      "(10, 20, 30)\n",
      "{'s': 100}\n",
      "b'10101'\n"
     ]
    }
   ],
   "source": [
    "#Wap to extarct each data item in the collection.\n",
    "l=[10,2.5,True,[10,20,30],(10,20,30),{\"s\":100},b'10101']\n",
    "for i in l:\n",
    "    print(i)"
   ]
  },
  {
   "cell_type": "code",
   "execution_count": 4,
   "metadata": {},
   "outputs": [
    {
     "name": "stdout",
     "output_type": "stream",
     "text": [
      "True\n",
      "2.5\n",
      "10\n",
      "b'10101'\n",
      "(10, 20, 30)\n"
     ]
    }
   ],
   "source": [
    "l={10,2.5,True,(10,20,30),b'10101'}\n",
    "for i in l:\n",
    "    print(i)"
   ]
  },
  {
   "cell_type": "code",
   "execution_count": 2,
   "metadata": {},
   "outputs": [
    {
     "name": "stdout",
     "output_type": "stream",
     "text": [
      "10\n",
      "True\n",
      "(10, 20, 30)\n",
      "(10+2j)\n"
     ]
    }
   ],
   "source": [
    "l={10:2.5,True:[10,20,30],(10,20,30):{\"s\":100},10+2j:b'10101'}\n",
    "for i in l:\n",
    "    print(i)"
   ]
  },
  {
   "cell_type": "code",
   "execution_count": 8,
   "metadata": {},
   "outputs": [
    {
     "name": "stdout",
     "output_type": "stream",
     "text": [
      "2.5\n",
      "[10, 20, 30]\n",
      "{'s': 100}\n",
      "b'10101'\n"
     ]
    }
   ],
   "source": [
    "l={10:2.5,True:[10,20,30],(10,20,30):{\"s\":100},10+2j:b'10101'}\n",
    "for i in l:\n",
    "    print(l[i])"
   ]
  },
  {
   "cell_type": "code",
   "execution_count": 9,
   "metadata": {},
   "outputs": [
    {
     "name": "stdout",
     "output_type": "stream",
     "text": [
      "10 : 2.5\n",
      "True : [10, 20, 30]\n",
      "(10, 20, 30) : {'s': 100}\n",
      "(10+2j) : b'10101'\n"
     ]
    }
   ],
   "source": [
    "l={10:2.5,True:[10,20,30],(10,20,30):{\"s\":100},10+2j:b'10101'}\n",
    "for i in l:\n",
    "    print(i,\":\",l[i])"
   ]
  },
  {
   "cell_type": "code",
   "execution_count": 7,
   "metadata": {},
   "outputs": [
    {
     "name": "stdout",
     "output_type": "stream",
     "text": [
      "H\n",
      "O\n",
      "W\n",
      "D\n"
     ]
    }
   ],
   "source": [
    "#1.Wap to extract Uppercase characters from given string.\n",
    "sy=\"HellO WorlD\"\n",
    "for i in sy:\n",
    "    if \"A\"<=i<=\"Z\":\n",
    "        print(i)"
   ]
  },
  {
   "cell_type": "code",
   "execution_count": 14,
   "metadata": {},
   "outputs": [
    {
     "name": "stdout",
     "output_type": "stream",
     "text": [
      "hfjdmn@*&\n"
     ]
    }
   ],
   "source": [
    "#2.Wap to extract and store the special characters and lowercase characters in given string.\n",
    "st=\"AMhfjdmn@*&1234\"\n",
    "res=\"\"\n",
    "for i in st:\n",
    "    if  not(\"A\"<=i<=\"Z\" or \"0\"<=i<=\"9\"):\n",
    "        res+=i\n",
    "print(res)"
   ]
  },
  {
   "cell_type": "code",
   "execution_count": 17,
   "metadata": {},
   "outputs": [
    {
     "name": "stdout",
     "output_type": "stream",
     "text": [
      "AM hfjdmn @*& 1234\n"
     ]
    }
   ],
   "source": [
    "#3.Wap to segregate the characters from given string.\n",
    "st=\"AMhfjdmn@*&1234\"\n",
    "up=\"\"\n",
    "lo=\"\"\n",
    "sp=\"\"\n",
    "nu=\"\"\n",
    "for i in st:\n",
    "    if \"A\"<=i<=\"Z\":\n",
    "        up+=i\n",
    "    elif \"a\"<=i<=\"z\":\n",
    "        lo+=i\n",
    "    elif \"0\"<=i<=\"9\":\n",
    "        nu+=i\n",
    "    else:\n",
    "        sp+=i\n",
    "print(up,lo,sp,nu)"
   ]
  },
  {
   "cell_type": "code",
   "execution_count": 31,
   "metadata": {},
   "outputs": [
    {
     "name": "stdout",
     "output_type": "stream",
     "text": [
      "Hello&123#wD\n",
      "Hello&123#wD\n",
      "Hello&123#wD\n",
      "Valid\n"
     ]
    }
   ],
   "source": [
    "#4.Wap to check the given password is valid or in valid.\n",
    "#min 1 numeric char.\n",
    "#min 2 special char except .,(),{},space.\n",
    "#starting and ending char should be uppercase character.\n",
    "#max 5 lowercas char and min 1 lowercase char.\n",
    "#given input is string and length of the string min 8 and max 20 char.\n",
    "pas=\"Hello&123#wD\"\n",
    "if 8<=len(pas)<=20:\n",
    "    print(pas)\n",
    "    if \"A\"<=pas[0]<=\"Z\" and \"A\"<=pas[-1]<=\"Z\":\n",
    "        print(pas) \n",
    "        up,lo,sp,nu=\"\",\"\",\"\",\"\"\n",
    "        if \".\" not in pas and \"(\" not in pas and \")\" not in pas and \"{\" not in pas and \"}\" not in pas and \".\" not in pas and \" \" not in pas:\n",
    "            print(pas)\n",
    "            for i in pas:\n",
    "                if \"A\"<=i<=\"Z\":\n",
    "                    up+=i\n",
    "                elif \"a\"<=i<=\"z\":\n",
    "                    lo+=i\n",
    "                elif \"0\"<=i<=\"9\":\n",
    "                    nu+=i\n",
    "                else:\n",
    "                    sp+=i\n",
    "            if len(nu)>=1 and len(sp)>=2 and 1<=len(lo)<=5:\n",
    "                print(\"Valid\")\n",
    "            else:\n",
    "                print(\"Invalid Password\")\n",
    "                \n",
    "        else:\n",
    "            print(\"Inavlid password\")\n",
    "    else:\n",
    "        print(\"Inavlid password\")\n",
    "else:\n",
    "    print(\"Inavlid password\")\n"
   ]
  },
  {
   "cell_type": "code",
   "execution_count": 40,
   "metadata": {},
   "outputs": [
    {
     "name": "stdout",
     "output_type": "stream",
     "text": [
      "Hello&123#wD\n",
      "Hello&123#wD\n",
      "Valid\n"
     ]
    }
   ],
   "source": [
    "pas=\"Hello&123#wD\"\n",
    "if 8<=len(pas)<=20:\n",
    "    print(pas)\n",
    "    if \"A\"<=pas[0]<=\"Z\" and \"A\"<=pas[-1]<=\"Z\":\n",
    "        print(pas) \n",
    "        up,lo,sp,nu=\"\",\"\",\"\",\"\"\n",
    "        p=\"\"\n",
    "        for i in pas:\n",
    "            if \"A\"<=i<=\"Z\":\n",
    "                up+=i\n",
    "            elif \"a\"<=i<=\"z\":\n",
    "                lo+=i\n",
    "            elif \"0\"<=i<=\"9\":\n",
    "                nu+=i\n",
    "            elif i not in (\".(){} \"):\n",
    "                sp+=i\n",
    "            else:\n",
    "                p+=i\n",
    "        if len(nu)>=1 and len(sp)>=2 and 1<=len(lo)<=5 and len(p)==0:\n",
    "            print(\"Valid\")\n",
    "        elif not len(nu)>=1:\n",
    "            print(\"Invalid Password min 1 numeric\")\n",
    "        elif not len(sp)>=2:\n",
    "            print(\"Invalid Password min 2 special char\")\n",
    "        elif not 1<=len(lo)<=5:\n",
    "            print(\"Invalid Password min 1 and max 5 lowercase char\")\n",
    "        else:\n",
    "            print(\"Invalid Password\")\n",
    "                \n",
    "        \n",
    "    else:\n",
    "        print(\"Inavlid password\")\n",
    "else:\n",
    "    print(\"Inavlid password\")"
   ]
  },
  {
   "cell_type": "code",
   "execution_count": 41,
   "metadata": {},
   "outputs": [
    {
     "name": "stdout",
     "output_type": "stream",
     "text": [
      "7\n"
     ]
    }
   ],
   "source": [
    "#5.Wap to count the number of data items in given collection with length function.\n",
    "l=[10,2.5,True,[10,20,30],(10,20,30),{\"s\":100},b'10101']\n",
    "count=0\n",
    "for i in l:\n",
    "    count+=1\n",
    "print(count)"
   ]
  },
  {
   "cell_type": "code",
   "execution_count": 43,
   "metadata": {},
   "outputs": [
    {
     "name": "stdout",
     "output_type": "stream",
     "text": [
      "o --> 2\n"
     ]
    }
   ],
   "source": [
    "#6.Wap to count specific data item in given collection.\n",
    "st=\"Hello World\"\n",
    "sp=\"o\"\n",
    "count=0\n",
    "for i in st:\n",
    "    if i==sp:\n",
    "        count+=1\n",
    "print(sp,'-->',count)"
   ]
  },
  {
   "cell_type": "code",
   "execution_count": 48,
   "metadata": {},
   "outputs": [
    {
     "name": "stdout",
     "output_type": "stream",
     "text": [
      "HeloWrd\n",
      "H 1\n",
      "e 1\n",
      "l 3\n",
      "o 2\n",
      "W 1\n",
      "r 1\n",
      "d 1\n"
     ]
    }
   ],
   "source": [
    "#Wap to count the each data item in given collection.\n",
    "st=\"HelloWorld\"\n",
    "u=\"\"\n",
    "count=0\n",
    "for i in st:\n",
    "    if i not in u:\n",
    "        u+=i\n",
    "print(u)\n",
    "\n",
    "for i in u:\n",
    "    count=0\n",
    "    for j in st:\n",
    "        if i==j:\n",
    "            count+=1\n",
    "    print(i,count)"
   ]
  },
  {
   "cell_type": "code",
   "execution_count": 7,
   "metadata": {},
   "outputs": [
    {
     "name": "stdout",
     "output_type": "stream",
     "text": [
      "{'H': 1, 'e': 1, 'l': 3, 'o': 2, 'W': 1, 'r': 1, 'd': 1}\n"
     ]
    }
   ],
   "source": [
    "st=\"HelloWorld\"\n",
    "dit={}\n",
    "for i in st:\n",
    "    if i not in dit:\n",
    "        if i==\" \":\n",
    "            dit[\"space\"]=1\n",
    "        dit[i]=1\n",
    "    else:\n",
    "        dit[i]+=1\n",
    "print(dit)"
   ]
  },
  {
   "cell_type": "code",
   "execution_count": 2,
   "metadata": {},
   "outputs": [
    {
     "name": "stdout",
     "output_type": "stream",
     "text": [
      "['H', 'e', 'l', 'o', 'W', 'r', 'd']\n"
     ]
    }
   ],
   "source": [
    "st=\"HelloWorld\"\n",
    "u=[]\n",
    "count=0\n",
    "for i in st:\n",
    "    if i not in u:\n",
    "        u+=[i]\n",
    "print(u)"
   ]
  },
  {
   "cell_type": "code",
   "execution_count": 3,
   "metadata": {},
   "outputs": [
    {
     "name": "stdout",
     "output_type": "stream",
     "text": [
      "[1, 2, 3, 4, 43, 21, 5, 7, 55]\n"
     ]
    }
   ],
   "source": [
    "st=[1,2,3,4,43,21,5,3,5,7,55]\n",
    "u=[]\n",
    "count=0\n",
    "for i in st:\n",
    "    if i not in u:\n",
    "        u+=[i]\n",
    "print(u)"
   ]
  },
  {
   "cell_type": "code",
   "execution_count": 12,
   "metadata": {},
   "outputs": [
    {
     "name": "stdout",
     "output_type": "stream",
     "text": [
      "HeloWrd\n",
      "l 3\n"
     ]
    }
   ],
   "source": [
    "#Wap to fin dout max occurence character in given string.\n",
    "st=\"HelloWorld\"\n",
    "u=\"\"\n",
    "count=0\n",
    "for i in st:\n",
    "    if i not in u:\n",
    "        u+=i\n",
    "print(u)\n",
    "\n",
    "for i in u:\n",
    "    count1=0\n",
    "    for j in st:\n",
    "        if i==j:\n",
    "            count1+=1\n",
    "    if count1>count:\n",
    "        u=i\n",
    "        count=count1\n",
    "print(u,count)"
   ]
  },
  {
   "cell_type": "code",
   "execution_count": 29,
   "metadata": {},
   "outputs": [
    {
     "name": "stdout",
     "output_type": "stream",
     "text": [
      "{'H': 1, 'e': 1, 'l': 3, 'o': 2, 'W': 1, 'r': 1, 'd': 1}\n",
      "[['l', 3]]\n"
     ]
    }
   ],
   "source": [
    "st=\"HelloWorld\"\n",
    "dit={}\n",
    "for i in st:\n",
    "    if i not in dit:\n",
    "        if i==\" \":\n",
    "            dit[\"space\"]=1\n",
    "        dit[i]=1\n",
    "    else:\n",
    "        dit[i]+=1\n",
    "print(dit)\n",
    "v=0\n",
    "res=[]\n",
    "for j in dit:\n",
    "    if dit[j]>v:\n",
    "        v=dit[j]\n",
    "        res=[[j,dit[j]]]   \n",
    "print(res)"
   ]
  },
  {
   "cell_type": "code",
   "execution_count": 44,
   "metadata": {},
   "outputs": [
    {
     "name": "stdout",
     "output_type": "stream",
     "text": [
      "{'H': 1, 'e': 1, 'l': 3, 'o': 2, 'W': 1, 'r': 1, 'd': 1}\n",
      "[['H', 1], ['e', 1], ['W', 1], ['r', 1], ['d', 1]]\n"
     ]
    }
   ],
   "source": [
    "st=\"HelloWorld\"\n",
    "dit={}\n",
    "for i in st:\n",
    "    if i not in dit: \n",
    "        dit[i]=1\n",
    "    else:\n",
    "        dit[i]+=1\n",
    "print(dit)\n",
    "v=len(st)\n",
    "ch=\"\"\n",
    "res=[]\n",
    "for j in dit:\n",
    "    if dit[j]<v:\n",
    "        v=dit[j]\n",
    "        res=[[]]\n",
    "        ch=j\n",
    "        res[-1]=[j,dit[j]]\n",
    "    elif dit[j]==v:\n",
    "        res+=[[]]\n",
    "        res[-1]=[j,dit[j]]\n",
    "print(res)"
   ]
  },
  {
   "cell_type": "code",
   "execution_count": 49,
   "metadata": {},
   "outputs": [
    {
     "name": "stdout",
     "output_type": "stream",
     "text": [
      "{'H': 1, 'e': 1, 'l': 3, 'o': 2, 'W': 1, 'r': 1, 'd': 1}\n",
      "{1: ['H', 'e', 'W', 'r', 'd'], 3: ['l'], 2: ['o']}\n"
     ]
    }
   ],
   "source": [
    "st=\"HelloWorld\"\n",
    "dit={}\n",
    "for i in st:\n",
    "    if i not in dit: \n",
    "        dit[i]=1\n",
    "    else:\n",
    "        dit[i]+=1\n",
    "print(dit)\n",
    "res={}\n",
    "for j in dit:\n",
    "    if dit[j] not in res:\n",
    "        res[dit[j]]=[j]\n",
    "    else:\n",
    "        res[dit[j]]+=[j]\n",
    "print(res)"
   ]
  },
  {
   "cell_type": "code",
   "execution_count": 3,
   "metadata": {},
   "outputs": [
    {
     "name": "stdout",
     "output_type": "stream",
     "text": [
      "{'H': 1, 'e': 1, 'l': 3, 'o': 2, 'W': 1, 'r': 1, 'd': 1}\n",
      "{1: ['H', 'e', 'W', 'r', 'd'], 3: ['l'], 2: ['o']}\n",
      "1\n",
      "['H', 'e', 'W', 'r', 'd']\n",
      "5\n"
     ]
    }
   ],
   "source": [
    "st=\"HelloWorld\"\n",
    "dit={}\n",
    "for i in st:\n",
    "    if i not in dit: \n",
    "        dit[i]=1\n",
    "    else:\n",
    "        dit[i]+=1\n",
    "print(dit)\n",
    "res={}\n",
    "for j in dit:\n",
    "    if dit[j] not in res:\n",
    "        res[dit[j]]=[j]\n",
    "    else:\n",
    "        res[dit[j]]+=[j]\n",
    "print(res)\n",
    "a=9\n",
    "for k in res:\n",
    "    if k<a:\n",
    "        a=k\n",
    "print(a)\n",
    "print(res[a])\n",
    "print(len(res[a]))"
   ]
  },
  {
   "cell_type": "code",
   "execution_count": 17,
   "metadata": {},
   "outputs": [
    {
     "name": "stdout",
     "output_type": "stream",
     "text": [
      "dlroWolleH\n"
     ]
    }
   ],
   "source": [
    "#Wap to reverse the string without slicing.\n",
    "st=\"HelloWorld\"\n",
    "res=\"\"\n",
    "for i in st:\n",
    "    res=i+res\n",
    "print(res)"
   ]
  },
  {
   "cell_type": "code",
   "execution_count": 16,
   "metadata": {},
   "outputs": [
    {
     "name": "stdout",
     "output_type": "stream",
     "text": [
      "Palindrome\n"
     ]
    }
   ],
   "source": [
    "st=\"level\"\n",
    "res=\"\"\n",
    "for i in st:\n",
    "    res=i+res\n",
    "if res==st:\n",
    "    print(\"Palindrome\")\n",
    "else:\n",
    "    print(\"Not Palindrome\")"
   ]
  }
 ],
 "metadata": {
  "kernelspec": {
   "display_name": "Python 3",
   "language": "python",
   "name": "python3"
  },
  "language_info": {
   "codemirror_mode": {
    "name": "ipython",
    "version": 3
   },
   "file_extension": ".py",
   "mimetype": "text/x-python",
   "name": "python",
   "nbconvert_exporter": "python",
   "pygments_lexer": "ipython3",
   "version": "3.10.9"
  },
  "orig_nbformat": 4
 },
 "nbformat": 4,
 "nbformat_minor": 2
}
