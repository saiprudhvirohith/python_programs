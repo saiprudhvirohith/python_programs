{
 "cells": [
  {
   "cell_type": "code",
   "execution_count": 1,
   "metadata": {},
   "outputs": [
    {
     "name": "stdout",
     "output_type": "stream",
     "text": [
      "H\n",
      "E\n",
      "L\n",
      "L\n",
      "O\n"
     ]
    }
   ],
   "source": [
    "#Wap to extract each and every character in given string by using for loop.\n",
    "st=\"HELLO\"\n",
    "for i in st:\n",
    "    print(i)"
   ]
  },
  {
   "cell_type": "code",
   "execution_count": 3,
   "metadata": {},
   "outputs": [
    {
     "name": "stdout",
     "output_type": "stream",
     "text": [
      "10\n",
      "2.5\n",
      "True\n",
      "[10, 20, 30]\n",
      "(10, 20, 30)\n",
      "{'s': 100}\n",
      "b'10101'\n"
     ]
    }
   ],
   "source": [
    "#Wap to extarct each data item in the collection.\n",
    "l=[10,2.5,True,[10,20,30],(10,20,30),{\"s\":100},b'10101']\n",
    "for i in l:\n",
    "    print(i)"
   ]
  },
  {
   "cell_type": "code",
   "execution_count": 4,
   "metadata": {},
   "outputs": [
    {
     "name": "stdout",
     "output_type": "stream",
     "text": [
      "True\n",
      "2.5\n",
      "10\n",
      "b'10101'\n",
      "(10, 20, 30)\n"
     ]
    }
   ],
   "source": [
    "l={10,2.5,True,(10,20,30),b'10101'}\n",
    "for i in l:\n",
    "    print(i)"
   ]
  },
  {
   "cell_type": "code",
   "execution_count": 2,
   "metadata": {},
   "outputs": [
    {
     "name": "stdout",
     "output_type": "stream",
     "text": [
      "10\n",
      "True\n",
      "(10, 20, 30)\n",
      "(10+2j)\n"
     ]
    }
   ],
   "source": [
    "l={10:2.5,True:[10,20,30],(10,20,30):{\"s\":100},10+2j:b'10101'}\n",
    "for i in l:\n",
    "    print(i)"
   ]
  },
  {
   "cell_type": "code",
   "execution_count": 8,
   "metadata": {},
   "outputs": [
    {
     "name": "stdout",
     "output_type": "stream",
     "text": [
      "2.5\n",
      "[10, 20, 30]\n",
      "{'s': 100}\n",
      "b'10101'\n"
     ]
    }
   ],
   "source": [
    "l={10:2.5,True:[10,20,30],(10,20,30):{\"s\":100},10+2j:b'10101'}\n",
    "for i in l:\n",
    "    print(l[i])"
   ]
  },
  {
   "cell_type": "code",
   "execution_count": 9,
   "metadata": {},
   "outputs": [
    {
     "name": "stdout",
     "output_type": "stream",
     "text": [
      "10 : 2.5\n",
      "True : [10, 20, 30]\n",
      "(10, 20, 30) : {'s': 100}\n",
      "(10+2j) : b'10101'\n"
     ]
    }
   ],
   "source": [
    "l={10:2.5,True:[10,20,30],(10,20,30):{\"s\":100},10+2j:b'10101'}\n",
    "for i in l:\n",
    "    print(i,\":\",l[i])"
   ]
  },
  {
   "cell_type": "code",
   "execution_count": 7,
   "metadata": {},
   "outputs": [
    {
     "name": "stdout",
     "output_type": "stream",
     "text": [
      "H\n",
      "O\n",
      "W\n",
      "D\n"
     ]
    }
   ],
   "source": [
    "#1.Wap to extract Uppercase characters from given string.\n",
    "sy=\"HellO WorlD\"\n",
    "for i in sy:\n",
    "    if \"A\"<=i<=\"Z\":\n",
    "        print(i)"
   ]
  },
  {
   "cell_type": "code",
   "execution_count": 14,
   "metadata": {},
   "outputs": [
    {
     "name": "stdout",
     "output_type": "stream",
     "text": [
      "hfjdmn@*&\n"
     ]
    }
   ],
   "source": [
    "#2.Wap to extract and store the special characters and lowercase characters in given string.\n",
    "st=\"AMhfjdmn@*&1234\"\n",
    "res=\"\"\n",
    "for i in st:\n",
    "    if  not(\"A\"<=i<=\"Z\" or \"0\"<=i<=\"9\"):\n",
    "        res+=i\n",
    "print(res)"
   ]
  },
  {
   "cell_type": "code",
   "execution_count": 17,
   "metadata": {},
   "outputs": [
    {
     "name": "stdout",
     "output_type": "stream",
     "text": [
      "AM hfjdmn @*& 1234\n"
     ]
    }
   ],
   "source": [
    "#3.Wap to segregate the characters from given string.\n",
    "st=\"AMhfjdmn@*&1234\"\n",
    "up=\"\"\n",
    "lo=\"\"\n",
    "sp=\"\"\n",
    "nu=\"\"\n",
    "for i in st:\n",
    "    if \"A\"<=i<=\"Z\":\n",
    "        up+=i\n",
    "    elif \"a\"<=i<=\"z\":\n",
    "        lo+=i\n",
    "    elif \"0\"<=i<=\"9\":\n",
    "        nu+=i\n",
    "    else:\n",
    "        sp+=i\n",
    "print(up,lo,sp,nu)"
   ]
  },
  {
   "cell_type": "code",
   "execution_count": 31,
   "metadata": {},
   "outputs": [
    {
     "name": "stdout",
     "output_type": "stream",
     "text": [
      "Hello&123#wD\n",
      "Hello&123#wD\n",
      "Hello&123#wD\n",
      "Valid\n"
     ]
    }
   ],
   "source": [
    "#4.Wap to check the given password is valid or in valid.\n",
    "#min 1 numeric char.\n",
    "#min 2 special char except .,(),{},space.\n",
    "#starting and ending char should be uppercase character.\n",
    "#max 5 lowercas char and min 1 lowercase char.\n",
    "#given input is string and length of the string min 8 and max 20 char.\n",
    "pas=\"Hello&123#wD\"\n",
    "if 8<=len(pas)<=20:\n",
    "    print(pas)\n",
    "    if \"A\"<=pas[0]<=\"Z\" and \"A\"<=pas[-1]<=\"Z\":\n",
    "        print(pas) \n",
    "        up,lo,sp,nu=\"\",\"\",\"\",\"\"\n",
    "        if \".\" not in pas and \"(\" not in pas and \")\" not in pas and \"{\" not in pas and \"}\" not in pas and \".\" not in pas and \" \" not in pas:\n",
    "            print(pas)\n",
    "            for i in pas:\n",
    "                if \"A\"<=i<=\"Z\":\n",
    "                    up+=i\n",
    "                elif \"a\"<=i<=\"z\":\n",
    "                    lo+=i\n",
    "                elif \"0\"<=i<=\"9\":\n",
    "                    nu+=i\n",
    "                else:\n",
    "                    sp+=i\n",
    "            if len(nu)>=1 and len(sp)>=2 and 1<=len(lo)<=5:\n",
    "                print(\"Valid\")\n",
    "            else:\n",
    "                print(\"Invalid Password\")\n",
    "                \n",
    "        else:\n",
    "            print(\"Inavlid password\")\n",
    "    else:\n",
    "        print(\"Inavlid password\")\n",
    "else:\n",
    "    print(\"Inavlid password\")\n"
   ]
  },
  {
   "cell_type": "code",
   "execution_count": 40,
   "metadata": {},
   "outputs": [
    {
     "name": "stdout",
     "output_type": "stream",
     "text": [
      "Hello&123#wD\n",
      "Hello&123#wD\n",
      "Valid\n"
     ]
    }
   ],
   "source": [
    "pas=\"Hello&123#wD\"\n",
    "if 8<=len(pas)<=20:\n",
    "    print(pas)\n",
    "    if \"A\"<=pas[0]<=\"Z\" and \"A\"<=pas[-1]<=\"Z\":\n",
    "        print(pas) \n",
    "        up,lo,sp,nu=\"\",\"\",\"\",\"\"\n",
    "        p=\"\"\n",
    "        for i in pas:\n",
    "            if \"A\"<=i<=\"Z\":\n",
    "                up+=i\n",
    "            elif \"a\"<=i<=\"z\":\n",
    "                lo+=i\n",
    "            elif \"0\"<=i<=\"9\":\n",
    "                nu+=i\n",
    "            elif i not in (\".(){} \"):\n",
    "                sp+=i\n",
    "            else:\n",
    "                p+=i\n",
    "        if len(nu)>=1 and len(sp)>=2 and 1<=len(lo)<=5 and len(p)==0:\n",
    "            print(\"Valid\")\n",
    "        elif not len(nu)>=1:\n",
    "            print(\"Invalid Password min 1 numeric\")\n",
    "        elif not len(sp)>=2:\n",
    "            print(\"Invalid Password min 2 special char\")\n",
    "        elif not 1<=len(lo)<=5:\n",
    "            print(\"Invalid Password min 1 and max 5 lowercase char\")\n",
    "        else:\n",
    "            print(\"Invalid Password\")\n",
    "                \n",
    "        \n",
    "    else:\n",
    "        print(\"Inavlid password\")\n",
    "else:\n",
    "    print(\"Inavlid password\")"
   ]
  },
  {
   "cell_type": "code",
   "execution_count": 41,
   "metadata": {},
   "outputs": [
    {
     "name": "stdout",
     "output_type": "stream",
     "text": [
      "7\n"
     ]
    }
   ],
   "source": [
    "#5.Wap to count the number of data items in given collection with length function.\n",
    "l=[10,2.5,True,[10,20,30],(10,20,30),{\"s\":100},b'10101']\n",
    "count=0\n",
    "for i in l:\n",
    "    count+=1\n",
    "print(count)"
   ]
  },
  {
   "cell_type": "code",
   "execution_count": 43,
   "metadata": {},
   "outputs": [
    {
     "name": "stdout",
     "output_type": "stream",
     "text": [
      "o --> 2\n"
     ]
    }
   ],
   "source": [
    "#6.Wap to count specific data item in given collection.\n",
    "st=\"Hello World\"\n",
    "sp=\"o\"\n",
    "count=0\n",
    "for i in st:\n",
    "    if i==sp:\n",
    "        count+=1\n",
    "print(sp,'-->',count)"
   ]
  },
  {
   "cell_type": "code",
   "execution_count": 48,
   "metadata": {},
   "outputs": [
    {
     "name": "stdout",
     "output_type": "stream",
     "text": [
      "HeloWrd\n",
      "H 1\n",
      "e 1\n",
      "l 3\n",
      "o 2\n",
      "W 1\n",
      "r 1\n",
      "d 1\n"
     ]
    }
   ],
   "source": [
    "#7.Wap to count the each data item in given collection.\n",
    "st=\"HelloWorld\"\n",
    "u=\"\"\n",
    "count=0\n",
    "for i in st:\n",
    "    if i not in u:\n",
    "        u+=i\n",
    "print(u)\n",
    "\n",
    "for i in u:\n",
    "    count=0\n",
    "    for j in st:\n",
    "        if i==j:\n",
    "            count+=1\n",
    "    print(i,count)"
   ]
  },
  {
   "cell_type": "code",
   "execution_count": 7,
   "metadata": {},
   "outputs": [
    {
     "name": "stdout",
     "output_type": "stream",
     "text": [
      "{'H': 1, 'e': 1, 'l': 3, 'o': 2, 'W': 1, 'r': 1, 'd': 1}\n"
     ]
    }
   ],
   "source": [
    "st=\"HelloWorld\"\n",
    "dit={}\n",
    "for i in st:\n",
    "    if i not in dit:\n",
    "        if i==\" \":\n",
    "            dit[\"space\"]=1\n",
    "        dit[i]=1\n",
    "    else:\n",
    "        dit[i]+=1\n",
    "print(dit)"
   ]
  },
  {
   "cell_type": "code",
   "execution_count": 2,
   "metadata": {},
   "outputs": [
    {
     "name": "stdout",
     "output_type": "stream",
     "text": [
      "['H', 'e', 'l', 'o', 'W', 'r', 'd']\n"
     ]
    }
   ],
   "source": [
    "st=\"HelloWorld\"\n",
    "u=[]\n",
    "count=0\n",
    "for i in st:\n",
    "    if i not in u:\n",
    "        u+=[i]\n",
    "print(u)"
   ]
  },
  {
   "cell_type": "code",
   "execution_count": 3,
   "metadata": {},
   "outputs": [
    {
     "name": "stdout",
     "output_type": "stream",
     "text": [
      "[1, 2, 3, 4, 43, 21, 5, 7, 55]\n"
     ]
    }
   ],
   "source": [
    "st=[1,2,3,4,43,21,5,3,5,7,55]\n",
    "u=[]\n",
    "count=0\n",
    "for i in st:\n",
    "    if i not in u:\n",
    "        u+=[i]\n",
    "print(u)"
   ]
  },
  {
   "cell_type": "code",
   "execution_count": 12,
   "metadata": {},
   "outputs": [
    {
     "name": "stdout",
     "output_type": "stream",
     "text": [
      "HeloWrd\n",
      "l 3\n"
     ]
    }
   ],
   "source": [
    "#8.Wap to fin dout max occurence character in given string.\n",
    "st=\"HelloWorld\"\n",
    "u=\"\"\n",
    "count=0\n",
    "for i in st:\n",
    "    if i not in u:\n",
    "        u+=i\n",
    "print(u)\n",
    "\n",
    "for i in u:\n",
    "    count1=0\n",
    "    for j in st:\n",
    "        if i==j:\n",
    "            count1+=1\n",
    "    if count1>count:\n",
    "        u=i\n",
    "        count=count1\n",
    "print(u,count)"
   ]
  },
  {
   "cell_type": "code",
   "execution_count": 29,
   "metadata": {},
   "outputs": [
    {
     "name": "stdout",
     "output_type": "stream",
     "text": [
      "{'H': 1, 'e': 1, 'l': 3, 'o': 2, 'W': 1, 'r': 1, 'd': 1}\n",
      "[['l', 3]]\n"
     ]
    }
   ],
   "source": [
    "st=\"HelloWorld\"\n",
    "dit={}\n",
    "for i in st:\n",
    "    if i not in dit:\n",
    "        if i==\" \":\n",
    "            dit[\"space\"]=1\n",
    "        dit[i]=1\n",
    "    else:\n",
    "        dit[i]+=1\n",
    "print(dit)\n",
    "v=0\n",
    "res=[]\n",
    "for j in dit:\n",
    "    if dit[j]>v:\n",
    "        v=dit[j]\n",
    "        res=[[j,dit[j]]]   \n",
    "print(res)"
   ]
  },
  {
   "cell_type": "code",
   "execution_count": 44,
   "metadata": {},
   "outputs": [
    {
     "name": "stdout",
     "output_type": "stream",
     "text": [
      "{'H': 1, 'e': 1, 'l': 3, 'o': 2, 'W': 1, 'r': 1, 'd': 1}\n",
      "[['H', 1], ['e', 1], ['W', 1], ['r', 1], ['d', 1]]\n"
     ]
    }
   ],
   "source": [
    "st=\"HelloWorld\"\n",
    "dit={}\n",
    "for i in st:\n",
    "    if i not in dit: \n",
    "        dit[i]=1\n",
    "    else:\n",
    "        dit[i]+=1\n",
    "print(dit)\n",
    "v=len(st)\n",
    "ch=\"\"\n",
    "res=[]\n",
    "for j in dit:\n",
    "    if dit[j]<v:\n",
    "        v=dit[j]\n",
    "        res=[[]]\n",
    "        ch=j\n",
    "        res[-1]=[j,dit[j]]\n",
    "    elif dit[j]==v:\n",
    "        res+=[[]]\n",
    "        res[-1]=[j,dit[j]]\n",
    "print(res)"
   ]
  },
  {
   "cell_type": "code",
   "execution_count": 49,
   "metadata": {},
   "outputs": [
    {
     "name": "stdout",
     "output_type": "stream",
     "text": [
      "{'H': 1, 'e': 1, 'l': 3, 'o': 2, 'W': 1, 'r': 1, 'd': 1}\n",
      "{1: ['H', 'e', 'W', 'r', 'd'], 3: ['l'], 2: ['o']}\n"
     ]
    }
   ],
   "source": [
    "st=\"HelloWorld\"\n",
    "dit={}\n",
    "for i in st:\n",
    "    if i not in dit: \n",
    "        dit[i]=1\n",
    "    else:\n",
    "        dit[i]+=1\n",
    "print(dit)\n",
    "res={}\n",
    "for j in dit:\n",
    "    if dit[j] not in res:\n",
    "        res[dit[j]]=[j]\n",
    "    else:\n",
    "        res[dit[j]]+=[j]\n",
    "print(res)"
   ]
  },
  {
   "cell_type": "code",
   "execution_count": 3,
   "metadata": {},
   "outputs": [
    {
     "name": "stdout",
     "output_type": "stream",
     "text": [
      "{'H': 1, 'e': 1, 'l': 3, 'o': 2, 'W': 1, 'r': 1, 'd': 1}\n",
      "{1: ['H', 'e', 'W', 'r', 'd'], 3: ['l'], 2: ['o']}\n",
      "1\n",
      "['H', 'e', 'W', 'r', 'd']\n",
      "5\n"
     ]
    }
   ],
   "source": [
    "st=\"HelloWorld\"\n",
    "dit={}\n",
    "for i in st:\n",
    "    if i not in dit: \n",
    "        dit[i]=1\n",
    "    else:\n",
    "        dit[i]+=1\n",
    "print(dit)\n",
    "res={}\n",
    "for j in dit:\n",
    "    if dit[j] not in res:\n",
    "        res[dit[j]]=[j]\n",
    "    else:\n",
    "        res[dit[j]]+=[j]\n",
    "print(res)\n",
    "a=9\n",
    "for k in res:\n",
    "    if k<a:\n",
    "        a=k\n",
    "print(a)\n",
    "print(res[a])\n",
    "print(len(res[a]))"
   ]
  },
  {
   "cell_type": "code",
   "execution_count": 17,
   "metadata": {},
   "outputs": [
    {
     "name": "stdout",
     "output_type": "stream",
     "text": [
      "dlroWolleH\n"
     ]
    }
   ],
   "source": [
    "#9.Wap to reverse the string without slicing.\n",
    "st=\"HelloWorld\"\n",
    "res=\"\"\n",
    "for i in st:\n",
    "    res=i+res\n",
    "print(res)"
   ]
  },
  {
   "cell_type": "code",
   "execution_count": 16,
   "metadata": {},
   "outputs": [
    {
     "name": "stdout",
     "output_type": "stream",
     "text": [
      "Palindrome\n"
     ]
    }
   ],
   "source": [
    "#10.Wap to check given dtring is palindrome or not.\n",
    "st=\"level\"\n",
    "res=\"\"\n",
    "for i in st:\n",
    "    res=i+res\n",
    "if res==st:\n",
    "    print(\"Palindrome\")\n",
    "else:\n",
    "    print(\"Not Palindrome\")"
   ]
  },
  {
   "cell_type": "code",
   "execution_count": 1,
   "metadata": {},
   "outputs": [
    {
     "name": "stdout",
     "output_type": "stream",
     "text": [
      "M\n",
      "Mo\n",
      "Mob\n",
      "Mobi\n",
      "Mobil\n",
      "Mobile\n"
     ]
    }
   ],
   "source": [
    "st=\"Mobile\"\n",
    "res=\"\"\n",
    "for i in st:\n",
    "    res+=i\n",
    "    print(res)"
   ]
  },
  {
   "cell_type": "code",
   "execution_count": 115,
   "metadata": {},
   "outputs": [
    {
     "name": "stdout",
     "output_type": "stream",
     "text": [
      "M\n",
      "Mo\n",
      "Mob\n",
      "Mobi\n",
      "Mobil\n",
      "Mobile\n"
     ]
    }
   ],
   "source": [
    "st=\"Mobile\"\n",
    "for i in range(1,len(st)+1):\n",
    "    print(st[0:i])"
   ]
  },
  {
   "cell_type": "code",
   "execution_count": 14,
   "metadata": {},
   "outputs": [
    {
     "name": "stdout",
     "output_type": "stream",
     "text": [
      "M\n",
      "Mo\n",
      "Mob\n",
      "Mobi\n",
      "Mobil\n",
      "Mobile\n"
     ]
    }
   ],
   "source": [
    "st=\"Mobile\"\n",
    "pos=1\n",
    "for i in st:\n",
    "    print(st[0:pos])\n",
    "    pos+=1"
   ]
  },
  {
   "cell_type": "code",
   "execution_count": 67,
   "metadata": {},
   "outputs": [
    {
     "name": "stdout",
     "output_type": "stream",
     "text": [
      "M\n",
      "Mo\n",
      "Mob\n",
      "Mobi\n",
      "Mobil\n",
      "Mobile\n",
      "o\n",
      "ob\n",
      "obi\n",
      "obil\n",
      "obile\n",
      "b\n",
      "bi\n",
      "bil\n",
      "bile\n",
      "i\n",
      "il\n",
      "ile\n",
      "l\n",
      "le\n",
      "e\n"
     ]
    }
   ],
   "source": [
    "st=\"Mobile\"\n",
    "s=0\n",
    "for i in st:\n",
    "    pos=1\n",
    "    for j in st:\n",
    "        if s<pos:\n",
    "            print(st[s:pos])\n",
    "        pos+=1\n",
    "    s+=1"
   ]
  },
  {
   "cell_type": "code",
   "execution_count": 84,
   "metadata": {},
   "outputs": [
    {
     "name": "stdout",
     "output_type": "stream",
     "text": [
      "1\n",
      "1 2\n",
      "1 2 3\n",
      "1 2 3 4\n",
      "1 2 3 4 5\n"
     ]
    }
   ],
   "source": [
    "n=5\n",
    "for i in range(1,n+1):\n",
    "    for j in range(1,i):\n",
    "        print(j,end=\" \")\n",
    "    print(i)"
   ]
  },
  {
   "cell_type": "code",
   "execution_count": 86,
   "metadata": {},
   "outputs": [
    {
     "data": {
      "text/plain": [
       "[0, 1, 2, 3, 4, 5, 6, 7, 8, 9]"
      ]
     },
     "execution_count": 86,
     "metadata": {},
     "output_type": "execute_result"
    }
   ],
   "source": [
    "list(range(0,10,1))"
   ]
  },
  {
   "cell_type": "code",
   "execution_count": 87,
   "metadata": {},
   "outputs": [
    {
     "data": {
      "text/plain": [
       "[0, 2, 4, 6, 8]"
      ]
     },
     "execution_count": 87,
     "metadata": {},
     "output_type": "execute_result"
    }
   ],
   "source": [
    "list(range(0,10,2))"
   ]
  },
  {
   "cell_type": "code",
   "execution_count": 89,
   "metadata": {},
   "outputs": [
    {
     "data": {
      "text/plain": [
       "[]"
      ]
     },
     "execution_count": 89,
     "metadata": {},
     "output_type": "execute_result"
    }
   ],
   "source": [
    "list(range(0,10,-1))"
   ]
  },
  {
   "cell_type": "code",
   "execution_count": 91,
   "metadata": {},
   "outputs": [
    {
     "data": {
      "text/plain": [
       "[10, 9, 8, 7, 6, 5, 4, 3, 2, 1]"
      ]
     },
     "execution_count": 91,
     "metadata": {},
     "output_type": "execute_result"
    }
   ],
   "source": [
    "list(range(10,0,-1))"
   ]
  },
  {
   "cell_type": "code",
   "execution_count": 99,
   "metadata": {},
   "outputs": [
    {
     "data": {
      "text/plain": [
       "[-10, -9, -8, -7, -6, -5, -4, -3, -2]"
      ]
     },
     "execution_count": 99,
     "metadata": {},
     "output_type": "execute_result"
    }
   ],
   "source": [
    "list(range(-10,-1,1))"
   ]
  },
  {
   "cell_type": "code",
   "execution_count": 101,
   "metadata": {},
   "outputs": [
    {
     "data": {
      "text/plain": [
       "[-1, -2, -3, -4, -5, -6, -7, -8, -9]"
      ]
     },
     "execution_count": 101,
     "metadata": {},
     "output_type": "execute_result"
    }
   ],
   "source": [
    "list(range(-1,-10,-1))"
   ]
  },
  {
   "cell_type": "code",
   "execution_count": 117,
   "metadata": {},
   "outputs": [
    {
     "name": "stdout",
     "output_type": "stream",
     "text": [
      "M\n",
      "Mo\n",
      "Mob\n",
      "Mobi\n",
      "Mobil\n",
      "Mobile\n",
      "o\n",
      "ob\n",
      "obi\n",
      "obil\n",
      "obile\n",
      "b\n",
      "bi\n",
      "bil\n",
      "bile\n",
      "i\n",
      "il\n",
      "ile\n",
      "l\n",
      "le\n",
      "e\n"
     ]
    }
   ],
   "source": [
    "st=\"Mobile\"\n",
    "for i in range(0,len(st)):\n",
    "    for j in range(i,len(st)+1):\n",
    "        if i<j:\n",
    "            print(st[i:j])"
   ]
  },
  {
   "cell_type": "code",
   "execution_count": 127,
   "metadata": {},
   "outputs": [
    {
     "name": "stdout",
     "output_type": "stream",
     "text": [
      "M\n",
      "Mo\n",
      "Mob\n",
      "Mobi\n",
      "Mobil\n",
      "Mobile\n",
      "o\n",
      "ob\n",
      "obi\n",
      "obil\n",
      "obile\n",
      "b\n",
      "bi\n",
      "bil\n",
      "bile\n",
      "i\n",
      "il\n",
      "ile\n",
      "l\n",
      "le\n",
      "e\n"
     ]
    }
   ],
   "source": [
    "st=\"Mobile\"\n",
    "for i in range(0,len(st)):\n",
    "    for j in range(i+1,len(st)+1):\n",
    "         print(st[i:j])"
   ]
  },
  {
   "cell_type": "code",
   "execution_count": 126,
   "metadata": {},
   "outputs": [
    {
     "name": "stdout",
     "output_type": "stream",
     "text": [
      "Mobile\n",
      "Mobil\n",
      "Mobi\n",
      "Mob\n",
      "Mo\n",
      "M\n",
      "obile\n",
      "obil\n",
      "obi\n",
      "ob\n",
      "o\n",
      "bile\n",
      "bil\n",
      "bi\n",
      "b\n",
      "ile\n",
      "il\n",
      "i\n",
      "le\n",
      "l\n",
      "e\n"
     ]
    }
   ],
   "source": [
    "st=\"Mobile\"\n",
    "for i in range(0,len(st)):\n",
    "    for j in range(len(st),i,-1):\n",
    "        if i<j:\n",
    "            print(st[i:j])"
   ]
  },
  {
   "cell_type": "code",
   "execution_count": 31,
   "metadata": {},
   "outputs": [
    {
     "name": "stdout",
     "output_type": "stream",
     "text": [
      "2\n"
     ]
    }
   ],
   "source": [
    "n=49321\n",
    "c=str(n)\n",
    "a=5\n",
    "count=0\n",
    "for i in range(0,len(c)):\n",
    "    m=0\n",
    "    if int(c[i])==a:\n",
    "        count+=1\n",
    "    else:\n",
    "        m=int(c[i])\n",
    "        for j in range(0,len(c)):\n",
    "            if i!=j and m<a:\n",
    "                m+=int(c[j])  \n",
    "            elif m==a:\n",
    "                m=0\n",
    "                count+=1\n",
    "print(count)"
   ]
  },
  {
   "cell_type": "code",
   "execution_count": 3,
   "metadata": {},
   "outputs": [
    {
     "name": "stdout",
     "output_type": "stream",
     "text": [
      "['abcdcba', 'bcdcb', 'cdc', 'xyzzyx', 'yzzy', '5445']\n"
     ]
    }
   ],
   "source": [
    "st=\"abcdcbalifhxyzzyx15445#$5\"\n",
    "l=[]\n",
    "for i in range(0,len(st)+1):\n",
    "    for j in range(i+1,len(st)+1):\n",
    "        res=st[i:j]\n",
    "        if len(res)>=3 and res==res[::-1]:\n",
    "            l+=[res]\n",
    "print(l)"
   ]
  },
  {
   "cell_type": "code",
   "execution_count": 8,
   "metadata": {},
   "outputs": [
    {
     "name": "stdout",
     "output_type": "stream",
     "text": [
      "['abcdcba', 'bcdcb', 'cdc', 'xyzzyx', 'yzzy', '5445']\n"
     ]
    }
   ],
   "source": [
    "st=\"abcdcbalifhxyzzyx15445#$5\"\n",
    "l=[]\n",
    "for i in range(0,len(st)+1):\n",
    "    for j in range(i+1,len(st)+1):\n",
    "        res=\"\"\n",
    "        for k in range(i,j):\n",
    "            res+=st[k]\n",
    "        rev=\"\"\n",
    "        for m in range (0,len(res)):\n",
    "            rev=res[m]+rev\n",
    "        if len(res)>=3 and res==rev:\n",
    "            l+=[res]\n",
    "print(l)"
   ]
  },
  {
   "cell_type": "code",
   "execution_count": 28,
   "metadata": {},
   "outputs": [
    {
     "name": "stdout",
     "output_type": "stream",
     "text": [
      "7\n"
     ]
    }
   ],
   "source": [
    "n=49321\n",
    "c=str(n)\n",
    "a=5\n",
    "count=0\n",
    "for i in range(0,len(c)):\n",
    "    m=0\n",
    "    if int(c[i])==a:\n",
    "        count+=1\n",
    "    elif int(c[i])<a:\n",
    "        m=int(c[i])\n",
    "        for j in range(0,len(c)):\n",
    "            if i!=j and (m+int(c[j])<=a):\n",
    "                m+=int(c[j])  \n",
    "            elif m==a:\n",
    "                count+=1\n",
    "print(count)"
   ]
  },
  {
   "cell_type": "code",
   "execution_count": 2,
   "metadata": {},
   "outputs": [
    {
     "name": "stdout",
     "output_type": "stream",
     "text": [
      "4\n"
     ]
    }
   ],
   "source": [
    "n=49321\n",
    "c=str(n)\n",
    "a=5\n",
    "count=0\n",
    "for i in range(0,len(c)):\n",
    "    m=0\n",
    "    if int(c[i])==a:\n",
    "        count+=1\n",
    "    elif int(c[i])<a:\n",
    "        m=int(c[i])\n",
    "        for j in range(0,len(c)):\n",
    "            if i!=j and m<a:\n",
    "                m+=int(c[j])  \n",
    "            elif m==a:\n",
    "                count+=1\n",
    "print(count)"
   ]
  },
  {
   "cell_type": "code",
   "execution_count": 21,
   "metadata": {},
   "outputs": [
    {
     "name": "stdout",
     "output_type": "stream",
     "text": [
      "2357260725312\n",
      "[1, 2, 3, 5, 7, 9, 0, 4]\n",
      "2357260725312\n"
     ]
    }
   ],
   "source": [
    "#Wap to eliminate the duplicate data item in given collection.\n",
    "#Without changing the collection address.\n",
    "c=[1,1,1,2,3,5,7,5,9,1,0,1,2,4]\n",
    "print(id(c))\n",
    "d=c.copy()\n",
    "s=[]\n",
    "count=0\n",
    "for i in range(0,len(d)):\n",
    "    if d[i] not in s:\n",
    "        s+=[d[i]]\n",
    "    elif d[i] in s:\n",
    "        del c[i-count]\n",
    "        count+=1\n",
    "print(c)\n",
    "print(id(c))\n",
    "\n"
   ]
  },
  {
   "cell_type": "code",
   "execution_count": 24,
   "metadata": {},
   "outputs": [
    {
     "name": "stdout",
     "output_type": "stream",
     "text": [
      "[2, 3, 5, 7, 5, 9, 0, 2, 4]\n"
     ]
    }
   ],
   "source": [
    "c=[1,2,3,5,7,5,9,1,0,1,2,4]\n",
    "u=c.copy()\n",
    "count=0\n",
    "for i in range(len(u)):\n",
    "    if u[i]==1:\n",
    "        del c[i-count]\n",
    "        count+=1\n",
    "print(c)"
   ]
  },
  {
   "cell_type": "code",
   "execution_count": 25,
   "metadata": {},
   "outputs": [
    {
     "name": "stdout",
     "output_type": "stream",
     "text": [
      "[3, 5, 7, 5, 9, 0, 4]\n"
     ]
    }
   ],
   "source": [
    "c=[1,2,3,5,7,5,9,1,0,1,2,4]\n",
    "u=c.copy()\n",
    "count=0\n",
    "for i in range(len(u)):\n",
    "    if u[i] in [1,2]:\n",
    "        del c[i-count]\n",
    "        count+=1\n",
    "print(c)"
   ]
  },
  {
   "cell_type": "code",
   "execution_count": 35,
   "metadata": {},
   "outputs": [
    {
     "ename": "IndexError",
     "evalue": "list index out of range",
     "output_type": "error",
     "traceback": [
      "\u001b[1;31m---------------------------------------------------------------------------\u001b[0m",
      "\u001b[1;31mIndexError\u001b[0m                                Traceback (most recent call last)",
      "\u001b[1;32mc:\\Users\\saipr\\OneDrive\\Documents\\rohith\\python_programs\\Control_Statements\\For_Loop.ipynb Cell 47\u001b[0m line \u001b[0;36m4\n\u001b[0;32m      <a href='vscode-notebook-cell:/c%3A/Users/saipr/OneDrive/Documents/rohith/python_programs/Control_Statements/For_Loop.ipynb#X64sZmlsZQ%3D%3D?line=1'>2</a>\u001b[0m n\u001b[39m=\u001b[39m\u001b[39m3\u001b[39m\n\u001b[0;32m      <a href='vscode-notebook-cell:/c%3A/Users/saipr/OneDrive/Documents/rohith/python_programs/Control_Statements/For_Loop.ipynb#X64sZmlsZQ%3D%3D?line=2'>3</a>\u001b[0m \u001b[39mfor\u001b[39;00m j \u001b[39min\u001b[39;00m \u001b[39mrange\u001b[39m(\u001b[39mlen\u001b[39m(c)):\n\u001b[1;32m----> <a href='vscode-notebook-cell:/c%3A/Users/saipr/OneDrive/Documents/rohith/python_programs/Control_Statements/For_Loop.ipynb#X64sZmlsZQ%3D%3D?line=3'>4</a>\u001b[0m     \u001b[39mif\u001b[39;00m j\u001b[39m==\u001b[39m\u001b[39m0\u001b[39m \u001b[39mor\u001b[39;00m c[j] \u001b[39mnot\u001b[39;00m \u001b[39min\u001b[39;00m c[:j\u001b[39m+\u001b[39m\u001b[39m1\u001b[39m]:\n\u001b[0;32m      <a href='vscode-notebook-cell:/c%3A/Users/saipr/OneDrive/Documents/rohith/python_programs/Control_Statements/For_Loop.ipynb#X64sZmlsZQ%3D%3D?line=4'>5</a>\u001b[0m         count\u001b[39m=\u001b[39m\u001b[39m0\u001b[39m\n\u001b[0;32m      <a href='vscode-notebook-cell:/c%3A/Users/saipr/OneDrive/Documents/rohith/python_programs/Control_Statements/For_Loop.ipynb#X64sZmlsZQ%3D%3D?line=5'>6</a>\u001b[0m         \u001b[39mfor\u001b[39;00m k \u001b[39min\u001b[39;00m \u001b[39mrange\u001b[39m(\u001b[39mlen\u001b[39m(c)):\n",
      "\u001b[1;31mIndexError\u001b[0m: list index out of range"
     ]
    }
   ],
   "source": [
    "c=[1,2,3,1,2,3,1,2,3,4,1,2,3,4]\n",
    "n=3\n",
    "for j in range(len(c)):\n",
    "    if j==0 or c[j] not in c[:j+1]:\n",
    "        count=0\n",
    "        for k in range(len(c)):\n",
    "            if c[j]==c[k]:\n",
    "                count+=1\n",
    "            if count==n:\n",
    "                del c[k]\n",
    "                break\n",
    "print(c)\n",
    "            \n",
    "    "
   ]
  },
  {
   "cell_type": "code",
   "execution_count": 19,
   "metadata": {},
   "outputs": [
    {
     "name": "stdout",
     "output_type": "stream",
     "text": [
      "[1, 2, 3, 4]\n",
      "[1, 2, 3, 1, 2, 3, 4, 4, 1, 2, 3]\n"
     ]
    }
   ],
   "source": [
    "#Wap to del nth occurence of each spedfic data item in given collection.\n",
    "c=[1,2,3,1,2,3,1,2,3,4,4,1,2,3,4]\n",
    "uni=[]\n",
    "for i in c:\n",
    "    if i not in uni:\n",
    "        uni+=[i]\n",
    "print(uni)\n",
    "n=3\n",
    "for j in uni:\n",
    "    count=0\n",
    "    for k in range(len(c)):\n",
    "        if j==c[k]:\n",
    "            count+=1\n",
    "        if count==n:\n",
    "            del c[k]\n",
    "            break\n",
    "print(c)"
   ]
  },
  {
   "cell_type": "code",
   "execution_count": 20,
   "metadata": {},
   "outputs": [
    {
     "name": "stdout",
     "output_type": "stream",
     "text": [
      "[1, 2, 3, 1, 2, 3, 1, 2, 3, 4, 1, 2, 3, 4]\n"
     ]
    }
   ],
   "source": [
    "#Wap to delete specfic data item for nth occurence value in given collection.\n",
    "c=[1,2,3,1,2,3,1,2,3,4,4,1,2,3,4]\n",
    "sp=4\n",
    "n=2\n",
    "count=0\n",
    "for i in range(len(c)):\n",
    "    if sp==c[i]:\n",
    "        count+=1\n",
    "    if count==n:\n",
    "        del c[i]\n",
    "        break\n",
    "print(c)"
   ]
  },
  {
   "cell_type": "code",
   "execution_count": 26,
   "metadata": {},
   "outputs": [
    {
     "name": "stdout",
     "output_type": "stream",
     "text": [
      "iphone watch ipad\n"
     ]
    }
   ],
   "source": [
    "#Wap to delete specfic data item for nth occurence value in given collection.\n",
    "st=\"iphone iwatch ipad\"\n",
    "sp=\"i\"\n",
    "s=\"\"\n",
    "n=2\n",
    "count=0\n",
    "for i in range(len(st)):\n",
    "    if sp!=st[i]:\n",
    "        s+=st[i]\n",
    "    else:\n",
    "        if st[i]==sp:\n",
    "            count+=1\n",
    "            if count!=n:\n",
    "                s+=st[i]\n",
    "print(s)"
   ]
  },
  {
   "cell_type": "code",
   "execution_count": 28,
   "metadata": {},
   "outputs": [
    {
     "name": "stdout",
     "output_type": "stream",
     "text": [
      "iphone watch ipad\n"
     ]
    }
   ],
   "source": [
    "st=\"iphone iwatch ipad\"\n",
    "sp=\"i\"\n",
    "s=\"\"\n",
    "n=2\n",
    "count=0\n",
    "for i in range(len(st)):\n",
    "    if st[i]==sp:\n",
    "        count+=1\n",
    "    if count==n:\n",
    "        s+=st[0:i]+st[i+1:]\n",
    "        break\n",
    "print(s)"
   ]
  },
  {
   "cell_type": "code",
   "execution_count": 31,
   "metadata": {},
   "outputs": [
    {
     "name": "stdout",
     "output_type": "stream",
     "text": [
      "(1, 2, 3, 1, 2, 3, 1, 2, 3, 4, 1, 2, 3, 4)\n"
     ]
    }
   ],
   "source": [
    "#Wap to delete specfic data item for nth occurence value in given collection.\n",
    "c=(1,2,3,1,2,3,1,2,3,4,4,1,2,3,4)\n",
    "sp=4\n",
    "s=()\n",
    "n=2\n",
    "count=0\n",
    "for i in range(len(c)):\n",
    "    if sp!=c[i]:\n",
    "        s+=(c[i],)\n",
    "    else:\n",
    "        if c[i]==sp:\n",
    "            count+=1\n",
    "            if count!=n:\n",
    "                s+=(c[i],)\n",
    "print(s)"
   ]
  },
  {
   "cell_type": "code",
   "execution_count": 37,
   "metadata": {},
   "outputs": [
    {
     "name": "stdout",
     "output_type": "stream",
     "text": [
      "(1, 2, 3, 1, 2, 3, 1, 2, 3, 4, 1, 2, 3, 4)\n"
     ]
    }
   ],
   "source": [
    "c=(1,2,3,1,2,3,1,2,3,4,4,1,2,3,4)\n",
    "sp=4\n",
    "s=()\n",
    "n=2\n",
    "count=0\n",
    "for i in range(len(c)):\n",
    "    if c[i]==sp:\n",
    "        count+=1\n",
    "    if count==n:\n",
    "        s+=c[0:i]+c[i+1:]\n",
    "        break\n",
    "print(s)"
   ]
  },
  {
   "cell_type": "code",
   "execution_count": 46,
   "metadata": {},
   "outputs": [
    {
     "name": "stdout",
     "output_type": "stream",
     "text": [
      "{1, 2.5, 'str', (3+6j)}\n",
      "(6.5+6j)\n"
     ]
    }
   ],
   "source": [
    "#Wap sum of data item in given collection.\n",
    "c={1,2.5,3+6j,\"str\",True}\n",
    "print(c)\n",
    "s=0\n",
    "if type(c) in [list,tuple,set]:\n",
    "    for i in c:\n",
    "        if type(i) in [int,float,complex,bool]:\n",
    "            s+=i\n",
    "print(s)"
   ]
  },
  {
   "cell_type": "code",
   "execution_count": 47,
   "metadata": {},
   "outputs": [
    {
     "name": "stdout",
     "output_type": "stream",
     "text": [
      "18\n"
     ]
    }
   ],
   "source": [
    "st=\"abc156cde123\"\n",
    "s=0\n",
    "for i in st:\n",
    "    if \"0\"<=i<=\"9\":\n",
    "        s+=int(i)\n",
    "print(s)"
   ]
  },
  {
   "cell_type": "code",
   "execution_count": 63,
   "metadata": {},
   "outputs": [
    {
     "name": "stdout",
     "output_type": "stream",
     "text": [
      "279\n"
     ]
    }
   ],
   "source": [
    "st='abc156bca123adf'\n",
    "s=0\n",
    "c=''\n",
    "for i in range(len(st)):\n",
    "    if \"0\"<=st[i]<=\"9\":\n",
    "        c+=st[i]\n",
    "    else:\n",
    "        if len(c)>0:\n",
    "            s+=int(c)\n",
    "            c=\"\"\n",
    "if len(c)>0:\n",
    "    s+=int(c) \n",
    "print(s)"
   ]
  },
  {
   "cell_type": "code",
   "execution_count": 64,
   "metadata": {},
   "outputs": [
    {
     "name": "stdout",
     "output_type": "stream",
     "text": [
      "279\n"
     ]
    }
   ],
   "source": [
    "st='abc156bca123adf'\n",
    "s=0\n",
    "c=''\n",
    "for i in st:\n",
    "    if \"0\"<=i<=\"9\":\n",
    "        c+=i\n",
    "    else:\n",
    "        if len(c)>0:\n",
    "            s+=int(c)\n",
    "            c=\"\"\n",
    "if len(c)>0:\n",
    "    s+=int(c) \n",
    "print(s)"
   ]
  },
  {
   "cell_type": "code",
   "execution_count": 68,
   "metadata": {},
   "outputs": [
    {
     "name": "stdout",
     "output_type": "stream",
     "text": [
      "46\n"
     ]
    }
   ],
   "source": [
    "st='abc326bca125adf'\n",
    "s=0\n",
    "p=1\n",
    "for i in st:\n",
    "    if \"0\"<=i<=\"9\":\n",
    "        p*=int(i)\n",
    "    else:\n",
    "        if p>1:\n",
    "            s+=p\n",
    "            p=1\n",
    "if p>1:\n",
    "    s+=p\n",
    "print(s)"
   ]
  },
  {
   "cell_type": "code",
   "execution_count": 13,
   "metadata": {},
   "outputs": [
    {
     "name": "stdout",
     "output_type": "stream",
     "text": [
      "5\n",
      "10\n"
     ]
    }
   ],
   "source": [
    "def add(x,y):\n",
    "    z=x+y\n",
    "    return z\n",
    "add(1,2)\n",
    "print(add(2,3))\n",
    "print(add(5,5))"
   ]
  }
 ],
 "metadata": {
  "kernelspec": {
   "display_name": "Python 3",
   "language": "python",
   "name": "python3"
  },
  "language_info": {
   "codemirror_mode": {
    "name": "ipython",
    "version": 3
   },
   "file_extension": ".py",
   "mimetype": "text/x-python",
   "name": "python",
   "nbconvert_exporter": "python",
   "pygments_lexer": "ipython3",
   "version": "3.10.9"
  },
  "orig_nbformat": 4
 },
 "nbformat": 4,
 "nbformat_minor": 2
}
