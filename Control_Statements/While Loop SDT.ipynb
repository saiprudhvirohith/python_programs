{
 "cells": [
  {
   "cell_type": "code",
   "execution_count": 1,
   "metadata": {},
   "outputs": [
    {
     "name": "stdout",
     "output_type": "stream",
     "text": [
      "hello world\n",
      "hello world\n",
      "hello world\n",
      "hello world\n",
      "hello world\n"
     ]
    }
   ],
   "source": [
    "#1.Wap to print the \"hello world\" for 5 times by using a while loop.\n",
    "n='hello world'\n",
    "m=5\n",
    "while m:\n",
    "    print(n)\n",
    "    m-=1"
   ]
  },
  {
   "cell_type": "code",
   "execution_count": 2,
   "metadata": {},
   "outputs": [
    {
     "name": "stdout",
     "output_type": "stream",
     "text": [
      "1\n",
      "2\n",
      "3\n",
      "4\n",
      "5\n",
      "6\n",
      "7\n",
      "8\n",
      "9\n",
      "10\n"
     ]
    }
   ],
   "source": [
    "#2.Wap to print the number from 1 to 10 by using a while loop.\n",
    "start=1\n",
    "end=10\n",
    "while start<=end:\n",
    "    print(start)\n",
    "    start+=1"
   ]
  },
  {
   "cell_type": "code",
   "execution_count": 4,
   "metadata": {},
   "outputs": [
    {
     "name": "stdout",
     "output_type": "stream",
     "text": [
      "0\n",
      "1\n",
      "2\n",
      "3\n",
      "4\n",
      "5\n",
      "6\n",
      "7\n",
      "8\n",
      "9\n",
      "10\n",
      "11\n",
      "12\n",
      "13\n",
      "14\n",
      "15\n",
      "16\n",
      "17\n",
      "18\n",
      "19\n",
      "20\n",
      "21\n"
     ]
    }
   ],
   "source": [
    "#3.Wap to print the natural number until 1 to nth times by using a while loop.\n",
    "start=0\n",
    "end=int(input(\"Enter any number:\"))\n",
    "while start<=end:\n",
    "    print(start)\n",
    "    start+=1"
   ]
  },
  {
   "cell_type": "code",
   "execution_count": 5,
   "metadata": {},
   "outputs": [
    {
     "name": "stdout",
     "output_type": "stream",
     "text": [
      "21\n",
      "20\n",
      "19\n",
      "18\n",
      "17\n",
      "16\n",
      "15\n",
      "14\n",
      "13\n",
      "12\n",
      "11\n",
      "10\n",
      "9\n",
      "8\n",
      "7\n",
      "6\n",
      "5\n",
      "4\n",
      "3\n",
      "2\n",
      "1\n",
      "0\n"
     ]
    }
   ],
   "source": [
    "#4.Wap to print the reverse of the natural number nth to 0 times by using a while loop.\n",
    "start=0\n",
    "end=int(input(\"Enter any number:\"))\n",
    "while start<=end:\n",
    "    print(end)\n",
    "    end-=1"
   ]
  },
  {
   "cell_type": "code",
   "execution_count": 6,
   "metadata": {},
   "outputs": [
    {
     "name": "stdout",
     "output_type": "stream",
     "text": [
      "1\n",
      "2\n",
      "3\n",
      "4\n",
      "5\n",
      "6\n",
      "7\n",
      "8\n",
      "9\n",
      "10\n",
      "11\n",
      "12\n",
      "13\n",
      "14\n",
      "15\n",
      "16\n",
      "17\n",
      "18\n",
      "19\n",
      "20\n",
      "21\n"
     ]
    }
   ],
   "source": [
    "#5.Wap to print the whole number until nth time by using a while loop.\n",
    "start=1\n",
    "end=int(input(\"Enter any number:\"))\n",
    "while start<=end:\n",
    "    print(start)\n",
    "    start+=1"
   ]
  },
  {
   "cell_type": "code",
   "execution_count": 7,
   "metadata": {},
   "outputs": [
    {
     "name": "stdout",
     "output_type": "stream",
     "text": [
      "21\n",
      "20\n",
      "19\n",
      "18\n",
      "17\n",
      "16\n",
      "15\n",
      "14\n",
      "13\n",
      "12\n",
      "11\n",
      "10\n",
      "9\n",
      "8\n",
      "7\n",
      "6\n",
      "5\n",
      "4\n",
      "3\n",
      "2\n",
      "1\n"
     ]
    }
   ],
   "source": [
    "#6.Wap to print the reverse of the whole number until nth times by using a while loop.\n",
    "start=1\n",
    "end=int(input(\"Enter any number:\"))\n",
    "while start<=end:\n",
    "    print(end)\n",
    "    end-=1"
   ]
  },
  {
   "cell_type": "code",
   "execution_count": 8,
   "metadata": {},
   "outputs": [
    {
     "name": "stdout",
     "output_type": "stream",
     "text": [
      "0\n",
      "2\n",
      "4\n",
      "6\n",
      "8\n",
      "10\n",
      "12\n",
      "14\n",
      "16\n",
      "18\n",
      "20\n"
     ]
    }
   ],
   "source": [
    "#7.Wap to print the even number until nth times by using a while loop.\n",
    "start=0\n",
    "end=int(input(\"Enter any number:\"))\n",
    "while start<=end:\n",
    "    if start%2==0:\n",
    "        print(start)\n",
    "    start+=1"
   ]
  },
  {
   "cell_type": "code",
   "execution_count": 9,
   "metadata": {},
   "outputs": [
    {
     "name": "stdout",
     "output_type": "stream",
     "text": [
      "20\n",
      "18\n",
      "16\n",
      "14\n",
      "12\n",
      "10\n",
      "8\n",
      "6\n",
      "4\n",
      "2\n",
      "0\n"
     ]
    }
   ],
   "source": [
    "#8.Wap to print reverse the even number until nth times by using a while loop.\n",
    "start=0\n",
    "end=int(input(\"Enter any number:\"))\n",
    "while start<=end:\n",
    "    if end%2==0:\n",
    "        print(end)\n",
    "    end-=1 "
   ]
  },
  {
   "cell_type": "code",
   "execution_count": 10,
   "metadata": {},
   "outputs": [
    {
     "name": "stdout",
     "output_type": "stream",
     "text": [
      "1\n",
      "3\n",
      "5\n",
      "7\n",
      "9\n",
      "11\n",
      "13\n",
      "15\n",
      "17\n",
      "19\n",
      "21\n"
     ]
    }
   ],
   "source": [
    "#9.Wap to print the odd number until nth times by using a while loop.\n",
    "start=0\n",
    "end=int(input(\"Enter any number:\"))\n",
    "while start<=end:\n",
    "    if start%2!=0:\n",
    "        print(start)\n",
    "    start+=1"
   ]
  },
  {
   "cell_type": "code",
   "execution_count": 11,
   "metadata": {},
   "outputs": [
    {
     "name": "stdout",
     "output_type": "stream",
     "text": [
      "21\n",
      "19\n",
      "17\n",
      "15\n",
      "13\n",
      "11\n",
      "9\n",
      "7\n",
      "5\n",
      "3\n",
      "1\n"
     ]
    }
   ],
   "source": [
    "#10.Wap to print reverse the odd number until nth times by using a while loop.\n",
    "start=0\n",
    "end=int(input(\"Enter any number:\"))\n",
    "while start<=end:\n",
    "    if end%2!=0:\n",
    "        print(end)\n",
    "    end-=1 "
   ]
  },
  {
   "cell_type": "code",
   "execution_count": 12,
   "metadata": {},
   "outputs": [
    {
     "name": "stdout",
     "output_type": "stream",
     "text": [
      "5 * 1 = 5\n",
      "5 * 2 = 10\n",
      "5 * 3 = 15\n",
      "5 * 4 = 20\n",
      "5 * 5 = 25\n",
      "5 * 6 = 30\n",
      "5 * 7 = 35\n",
      "5 * 8 = 40\n",
      "5 * 9 = 45\n",
      "5 * 10 = 50\n",
      "5 * 11 = 55\n",
      "5 * 12 = 60\n",
      "5 * 13 = 65\n",
      "5 * 14 = 70\n",
      "5 * 15 = 75\n",
      "5 * 16 = 80\n",
      "5 * 17 = 85\n",
      "5 * 18 = 90\n",
      "5 * 19 = 95\n",
      "5 * 20 = 100\n"
     ]
    }
   ],
   "source": [
    "#11.Wap to print the nth table 1 to 20 format==> 5*1=5 to 5*20=100.\n",
    "num=int(input('Enter any number:'))\n",
    "start=1\n",
    "end=20\n",
    "while start<=end:\n",
    "    print(num,'*',start,'=',start*num)\n",
    "    start+=1"
   ]
  },
  {
   "cell_type": "code",
   "execution_count": 13,
   "metadata": {},
   "outputs": [
    {
     "name": "stdout",
     "output_type": "stream",
     "text": [
      "5 * 20 = 20\n",
      "5 * 19 = 19\n",
      "5 * 18 = 18\n",
      "5 * 17 = 17\n",
      "5 * 16 = 16\n",
      "5 * 15 = 15\n",
      "5 * 14 = 14\n",
      "5 * 13 = 13\n",
      "5 * 12 = 12\n",
      "5 * 11 = 11\n",
      "5 * 10 = 10\n",
      "5 * 9 = 9\n",
      "5 * 8 = 8\n",
      "5 * 7 = 7\n",
      "5 * 6 = 6\n",
      "5 * 5 = 5\n",
      "5 * 4 = 4\n",
      "5 * 3 = 3\n",
      "5 * 2 = 2\n",
      "5 * 1 = 1\n"
     ]
    }
   ],
   "source": [
    "#12.Wap to print the nth table 20 to 1 format==> 5*20=100 to 5*1=5.\n",
    "num=int(input('Enter any number:'))\n",
    "start=1\n",
    "end=20\n",
    "while start<=end:\n",
    "    print(num,'*',end,'=',start*end)\n",
    "    end-=1"
   ]
  },
  {
   "cell_type": "code",
   "execution_count": 14,
   "metadata": {},
   "outputs": [
    {
     "name": "stdout",
     "output_type": "stream",
     "text": [
      "27\n",
      "30\n",
      "33\n",
      "36\n",
      "39\n",
      "42\n",
      "45\n",
      "48\n",
      "51\n",
      "54\n",
      "57\n",
      "60\n",
      "63\n",
      "66\n"
     ]
    }
   ],
   "source": [
    "#13.Wap to print the numbers which are divisible by 3 from 25 to 66.\n",
    "start=25\n",
    "end=66\n",
    "while start<=end:\n",
    "    if start%3==0:\n",
    "        print(start)\n",
    "    start+=1"
   ]
  },
  {
   "cell_type": "code",
   "execution_count": 15,
   "metadata": {},
   "outputs": [
    {
     "name": "stdout",
     "output_type": "stream",
     "text": [
      "15\n",
      "30\n",
      "45\n",
      "60\n",
      "75\n"
     ]
    }
   ],
   "source": [
    "#14.Wap to print the numbers which are divisible by 3 and 5 from 15 to 76.\n",
    "start=15\n",
    "end=76\n",
    "while start<=end:\n",
    "    if start%3==0 and start%5==0:\n",
    "        print(start)\n",
    "    start+=1"
   ]
  },
  {
   "cell_type": "code",
   "execution_count": 19,
   "metadata": {},
   "outputs": [
    {
     "name": "stdout",
     "output_type": "stream",
     "text": [
      "70\n",
      "35\n"
     ]
    }
   ],
   "source": [
    "#15.Wap to print the numbers which are divisible by 5 and 7 from 77 to 22.\n",
    "start=22\n",
    "end=77\n",
    "while start<=end:\n",
    "    if end%5==0 and end%7==0:\n",
    "        print(end)\n",
    "    end-=1"
   ]
  },
  {
   "cell_type": "code",
   "execution_count": 21,
   "metadata": {},
   "outputs": [
    {
     "name": "stdout",
     "output_type": "stream",
     "text": [
      "i love you 3\n",
      "i hate you 5\n",
      "i love you 6\n",
      "i love you 9\n",
      "i hate you 10\n",
      "i love you 12\n",
      "i like you 15\n",
      "i love you 18\n",
      "i hate you 20\n",
      "i love you 21\n",
      "i love you 24\n",
      "i hate you 25\n",
      "i love you 27\n",
      "i like you 30\n"
     ]
    }
   ],
   "source": [
    "#16.Wap to print the 'i love you' if value is divisible by 3.or\n",
    "#print 'i hate you' if value is divisible by 5.or\n",
    "#print 'i like you' if value is divisible by 3 and 5 from 1 to 30.\n",
    "start=1\n",
    "end=30\n",
    "while start<=end:\n",
    "    if start%3==0 and start%5==0:\n",
    "        print('i like you',start)\n",
    "    elif start%3==0:\n",
    "        print(\"i love you\",start)\n",
    "    elif start%5==0:\n",
    "        print(\"i hate you\",start)\n",
    "    start+=1"
   ]
  },
  {
   "cell_type": "code",
   "execution_count": 24,
   "metadata": {},
   "outputs": [
    {
     "name": "stdout",
     "output_type": "stream",
     "text": [
      "55\n"
     ]
    }
   ],
   "source": [
    "#17.Wap to print sum of the 1 to nth natural numbers.\n",
    "start=1\n",
    "end=int(input(\"Enter any number:\"))\n",
    "sum=0\n",
    "while start<=end:\n",
    "    sum+=start\n",
    "    start+=1\n",
    "print(sum)"
   ]
  },
  {
   "cell_type": "code",
   "execution_count": 27,
   "metadata": {},
   "outputs": [
    {
     "name": "stdout",
     "output_type": "stream",
     "text": [
      "110\n"
     ]
    }
   ],
   "source": [
    "#18.Wap to print sum of the even numbers from 1 to 20.\n",
    "start=1\n",
    "end=20\n",
    "sum=0\n",
    "while start<=end:\n",
    "    if start%2==0:\n",
    "        sum+=start\n",
    "    start+=1\n",
    "print(sum)"
   ]
  },
  {
   "cell_type": "code",
   "execution_count": 28,
   "metadata": {},
   "outputs": [
    {
     "name": "stdout",
     "output_type": "stream",
     "text": [
      "720\n"
     ]
    }
   ],
   "source": [
    "#19.Wap to print product of the 1 to 6 numbers.\n",
    "start=1\n",
    "end=6\n",
    "prod=1\n",
    "while start<=end:\n",
    "    prod*=start\n",
    "    start+=1\n",
    "print(prod)"
   ]
  },
  {
   "cell_type": "code",
   "execution_count": 29,
   "metadata": {},
   "outputs": [
    {
     "name": "stdout",
     "output_type": "stream",
     "text": [
      "15\n"
     ]
    }
   ],
   "source": [
    "#20.Wap to count the no of odd values from 1 to 30.\n",
    "start=1\n",
    "end=30\n",
    "count=0\n",
    "while start<=end:\n",
    "    if start%2!=0:\n",
    "        count+=1\n",
    "    start+=1\n",
    "print(count)"
   ]
  },
  {
   "cell_type": "code",
   "execution_count": 31,
   "metadata": {},
   "outputs": [
    {
     "name": "stdout",
     "output_type": "stream",
     "text": [
      "1\n",
      "2\n",
      "3\n",
      "4\n",
      "6\n",
      "12\n"
     ]
    }
   ],
   "source": [
    "#21.Wap to print the factors of the given number.\n",
    "start=1\n",
    "end=int(input('Enter any number:'))\n",
    "while start<=end:\n",
    "    if end%start==0:\n",
    "        print(start)\n",
    "    start+=1"
   ]
  },
  {
   "cell_type": "code",
   "execution_count": 33,
   "metadata": {},
   "outputs": [
    {
     "name": "stdout",
     "output_type": "stream",
     "text": [
      "1\n",
      "2\n",
      "3\n",
      "4\n",
      "6\n",
      "12\n",
      "28\n"
     ]
    }
   ],
   "source": [
    "#22.Wap to print sum of the factors of the given number.\n",
    "start=1\n",
    "end=int(input('Enter any number:'))\n",
    "sum=0\n",
    "while start<=end:\n",
    "    if end%start==0:\n",
    "        print(start)\n",
    "        sum+=start\n",
    "    start+=1\n",
    "print(sum)"
   ]
  },
  {
   "cell_type": "code",
   "execution_count": 34,
   "metadata": {},
   "outputs": [
    {
     "name": "stdout",
     "output_type": "stream",
     "text": [
      "1\n",
      "2\n",
      "3\n",
      "4\n",
      "6\n",
      "12\n",
      "1728\n"
     ]
    }
   ],
   "source": [
    "#23.Wap to print product of the factors of the given number.\n",
    "start=1\n",
    "end=int(input('Enter any number:'))\n",
    "prod=1\n",
    "while start<=end:\n",
    "    if end%start==0:\n",
    "        print(start)\n",
    "        prod*=start\n",
    "    start+=1\n",
    "print(prod)"
   ]
  },
  {
   "cell_type": "code",
   "execution_count": 37,
   "metadata": {},
   "outputs": [
    {
     "name": "stdout",
     "output_type": "stream",
     "text": [
      "0\n",
      "1\n",
      "1\n",
      "2\n",
      "3\n",
      "5\n",
      "8\n"
     ]
    }
   ],
   "source": [
    "#24.Wap to print fibonacci series 0 th nth.\n",
    "n=int(input('Enter any number:'))\n",
    "a=0\n",
    "b=1\n",
    "print(a)\n",
    "print(b)\n",
    "while n:\n",
    "    c=a+b\n",
    "    print(c)\n",
    "    a,b=b,c\n",
    "    n-=1"
   ]
  },
  {
   "cell_type": "code",
   "execution_count": 39,
   "metadata": {},
   "outputs": [
    {
     "name": "stdout",
     "output_type": "stream",
     "text": [
      "6\n"
     ]
    }
   ],
   "source": [
    "#25.Wap to find out the factorial number of a given number.\n",
    "start=1\n",
    "end=int(input('Enter any number:'))\n",
    "fact=1\n",
    "while start<=end:\n",
    "    fact*=start\n",
    "    start+=1\n",
    "print(fact)"
   ]
  },
  {
   "cell_type": "code",
   "execution_count": 40,
   "metadata": {},
   "outputs": [
    {
     "name": "stdout",
     "output_type": "stream",
     "text": [
      "1 --> 1\n",
      "2 --> 2\n",
      "3 --> 6\n",
      "4 --> 24\n",
      "5 --> 120\n",
      "6 --> 720\n",
      "7 --> 5040\n",
      "8 --> 40320\n",
      "9 --> 362880\n",
      "10 --> 3628800\n"
     ]
    }
   ],
   "source": [
    "#26.Wap to print the factorial number in the given range m to n.\n",
    "m=int(input('Enter any lowest number:'))\n",
    "n=int(input('Enter any highest number:'))\n",
    "while m<=n:\n",
    "    start=1\n",
    "    fact=1\n",
    "    while start<=m:\n",
    "        fact*=start\n",
    "        start+=1\n",
    "    print(m,'-->',fact)\n",
    "    m+=1"
   ]
  },
  {
   "cell_type": "code",
   "execution_count": 43,
   "metadata": {},
   "outputs": [
    {
     "name": "stdout",
     "output_type": "stream",
     "text": [
      "11 is a prime number\n"
     ]
    }
   ],
   "source": [
    "#27.Wap to check whether a given number is a prime number or not.\n",
    "num=int(input('Enter any number:'))\n",
    "m=1\n",
    "count=0\n",
    "while m<=num:\n",
    "    if num%m==0:\n",
    "        count+=1\n",
    "    m+=1\n",
    "if count==2:\n",
    "    print(num,\"is a prime number\")\n",
    "else:\n",
    "    print(num,\"is not a prime number\")   \n",
    "    "
   ]
  },
  {
   "cell_type": "code",
   "execution_count": 46,
   "metadata": {},
   "outputs": [
    {
     "name": "stdout",
     "output_type": "stream",
     "text": [
      "2 is a prime number\n",
      "3 is a prime number\n",
      "5 is a prime number\n",
      "7 is a prime number\n"
     ]
    }
   ],
   "source": [
    "#28.Wap to print the prime number in the given range m t n.\n",
    "m=int(input('Enter any lowest number:'))\n",
    "n=int(input('Enter any highest number:'))\n",
    "while m<=n:\n",
    "    start=1\n",
    "    count=0\n",
    "    while start<=m:\n",
    "        if m%start==0:\n",
    "            count+=1\n",
    "        start+=1\n",
    "    if count==2:\n",
    "        print(m,\"is a prime number\")\n",
    "    m+=1\n",
    "    "
   ]
  },
  {
   "cell_type": "code",
   "execution_count": 50,
   "metadata": {},
   "outputs": [
    {
     "name": "stdout",
     "output_type": "stream",
     "text": [
      "153 is a armstrong\n"
     ]
    }
   ],
   "source": [
    "#29.Wap to check whether a given number is an armstrong number or not.\n",
    "n=int(input('Enter any number:'))\n",
    "temp=n\n",
    "temp1=n\n",
    "count=0\n",
    "arm=0\n",
    "while n:\n",
    "    count+=1\n",
    "    n=n//10\n",
    "while temp:\n",
    "    ld=temp%10\n",
    "    arm+=ld**count\n",
    "    temp=temp//10\n",
    "if temp1==arm:\n",
    "    print(temp1,'is a armstrong')\n",
    "else:\n",
    "    print(temp1,\"is not a armstrong\")"
   ]
  },
  {
   "cell_type": "code",
   "execution_count": 54,
   "metadata": {},
   "outputs": [
    {
     "name": "stdout",
     "output_type": "stream",
     "text": [
      "1 is a armstrong\n",
      "2 is a armstrong\n",
      "3 is a armstrong\n",
      "4 is a armstrong\n",
      "5 is a armstrong\n",
      "6 is a armstrong\n",
      "7 is a armstrong\n",
      "8 is a armstrong\n",
      "9 is a armstrong\n",
      "153 is a armstrong\n"
     ]
    }
   ],
   "source": [
    "#30.Wap to print armstrong numbers in the range m to n.\n",
    "m=int(input('Enter any lowest number:'))\n",
    "n=int(input('Enter any highest number:'))\n",
    "while m<=n:\n",
    "    temp=m\n",
    "    temp1=m\n",
    "    temp2=m\n",
    "    count=0\n",
    "    arm=0\n",
    "    while temp:\n",
    "        count+=1\n",
    "        temp=temp//10\n",
    "    while temp1:\n",
    "        ld=temp1%10\n",
    "        arm+=ld**count\n",
    "        temp1=temp1//10\n",
    "    if temp2==arm:\n",
    "        print(temp2,\"is a armstrong\")\n",
    "    m+=1"
   ]
  },
  {
   "cell_type": "code",
   "execution_count": null,
   "metadata": {},
   "outputs": [],
   "source": []
  }
 ],
 "metadata": {
  "kernelspec": {
   "display_name": "Python 3",
   "language": "python",
   "name": "python3"
  },
  "language_info": {
   "codemirror_mode": {
    "name": "ipython",
    "version": 3
   },
   "file_extension": ".py",
   "mimetype": "text/x-python",
   "name": "python",
   "nbconvert_exporter": "python",
   "pygments_lexer": "ipython3",
   "version": "3.10.9"
  },
  "orig_nbformat": 4
 },
 "nbformat": 4,
 "nbformat_minor": 2
}
