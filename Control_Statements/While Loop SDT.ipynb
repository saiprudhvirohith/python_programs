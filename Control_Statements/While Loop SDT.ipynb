{
 "cells": [
  {
   "cell_type": "code",
   "execution_count": 1,
   "metadata": {},
   "outputs": [
    {
     "name": "stdout",
     "output_type": "stream",
     "text": [
      "hello world\n",
      "hello world\n",
      "hello world\n",
      "hello world\n",
      "hello world\n"
     ]
    }
   ],
   "source": [
    "#1.Wap to print the \"hello world\" for 5 times by using a while loop.\n",
    "n='hello world'\n",
    "m=5\n",
    "while m:\n",
    "    print(n)\n",
    "    m-=1"
   ]
  },
  {
   "cell_type": "code",
   "execution_count": 2,
   "metadata": {},
   "outputs": [
    {
     "name": "stdout",
     "output_type": "stream",
     "text": [
      "1\n",
      "2\n",
      "3\n",
      "4\n",
      "5\n",
      "6\n",
      "7\n",
      "8\n",
      "9\n",
      "10\n"
     ]
    }
   ],
   "source": [
    "#2.Wap to print the number from 1 to 10 by using a while loop.\n",
    "start=1\n",
    "end=10\n",
    "while start<=end:\n",
    "    print(start)\n",
    "    start+=1"
   ]
  },
  {
   "cell_type": "code",
   "execution_count": 4,
   "metadata": {},
   "outputs": [
    {
     "name": "stdout",
     "output_type": "stream",
     "text": [
      "0\n",
      "1\n",
      "2\n",
      "3\n",
      "4\n",
      "5\n",
      "6\n",
      "7\n",
      "8\n",
      "9\n",
      "10\n",
      "11\n",
      "12\n",
      "13\n",
      "14\n",
      "15\n",
      "16\n",
      "17\n",
      "18\n",
      "19\n",
      "20\n",
      "21\n"
     ]
    }
   ],
   "source": [
    "#3.Wap to print the natural number until 1 to nth times by using a while loop.\n",
    "start=0\n",
    "end=int(input(\"Enter any number:\"))\n",
    "while start<=end:\n",
    "    print(start)\n",
    "    start+=1"
   ]
  },
  {
   "cell_type": "code",
   "execution_count": 5,
   "metadata": {},
   "outputs": [
    {
     "name": "stdout",
     "output_type": "stream",
     "text": [
      "21\n",
      "20\n",
      "19\n",
      "18\n",
      "17\n",
      "16\n",
      "15\n",
      "14\n",
      "13\n",
      "12\n",
      "11\n",
      "10\n",
      "9\n",
      "8\n",
      "7\n",
      "6\n",
      "5\n",
      "4\n",
      "3\n",
      "2\n",
      "1\n",
      "0\n"
     ]
    }
   ],
   "source": [
    "#4.Wap to print the reverse of the natural number nth to 0 times by using a while loop.\n",
    "start=0\n",
    "end=int(input(\"Enter any number:\"))\n",
    "while start<=end:\n",
    "    print(end)\n",
    "    end-=1"
   ]
  },
  {
   "cell_type": "code",
   "execution_count": 6,
   "metadata": {},
   "outputs": [
    {
     "name": "stdout",
     "output_type": "stream",
     "text": [
      "1\n",
      "2\n",
      "3\n",
      "4\n",
      "5\n",
      "6\n",
      "7\n",
      "8\n",
      "9\n",
      "10\n",
      "11\n",
      "12\n",
      "13\n",
      "14\n",
      "15\n",
      "16\n",
      "17\n",
      "18\n",
      "19\n",
      "20\n",
      "21\n"
     ]
    }
   ],
   "source": [
    "#5.Wap to print the whole number until nth time by using a while loop.\n",
    "start=1\n",
    "end=int(input(\"Enter any number:\"))\n",
    "while start<=end:\n",
    "    print(start)\n",
    "    start+=1"
   ]
  },
  {
   "cell_type": "code",
   "execution_count": 7,
   "metadata": {},
   "outputs": [
    {
     "name": "stdout",
     "output_type": "stream",
     "text": [
      "21\n",
      "20\n",
      "19\n",
      "18\n",
      "17\n",
      "16\n",
      "15\n",
      "14\n",
      "13\n",
      "12\n",
      "11\n",
      "10\n",
      "9\n",
      "8\n",
      "7\n",
      "6\n",
      "5\n",
      "4\n",
      "3\n",
      "2\n",
      "1\n"
     ]
    }
   ],
   "source": [
    "#6.Wap to print the reverse of the whole number until nth times by using a while loop.\n",
    "start=1\n",
    "end=int(input(\"Enter any number:\"))\n",
    "while start<=end:\n",
    "    print(end)\n",
    "    end-=1"
   ]
  },
  {
   "cell_type": "code",
   "execution_count": 8,
   "metadata": {},
   "outputs": [
    {
     "name": "stdout",
     "output_type": "stream",
     "text": [
      "0\n",
      "2\n",
      "4\n",
      "6\n",
      "8\n",
      "10\n",
      "12\n",
      "14\n",
      "16\n",
      "18\n",
      "20\n"
     ]
    }
   ],
   "source": [
    "#7.Wap to print the even number until nth times by using a while loop.\n",
    "start=0\n",
    "end=int(input(\"Enter any number:\"))\n",
    "while start<=end:\n",
    "    if start%2==0:\n",
    "        print(start)\n",
    "    start+=1"
   ]
  },
  {
   "cell_type": "code",
   "execution_count": 9,
   "metadata": {},
   "outputs": [
    {
     "name": "stdout",
     "output_type": "stream",
     "text": [
      "20\n",
      "18\n",
      "16\n",
      "14\n",
      "12\n",
      "10\n",
      "8\n",
      "6\n",
      "4\n",
      "2\n",
      "0\n"
     ]
    }
   ],
   "source": [
    "#8.Wap to print reverse the even number until nth times by using a while loop.\n",
    "start=0\n",
    "end=int(input(\"Enter any number:\"))\n",
    "while start<=end:\n",
    "    if end%2==0:\n",
    "        print(end)\n",
    "    end-=1 "
   ]
  },
  {
   "cell_type": "code",
   "execution_count": 10,
   "metadata": {},
   "outputs": [
    {
     "name": "stdout",
     "output_type": "stream",
     "text": [
      "1\n",
      "3\n",
      "5\n",
      "7\n",
      "9\n",
      "11\n",
      "13\n",
      "15\n",
      "17\n",
      "19\n",
      "21\n"
     ]
    }
   ],
   "source": [
    "#9.Wap to print the odd number until nth times by using a while loop.\n",
    "start=0\n",
    "end=int(input(\"Enter any number:\"))\n",
    "while start<=end:\n",
    "    if start%2!=0:\n",
    "        print(start)\n",
    "    start+=1"
   ]
  },
  {
   "cell_type": "code",
   "execution_count": 11,
   "metadata": {},
   "outputs": [
    {
     "name": "stdout",
     "output_type": "stream",
     "text": [
      "21\n",
      "19\n",
      "17\n",
      "15\n",
      "13\n",
      "11\n",
      "9\n",
      "7\n",
      "5\n",
      "3\n",
      "1\n"
     ]
    }
   ],
   "source": [
    "#10.Wap to print reverse the odd number until nth times by using a while loop.\n",
    "start=0\n",
    "end=int(input(\"Enter any number:\"))\n",
    "while start<=end:\n",
    "    if end%2!=0:\n",
    "        print(end)\n",
    "    end-=1 "
   ]
  },
  {
   "cell_type": "code",
   "execution_count": 12,
   "metadata": {},
   "outputs": [
    {
     "name": "stdout",
     "output_type": "stream",
     "text": [
      "5 * 1 = 5\n",
      "5 * 2 = 10\n",
      "5 * 3 = 15\n",
      "5 * 4 = 20\n",
      "5 * 5 = 25\n",
      "5 * 6 = 30\n",
      "5 * 7 = 35\n",
      "5 * 8 = 40\n",
      "5 * 9 = 45\n",
      "5 * 10 = 50\n",
      "5 * 11 = 55\n",
      "5 * 12 = 60\n",
      "5 * 13 = 65\n",
      "5 * 14 = 70\n",
      "5 * 15 = 75\n",
      "5 * 16 = 80\n",
      "5 * 17 = 85\n",
      "5 * 18 = 90\n",
      "5 * 19 = 95\n",
      "5 * 20 = 100\n"
     ]
    }
   ],
   "source": [
    "#11.Wap to print the nth table 1 to 20 format==> 5*1=5 to 5*20=100.\n",
    "num=int(input('Enter any number:'))\n",
    "start=1\n",
    "end=20\n",
    "while start<=end:\n",
    "    print(num,'*',start,'=',start*num)\n",
    "    start+=1"
   ]
  },
  {
   "cell_type": "code",
   "execution_count": 13,
   "metadata": {},
   "outputs": [
    {
     "name": "stdout",
     "output_type": "stream",
     "text": [
      "5 * 20 = 20\n",
      "5 * 19 = 19\n",
      "5 * 18 = 18\n",
      "5 * 17 = 17\n",
      "5 * 16 = 16\n",
      "5 * 15 = 15\n",
      "5 * 14 = 14\n",
      "5 * 13 = 13\n",
      "5 * 12 = 12\n",
      "5 * 11 = 11\n",
      "5 * 10 = 10\n",
      "5 * 9 = 9\n",
      "5 * 8 = 8\n",
      "5 * 7 = 7\n",
      "5 * 6 = 6\n",
      "5 * 5 = 5\n",
      "5 * 4 = 4\n",
      "5 * 3 = 3\n",
      "5 * 2 = 2\n",
      "5 * 1 = 1\n"
     ]
    }
   ],
   "source": [
    "#12.Wap to print the nth table 20 to 1 format==> 5*20=100 to 5*1=5.\n",
    "num=int(input('Enter any number:'))\n",
    "start=1\n",
    "end=20\n",
    "while start<=end:\n",
    "    print(num,'*',end,'=',start*end)\n",
    "    end-=1"
   ]
  },
  {
   "cell_type": "code",
   "execution_count": 14,
   "metadata": {},
   "outputs": [
    {
     "name": "stdout",
     "output_type": "stream",
     "text": [
      "27\n",
      "30\n",
      "33\n",
      "36\n",
      "39\n",
      "42\n",
      "45\n",
      "48\n",
      "51\n",
      "54\n",
      "57\n",
      "60\n",
      "63\n",
      "66\n"
     ]
    }
   ],
   "source": [
    "#13.Wap to print the numbers which are divisible by 3 from 25 to 66.\n",
    "start=25\n",
    "end=66\n",
    "while start<=end:\n",
    "    if start%3==0:\n",
    "        print(start)\n",
    "    start+=1"
   ]
  },
  {
   "cell_type": "code",
   "execution_count": 15,
   "metadata": {},
   "outputs": [
    {
     "name": "stdout",
     "output_type": "stream",
     "text": [
      "15\n",
      "30\n",
      "45\n",
      "60\n",
      "75\n"
     ]
    }
   ],
   "source": [
    "#14.Wap to print the numbers which are divisible by 3 and 5 from 15 to 76.\n",
    "start=15\n",
    "end=76\n",
    "while start<=end:\n",
    "    if start%3==0 and start%5==0:\n",
    "        print(start)\n",
    "    start+=1"
   ]
  },
  {
   "cell_type": "code",
   "execution_count": 19,
   "metadata": {},
   "outputs": [
    {
     "name": "stdout",
     "output_type": "stream",
     "text": [
      "70\n",
      "35\n"
     ]
    }
   ],
   "source": [
    "#15.Wap to print the numbers which are divisible by 5 and 7 from 77 to 22.\n",
    "start=22\n",
    "end=77\n",
    "while start<=end:\n",
    "    if end%5==0 and end%7==0:\n",
    "        print(end)\n",
    "    end-=1"
   ]
  },
  {
   "cell_type": "code",
   "execution_count": 21,
   "metadata": {},
   "outputs": [
    {
     "name": "stdout",
     "output_type": "stream",
     "text": [
      "i love you 3\n",
      "i hate you 5\n",
      "i love you 6\n",
      "i love you 9\n",
      "i hate you 10\n",
      "i love you 12\n",
      "i like you 15\n",
      "i love you 18\n",
      "i hate you 20\n",
      "i love you 21\n",
      "i love you 24\n",
      "i hate you 25\n",
      "i love you 27\n",
      "i like you 30\n"
     ]
    }
   ],
   "source": [
    "#16.Wap to print the 'i love you' if value is divisible by 3.or\n",
    "#print 'i hate you' if value is divisible by 5.or\n",
    "#print 'i like you' if value is divisible by 3 and 5 from 1 to 30.\n",
    "start=1\n",
    "end=30\n",
    "while start<=end:\n",
    "    if start%3==0 and start%5==0:\n",
    "        print('i like you',start)\n",
    "    elif start%3==0:\n",
    "        print(\"i love you\",start)\n",
    "    elif start%5==0:\n",
    "        print(\"i hate you\",start)\n",
    "    start+=1"
   ]
  },
  {
   "cell_type": "code",
   "execution_count": 24,
   "metadata": {},
   "outputs": [
    {
     "name": "stdout",
     "output_type": "stream",
     "text": [
      "55\n"
     ]
    }
   ],
   "source": [
    "#17.Wap to print sum of the 1 to nth natural numbers.\n",
    "start=1\n",
    "end=int(input(\"Enter any number:\"))\n",
    "sum=0\n",
    "while start<=end:\n",
    "    sum+=start\n",
    "    start+=1\n",
    "print(sum)"
   ]
  },
  {
   "cell_type": "code",
   "execution_count": 27,
   "metadata": {},
   "outputs": [
    {
     "name": "stdout",
     "output_type": "stream",
     "text": [
      "110\n"
     ]
    }
   ],
   "source": [
    "#18.Wap to print sum of the even numbers from 1 to 20.\n",
    "start=1\n",
    "end=20\n",
    "sum=0\n",
    "while start<=end:\n",
    "    if start%2==0:\n",
    "        sum+=start\n",
    "    start+=1\n",
    "print(sum)"
   ]
  },
  {
   "cell_type": "code",
   "execution_count": 28,
   "metadata": {},
   "outputs": [
    {
     "name": "stdout",
     "output_type": "stream",
     "text": [
      "720\n"
     ]
    }
   ],
   "source": [
    "#19.Wap to print product of the 1 to 6 numbers.\n",
    "start=1\n",
    "end=6\n",
    "prod=1\n",
    "while start<=end:\n",
    "    prod*=start\n",
    "    start+=1\n",
    "print(prod)"
   ]
  },
  {
   "cell_type": "code",
   "execution_count": 29,
   "metadata": {},
   "outputs": [
    {
     "name": "stdout",
     "output_type": "stream",
     "text": [
      "15\n"
     ]
    }
   ],
   "source": [
    "#20.Wap to count the no of odd values from 1 to 30.\n",
    "start=1\n",
    "end=30\n",
    "count=0\n",
    "while start<=end:\n",
    "    if start%2!=0:\n",
    "        count+=1\n",
    "    start+=1\n",
    "print(count)"
   ]
  },
  {
   "cell_type": "code",
   "execution_count": 31,
   "metadata": {},
   "outputs": [
    {
     "name": "stdout",
     "output_type": "stream",
     "text": [
      "1\n",
      "2\n",
      "3\n",
      "4\n",
      "6\n",
      "12\n"
     ]
    }
   ],
   "source": [
    "#21.Wap to print the factors of the given number.\n",
    "start=1\n",
    "end=int(input('Enter any number:'))\n",
    "while start<=end:\n",
    "    if end%start==0:\n",
    "        print(start)\n",
    "    start+=1"
   ]
  },
  {
   "cell_type": "code",
   "execution_count": 33,
   "metadata": {},
   "outputs": [
    {
     "name": "stdout",
     "output_type": "stream",
     "text": [
      "1\n",
      "2\n",
      "3\n",
      "4\n",
      "6\n",
      "12\n",
      "28\n"
     ]
    }
   ],
   "source": [
    "#22.Wap to print sum of the factors of the given number.\n",
    "start=1\n",
    "end=int(input('Enter any number:'))\n",
    "sum=0\n",
    "while start<=end:\n",
    "    if end%start==0:\n",
    "        print(start)\n",
    "        sum+=start\n",
    "    start+=1\n",
    "print(sum)"
   ]
  },
  {
   "cell_type": "code",
   "execution_count": 34,
   "metadata": {},
   "outputs": [
    {
     "name": "stdout",
     "output_type": "stream",
     "text": [
      "1\n",
      "2\n",
      "3\n",
      "4\n",
      "6\n",
      "12\n",
      "1728\n"
     ]
    }
   ],
   "source": [
    "#23.Wap to print product of the factors of the given number.\n",
    "start=1\n",
    "end=int(input('Enter any number:'))\n",
    "prod=1\n",
    "while start<=end:\n",
    "    if end%start==0:\n",
    "        print(start)\n",
    "        prod*=start\n",
    "    start+=1\n",
    "print(prod)"
   ]
  },
  {
   "cell_type": "code",
   "execution_count": 37,
   "metadata": {},
   "outputs": [
    {
     "name": "stdout",
     "output_type": "stream",
     "text": [
      "0\n",
      "1\n",
      "1\n",
      "2\n",
      "3\n",
      "5\n",
      "8\n"
     ]
    }
   ],
   "source": [
    "#24.Wap to print fibonacci series 0 th nth.\n",
    "n=int(input('Enter any number:'))\n",
    "a=0\n",
    "b=1\n",
    "print(a)\n",
    "print(b)\n",
    "while n:\n",
    "    c=a+b\n",
    "    print(c)\n",
    "    a,b=b,c\n",
    "    n-=1"
   ]
  },
  {
   "cell_type": "code",
   "execution_count": 39,
   "metadata": {},
   "outputs": [
    {
     "name": "stdout",
     "output_type": "stream",
     "text": [
      "6\n"
     ]
    }
   ],
   "source": [
    "#25.Wap to find out the factorial number of a given number.\n",
    "start=1\n",
    "end=int(input('Enter any number:'))\n",
    "fact=1\n",
    "while start<=end:\n",
    "    fact*=start\n",
    "    start+=1\n",
    "print(fact)"
   ]
  },
  {
   "cell_type": "code",
   "execution_count": 40,
   "metadata": {},
   "outputs": [
    {
     "name": "stdout",
     "output_type": "stream",
     "text": [
      "1 --> 1\n",
      "2 --> 2\n",
      "3 --> 6\n",
      "4 --> 24\n",
      "5 --> 120\n",
      "6 --> 720\n",
      "7 --> 5040\n",
      "8 --> 40320\n",
      "9 --> 362880\n",
      "10 --> 3628800\n"
     ]
    }
   ],
   "source": [
    "#26.Wap to print the factorial number in the given range m to n.\n",
    "m=int(input('Enter any lowest number:'))\n",
    "n=int(input('Enter any highest number:'))\n",
    "while m<=n:\n",
    "    start=1\n",
    "    fact=1\n",
    "    while start<=m:\n",
    "        fact*=start\n",
    "        start+=1\n",
    "    print(m,'-->',fact)\n",
    "    m+=1"
   ]
  },
  {
   "cell_type": "code",
   "execution_count": 43,
   "metadata": {},
   "outputs": [
    {
     "name": "stdout",
     "output_type": "stream",
     "text": [
      "11 is a prime number\n"
     ]
    }
   ],
   "source": [
    "#27.Wap to check whether a given number is a prime number or not.\n",
    "num=int(input('Enter any number:'))\n",
    "m=1\n",
    "count=0\n",
    "while m<=num:\n",
    "    if num%m==0:\n",
    "        count+=1\n",
    "    m+=1\n",
    "if count==2:\n",
    "    print(num,\"is a prime number\")\n",
    "else:\n",
    "    print(num,\"is not a prime number\")   \n",
    "    "
   ]
  },
  {
   "cell_type": "code",
   "execution_count": 46,
   "metadata": {},
   "outputs": [
    {
     "name": "stdout",
     "output_type": "stream",
     "text": [
      "2 is a prime number\n",
      "3 is a prime number\n",
      "5 is a prime number\n",
      "7 is a prime number\n"
     ]
    }
   ],
   "source": [
    "#28.Wap to print the prime number in the given range m t n.\n",
    "m=int(input('Enter any lowest number:'))\n",
    "n=int(input('Enter any highest number:'))\n",
    "while m<=n:\n",
    "    start=1\n",
    "    count=0\n",
    "    while start<=m:\n",
    "        if m%start==0:\n",
    "            count+=1\n",
    "        start+=1\n",
    "    if count==2:\n",
    "        print(m,\"is a prime number\")\n",
    "    m+=1\n",
    "    "
   ]
  },
  {
   "cell_type": "code",
   "execution_count": 50,
   "metadata": {},
   "outputs": [
    {
     "name": "stdout",
     "output_type": "stream",
     "text": [
      "153 is a armstrong\n"
     ]
    }
   ],
   "source": [
    "#29.Wap to check whether a given number is an armstrong number or not.\n",
    "n=int(input('Enter any number:'))\n",
    "temp=n\n",
    "temp1=n\n",
    "count=0\n",
    "arm=0\n",
    "while n:\n",
    "    count+=1\n",
    "    n=n//10\n",
    "while temp:\n",
    "    ld=temp%10\n",
    "    arm+=ld**count\n",
    "    temp=temp//10\n",
    "if temp1==arm:\n",
    "    print(temp1,'is a armstrong')\n",
    "else:\n",
    "    print(temp1,\"is not a armstrong\")"
   ]
  },
  {
   "cell_type": "code",
   "execution_count": 54,
   "metadata": {},
   "outputs": [
    {
     "name": "stdout",
     "output_type": "stream",
     "text": [
      "1 is a armstrong\n",
      "2 is a armstrong\n",
      "3 is a armstrong\n",
      "4 is a armstrong\n",
      "5 is a armstrong\n",
      "6 is a armstrong\n",
      "7 is a armstrong\n",
      "8 is a armstrong\n",
      "9 is a armstrong\n",
      "153 is a armstrong\n"
     ]
    }
   ],
   "source": [
    "#30.Wap to print armstrong numbers in the range m to n.\n",
    "m=int(input('Enter any lowest number:'))\n",
    "n=int(input('Enter any highest number:'))\n",
    "while m<=n:\n",
    "    temp=m\n",
    "    temp1=m\n",
    "    temp2=m\n",
    "    count=0\n",
    "    arm=0\n",
    "    while temp:\n",
    "        count+=1\n",
    "        temp=temp//10\n",
    "    while temp1:\n",
    "        ld=temp1%10\n",
    "        arm+=ld**count\n",
    "        temp1=temp1//10\n",
    "    if temp2==arm:\n",
    "        print(temp2,\"is a armstrong\")\n",
    "    m+=1"
   ]
  },
  {
   "cell_type": "code",
   "execution_count": 2,
   "metadata": {},
   "outputs": [
    {
     "name": "stdout",
     "output_type": "stream",
     "text": [
      "2\n",
      "3\n",
      "5\n",
      "7\n",
      "11\n",
      "13\n",
      "17\n",
      "19\n"
     ]
    }
   ],
   "source": [
    "#31.Wap to print prime series 1 to nth.\n",
    "e=int(input(\"Enter the number: \"))\n",
    "i=1\n",
    "while i<=e:\n",
    "    a=1\n",
    "    count=0\n",
    "    while a<=i:\n",
    "        if i%a==0:\n",
    "            count+=1\n",
    "        a+=1\n",
    "    if count==2:\n",
    "        print(i)\n",
    "    i+=1"
   ]
  },
  {
   "cell_type": "code",
   "execution_count": 5,
   "metadata": {},
   "outputs": [
    {
     "name": "stdout",
     "output_type": "stream",
     "text": [
      "[2, 3, 5, 7]\n"
     ]
    }
   ],
   "source": [
    "#32.Wap to print prime number in fibonacci series.\n",
    "e=int(input(\"Enter the number: \"))\n",
    "i=1\n",
    "l=[]\n",
    "while i<=e:\n",
    "    a=1\n",
    "    count=0\n",
    "    while a<=i:\n",
    "        if i%a==0:\n",
    "            count+=1\n",
    "        a+=1\n",
    "    if count==2:\n",
    "        l+=[i]\n",
    "    i+=1\n",
    "print(l)\n",
    "a=l[0]\n",
    "b=l[1]\n",
    "print(a)\n",
    "print(b)\n",
    "while l:\n",
    "    c=a+b\n",
    "    print(c)\n",
    "    a,b=b,c"
   ]
  },
  {
   "cell_type": "code",
   "execution_count": 6,
   "metadata": {},
   "outputs": [
    {
     "name": "stdout",
     "output_type": "stream",
     "text": [
      "17\n"
     ]
    }
   ],
   "source": [
    "#33.Wap to get sum of prime numbers in a given collection.\n",
    "a=[1,2,3,4,5,6,7,8,9,10]\n",
    "i=0\n",
    "sum=0\n",
    "while i<len(a):\n",
    "    count=0\n",
    "    j=1\n",
    "    while j<=a[i]:\n",
    "        if a[i]%j==0:\n",
    "            count+=1\n",
    "        j+=1\n",
    "    if count==2:\n",
    "        sum+=a[i]\n",
    "    i+=1\n",
    "print(sum)"
   ]
  },
  {
   "cell_type": "code",
   "execution_count": 9,
   "metadata": {},
   "outputs": [
    {
     "name": "stdout",
     "output_type": "stream",
     "text": [
      "Palindrome\n"
     ]
    }
   ],
   "source": [
    "#34.Wap to check the given number is palindeome or not.\n",
    "n=121\n",
    "temp=n\n",
    "res=0\n",
    "while n:\n",
    "    m=n%10\n",
    "    res=(res*10)+m\n",
    "    n=n//10\n",
    "if res==temp:\n",
    "    print(\"Palindrome\")\n",
    "else:\n",
    "    print(\"Not a palindrome\")"
   ]
  },
  {
   "cell_type": "code",
   "execution_count": 13,
   "metadata": {},
   "outputs": [
    {
     "name": "stdout",
     "output_type": "stream",
     "text": [
      "Hello World\n",
      "Hello World\n",
      "Hello World\n",
      "Hello World\n",
      "Hello World\n"
     ]
    }
   ],
   "source": [
    "#35.Wap to check whether the length of the string is even or odd.\n",
    "#If it is even,print that the string 10 times.If not print 5 times.\n",
    "st=\"Hello World\"\n",
    "n=len(st)\n",
    "if n%2==0:\n",
    "    i=0\n",
    "    while i<10:\n",
    "        print(st)\n",
    "        i+=1\n",
    "else:\n",
    "    i=0\n",
    "    while i<5:\n",
    "        print(st)\n",
    "        i+=1"
   ]
  },
  {
   "cell_type": "code",
   "execution_count": 15,
   "metadata": {},
   "outputs": [
    {
     "name": "stdout",
     "output_type": "stream",
     "text": [
      "A B C D E F G H I J K L M N O P Q R S T U V W X Y Z "
     ]
    }
   ],
   "source": [
    "#36.Wap to print the uppercase character from \"A\" to \"Z\" by using a while loop.\n",
    "i=\"A\"\n",
    "e=\"Z\"\n",
    "while i<=e:\n",
    "    print(i,end=\" \")\n",
    "    i=chr(ord(i)+1)"
   ]
  },
  {
   "cell_type": "code",
   "execution_count": 16,
   "metadata": {},
   "outputs": [
    {
     "name": "stdout",
     "output_type": "stream",
     "text": [
      "a b c d e f g h i j k l m n o p q r s t u v w x y z "
     ]
    }
   ],
   "source": [
    "#37.Wap to print the uppercase character from \"a\" to \"z\" by using a while loop.\n",
    "i=\"a\"\n",
    "e=\"z\"\n",
    "while i<=e:\n",
    "    print(i,end=\" \")\n",
    "    i=chr(ord(i)+1)"
   ]
  },
  {
   "cell_type": "code",
   "execution_count": 17,
   "metadata": {},
   "outputs": [
    {
     "name": "stdout",
     "output_type": "stream",
     "text": [
      "0 1 2 3 4 5 6 7 8 9 "
     ]
    }
   ],
   "source": [
    "#38.Wap to print the uppercase character from \"0\" to \"9\" by using a while loop.\n",
    "i=\"0\"\n",
    "e=\"9\"\n",
    "while i<=e:\n",
    "    print(i,end=\" \")\n",
    "    i=chr(ord(i)+1)"
   ]
  },
  {
   "cell_type": "code",
   "execution_count": 19,
   "metadata": {},
   "outputs": [
    {
     "name": "stdout",
     "output_type": "stream",
     "text": [
      "E F G H I J K L M N O P Q R S T U "
     ]
    }
   ],
   "source": [
    "#39.Wap to print the uppercase character from \"E\" to \"U\" by using a while loop.\n",
    "i=\"E\"\n",
    "e=\"U\"\n",
    "while i<=e:\n",
    "    print(i,end=\" \")\n",
    "    i=chr(ord(i)+1)"
   ]
  },
  {
   "cell_type": "code",
   "execution_count": 21,
   "metadata": {},
   "outputs": [
    {
     "name": "stdout",
     "output_type": "stream",
     "text": [
      "Z Y X W V U T S R Q P O N M L K J I H G F E D C B A "
     ]
    }
   ],
   "source": [
    "#40.Wap to print the uppercase character from \"Z\" to \"A\" by using a while loop.\n",
    "i=\"A\"\n",
    "e=\"Z\"\n",
    "while i<=e:\n",
    "    print(e,end=\" \")\n",
    "    e=chr(ord(e)-1)"
   ]
  },
  {
   "cell_type": "code",
   "execution_count": 23,
   "metadata": {},
   "outputs": [
    {
     "name": "stdout",
     "output_type": "stream",
     "text": [
      "U T S R Q P O N M L K J I H G "
     ]
    }
   ],
   "source": [
    "#41.Wap to print the uppercase character from \"U\" to \"G\" by using a while loop.\n",
    "i=\"G\"\n",
    "e=\"U\"\n",
    "while i<=e:\n",
    "    print(e,end=\" \")\n",
    "    e=chr(ord(e)-1)"
   ]
  },
  {
   "cell_type": "code",
   "execution_count": 26,
   "metadata": {},
   "outputs": [
    {
     "name": "stdout",
     "output_type": "stream",
     "text": [
      "i j k l m n o p q r s t u v w x y "
     ]
    }
   ],
   "source": [
    "#42.Wap to print the uppercase character from \"i\" to \"y\" by using a while loop.\n",
    "i=\"i\"\n",
    "e=\"y\"\n",
    "while i<=e:\n",
    "    print(i,end=\" \")\n",
    "    i=chr(ord(i)+1)"
   ]
  },
  {
   "cell_type": "code",
   "execution_count": 1,
   "metadata": {},
   "outputs": [
    {
     "name": "stdout",
     "output_type": "stream",
     "text": [
      "z y x w v u t s r q p o n m l k j i h g f e d c b a "
     ]
    }
   ],
   "source": [
    "#43.Wap to print the uppercase character from \"z\" to \"a\" by using a while loop.\n",
    "i=\"a\"\n",
    "e=\"z\"\n",
    "while i<=e:\n",
    "    print(e,end=\" \")\n",
    "    e=chr(ord(e)-1)"
   ]
  },
  {
   "cell_type": "code",
   "execution_count": 3,
   "metadata": {},
   "outputs": [
    {
     "name": "stdout",
     "output_type": "stream",
     "text": [
      "p o n m l k j i h g f e d c "
     ]
    }
   ],
   "source": [
    "#44.Wap to print the uppercase character from \"p\" to \"c\" by using a while loop.\n",
    "i=\"c\"\n",
    "e=\"p\"\n",
    "while i<=e:\n",
    "    print(e,end=\" \")\n",
    "    e=chr(ord(e)-1)"
   ]
  },
  {
   "cell_type": "code",
   "execution_count": 5,
   "metadata": {},
   "outputs": [
    {
     "name": "stdout",
     "output_type": "stream",
     "text": [
      "B 66\n",
      "D 68\n",
      "F 70\n",
      "H 72\n",
      "J 74\n",
      "L 76\n",
      "N 78\n",
      "P 80\n",
      "R 82\n",
      "T 84\n",
      "V 86\n",
      "X 88\n",
      "Z 90\n"
     ]
    }
   ],
   "source": [
    "#45.Wap to print the uppercase characters based on even ascii values.\n",
    "i=\"A\"\n",
    "e=\"Z\"\n",
    "while i<=e:\n",
    "    if ord(i)%2==0:\n",
    "        print(i,ord(i))\n",
    "    i=chr(ord(i)+1)"
   ]
  },
  {
   "cell_type": "code",
   "execution_count": 6,
   "metadata": {},
   "outputs": [
    {
     "name": "stdout",
     "output_type": "stream",
     "text": [
      "b 98\n",
      "d 100\n",
      "f 102\n",
      "h 104\n",
      "j 106\n",
      "l 108\n",
      "n 110\n",
      "p 112\n",
      "r 114\n",
      "t 116\n",
      "v 118\n",
      "x 120\n",
      "z 122\n"
     ]
    }
   ],
   "source": [
    "#46.Wap to print the lowercase characters based on even ascii values.\n",
    "i=\"a\"\n",
    "e=\"z\"\n",
    "while i<=e:\n",
    "    if ord(i)%2==0:\n",
    "        print(i,ord(i))\n",
    "    i=chr(ord(i)+1)"
   ]
  },
  {
   "cell_type": "code",
   "execution_count": 7,
   "metadata": {},
   "outputs": [
    {
     "name": "stdout",
     "output_type": "stream",
     "text": [
      "A 65\n",
      "C 67\n",
      "E 69\n",
      "G 71\n",
      "I 73\n",
      "K 75\n",
      "M 77\n",
      "O 79\n",
      "Q 81\n",
      "S 83\n",
      "U 85\n",
      "W 87\n",
      "Y 89\n"
     ]
    }
   ],
   "source": [
    "#47.Wap to print the uppercase characters based on odd ascii values.\n",
    "i=\"A\"\n",
    "e=\"Z\"\n",
    "while i<=e:\n",
    "    if ord(i)%2!=0:\n",
    "        print(i,ord(i))\n",
    "    i=chr(ord(i)+1)"
   ]
  },
  {
   "cell_type": "code",
   "execution_count": 8,
   "metadata": {},
   "outputs": [
    {
     "name": "stdout",
     "output_type": "stream",
     "text": [
      "a 97\n",
      "c 99\n",
      "e 101\n",
      "g 103\n",
      "i 105\n",
      "k 107\n",
      "m 109\n",
      "o 111\n",
      "q 113\n",
      "s 115\n",
      "u 117\n",
      "w 119\n",
      "y 121\n"
     ]
    }
   ],
   "source": [
    "#48.Wap to print the lowercase characters based on odd ascii values.\n",
    "i=\"a\"\n",
    "e=\"z\"\n",
    "while i<=e:\n",
    "    if ord(i)%2!=0:\n",
    "        print(i,ord(i))\n",
    "    i=chr(ord(i)+1)"
   ]
  },
  {
   "cell_type": "code",
   "execution_count": 10,
   "metadata": {},
   "outputs": [
    {
     "name": "stdout",
     "output_type": "stream",
     "text": [
      "B D F H J L N P R T V X Z "
     ]
    }
   ],
   "source": [
    "#49.Wap to print all the even characters from \"A\" to \"Z\".\n",
    "i=\"A\"\n",
    "e=\"Z\"\n",
    "while i<=e:\n",
    "    if ord(i)%2==0:\n",
    "        print(i,end=\" \")\n",
    "    i=chr(ord(i)+1)"
   ]
  },
  {
   "cell_type": "code",
   "execution_count": 11,
   "metadata": {},
   "outputs": [
    {
     "name": "stdout",
     "output_type": "stream",
     "text": [
      "a c e g i k m o q s u w y "
     ]
    }
   ],
   "source": [
    "#50.Wap to print all the even characters from \"a\" to \"z\".\n",
    "i=\"a\"\n",
    "e=\"z\"\n",
    "while i<=e:\n",
    "    if ord(i)%2!=0:\n",
    "        print(i,end=\" \")\n",
    "    i=chr(ord(i)+1)"
   ]
  },
  {
   "cell_type": "code",
   "execution_count": 13,
   "metadata": {},
   "outputs": [
    {
     "name": "stdout",
     "output_type": "stream",
     "text": [
      "4\n"
     ]
    }
   ],
   "source": [
    "#51.Wap to count the number of vowels present in \"D\" to \"V\".\n",
    "i=\"D\"\n",
    "e=\"V\"\n",
    "count=0\n",
    "while i<=e:\n",
    "    if i in \"AEIOU\":\n",
    "        count+=1\n",
    "    i=chr(ord(i)+1)\n",
    "print(count)"
   ]
  },
  {
   "cell_type": "code",
   "execution_count": 20,
   "metadata": {},
   "outputs": [
    {
     "name": "stdout",
     "output_type": "stream",
     "text": [
      "4\n"
     ]
    }
   ],
   "source": [
    "#52.Wap to count the number of vowels present in \"u\" to \"e\".\n",
    "i=\"u\"\n",
    "e=\"e\"\n",
    "count=0\n",
    "while i>=e:\n",
    "    if i in \"aeiou\":\n",
    "        count+=1\n",
    "    i=chr(ord(i)-1)\n",
    "print(count)"
   ]
  },
  {
   "cell_type": "code",
   "execution_count": 27,
   "metadata": {},
   "outputs": [
    {
     "name": "stdout",
     "output_type": "stream",
     "text": [
      "9\n",
      "18\n",
      "27\n",
      "36\n",
      "45\n",
      "54\n",
      "5\n",
      "10\n",
      "15\n",
      "20\n"
     ]
    }
   ],
   "source": [
    "#53.Wap to print the square of the number in between the range from m to n which is mutiple of 3.\n",
    "# Wap to print a number from range m to n which is divisible by 5.\n",
    "n=1\n",
    "m=20\n",
    "while n<=m:\n",
    "    if n%3==0:\n",
    "        print(n*3)\n",
    "    n+=1\n",
    "\n",
    "n=1\n",
    "m=20\n",
    "while n<=m:\n",
    "    if n%5==0:\n",
    "        print(n)\n",
    "    n+=1\n"
   ]
  },
  {
   "cell_type": "code",
   "execution_count": 32,
   "metadata": {},
   "outputs": [
    {
     "name": "stdout",
     "output_type": "stream",
     "text": [
      "18\n",
      "9\n",
      "9\n"
     ]
    }
   ],
   "source": [
    "#54.Wap which takes an integer number and find the sum of digits and\n",
    "#repeat until the sum gets a single digit in the end.\n",
    "#i/p: 5643\n",
    "#5+6+4+3=>18\n",
    "#1+8=>9\n",
    "#o/p: 9\n",
    "n=5643\n",
    "while n>9:\n",
    "    sum=0\n",
    "    while n:\n",
    "        m=n%10\n",
    "        sum+=m\n",
    "        n=n//10\n",
    "    print(sum)\n",
    "    n=sum\n",
    "print(sum)\n",
    "     "
   ]
  },
  {
   "cell_type": "code",
   "execution_count": 35,
   "metadata": {},
   "outputs": [
    {
     "name": "stdout",
     "output_type": "stream",
     "text": [
      "14\n"
     ]
    }
   ],
   "source": [
    "#55.Wap to count the number of 2's between 0 and n.\n",
    "e=35\n",
    "s=1\n",
    "count=0\n",
    "while s<=e:\n",
    "    n=s\n",
    "    while n:\n",
    "        m=n%10\n",
    "        if m==2:\n",
    "            count+=1\n",
    "        n=n//10\n",
    "    s+=1\n",
    "print(count)"
   ]
  },
  {
   "cell_type": "code",
   "execution_count": 63,
   "metadata": {},
   "outputs": [
    {
     "name": "stdout",
     "output_type": "stream",
     "text": [
      "6\n",
      "60\n",
      "360\n"
     ]
    }
   ],
   "source": [
    "#56.Wap to find max product of three number from the given integer array.\n",
    "v=[6,3,0,10]\n",
    "pod=1\n",
    "m=3\n",
    "s=10\n",
    "while m:\n",
    "    h=0\n",
    "    i=0\n",
    "    while i<len(v):\n",
    "        if v[i]>h and v[i]!=s:\n",
    "            h=v[i]\n",
    "        i+=1\n",
    "    s=h\n",
    "    pod*=s\n",
    "    print(pod)\n",
    "    m-=1\n",
    "\n",
    "            \n"
   ]
  }
 ],
 "metadata": {
  "kernelspec": {
   "display_name": "Python 3",
   "language": "python",
   "name": "python3"
  },
  "language_info": {
   "codemirror_mode": {
    "name": "ipython",
    "version": 3
   },
   "file_extension": ".py",
   "mimetype": "text/x-python",
   "name": "python",
   "nbconvert_exporter": "python",
   "pygments_lexer": "ipython3",
   "version": "3.10.9"
  },
  "orig_nbformat": 4
 },
 "nbformat": 4,
 "nbformat_minor": 2
}
