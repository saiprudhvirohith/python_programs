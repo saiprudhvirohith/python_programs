{
 "cells": [
  {
   "cell_type": "code",
   "execution_count": 5,
   "metadata": {},
   "outputs": [
    {
     "name": "stdout",
     "output_type": "stream",
     "text": [
      "30\n"
     ]
    }
   ],
   "source": [
    "a=int(input())\n",
    "b=int(input())\n",
    "oper=input()\n",
    "if oper in['+','add']:\n",
    "    print(a+b)\n",
    "elif oper in['-','sub']:\n",
    "    print(a-b)\n",
    "elif oper in ['/','True']:\n",
    "    print(a/b)\n",
    "elif oper in ['//','floor']:\n",
    "    print(a//b)\n",
    "elif oper in ['%','mod']:\n",
    "    print(a%b)\n",
    "elif oper in['*','mul']:\n",
    "    print(a*b)\n",
    "elif oper in[\"**\",'pow']:\n",
    "    print(a**b)\n",
    "else:\n",
    "    print(\"invalid operator\")"
   ]
  },
  {
   "cell_type": "code",
   "execution_count": 7,
   "metadata": {},
   "outputs": [
    {
     "name": "stdout",
     "output_type": "stream",
     "text": [
      "{10: 'a', 20: 'b'} is a mapping datatype\n"
     ]
    }
   ],
   "source": [
    "n={10:'a',20:'b'}\n",
    "if type(n) in [int,float,complex,bytes]:\n",
    "    print(n,'is a number datatype')\n",
    "elif type(n)==bool:\n",
    "    print(n,'is a boolean datatype')\n",
    "elif type(n)==type(None):\n",
    "    print(n,'is a none datatype')\n",
    "elif type(n) in[list,str,tuple,range]:\n",
    "    print(n,'is a sequence datatype')\n",
    "elif type(n) in [set,dict]:\n",
    "    print(n,'is a mapping datatype')"
   ]
  },
  {
   "cell_type": "code",
   "execution_count": 16,
   "metadata": {},
   "outputs": [
    {
     "name": "stdout",
     "output_type": "stream",
     "text": [
      "2\n",
      "14\n"
     ]
    }
   ],
   "source": [
    "m='9'\n",
    "if 'A'<=m<=\"Z\" or 'a'<=m<='z':\n",
    "    d={}\n",
    "    d[m]=ord(m)\n",
    "    print(d)\n",
    "elif '0'<=m<='9':\n",
    "    print(int(m)>>2)\n",
    "    print(ord(m)>>2)\n",
    "elif not('A'<=m<=\"Z\" or 'a'<=m<='z' or '0'<=m<='9'):\n",
    "    print(ord(m)//10)"
   ]
  },
  {
   "cell_type": "code",
   "execution_count": 22,
   "metadata": {},
   "outputs": [
    {
     "name": "stdout",
     "output_type": "stream",
     "text": [
      "Invalid Username or Password\n"
     ]
    }
   ],
   "source": [
    "id=input('Enter Username:')\n",
    "password=input('Enter Password:')\n",
    "details={'Name':'Rohith','DOB':'06-05-2001','Gender':'Male',\"email\":\"purdhvi\",'password':'rohith@000'}\n",
    "if id==details[\"email\"] and password==details[\"password\"]:\n",
    "    print(details)\n",
    "else:\n",
    "    print('Invalid Username or Password')"
   ]
  }
 ],
 "metadata": {
  "kernelspec": {
   "display_name": "Python 3",
   "language": "python",
   "name": "python3"
  },
  "language_info": {
   "codemirror_mode": {
    "name": "ipython",
    "version": 3
   },
   "file_extension": ".py",
   "mimetype": "text/x-python",
   "name": "python",
   "nbconvert_exporter": "python",
   "pygments_lexer": "ipython3",
   "version": "3.10.9"
  },
  "orig_nbformat": 4
 },
 "nbformat": 4,
 "nbformat_minor": 2
}
