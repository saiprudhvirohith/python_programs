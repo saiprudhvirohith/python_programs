{
 "cells": [
  {
   "cell_type": "code",
   "execution_count": 1,
   "metadata": {},
   "outputs": [
    {
     "name": "stdout",
     "output_type": "stream",
     "text": [
      "Negative\n"
     ]
    }
   ],
   "source": [
    "#1.WAP to check whether a number is positive or negative. If Positive print positive message or else print Negative Number.\n",
    "n=-4\n",
    "if n>=0:\n",
    "    print(\"Positive\")\n",
    "else:\n",
    "    print(\"Negative\")"
   ]
  },
  {
   "cell_type": "code",
   "execution_count": 2,
   "metadata": {},
   "outputs": [
    {
     "name": "stdout",
     "output_type": "stream",
     "text": [
      "Odd\n"
     ]
    }
   ],
   "source": [
    "#2.WAP to check whether a number is even or odd. If even, print message an even or else print message as odd.\n",
    "n=21\n",
    "if n%2==0:\n",
    "    print('Even')\n",
    "else:\n",
    "    print('Odd')"
   ]
  },
  {
   "cell_type": "code",
   "execution_count": 3,
   "metadata": {},
   "outputs": [
    {
     "name": "stdout",
     "output_type": "stream",
     "text": [
      "Greater\n"
     ]
    }
   ],
   "source": [
    "#3.Write a program to check whether a given number is greater than 10 or not. if it is greater than 10 print message as greater or else print that number with not a greater than.\n",
    "n=21\n",
    "if n>10:\n",
    "    print(\"Greater\")\n",
    "else:\n",
    "    print(\"Not Greater\")"
   ]
  },
  {
   "cell_type": "code",
   "execution_count": 4,
   "metadata": {},
   "outputs": [
    {
     "name": "stdout",
     "output_type": "stream",
     "text": [
      "Good Morning\n"
     ]
    }
   ],
   "source": [
    "#4.WAP to check whether the given two input numbers are divisible by 3 and 5. If it is divisible, print “Good Morning”, if it is not divisible print “Good Evening”.\n",
    "n,m=15,300\n",
    "if n%3==0 and n%5==0 and m%3==0 and m%5==0:\n",
    "    print(\"Good Morning\")\n",
    "else:\n",
    "    print(\"Good Evening\")    "
   ]
  },
  {
   "cell_type": "code",
   "execution_count": null,
   "metadata": {},
   "outputs": [],
   "source": [
    "#5.WAP to accept two integers and check whether those two values are equal or not.If equal, multiply to value or else to display the quotation value.\n"
   ]
  },
  {
   "cell_type": "code",
   "execution_count": 5,
   "metadata": {},
   "outputs": [
    {
     "name": "stdout",
     "output_type": "stream",
     "text": [
      "20\n"
     ]
    }
   ],
   "source": [
    "#6.WAP to find the largest of two numbers.\n",
    "n=10\n",
    "m=20\n",
    "if n>m:\n",
    "    print(n)\n",
    "else:\n",
    "    print(m)"
   ]
  },
  {
   "cell_type": "code",
   "execution_count": 8,
   "metadata": {},
   "outputs": [
    {
     "name": "stdout",
     "output_type": "stream",
     "text": [
      "15 is greater\n"
     ]
    }
   ],
   "source": [
    "#7.WAP to check whether the input number is greater than 10 or not if it is greater than 10 print messages as greater with number. if it is not a greater than 10 print that number.\n",
    "n=15\n",
    "if n>10:\n",
    "    print(n,\"is greater\")\n",
    "else:\n",
    "    print(n)"
   ]
  },
  {
   "cell_type": "code",
   "execution_count": null,
   "metadata": {},
   "outputs": [],
   "source": [
    "#8.WAP to the given number integer, if n is greater than 21,print the absolute difference between n and 21 otherwise print twice the absolute difference.\n"
   ]
  },
  {
   "cell_type": "code",
   "execution_count": 9,
   "metadata": {},
   "outputs": [
    {
     "name": "stdout",
     "output_type": "stream",
     "text": [
      "10\n"
     ]
    }
   ],
   "source": [
    "#9.WAP to find the smallest of two numbers.\n",
    "n=10\n",
    "m=20\n",
    "if n<m:\n",
    "    print(n)\n",
    "else:\n",
    "    print(m)"
   ]
  },
  {
   "cell_type": "code",
   "execution_count": 11,
   "metadata": {},
   "outputs": [
    {
     "name": "stdout",
     "output_type": "stream",
     "text": [
      "9\n"
     ]
    }
   ],
   "source": [
    "#10.WAP to check whether the given number is even or odd. If it is even then make it as an odd number, if it is an odd number then make it as even number.\n",
    "n=8\n",
    "if n%2==0:\n",
    "    n+=1\n",
    "    print(n)\n",
    "else:\n",
    "    n+=1\n",
    "    print(n)"
   ]
  },
  {
   "cell_type": "code",
   "execution_count": 15,
   "metadata": {},
   "outputs": [
    {
     "name": "stdout",
     "output_type": "stream",
     "text": [
      "15625\n"
     ]
    }
   ],
   "source": [
    "#11.WAP to check whether the given number is divisible by 3 or not if yes, print the number or else print the cube of the numbers.\n",
    "n=25\n",
    "if n%3==0:\n",
    "    print(n)\n",
    "else:\n",
    "    print(n**3)"
   ]
  },
  {
   "cell_type": "code",
   "execution_count": 19,
   "metadata": {},
   "outputs": [
    {
     "name": "stdout",
     "output_type": "stream",
     "text": [
      "50\n"
     ]
    }
   ],
   "source": [
    "#12.WAP to check whether the given input is divisible by 3 and 5. If yes print the actual number or else print string of that number.\n",
    "n=50\n",
    "if n%3==0 and n%5==0:\n",
    "    print(n)\n",
    "else:\n",
    "    print(str(n))"
   ]
  },
  {
   "cell_type": "code",
   "execution_count": 20,
   "metadata": {},
   "outputs": [
    {
     "name": "stdout",
     "output_type": "stream",
     "text": [
      "100\n"
     ]
    }
   ],
   "source": [
    "#13.WAP to check whether the given number lies between 1 to 19, if it is true square that number or else false cube that number and display the number.\n",
    "n=10\n",
    "if 1<=n<=19:\n",
    "    n=n**2\n",
    "    print(n)\n",
    "else:\n",
    "    n=n**3\n",
    "    print(n)"
   ]
  },
  {
   "cell_type": "code",
   "execution_count": 23,
   "metadata": {},
   "outputs": [
    {
     "name": "stdout",
     "output_type": "stream",
     "text": [
      "PASS 41\n"
     ]
    }
   ],
   "source": [
    "#14.WAP to check whether the student has passed or failed. If the student got more than 40 marks, print ‘PASS’ along with those marks, if it is not printed ‘FAIL’ along with those marks.\n",
    "m=41\n",
    "if m>40:\n",
    "    print(\"PASS\",m)\n",
    "else:\n",
    "    print('FAIL',m)"
   ]
  },
  {
   "cell_type": "code",
   "execution_count": 27,
   "metadata": {},
   "outputs": [
    {
     "name": "stdout",
     "output_type": "stream",
     "text": [
      "0\n"
     ]
    }
   ],
   "source": [
    "#15.WAP to check whether a given value is even and in range of 47 to 58 and not in 0 or odd. if condition is True, to perform display the ascii character. or else to perform floor division with 5 and display it.\n",
    "n=48\n",
    "if n%2==0 and 47<=n<58 and (n!=0 or n%2!=0):\n",
    "    print(chr(n))\n",
    "else:\n",
    "    print(n//2)"
   ]
  },
  {
   "cell_type": "code",
   "execution_count": 31,
   "metadata": {},
   "outputs": [
    {
     "name": "stdout",
     "output_type": "stream",
     "text": [
      "{48: '0'}\n"
     ]
    }
   ],
   "source": [
    "#16.WAP to check whether a given value is less than 125 and in between 47 to 125 or not. if condition is True, to perform store the given value as key and value as a character into the dict or else to append the value in list and display it.\n",
    "n=48\n",
    "d={}\n",
    "l=[]\n",
    "if 47<n<125:\n",
    "    d[n]=chr(n)\n",
    "    print(d)\n",
    "else:\n",
    "    l+=[n]\n",
    "    print(l)"
   ]
  },
  {
   "cell_type": "code",
   "execution_count": 38,
   "metadata": {},
   "outputs": [
    {
     "name": "stdout",
     "output_type": "stream",
     "text": [
      "Alphabet a\n"
     ]
    }
   ],
   "source": [
    "#17.WAP to check whether a given character is in the alphabet or not. if alphabet, display the alphabet with character or else display the not alphabet with character.\n",
    "n=\"a\"\n",
    "if len(n)==1 and (\"A\"<=n<=\"Z\" or \"a\"<=n<=\"z\"):\n",
    "    print('Alphabet',n)\n",
    "else:\n",
    "    print('Not Alphabet',n)"
   ]
  },
  {
   "cell_type": "code",
   "execution_count": 42,
   "metadata": {},
   "outputs": [
    {
     "name": "stdout",
     "output_type": "stream",
     "text": [
      "D is uppercase\n"
     ]
    }
   ],
   "source": [
    "#18.WAP to check whether a given character is uppercase or other character. if uppercase, display the uppercase with character or else display the other character with character.\n",
    "n=\"D\"\n",
    "if len(n)==1 and 'A'<=n<='Z':\n",
    "    print(n,'is uppercase')\n",
    "else:\n",
    "    print(n,'other character')"
   ]
  },
  {
   "cell_type": "code",
   "execution_count": 43,
   "metadata": {},
   "outputs": [
    {
     "name": "stdout",
     "output_type": "stream",
     "text": [
      "l is lowercase\n"
     ]
    }
   ],
   "source": [
    "#19.WAP to check whether a given character is lowercase or other character. if lowercase, display the lowercase with character or else display the othercharacter with character.\n",
    "n=\"l\"\n",
    "if len(n)==1 and 'a'<=n<='z':\n",
    "    print(n,'is lowercase')\n",
    "else:\n",
    "    print(n,'other character')"
   ]
  },
  {
   "cell_type": "code",
   "execution_count": 46,
   "metadata": {},
   "outputs": [
    {
     "name": "stdout",
     "output_type": "stream",
     "text": [
      "n\n"
     ]
    }
   ],
   "source": [
    "#20.WAP to check whether a given character is uppercase or other character. if uppercase, convert to lowercase .or else display the ascii number.\n",
    "n=\"N\"\n",
    "if len(n)==1 and 'A'<=n<='Z':\n",
    "    print(chr(ord(n)+32))\n",
    "else:\n",
    "    print(ord(n))"
   ]
  },
  {
   "cell_type": "code",
   "execution_count": 3,
   "metadata": {},
   "outputs": [
    {
     "name": "stdout",
     "output_type": "stream",
     "text": [
      "o\n"
     ]
    }
   ],
   "source": [
    "#21.WAP to check whether the given character is in lowercase or uppercase. If it is in lowercase, convert it into uppercase, or else it is in uppercase and convert it into lowercase. Display the value.\n",
    "m='O'\n",
    "if len(m)==1 and 'a'<=m<='z':\n",
    "    m=chr(ord(m)-32)\n",
    "    print(m)\n",
    "else: \n",
    "    m=chr(ord(m)+32)\n",
    "    print(m)"
   ]
  },
  {
   "cell_type": "code",
   "execution_count": 25,
   "metadata": {},
   "outputs": [
    {
     "name": "stdout",
     "output_type": "stream",
     "text": [
      "d\n"
     ]
    }
   ],
   "source": [
    "#22.WAP to check whether the given string of the first character is a special symbol or not. If a special symbol, to extract and display the middle character or else to reverse the string and display the half of the string.\n",
    "n=\"#Prudhvi\"\n",
    "if not ('a'<=n[0]<='z' or 'A'<=n[0]<='Z' or '0'<=n[0]<='9'):\n",
    "    m=n[len(n)//2]\n",
    "    print(m)\n",
    "else:\n",
    "    m=n[::-1]\n",
    "    print(m[:len(n)//2])"
   ]
  },
  {
   "cell_type": "code",
   "execution_count": 27,
   "metadata": {},
   "outputs": [
    {
     "name": "stdout",
     "output_type": "stream",
     "text": [
      "p is a CONSONANT\n"
     ]
    }
   ],
   "source": [
    "#23.WAP to check whether the input character is a vowel or not. If it is vowel print ‘VOWEL’ along with that character, if it is not just print ‘CONSONANT’.\n",
    "n='p'\n",
    "if len(n)==1 and n in 'AEIOUaeiou':\n",
    "    print(n,'is a VOWEL')\n",
    "else:\n",
    "    print(n,'is a CONSONANT')"
   ]
  },
  {
   "cell_type": "code",
   "execution_count": 29,
   "metadata": {},
   "outputs": [
    {
     "name": "stdout",
     "output_type": "stream",
     "text": [
      "V\n"
     ]
    }
   ],
   "source": [
    "#24.WAP to check whether a given character is a vowel or consonant. if vowel, to print the next character of a given character or else print previous characters.\n",
    "n='U'\n",
    "if len(n)==1 and n in 'AEIOUaeiou':\n",
    "    print(chr(ord(n)+1))\n",
    "else:\n",
    "    print(chr(ord(n)-1))"
   ]
  },
  {
   "cell_type": "code",
   "execution_count": 33,
   "metadata": {},
   "outputs": [
    {
     "name": "stdout",
     "output_type": "stream",
     "text": [
      "ivhdurP\n"
     ]
    }
   ],
   "source": [
    "#25.WAP to check whether a given string of first character is alphabet or notif the alphabet prints, reverse the string or else print the middle character.\n",
    "n=\"Prudhvi\"\n",
    "if ('a'<=n[0]<='z' or 'A'<=n[0]<='Z'):\n",
    "    m=n[::-1]\n",
    "    print(m)\n",
    "else:\n",
    "    m=n[len(n)//2]\n",
    "    print(m)"
   ]
  },
  {
   "cell_type": "code",
   "execution_count": 35,
   "metadata": {},
   "outputs": [
    {
     "name": "stdout",
     "output_type": "stream",
     "text": [
      "W\n"
     ]
    }
   ],
   "source": [
    "#26.WAP to check whether the given input character is uppercase or lowercase. If the input character is upper case convert into lower case and vice versa.\n",
    "n=\"w\"\n",
    "if 'A'<=n<='Z':\n",
    "    n=chr(ord(n)+32)\n",
    "    print(n)\n",
    "else:\n",
    "    n=chr(ord(n)-32)\n",
    "    print(n)"
   ]
  },
  {
   "cell_type": "code",
   "execution_count": 37,
   "metadata": {},
   "outputs": [
    {
     "name": "stdout",
     "output_type": "stream",
     "text": [
      "ii\n"
     ]
    }
   ],
   "source": [
    "#27.WAP to check whether a given string is less than 3 characters, to print the entire string otherwise to print after third positions to the remaining string.\n",
    "n=\"Haii\"\n",
    "if len(n)<3:\n",
    "    print(n)\n",
    "else:\n",
    "    print(n[2:])"
   ]
  },
  {
   "cell_type": "code",
   "execution_count": 45,
   "metadata": {},
   "outputs": [
    {
     "name": "stdout",
     "output_type": "stream",
     "text": [
      "Prudhvi bye\n"
     ]
    }
   ],
   "source": [
    "#28.WAP to check whether a given length of the string is even or not. if even, to append the new string called \"bye\" or else print the first and last characters.\n",
    "n=\"Prudhvi \"\n",
    "if len(n)%2==0:\n",
    "    n+=\"bye\"\n",
    "    print(n)\n",
    "else:\n",
    "    print(n[0],n[-1])"
   ]
  },
  {
   "cell_type": "code",
   "execution_count": 77,
   "metadata": {},
   "outputs": [
    {
     "name": "stdout",
     "output_type": "stream",
     "text": [
      "HaiiPrudhvi\n"
     ]
    }
   ],
   "source": [
    "#29.WAP to check whether a given length of the string is odd or not. if odd, to append \n",
    "#the new string(\"Haii\") from the starting of the given string, or else to avoid the \n",
    "#starting character and ending character of the givenstring and to display the remaining characters.\n",
    "m=\"Prudhvi\"\n",
    "if len(m)%2!=0:\n",
    "    m='Haii'+m\n",
    "    print(m)\n",
    "else:\n",
    "    m=m[1:len(m)-1]\n",
    "    print(m)"
   ]
  },
  {
   "cell_type": "code",
   "execution_count": 102,
   "metadata": {},
   "outputs": [
    {
     "name": "stdout",
     "output_type": "stream",
     "text": [
      "Pruhvid\n"
     ]
    }
   ],
   "source": [
    "#30.WAP to check whether the last of the given string is a special character or not, if \n",
    "#the special character prints reverse the string except the last character or else to \n",
    "#check if the length of the string is odd or not, if odd to extract the middle character to the end of the string.\n",
    "a=\"Prudhvi\"\n",
    "if not(\"a\"<=a[-1]<=\"z\" or \"A\"<=a[-1]<=\"Z\" or \"0\"<=a[-1]<='9'):\n",
    "    a=a[::-1]\n",
    "    print(a[-1])\n",
    "else:\n",
    "    if len(a)%2!=0:\n",
    "        a=a[:len(a)//2]+a[len(a)//2+1:]+a[len(a)//2]\n",
    "        print(a)"
   ]
  },
  {
   "cell_type": "code",
   "execution_count": 105,
   "metadata": {},
   "outputs": [
    {
     "name": "stdout",
     "output_type": "stream",
     "text": [
      "Leap Year\n"
     ]
    }
   ],
   "source": [
    "#31.WAP to check whether a given year is a leap year or not. if leap year, print leap year or else not a leap year.\n",
    "n=2012\n",
    "if (n%4==0 and n%100!=0) or n%400==0:\n",
    "    print(\"Leap Year\")\n",
    "else:\n",
    "    print(\"Not a Leap Year\")"
   ]
  },
  {
   "cell_type": "code",
   "execution_count": null,
   "metadata": {},
   "outputs": [],
   "source": [
    "#32.WAP to find out the greatest of two numbers and display the greatest number. if the greatest number, display the greatest message with value.\n"
   ]
  },
  {
   "cell_type": "code",
   "execution_count": 109,
   "metadata": {},
   "outputs": [
    {
     "name": "stdout",
     "output_type": "stream",
     "text": [
      "The value is present\n"
     ]
    }
   ],
   "source": [
    "#33.WAP to check whether the given value is present inside the given collection or not.if value is present, display the value is available or else the value is not present.\n",
    "n=30\n",
    "m=[10,20,30,40]\n",
    "if n in m:\n",
    "    print('The value is present')\n",
    "else:\n",
    "    print('The value is not present')"
   ]
  },
  {
   "cell_type": "code",
   "execution_count": 112,
   "metadata": {},
   "outputs": [
    {
     "name": "stdout",
     "output_type": "stream",
     "text": [
      "HiHiHi\n"
     ]
    }
   ],
   "source": [
    "#34.WAP whether a given string, if string length is more than 2, then it displays a new string with the first and last characters switched, otherwise the display the 3 copies of given string.\n",
    "d=\"Hi\"\n",
    "if type(d)==str and len(d)>2:\n",
    "    d=d[-1]+d[1:len(d)-1]+d[0]\n",
    "    print(d)\n",
    "else:\n",
    "    d=d*3\n",
    "    print(d)"
   ]
  },
  {
   "cell_type": "code",
   "execution_count": 129,
   "metadata": {},
   "outputs": [
    {
     "name": "stdout",
     "output_type": "stream",
     "text": [
      "[3.3333333333333335, 'a', 20, 'b', -31]\n"
     ]
    }
   ],
   "source": [
    "#35.WAP to check whether a given value is a list and first and last values should be \n",
    "#integer if condition is satisfied first value is True division by 3 and perform the \n",
    "#bitwise not for last value and those result values are stored in same positions in \n",
    "#given list or else, to perform length of the collection power by 2 and display value.\n",
    "x=[10,\"a\",20,\"b\",30]\n",
    "if type(x)==list and type(x[0])==int and type(x[-1])==int:\n",
    "    x[0]=x[0]/3\n",
    "    x[-1]=~x[-1]\n",
    "    print(x)\n",
    "else:\n",
    "    print(len(x)**2)"
   ]
  },
  {
   "cell_type": "code",
   "execution_count": 125,
   "metadata": {},
   "outputs": [
    {
     "name": "stdout",
     "output_type": "stream",
     "text": [
      "GoodGoodGood\n"
     ]
    }
   ],
   "source": [
    "#36.WAP to check whether a given value is a string or not and length of the value \n",
    "#should be more than 7, if condition is satisfied to append the new string in the \n",
    "#middle of the given string or else to perform the replications with 3 and display the result.\n",
    "s=\"Good\"\n",
    "if type(s)==str and len(s)>7:\n",
    "    s=s[:len(s)//2]+\"$$ \"+s[len(s)//2:]\n",
    "    print(s)\n",
    "else:\n",
    "    print(s*3)"
   ]
  },
  {
   "cell_type": "code",
   "execution_count": 143,
   "metadata": {},
   "outputs": [
    {
     "name": "stdout",
     "output_type": "stream",
     "text": [
      "ABGH\n"
     ]
    }
   ],
   "source": [
    "#37.WAP to check if the given string of first and second character should be sequence \n",
    "#or not. if the sequence prints the first, second and last two characters, or else the \n",
    "#first half string is reversed and the remaining half string should be normal and display it.\n",
    "u=\"ABCDEFGH\"\n",
    "if ord(u[0])+1==ord(u[1]):\n",
    "    print(u[0]+u[1]+u[-2:])\n",
    "else:\n",
    "    print(u[(len(u)//2)::-1]+u[(len(u)//2)+1:])"
   ]
  },
  {
   "cell_type": "code",
   "execution_count": 145,
   "metadata": {},
   "outputs": [
    {
     "name": "stdout",
     "output_type": "stream",
     "text": [
      "Value is not found\n"
     ]
    }
   ],
   "source": [
    "#38.WAP to check whether a given value is present inside the collection or not. If present, print the value or else print value is not found.\n",
    "g=[10,20,30,40,50]\n",
    "h=60\n",
    "if h in g:\n",
    "    print(h)\n",
    "else:\n",
    "    print('Value is not found')"
   ]
  },
  {
   "cell_type": "code",
   "execution_count": 149,
   "metadata": {},
   "outputs": [
    {
     "name": "stdout",
     "output_type": "stream",
     "text": [
      "{10: 1, 20: 2, 30: 3, 40: 4, 50: 5}\n"
     ]
    }
   ],
   "source": [
    "#39.WAP to check whether a given key is present in the dict or not. if key is present: display the value or else add key and new value inside the dict.\n",
    "k={10:1,20:2,30:3,40:4}\n",
    "l=50\n",
    "if l in k:\n",
    "    print(k[l])\n",
    "else:\n",
    "    k[l]=5\n",
    "    print(k)"
   ]
  },
  {
   "cell_type": "code",
   "execution_count": 153,
   "metadata": {},
   "outputs": [
    {
     "name": "stdout",
     "output_type": "stream",
     "text": [
      "{40, 10, 50, 20, 30}\n"
     ]
    }
   ],
   "source": [
    "#40.WAP to check whether a given collection is set or not. if set, append the new \n",
    "#value, or else eliminate the duplicate values in collection. final results should be set type.\n",
    "q=[10,20,30,40,40,50,20]\n",
    "if type(q)==set:\n",
    "    q|={50,60}\n",
    "    print(q)\n",
    "else:\n",
    "    q=set(q)\n",
    "    print(q)"
   ]
  },
  {
   "cell_type": "code",
   "execution_count": 155,
   "metadata": {},
   "outputs": [
    {
     "name": "stdout",
     "output_type": "stream",
     "text": [
      "17 Not Eligible\n"
     ]
    }
   ],
   "source": [
    "#41.WAP to read the age of a candidate and determine whether it is eligible for \n",
    "#his/her own vote or not.it eligible print age and eligible messages or else print not eligible.\n",
    "age=17\n",
    "if age>=18:\n",
    "    print(age,'Eligible')\n",
    "else:\n",
    "    print(age,'Not Eligible')"
   ]
  },
  {
   "cell_type": "code",
   "execution_count": 158,
   "metadata": {},
   "outputs": [
    {
     "name": "stdout",
     "output_type": "stream",
     "text": [
      "8\n"
     ]
    }
   ],
   "source": [
    "#42.WAP to check whether a given value is even and in between 47 to 58 and not in \n",
    "#0 or odd. if condition is True, to perform display the ascii character or else to \n",
    "#perform floor division with 5 and display it.\n",
    "n=56\n",
    "if n%2==0 and 47<n<58 and (n!=0 or n%2!=0):\n",
    "    print(chr(n))\n",
    "else:\n",
    "    print(n//5)"
   ]
  },
  {
   "cell_type": "code",
   "execution_count": 162,
   "metadata": {},
   "outputs": [
    {
     "name": "stdout",
     "output_type": "stream",
     "text": [
      "level is a palindrome\n"
     ]
    }
   ],
   "source": [
    "#43.WAP to check whether the given string is palindrome or not if it is a palindrome \n",
    "#string palindrome along with the string if it is not a palindrome print not palindrome.\n",
    "n='level'\n",
    "if n==n[::-1]:\n",
    "    print(n,'is a palindrome')\n",
    "else:\n",
    "    print('Not a palindrome')"
   ]
  },
  {
   "cell_type": "code",
   "execution_count": 165,
   "metadata": {},
   "outputs": [
    {
     "name": "stdout",
     "output_type": "stream",
     "text": [
      "121 is a palindrome\n"
     ]
    }
   ],
   "source": [
    "#44.WAP to check whether a given number is palindrome or not. If palindrome, display the given value as a palindrome or else not a palindrome.\n",
    "n=121\n",
    "s=str(n)\n",
    "if n==int(s[::-1]):\n",
    "    print(n,'is a palindrome')\n",
    "else:\n",
    "    print('Not a palindrome')"
   ]
  }
 ],
 "metadata": {
  "kernelspec": {
   "display_name": "Python 3",
   "language": "python",
   "name": "python3"
  },
  "language_info": {
   "codemirror_mode": {
    "name": "ipython",
    "version": 3
   },
   "file_extension": ".py",
   "mimetype": "text/x-python",
   "name": "python",
   "nbconvert_exporter": "python",
   "pygments_lexer": "ipython3",
   "version": "3.10.9"
  },
  "orig_nbformat": 4
 },
 "nbformat": 4,
 "nbformat_minor": 2
}
