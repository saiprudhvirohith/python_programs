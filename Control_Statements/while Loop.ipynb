{
 "cells": [
  {
   "cell_type": "code",
   "execution_count": 1,
   "metadata": {},
   "outputs": [
    {
     "name": "stdout",
     "output_type": "stream",
     "text": [
      "Hello World\n",
      "Hello World\n",
      "Hello World\n",
      "Hello World\n",
      "Hello World\n",
      "Hello World\n",
      "Hello World\n",
      "Hello World\n",
      "Hello World\n",
      "Hello World\n",
      "Hello World\n",
      "Hello World\n",
      "Hello World\n",
      "Hello World\n",
      "Hello World\n",
      "Hello World\n",
      "Hello World\n",
      "Hello World\n",
      "Hello World\n",
      "Hello World\n",
      "Hello World\n",
      "Hello World\n",
      "Hello World\n",
      "Hello World\n",
      "Hello World\n",
      "Hello World\n",
      "Hello World\n",
      "Hello World\n",
      "Hello World\n",
      "Hello World\n",
      "Hello World\n",
      "Hello World\n",
      "Hello World\n",
      "Hello World\n",
      "Hello World\n",
      "Hello World\n",
      "Hello World\n",
      "Hello World\n",
      "Hello World\n",
      "Hello World\n",
      "Hello World\n",
      "Hello World\n",
      "Hello World\n",
      "Hello World\n",
      "Hello World\n",
      "Hello World\n",
      "Hello World\n",
      "Hello World\n",
      "Hello World\n",
      "Hello World\n",
      "Hello World\n",
      "Hello World\n",
      "Hello World\n",
      "Hello World\n",
      "Hello World\n",
      "Hello World\n",
      "Hello World\n",
      "Hello World\n",
      "Hello World\n",
      "Hello World\n",
      "Hello World\n",
      "Hello World\n",
      "Hello World\n",
      "Hello World\n",
      "Hello World\n",
      "Hello World\n",
      "Hello World\n",
      "Hello World\n",
      "Hello World\n",
      "Hello World\n",
      "Hello World\n",
      "Hello World\n",
      "Hello World\n",
      "Hello World\n",
      "Hello World\n",
      "Hello World\n",
      "Hello World\n",
      "Hello World\n",
      "Hello World\n",
      "Hello World\n",
      "Hello World\n",
      "Hello World\n",
      "Hello World\n",
      "Hello World\n",
      "Hello World\n",
      "Hello World\n",
      "Hello World\n",
      "Hello World\n",
      "Hello World\n",
      "Hello World\n",
      "Hello World\n",
      "Hello World\n",
      "Hello World\n",
      "Hello World\n",
      "Hello World\n",
      "Hello World\n",
      "Hello World\n",
      "Hello World\n",
      "Hello World\n",
      "Hello World\n"
     ]
    }
   ],
   "source": [
    "n='Hello World'\n",
    "m=0\n",
    "while m<100:\n",
    "    print(n)\n",
    "    m+=1"
   ]
  },
  {
   "cell_type": "code",
   "execution_count": 19,
   "metadata": {},
   "outputs": [
    {
     "name": "stdout",
     "output_type": "stream",
     "text": [
      "hello world\n",
      "hello world\n",
      "hello world\n",
      "hello world\n",
      "hello world\n",
      "hello world\n",
      "hello world\n",
      "hello world\n",
      "hello world\n",
      "hello world\n",
      "hello world\n",
      "hello world\n",
      "hello world\n",
      "hello world\n",
      "hello world\n",
      "hello world\n",
      "hello world\n",
      "hello world\n",
      "hello world\n",
      "hello world\n",
      "hello world\n",
      "hello world\n",
      "hello world\n",
      "hello world\n",
      "hello world\n",
      "hello world\n",
      "hello world\n",
      "hello world\n",
      "hello world\n",
      "hello world\n",
      "hello world\n",
      "hello world\n",
      "hello world\n",
      "hello world\n",
      "hello world\n",
      "hello world\n",
      "hello world\n",
      "hello world\n",
      "hello world\n",
      "hello world\n",
      "hello world\n",
      "hello world\n",
      "hello world\n",
      "hello world\n",
      "hello world\n",
      "hello world\n",
      "hello world\n",
      "hello world\n",
      "hello world\n",
      "hello world\n",
      "hello world\n",
      "hello world\n",
      "hello world\n",
      "hello world\n",
      "hello world\n",
      "hello world\n",
      "hello world\n",
      "hello world\n",
      "hello world\n",
      "hello world\n",
      "hello world\n",
      "hello world\n",
      "hello world\n",
      "hello world\n",
      "hello world\n",
      "hello world\n",
      "hello world\n",
      "hello world\n",
      "hello world\n",
      "hello world\n",
      "hello world\n",
      "hello world\n",
      "hello world\n",
      "hello world\n",
      "hello world\n",
      "hello world\n",
      "hello world\n",
      "hello world\n",
      "hello world\n",
      "hello world\n",
      "hello world\n",
      "hello world\n",
      "hello world\n",
      "hello world\n",
      "hello world\n",
      "hello world\n",
      "hello world\n",
      "hello world\n",
      "hello world\n",
      "hello world\n",
      "hello world\n",
      "hello world\n",
      "hello world\n",
      "hello world\n",
      "hello world\n",
      "hello world\n",
      "hello world\n",
      "hello world\n",
      "hello world\n",
      "hello world\n",
      "\n"
     ]
    }
   ],
   "source": [
    "print(('hello world'+'\\n')*100)"
   ]
  },
  {
   "cell_type": "code",
   "execution_count": 20,
   "metadata": {},
   "outputs": [
    {
     "name": "stdout",
     "output_type": "stream",
     "text": [
      "Hello World\n",
      "Hello World\n",
      "Hello World\n",
      "Hello World\n",
      "Hello World\n",
      "Hello World\n",
      "Hello World\n",
      "Hello World\n",
      "Hello World\n",
      "Hello World\n",
      "Hello World\n",
      "Hello World\n",
      "Hello World\n",
      "Hello World\n",
      "Hello World\n",
      "Hello World\n",
      "Hello World\n",
      "Hello World\n",
      "Hello World\n",
      "Hello World\n",
      "Hello World\n",
      "Hello World\n",
      "Hello World\n",
      "Hello World\n",
      "Hello World\n",
      "Hello World\n",
      "Hello World\n",
      "Hello World\n",
      "Hello World\n",
      "Hello World\n",
      "Hello World\n",
      "Hello World\n",
      "Hello World\n",
      "Hello World\n",
      "Hello World\n",
      "Hello World\n",
      "Hello World\n",
      "Hello World\n",
      "Hello World\n",
      "Hello World\n",
      "Hello World\n",
      "Hello World\n",
      "Hello World\n",
      "Hello World\n",
      "Hello World\n",
      "Hello World\n",
      "Hello World\n",
      "Hello World\n",
      "Hello World\n",
      "Hello World\n",
      "Hello World\n",
      "Hello World\n",
      "Hello World\n",
      "Hello World\n",
      "Hello World\n",
      "Hello World\n",
      "Hello World\n",
      "Hello World\n",
      "Hello World\n",
      "Hello World\n",
      "Hello World\n",
      "Hello World\n",
      "Hello World\n",
      "Hello World\n",
      "Hello World\n",
      "Hello World\n",
      "Hello World\n",
      "Hello World\n",
      "Hello World\n",
      "Hello World\n",
      "Hello World\n",
      "Hello World\n",
      "Hello World\n",
      "Hello World\n",
      "Hello World\n",
      "Hello World\n",
      "Hello World\n",
      "Hello World\n",
      "Hello World\n",
      "Hello World\n",
      "Hello World\n",
      "Hello World\n",
      "Hello World\n",
      "Hello World\n",
      "Hello World\n",
      "Hello World\n",
      "Hello World\n",
      "Hello World\n",
      "Hello World\n",
      "Hello World\n",
      "Hello World\n",
      "Hello World\n",
      "Hello World\n",
      "Hello World\n",
      "Hello World\n",
      "Hello World\n",
      "Hello World\n",
      "Hello World\n",
      "Hello World\n",
      "Hello World\n"
     ]
    }
   ],
   "source": [
    "n='Hello World'\n",
    "m=100\n",
    "while m>0:\n",
    "    print(n)\n",
    "    m-=1"
   ]
  },
  {
   "cell_type": "code",
   "execution_count": 24,
   "metadata": {},
   "outputs": [
    {
     "name": "stdout",
     "output_type": "stream",
     "text": [
      "0\n",
      "1\n",
      "2\n",
      "3\n",
      "4\n",
      "5\n",
      "6\n",
      "7\n",
      "8\n",
      "9\n",
      "10\n",
      "11\n",
      "12\n",
      "13\n",
      "14\n",
      "15\n",
      "16\n",
      "17\n",
      "18\n",
      "19\n",
      "20\n",
      "21\n"
     ]
    }
   ],
   "source": [
    "n=int(input(\"Enter the number: \"))\n",
    "m=0\n",
    "while n>=m:\n",
    "    print(m)\n",
    "    m+=1"
   ]
  },
  {
   "cell_type": "code",
   "execution_count": 1,
   "metadata": {},
   "outputs": [
    {
     "name": "stdout",
     "output_type": "stream",
     "text": [
      "15\n",
      "14\n",
      "13\n",
      "12\n",
      "11\n",
      "10\n",
      "9\n",
      "8\n",
      "7\n",
      "6\n",
      "5\n",
      "4\n",
      "3\n",
      "2\n",
      "1\n"
     ]
    }
   ],
   "source": [
    "#Wap to generate sequence pf values from 15 to 1.\n",
    "n=15\n",
    "m=1\n",
    "while m<=n:\n",
    "    print(n)\n",
    "    n-=1"
   ]
  },
  {
   "cell_type": "code",
   "execution_count": 2,
   "metadata": {},
   "outputs": [
    {
     "name": "stdout",
     "output_type": "stream",
     "text": [
      "25\n",
      "27\n",
      "29\n",
      "31\n",
      "33\n",
      "35\n",
      "37\n",
      "39\n",
      "41\n",
      "43\n",
      "45\n",
      "47\n",
      "49\n",
      "51\n",
      "53\n",
      "55\n",
      "57\n",
      "59\n",
      "61\n",
      "63\n",
      "65\n"
     ]
    }
   ],
   "source": [
    "#Wap to sum of the odd values from 25 to 65.\n",
    "n=25\n",
    "m=65\n",
    "while n<=m:\n",
    "    if n%2!=0:\n",
    "        print(n)\n",
    "    n+=1"
   ]
  },
  {
   "cell_type": "code",
   "execution_count": 2,
   "metadata": {},
   "outputs": [
    {
     "name": "stdout",
     "output_type": "stream",
     "text": [
      "Prime\n"
     ]
    }
   ],
   "source": [
    "#Wap to check whether given number is prime or not.\n",
    "n=11\n",
    "m=1\n",
    "count=0\n",
    "while m<=n:\n",
    "    if n%m==0:\n",
    "        count+=1\n",
    "    m+=1\n",
    "if count==2:\n",
    "    print('Prime')\n",
    "else:\n",
    "    print('Not Prime')"
   ]
  },
  {
   "cell_type": "code",
   "execution_count": 6,
   "metadata": {},
   "outputs": [
    {
     "name": "stdout",
     "output_type": "stream",
     "text": [
      "2\n",
      "62\n"
     ]
    }
   ],
   "source": [
    "#Wap to print the even factors from given number eg:62\n",
    "n=62\n",
    "m=1\n",
    "while m<=n:\n",
    "    if n%m==0 and m%2==0:\n",
    "        print(m)\n",
    "    m+=1"
   ]
  },
  {
   "cell_type": "code",
   "execution_count": 9,
   "metadata": {},
   "outputs": [
    {
     "name": "stdout",
     "output_type": "stream",
     "text": [
      "Strong\n"
     ]
    }
   ],
   "source": [
    "#Wap to check whether given number is the strong number or not.\n",
    "n=145\n",
    "temp=n\n",
    "sum1=0\n",
    "while n:\n",
    "    ld=n%10\n",
    "    m=1\n",
    "    prod=1\n",
    "    while m<=ld:\n",
    "        prod*=m\n",
    "        m+=1\n",
    "    sum1+=prod\n",
    "    n=n//10\n",
    "if temp==sum1:\n",
    "    print(\"Strong\")\n",
    "else:\n",
    "    print('Not Strong')"
   ]
  },
  {
   "cell_type": "code",
   "execution_count": 10,
   "metadata": {},
   "outputs": [
    {
     "name": "stdout",
     "output_type": "stream",
     "text": [
      "561\n"
     ]
    }
   ],
   "source": [
    "#Wap to reverse the given number.\n",
    "a=165\n",
    "rev=0\n",
    "while a:\n",
    "    ld=a%10\n",
    "    rev=(rev*10)+ld\n",
    "    a=a//10\n",
    "print(rev)"
   ]
  },
  {
   "cell_type": "code",
   "execution_count": 11,
   "metadata": {},
   "outputs": [
    {
     "name": "stdout",
     "output_type": "stream",
     "text": [
      "1\n",
      "2\n",
      "3\n",
      "6\n"
     ]
    }
   ],
   "source": [
    "#Wap to sum of all the digits from given number and print the factors of the final result.\n",
    "n=123\n",
    "m=1\n",
    "sum=0\n",
    "while n:\n",
    "    sum+=n%10\n",
    "    n=n//10\n",
    "while m<=sum:\n",
    "    if sum%m==0:\n",
    "        print(m)\n",
    "    m+=1"
   ]
  },
  {
   "cell_type": "code",
   "execution_count": 1,
   "metadata": {},
   "outputs": [
    {
     "name": "stdout",
     "output_type": "stream",
     "text": [
      "2\n",
      "3\n",
      "5\n",
      "7\n",
      "11\n",
      "13\n",
      "17\n",
      "19\n",
      "23\n",
      "29\n",
      "31\n",
      "37\n",
      "41\n",
      "43\n",
      "47\n",
      "53\n",
      "59\n",
      "61\n",
      "67\n",
      "71\n",
      "73\n",
      "79\n",
      "83\n",
      "89\n",
      "97\n"
     ]
    }
   ],
   "source": [
    "#Wap to display prime numbers from 1 to 100.\n",
    "n=100\n",
    "s=1\n",
    "while s<=n:\n",
    "    m=1\n",
    "    count=0\n",
    "    while m<=s:\n",
    "        if s%m==0:\n",
    "            count+=1\n",
    "        m+=1\n",
    "    if count==2:\n",
    "        print(s)\n",
    "    s+=1"
   ]
  },
  {
   "cell_type": "code",
   "execution_count": 10,
   "metadata": {},
   "outputs": [
    {
     "name": "stdout",
     "output_type": "stream",
     "text": [
      "153\n",
      "Armstrong\n"
     ]
    }
   ],
   "source": [
    "#Wap to check whether given number is armstrong number or not.\n",
    "n=153\n",
    "temp=n\n",
    "m=len(str(n))\n",
    "arm=0\n",
    "while n:\n",
    "    ld=n%10\n",
    "    arm+=ld**m\n",
    "    n=n//10\n",
    "print(arm)\n",
    "if temp==arm:\n",
    "    print('Armstrong')\n",
    "else:\n",
    "    print(\"Not Armstrong\")\n",
    "    \n",
    "    \n",
    "    "
   ]
  },
  {
   "cell_type": "code",
   "execution_count": 9,
   "metadata": {},
   "outputs": [
    {
     "name": "stdout",
     "output_type": "stream",
     "text": [
      "3\n",
      "153\n",
      "Armstrong\n"
     ]
    }
   ],
   "source": [
    "#Wap to check whether given number is armstrong number or not.\n",
    "n=153\n",
    "temp=n\n",
    "temp1=n\n",
    "count=0\n",
    "arm=0\n",
    "while n:\n",
    "    count+=1\n",
    "    n=n//10\n",
    "print(count)\n",
    "\n",
    "while temp:\n",
    "    ld=temp%10\n",
    "    arm+=ld**count\n",
    "    temp=temp//10\n",
    "print(arm)\n",
    "if temp1==arm:\n",
    "    print('Armstrong')\n",
    "else:\n",
    "    print(\"Not Armstrong\")"
   ]
  },
  {
   "cell_type": "code",
   "execution_count": 5,
   "metadata": {},
   "outputs": [
    {
     "name": "stdout",
     "output_type": "stream",
     "text": [
      "3\n"
     ]
    }
   ],
   "source": [
    "#wap to check count of digit in given number.\n",
    "n=153\n",
    "count=0\n",
    "while n:\n",
    "    count+=1\n",
    "    n=n//10\n",
    "print(count)"
   ]
  },
  {
   "cell_type": "code",
   "execution_count": 13,
   "metadata": {},
   "outputs": [
    {
     "name": "stdout",
     "output_type": "stream",
     "text": [
      "spy\n"
     ]
    }
   ],
   "source": [
    "#Wap to check the given value is spy number or not.\n",
    "n=1412\n",
    "sum1=0\n",
    "prod=1\n",
    "while n:\n",
    "    ld=n%10\n",
    "    sum1+=ld\n",
    "    prod*=ld\n",
    "    n=n//10\n",
    "if sum1==prod:\n",
    "    print('spy')\n",
    "else:\n",
    "    print(\"not spy\")\n",
    "    "
   ]
  },
  {
   "cell_type": "code",
   "execution_count": 16,
   "metadata": {},
   "outputs": [
    {
     "name": "stdout",
     "output_type": "stream",
     "text": [
      "321\n",
      "321\n"
     ]
    }
   ],
   "source": [
    "#Wap to reverse the given number with and without typecasting.\n",
    "n=123\n",
    "m=int(str(n)[::-1])\n",
    "rev=0\n",
    "while n:\n",
    "    il=n%10\n",
    "    rev=(rev*10)+il\n",
    "    n=n//10\n",
    "print(rev)\n",
    "print(m)"
   ]
  },
  {
   "cell_type": "code",
   "execution_count": 8,
   "metadata": {},
   "outputs": [
    {
     "name": "stdout",
     "output_type": "stream",
     "text": [
      "1 => 1\n",
      "2 => 2\n",
      "3 => 6\n",
      "4 => 24\n",
      "5 => 120\n",
      "6 => 720\n",
      "7 => 5040\n",
      "8 => 40320\n",
      "9 => 362880\n",
      "10 => 3628800\n"
     ]
    }
   ],
   "source": [
    "#Wap to print the factorial from 1 to 100.\n",
    "m=10\n",
    "s=1\n",
    "while s<=m:\n",
    "    n=1\n",
    "    fac=1\n",
    "    while n<=s:\n",
    "        fac*=n\n",
    "        n+=1\n",
    "    print(s,'=>',fac)\n",
    "    s+=1\n",
    "            \n",
    "    "
   ]
  },
  {
   "cell_type": "code",
   "execution_count": 14,
   "metadata": {},
   "outputs": [
    {
     "name": "stdout",
     "output_type": "stream",
     "text": [
      "1\n",
      "2\n",
      "145\n"
     ]
    }
   ],
   "source": [
    "#wap to print strong number from 1 to 2000.\n",
    "end=1000\n",
    "start=1\n",
    "while start<=end:\n",
    "    n=start\n",
    "    temp=n\n",
    "    sum1=0\n",
    "    while n:\n",
    "        ld=n%10\n",
    "        y=ld\n",
    "        m=1\n",
    "        prod=1\n",
    "        while m<=y:\n",
    "            prod*=m\n",
    "            m+=1\n",
    "        sum1+=prod\n",
    "        n=n//10\n",
    "    if temp==sum1:\n",
    "        print(sum1)\n",
    "    start+=1"
   ]
  },
  {
   "cell_type": "code",
   "execution_count": 18,
   "metadata": {},
   "outputs": [
    {
     "name": "stdout",
     "output_type": "stream",
     "text": [
      "1\n",
      "2\n",
      "3\n",
      "4\n",
      "5\n",
      "6\n",
      "7\n",
      "8\n",
      "9\n",
      "153\n",
      "370\n",
      "371\n",
      "407\n"
     ]
    }
   ],
   "source": [
    "#wap to print armstrong numbers from 1 t0 1000.\n",
    "start=1\n",
    "end=1000\n",
    "while start<=end:\n",
    "    n=start\n",
    "    temp=n\n",
    "    m=len(str(n))\n",
    "    arm=0\n",
    "    while n:\n",
    "        ld=n%10\n",
    "        arm+=ld**m\n",
    "        n=n//10\n",
    "    if temp==arm:\n",
    "        print(arm)\n",
    "    start+=1"
   ]
  },
  {
   "cell_type": "code",
   "execution_count": 19,
   "metadata": {},
   "outputs": [
    {
     "name": "stdout",
     "output_type": "stream",
     "text": [
      "1\n",
      "2\n",
      "3\n",
      "4\n",
      "5\n",
      "6\n",
      "7\n",
      "8\n",
      "9\n",
      "153\n",
      "370\n",
      "371\n",
      "407\n"
     ]
    }
   ],
   "source": [
    "start=1\n",
    "end=1000\n",
    "while start<=end:\n",
    "    n=start\n",
    "    temp=n\n",
    "    temp1=n\n",
    "    m=0\n",
    "    arm=0\n",
    "    while n:\n",
    "        m+=1\n",
    "        n=n//10\n",
    "    while temp:\n",
    "        ld=temp%10\n",
    "        arm+=ld**m\n",
    "        temp=temp//10\n",
    "    if temp1==arm:\n",
    "        print(arm)\n",
    "    start+=1"
   ]
  },
  {
   "cell_type": "code",
   "execution_count": 23,
   "metadata": {},
   "outputs": [
    {
     "name": "stdout",
     "output_type": "stream",
     "text": [
      "1\n",
      "2\n",
      "3\n",
      "4\n",
      "5\n",
      "6\n",
      "7\n",
      "8\n",
      "9\n",
      "22\n",
      "123\n",
      "132\n",
      "213\n",
      "231\n",
      "312\n",
      "321\n"
     ]
    }
   ],
   "source": [
    "#Wap to print the series of spy number from 1 to 1000.\n",
    "start=1\n",
    "end=1000\n",
    "while start<=end:\n",
    "    n=start\n",
    "    temp=n\n",
    "    sum1=0\n",
    "    prod=1\n",
    "    while n:\n",
    "        ld=n%10\n",
    "        sum1+=ld\n",
    "        prod*=ld\n",
    "        n=n//10\n",
    "    if sum1==prod:\n",
    "        print(start)\n",
    "    start+=1"
   ]
  },
  {
   "cell_type": "code",
   "execution_count": 25,
   "metadata": {},
   "outputs": [
    {
     "name": "stdout",
     "output_type": "stream",
     "text": [
      "1\n",
      "2\n",
      "3\n",
      "4\n",
      "5\n",
      "6\n",
      "7\n",
      "8\n",
      "9\n",
      "11\n",
      "22\n",
      "33\n",
      "44\n",
      "55\n",
      "66\n",
      "77\n",
      "88\n",
      "99\n",
      "101\n",
      "111\n",
      "121\n",
      "131\n",
      "141\n",
      "151\n",
      "161\n",
      "171\n",
      "181\n",
      "191\n",
      "202\n",
      "212\n",
      "222\n",
      "232\n",
      "242\n",
      "252\n",
      "262\n",
      "272\n",
      "282\n",
      "292\n",
      "303\n",
      "313\n",
      "323\n",
      "333\n",
      "343\n",
      "353\n",
      "363\n",
      "373\n",
      "383\n",
      "393\n",
      "404\n",
      "414\n",
      "424\n",
      "434\n",
      "444\n",
      "454\n",
      "464\n",
      "474\n",
      "484\n",
      "494\n",
      "505\n",
      "515\n",
      "525\n",
      "535\n",
      "545\n",
      "555\n",
      "565\n",
      "575\n",
      "585\n",
      "595\n",
      "606\n",
      "616\n",
      "626\n",
      "636\n",
      "646\n",
      "656\n",
      "666\n",
      "676\n",
      "686\n",
      "696\n",
      "707\n",
      "717\n",
      "727\n",
      "737\n",
      "747\n",
      "757\n",
      "767\n",
      "777\n",
      "787\n",
      "797\n",
      "808\n",
      "818\n",
      "828\n",
      "838\n",
      "848\n",
      "858\n",
      "868\n",
      "878\n",
      "888\n",
      "898\n",
      "909\n",
      "919\n",
      "929\n",
      "939\n",
      "949\n",
      "959\n",
      "969\n",
      "979\n",
      "989\n",
      "999\n"
     ]
    }
   ],
   "source": [
    "#Wap to print the series of palindrome numbers from 1 to 1000.\n",
    "start=1\n",
    "end=1000\n",
    "while start<=end:\n",
    "    n=start\n",
    "    temp=n\n",
    "    rev=0\n",
    "    while n:\n",
    "        ld=n%10\n",
    "        rev=(rev*10)+ld\n",
    "        n=n//10\n",
    "    if temp==rev:\n",
    "        print(temp)\n",
    "    start+=1"
   ]
  },
  {
   "cell_type": "code",
   "execution_count": 1,
   "metadata": {},
   "outputs": [
    {
     "name": "stdout",
     "output_type": "stream",
     "text": [
      "9\n"
     ]
    }
   ],
   "source": [
    "n=5643\n",
    "sum=0\n",
    "temp=0\n",
    "while n:\n",
    "    ld=n%10\n",
    "    sum+=ld\n",
    "    n=n//10\n",
    "while sum:\n",
    "    ld=sum%10\n",
    "    temp+=ld\n",
    "    sum=sum//10\n",
    "print(temp)\n",
    "    \n",
    "    "
   ]
  },
  {
   "cell_type": "code",
   "execution_count": 2,
   "metadata": {},
   "outputs": [
    {
     "name": "stdout",
     "output_type": "stream",
     "text": [
      "18\n",
      "9\n",
      "9\n"
     ]
    }
   ],
   "source": [
    "num=5643\n",
    "while num>9:\n",
    "    sum1=0\n",
    "    while num:\n",
    "        ld=num%10\n",
    "        sum1+=ld\n",
    "        num=num//10\n",
    "    print(sum1)    \n",
    "    num=sum1\n",
    "print(sum1)"
   ]
  },
  {
   "cell_type": "code",
   "execution_count": 53,
   "metadata": {},
   "outputs": [
    {
     "name": "stdout",
     "output_type": "stream",
     "text": [
      "3\n",
      "1\n",
      "2\n"
     ]
    }
   ],
   "source": [
    "#Wap to extract middle digit of the given number.\n",
    "n=123\n",
    "temp=n\n",
    "count=0\n",
    "while n:\n",
    "    count+=1\n",
    "    n=n//10\n",
    "print(count)\n",
    "half=count//2\n",
    "print(half)\n",
    "print(temp//(10**half)%10)"
   ]
  },
  {
   "cell_type": "markdown",
   "metadata": {},
   "source": [
    "Collection Programs."
   ]
  },
  {
   "cell_type": "code",
   "execution_count": 1,
   "metadata": {},
   "outputs": [
    {
     "name": "stdout",
     "output_type": "stream",
     "text": [
      "p 4\n",
      "p 6\n",
      "p 8\n",
      "p 9\n",
      "p 10\n",
      "p 12\n",
      "p 14\n",
      "p 15\n",
      "p 16\n",
      "p 18\n",
      "p 20\n",
      "p 21\n",
      "p 22\n",
      "p 24\n",
      "p 25\n",
      "p 26\n",
      "p 27\n",
      "p 28\n",
      "p 30\n",
      "p 32\n",
      "p 33\n",
      "p 34\n",
      "p 35\n",
      "p 36\n",
      "p 38\n",
      "p 39\n",
      "p 40\n",
      "p 42\n",
      "p 44\n",
      "p 45\n",
      "p 46\n",
      "p 48\n",
      "p 49\n",
      "p 50\n",
      "p 51\n",
      "p 52\n",
      "p 54\n",
      "p 55\n",
      "p 56\n",
      "p 57\n",
      "p 58\n",
      "p 60\n",
      "p 62\n",
      "p 63\n",
      "p 64\n",
      "p 65\n",
      "p 66\n",
      "p 68\n",
      "p 69\n",
      "p 70\n",
      "p 72\n",
      "p 74\n",
      "p 75\n",
      "p 76\n",
      "p 77\n",
      "p 78\n",
      "p 80\n",
      "p 81\n",
      "p 82\n",
      "p 84\n",
      "p 85\n",
      "p 86\n",
      "p 87\n",
      "p 88\n",
      "p 90\n",
      "p 91\n",
      "p 92\n",
      "p 93\n",
      "p 94\n",
      "p 95\n",
      "p 96\n",
      "p 98\n",
      "p 99\n",
      "p 100\n",
      "p 102\n",
      "p 104\n",
      "p 105\n",
      "p 106\n",
      "p 108\n",
      "p 110\n",
      "p 111\n",
      "p 112\n",
      "p 114\n",
      "p 115\n",
      "p 116\n",
      "p 117\n",
      "p 118\n",
      "p 119\n",
      "p 120\n",
      "p 121\n",
      "p 122\n",
      "p 123\n",
      "p 124\n",
      "p 125\n",
      "p 126\n",
      "p 128\n",
      "p 129\n",
      "p 130\n",
      "p 132\n",
      "p 133\n",
      "p 134\n",
      "p 135\n",
      "p 136\n",
      "p 138\n",
      "p 140\n",
      "p 141\n",
      "p 142\n",
      "p 143\n",
      "p 144\n",
      "p 145\n"
     ]
    }
   ],
   "source": [
    "#Wap to check given value is strong or not.if strong to print the series of not prime from 1 to given number.\n",
    "n=145\n",
    "temp=n\n",
    "sum1=0\n",
    "d=2\n",
    "while n:\n",
    "    ld=n%10\n",
    "    m=1\n",
    "    prod=1\n",
    "    while m<=ld:\n",
    "        prod*=m\n",
    "        m+=1\n",
    "    sum1+=prod\n",
    "    n=n//10\n",
    "    if temp==sum1:\n",
    "        a=1\n",
    "        while a<=temp:\n",
    "            g=1\n",
    "            count=0\n",
    "            while g<=a:\n",
    "                if a%g==0:\n",
    "                    count+=1\n",
    "                g+=1\n",
    "            if count>2:\n",
    "                print('p',a)\n",
    "            a+=1"
   ]
  },
  {
   "cell_type": "code",
   "execution_count": 16,
   "metadata": {},
   "outputs": [
    {
     "name": "stdout",
     "output_type": "stream",
     "text": [
      "4\n",
      "6\n",
      "8\n",
      "9\n",
      "10\n",
      "12\n",
      "14\n",
      "15\n",
      "16\n",
      "18\n",
      "20\n",
      "21\n",
      "22\n",
      "24\n",
      "25\n",
      "26\n",
      "27\n",
      "28\n",
      "30\n",
      "32\n",
      "33\n",
      "34\n",
      "35\n",
      "36\n",
      "38\n",
      "39\n",
      "40\n",
      "42\n",
      "44\n",
      "45\n",
      "46\n",
      "48\n",
      "49\n",
      "50\n",
      "51\n",
      "52\n",
      "54\n",
      "55\n",
      "56\n",
      "57\n",
      "58\n",
      "60\n",
      "62\n",
      "63\n",
      "64\n",
      "65\n",
      "66\n",
      "68\n",
      "69\n",
      "70\n",
      "72\n",
      "74\n",
      "75\n",
      "76\n",
      "77\n",
      "78\n",
      "80\n",
      "81\n",
      "82\n",
      "84\n",
      "85\n",
      "86\n",
      "87\n",
      "88\n",
      "90\n",
      "91\n",
      "92\n",
      "93\n",
      "94\n",
      "95\n",
      "96\n",
      "98\n",
      "99\n",
      "100\n",
      "102\n",
      "104\n",
      "105\n",
      "106\n",
      "108\n",
      "110\n",
      "111\n",
      "112\n",
      "114\n",
      "115\n",
      "116\n",
      "117\n",
      "118\n",
      "119\n",
      "120\n",
      "121\n",
      "122\n",
      "123\n",
      "124\n",
      "125\n",
      "126\n",
      "128\n",
      "129\n",
      "130\n",
      "132\n",
      "133\n",
      "134\n",
      "135\n",
      "136\n",
      "138\n",
      "140\n",
      "141\n",
      "142\n",
      "143\n",
      "144\n",
      "145\n",
      "146\n",
      "147\n",
      "148\n",
      "150\n",
      "152\n",
      "153\n"
     ]
    }
   ],
   "source": [
    "#Wap to check given number is armstrong number or not.If armstrong to print the series of not prime from 1 to given number.\n",
    "n=153\n",
    "temp=n\n",
    "temp1=n\n",
    "count=0\n",
    "arm=0\n",
    "while n:\n",
    "    count+=1\n",
    "    n=n//10\n",
    "while temp:\n",
    "    ld=temp%10\n",
    "    arm+=ld**count\n",
    "    temp=temp//10\n",
    "if temp1==arm:\n",
    "     a=1\n",
    "     while a<=temp1:\n",
    "         g=1\n",
    "         count=0\n",
    "         while g<=a:\n",
    "             if a%g==0:\n",
    "                 count+=1\n",
    "             g+=1\n",
    "         if count>2:\n",
    "             print(a)\n",
    "         a+=1\n",
    "    "
   ]
  },
  {
   "cell_type": "code",
   "execution_count": 27,
   "metadata": {},
   "outputs": [
    {
     "name": "stdout",
     "output_type": "stream",
     "text": [
      "q 0\n",
      "w 1\n",
      "e 2\n",
      "r 3\n",
      "t 4\n"
     ]
    }
   ],
   "source": [
    "a=\"qwert\"\n",
    "b=0\n",
    "c=len(a)-1\n",
    "while b<=c:\n",
    "    print(a[b],b)\n",
    "    b+=1"
   ]
  },
  {
   "cell_type": "code",
   "execution_count": 35,
   "metadata": {},
   "outputs": [
    {
     "name": "stdout",
     "output_type": "stream",
     "text": [
      "t -1 4\n",
      "r -2 3\n",
      "e -3 2\n",
      "w -4 1\n",
      "q -5 0\n"
     ]
    }
   ],
   "source": [
    "a='qwert'\n",
    "b=-1\n",
    "c=-(len(a))\n",
    "d=0\n",
    "e=len(a)-1\n",
    "while b>=c and d<=e:\n",
    "    print(a[b],b,e)\n",
    "    b-=1\n",
    "    e-=1"
   ]
  },
  {
   "cell_type": "code",
   "execution_count": 18,
   "metadata": {},
   "outputs": [
    {
     "name": "stdout",
     "output_type": "stream",
     "text": [
      "R\n",
      "H\n",
      "R\n",
      "H\n"
     ]
    }
   ],
   "source": [
    "#Wap to extract uppercase character from given string.\n",
    "n=\"RohitH\"\n",
    "temp=n\n",
    "start=0\n",
    "end=len(temp)\n",
    "while n:\n",
    "    if 'A'<=n[0]<='Z':\n",
    "        print(n[0])\n",
    "    n=n[1:]\n",
    "while start<end:\n",
    "    if 'A'<=temp[start]<='Z':\n",
    "        print(temp[start])\n",
    "    start+=1"
   ]
  },
  {
   "cell_type": "code",
   "execution_count": 13,
   "metadata": {},
   "outputs": [
    {
     "name": "stdout",
     "output_type": "stream",
     "text": [
      "o\n",
      "h\n",
      "i\n",
      "t\n",
      "o\n",
      "h\n",
      "i\n",
      "t\n"
     ]
    }
   ],
   "source": [
    "#Wap to extract lowercase character from given string.\n",
    "n=\"RohitH\"\n",
    "temp=n\n",
    "start=0\n",
    "end=len(temp)\n",
    "while n:\n",
    "    if 'a'<=n[0]<='z':\n",
    "        print(n[0])\n",
    "    n=n[1:]\n",
    "\n",
    "while start<end:\n",
    "    if 'a'<=temp[start]<='z':\n",
    "        print(temp[start])\n",
    "    start+=1"
   ]
  },
  {
   "cell_type": "code",
   "execution_count": 14,
   "metadata": {},
   "outputs": [
    {
     "name": "stdout",
     "output_type": "stream",
     "text": [
      "@\n",
      "*\n",
      "@\n",
      "*\n"
     ]
    }
   ],
   "source": [
    "#Wap to extract special character from given string.\n",
    "n=\"R@h*tH\"\n",
    "temp=n\n",
    "start=0\n",
    "end=len(temp)\n",
    "while n:\n",
    "    if not ('a'<=n[0]<='z' or 'A'<=n[0]<='Z' or '0'<=n[0]<='9'):\n",
    "        print(n[0])\n",
    "    n=n[1:]\n",
    "while start<end:\n",
    "    if not ('a'<=temp[start]<='z' or 'A'<=temp[start]<='Z' or '0'<=temp[start]<='9'):\n",
    "        print(temp[start])\n",
    "    start+=1"
   ]
  },
  {
   "cell_type": "code",
   "execution_count": 15,
   "metadata": {},
   "outputs": [
    {
     "name": "stdout",
     "output_type": "stream",
     "text": [
      "3\n",
      "9\n",
      "3\n",
      "9\n"
     ]
    }
   ],
   "source": [
    "#Wap to extract ASCII Numbers from given string.\n",
    "n='R3h9tH'\n",
    "temp=n\n",
    "start=0\n",
    "end=len(temp)\n",
    "while n:\n",
    "    if '0'<=n[0]<='9':\n",
    "        print(n[0])\n",
    "    n=n[1:]\n",
    "while start<end:\n",
    "    if '0'<=temp[start]<='9':\n",
    "        print(temp[start])\n",
    "    start+=1"
   ]
  },
  {
   "cell_type": "code",
   "execution_count": 16,
   "metadata": {},
   "outputs": [
    {
     "name": "stdout",
     "output_type": "stream",
     "text": [
      "u\n",
      "I\n",
      "u\n",
      "I\n"
     ]
    }
   ],
   "source": [
    "#Wap to extract Vowel characters from given string.\n",
    "n='PrudhvI'\n",
    "temp=n\n",
    "start=0\n",
    "end=len(temp)\n",
    "while n:\n",
    "    if n[0] in \"AEIOUaeiou\":\n",
    "        print(n[0])\n",
    "    n=n[1:]\n",
    "while start<end:\n",
    "    if temp[start] in 'AEIOUaeiou':\n",
    "        print(temp[start])\n",
    "    start+=1"
   ]
  },
  {
   "cell_type": "code",
   "execution_count": 9,
   "metadata": {},
   "outputs": [
    {
     "name": "stdout",
     "output_type": "stream",
     "text": [
      "Prudhvi 7\n"
     ]
    }
   ],
   "source": [
    "#Wap to count the number of characters in given string with len function.\n",
    "n=\"Prudhvi\"\n",
    "start=0\n",
    "end=len(n)\n",
    "count=0\n",
    "while start<end:\n",
    "    count+=1\n",
    "    start+=1 \n",
    "print(n,count)\n"
   ]
  },
  {
   "cell_type": "code",
   "execution_count": 3,
   "metadata": {},
   "outputs": [
    {
     "name": "stdout",
     "output_type": "stream",
     "text": [
      "Python 6\n"
     ]
    }
   ],
   "source": [
    "#Wap to count the number of characters in given string without len function.\n",
    "temp=\"Python\"\n",
    "n=temp\n",
    "count1=0\n",
    "while temp:\n",
    "    count1+=1\n",
    "    temp=temp[0:-1]\n",
    "print(n,count1)"
   ]
  },
  {
   "cell_type": "code",
   "execution_count": 12,
   "metadata": {},
   "outputs": [
    {
     "name": "stdout",
     "output_type": "stream",
     "text": [
      "2\n"
     ]
    }
   ],
   "source": [
    "#Wap to count the number of uppercase character in given string.\n",
    "end='PrudhvI'\n",
    "start=0\n",
    "count=0\n",
    "while start<len(end):\n",
    "    if 'A'<=end[start]<='Z':\n",
    "        count+=1\n",
    "    start+=1\n",
    "print(count)"
   ]
  },
  {
   "cell_type": "code",
   "execution_count": 14,
   "metadata": {},
   "outputs": [
    {
     "name": "stdout",
     "output_type": "stream",
     "text": [
      "elloorld\n"
     ]
    }
   ],
   "source": [
    "#Wap to extract and store the lowercase character from the given string.\n",
    "st=\"HelloWorld\"\n",
    "res=\"\"\n",
    "start=0\n",
    "while start<len(st):\n",
    "    if 'a'<=st[start]<='z':\n",
    "        res=res+st[start]\n",
    "    start+=1\n",
    "print(res)"
   ]
  },
  {
   "cell_type": "code",
   "execution_count": 16,
   "metadata": {},
   "outputs": [
    {
     "name": "stdout",
     "output_type": "stream",
     "text": [
      "%0/\n"
     ]
    }
   ],
   "source": [
    "#Wap to extarct and store special character and ascii number in given string.\n",
    "end=\"Hell%W0r/d\"\n",
    "res=\"\"\n",
    "start=0\n",
    "while start<len(end):\n",
    "    if not ('A'<=end[start]<='Z' or 'a'<=end[start]<='z'):\n",
    "        res=res+end[start]\n",
    "    start+=1\n",
    "print(res)"
   ]
  },
  {
   "cell_type": "code",
   "execution_count": 18,
   "metadata": {},
   "outputs": [
    {
     "name": "stdout",
     "output_type": "stream",
     "text": [
      "HW\n",
      "ellrd\n",
      "%/\n",
      "0\n"
     ]
    }
   ],
   "source": [
    "#Wap to segrigate the character from given string. \n",
    "end=\"Hell%W0r/d\"\n",
    "start=0\n",
    "up=\"\"\n",
    "lo=\"\"\n",
    "sp=\"\"\n",
    "nu=\"\"\n",
    "while start<len(end):\n",
    "    if 'A'<=end[start]<='Z':\n",
    "        up=up+end[start]\n",
    "    elif 'a'<=end[start]<='z':\n",
    "        lo=lo+st[start]\n",
    "    elif '0'<=end[start]<='9':\n",
    "        nu=nu+end[start]\n",
    "    else:\n",
    "        sp=sp+end[start]\n",
    "    start+=1\n",
    "print(up)\n",
    "print(lo)\n",
    "print(sp)\n",
    "print(nu)"
   ]
  },
  {
   "cell_type": "code",
   "execution_count": 31,
   "metadata": {},
   "outputs": [
    {
     "name": "stdout",
     "output_type": "stream",
     "text": [
      "valid password Hell%W0rl/d\n"
     ]
    }
   ],
   "source": [
    "#Wap to check the given password valid or not. If password is valid password with given string\n",
    "# min two special characters, min one numeric character,min 1 lowercase, min 2 uppercase\n",
    "#password min 8 character,password max 16 characters.\n",
    "end=\"Hell%W0rl/d\"\n",
    "start=0\n",
    "up=0\n",
    "lo=0\n",
    "sp=0\n",
    "nu=0\n",
    "if 8<=len(end)<=16:\n",
    "    while start<len(end):\n",
    "        if 'A'<=end[start]<='Z':\n",
    "            up+=1\n",
    "        elif 'a'<=end[start]<='z':\n",
    "            lo+=1\n",
    "        elif '0'<=end[start]<='9':\n",
    "            nu+=1\n",
    "        else:\n",
    "            sp+=1\n",
    "        start+=1\n",
    "    if up>=2 and lo>=1 and sp>=2 and nu>=1:\n",
    "        print('valid password',end)\n",
    "    else:\n",
    "        print('invalid Password')\n",
    "else:\n",
    "    print('invalid password')\n",
    "\n"
   ]
  },
  {
   "cell_type": "code",
   "execution_count": 36,
   "metadata": {},
   "outputs": [
    {
     "name": "stdout",
     "output_type": "stream",
     "text": [
      "valid password Hell%W0rl/d\n"
     ]
    }
   ],
   "source": [
    "end=\"Hell%W0rl/d\"\n",
    "start=0\n",
    "up=0\n",
    "lo=0\n",
    "sp=0\n",
    "nu=0\n",
    "if 8<=len(end)<=16:\n",
    "    while start<len(end):\n",
    "        if 'A'<=end[start]<='Z':\n",
    "            up+=1\n",
    "        elif 'a'<=end[start]<='z':\n",
    "            lo+=1\n",
    "        elif '0'<=end[start]<='9':\n",
    "            nu+=1\n",
    "        else:\n",
    "            sp+=1\n",
    "        start+=1\n",
    "    if up>=2 and lo>=1 and sp>=2 and nu>=1:\n",
    "        print('valid password',end)\n",
    "    else:\n",
    "        print('invalid Password :')\n",
    "        print('password must contain-')\n",
    "        print('min two uppercase characters:',up)\n",
    "        print('min one lowercase character:',lo)\n",
    "        print('min two special characters:',sp)\n",
    "        print('min one number:',nu)\n",
    "else:\n",
    "    print('invalid password :password length should between 8 to 16')"
   ]
  },
  {
   "cell_type": "code",
   "execution_count": 31,
   "metadata": {},
   "outputs": [
    {
     "name": "stdout",
     "output_type": "stream",
     "text": [
      "valid\n"
     ]
    }
   ],
   "source": [
    "#Wap to check given email id is vaild or not.If valid dispaly email id else invaild email id.\n",
    "#@,. only these 2 should be present\n",
    "#exactly one @\n",
    "#after @ there should be min one '.'\n",
    "st=\"PYspier@gmail.com.in\"\n",
    "count=0\n",
    "start=0\n",
    "while start<len(st):\n",
    "    if not (\"A\"<=st[start]<=\"Z\" or \"a\"<=st[start]<=\"z\" or '0'<=st[start]<='9' or st[start] in '@.'):\n",
    "        count+=1\n",
    "    start+=1\n",
    "if count==0:\n",
    "    start1=0\n",
    "    count1=0\n",
    "    pos=None\n",
    "    while start1<len(st):\n",
    "        if st[start1]=='@':\n",
    "            count1+=1\n",
    "            pos=start1\n",
    "        start1+=1\n",
    "    if count1==1:\n",
    "        start2=0\n",
    "        count2=0\n",
    "        pos1=st[pos:]\n",
    "        while start2<len(pos1):\n",
    "            if pos1[start2]=='.':\n",
    "                count2+=1\n",
    "            start2+=1\n",
    "        if 1<=count2<=2:\n",
    "            print('valid')\n",
    "        else:\n",
    "            print('invalid')\n",
    "    else:\n",
    "        print('invalid')\n",
    "else:\n",
    "    print('invalid')\n"
   ]
  },
  {
   "cell_type": "code",
   "execution_count": 1,
   "metadata": {},
   "outputs": [
    {
     "name": "stdout",
     "output_type": "stream",
     "text": [
      "valid\n"
     ]
    }
   ],
   "source": [
    "st=\"PYspier@gmail.com.in\"\n",
    "count=0\n",
    "start=0\n",
    "while start<len(st):\n",
    "    if not (\"A\"<=st[start]<=\"Z\" or \"a\"<=st[start]<=\"z\" or '0'<=st[start]<='9' or st[start] in '@.'):\n",
    "        count+=1\n",
    "    start+=1\n",
    "if count==0:\n",
    "    if '@' in st and '.' in st:\n",
    "        start1=0\n",
    "        count1=0\n",
    "        pos=None\n",
    "        while start1<len(st):\n",
    "            if st[start1]=='@':\n",
    "                count1+=1\n",
    "                pos=start1\n",
    "            start1+=1\n",
    "        if count1==1:\n",
    "            if '.' in st[pos:]:\n",
    "                start2=0\n",
    "                count2=0\n",
    "                pos1=st[pos:]\n",
    "                while start2<len(pos1):\n",
    "                    if pos1[start2]=='.':\n",
    "                        count2+=1\n",
    "                    start2+=1\n",
    "                if 1<=count2<=2:\n",
    "                    print('valid')\n",
    "                else:\n",
    "                    print('invalid 2.')\n",
    "            else:\n",
    "                print('invalid .')\n",
    "        else:\n",
    "            print('invalid 2@')\n",
    "    else:\n",
    "        print('invalid missing @.')\n",
    "else:\n",
    "    print('invalid special charcter')"
   ]
  },
  {
   "cell_type": "code",
   "execution_count": 5,
   "metadata": {},
   "outputs": [
    {
     "name": "stdout",
     "output_type": "stream",
     "text": [
      "r0h!th\n"
     ]
    }
   ],
   "source": [
    "#Wap to convert uppercase to lowercase in given string.\n",
    "end='R0h!TH'\n",
    "start=0\n",
    "st=\"\"\n",
    "while start<len(end):\n",
    "    if \"A\"<=end[start]<=\"Z\":\n",
    "        st=st+chr(ord(end[start])+32)\n",
    "    else:\n",
    "        st=st+end[start]\n",
    "    start+=1\n",
    "print(st)\n",
    "        "
   ]
  },
  {
   "cell_type": "code",
   "execution_count": 8,
   "metadata": {},
   "outputs": [
    {
     "name": "stdout",
     "output_type": "stream",
     "text": [
      "hello_world_123_!@#\n"
     ]
    }
   ],
   "source": [
    "#Wap to convert given string into snake case.\n",
    "#upper to lower\n",
    "#space to underscroll\n",
    "end='Hello World 123 !@#'\n",
    "start=0\n",
    "st=\"\"\n",
    "while start<len(end):\n",
    "    if \"A\"<=end[start]<=\"Z\":\n",
    "        st=st+chr(ord(end[start])+32)\n",
    "    elif end[start]==\" \":\n",
    "        st=st+\"_\"\n",
    "    else:\n",
    "        st=st+end[start]\n",
    "    start+=1\n",
    "print(st)"
   ]
  },
  {
   "cell_type": "code",
   "execution_count": 23,
   "metadata": {},
   "outputs": [
    {
     "name": "stdout",
     "output_type": "stream",
     "text": [
      "Rohith\n"
     ]
    }
   ],
   "source": [
    "#Wap the given string covert to captialized.\n",
    "end=\"RoHith\"\n",
    "start=0\n",
    "st=''\n",
    "while start<len(end):\n",
    "    if start==0 and 'a'<=end[start]<='z':\n",
    "        st=st+chr(ord(end[start])-32)\n",
    "    elif start>0 and \"A\"<=end[start]<='Z':\n",
    "        st=st+chr(ord(end[start])+32)\n",
    "    else:\n",
    "        st=st+end[start]\n",
    "    start+=1\n",
    "print(st)"
   ]
  },
  {
   "cell_type": "code",
   "execution_count": 24,
   "metadata": {},
   "outputs": [
    {
     "name": "stdout",
     "output_type": "stream",
     "text": [
      "Rohith\n"
     ]
    }
   ],
   "source": [
    "end=\"RoHith\"\n",
    "start=1\n",
    "st=''\n",
    "if \"a\"<=end[0]<=\"z\":\n",
    "    st=st+chr(ord(end[start])-32)\n",
    "else:\n",
    "    st=st+end[0]\n",
    "while start<len(end):\n",
    "    if \"A\"<=end[start]<='Z':\n",
    "        st=st+chr(ord(end[start])+32)\n",
    "    else:\n",
    "        st=st+end[start]\n",
    "    start+=1\n",
    "print(st)"
   ]
  },
  {
   "cell_type": "code",
   "execution_count": 40,
   "metadata": {},
   "outputs": [
    {
     "name": "stdout",
     "output_type": "stream",
     "text": [
      "__prudhvi_villain__\n"
     ]
    }
   ],
   "source": [
    "#Wap to convert given string into dragon case.\n",
    "#before string and after string 2 underscroll.\n",
    "#there should not space between space if space is their conver to underscroll.\n",
    "#All the characters should be in lower case.\n",
    "#should not any special character if their remove it.\n",
    "str=\"Prudhvi Vill@ain__\"\n",
    "start=0\n",
    "st=''\n",
    "while start<len(str):\n",
    "    if \"A\"<=str[start]<=\"Z\":\n",
    "        st=st+chr(ord(str[start])+32)\n",
    "    elif str[start]==\" \":\n",
    "        st=st+'_'\n",
    "    elif \"a\"<=str[start]<=\"z\":\n",
    "        st=st+str[start]\n",
    "    start+=1\n",
    "st='__'+st+'__'\n",
    "print(st)\n",
    "    "
   ]
  },
  {
   "cell_type": "code",
   "execution_count": 18,
   "metadata": {},
   "outputs": [
    {
     "name": "stdout",
     "output_type": "stream",
     "text": [
      "HeloWrd\n",
      "lol\n"
     ]
    }
   ],
   "source": [
    "#Wap to extract duplicate characters from given string.\n",
    "st=\"HelloWorld\"\n",
    "start=0\n",
    "u=\"\"\n",
    "d=\"\"\n",
    "while start<len(st):\n",
    "    if st[start] not in u :\n",
    "        u=u+st[start]\n",
    "    else:\n",
    "        d=d+st[start]\n",
    "    start+=1\n",
    "print(u)\n",
    "print(d)\n",
    "\n",
    "            "
   ]
  },
  {
   "cell_type": "code",
   "execution_count": 28,
   "metadata": {},
   "outputs": [
    {
     "name": "stdout",
     "output_type": "stream",
     "text": [
      "H 1\n",
      "e 1\n",
      "l 3\n",
      "o 2\n",
      "W 1\n",
      "r 1\n",
      "d 1\n",
      "{'H': 1, 'e': 1, 'l': 3, 'o': 2, 'W': 1, 'r': 1, 'd': 1}\n"
     ]
    }
   ],
   "source": [
    "#wap to count the each character in given string.(accrence)\n",
    "st=\"HelloWorld\"\n",
    "start=0\n",
    "u=\"\"\n",
    "dit={}\n",
    "while start<len(st):\n",
    "    if st[start] not in u:\n",
    "        u=u+st[start]\n",
    "    start+=1\n",
    "start1=0\n",
    "while start1<len(u):\n",
    "    start2=0\n",
    "    count=0\n",
    "    while start2<len(st):\n",
    "        if u[start1]==st[start2]:\n",
    "            count+=1\n",
    "        start2+=1\n",
    "    print(u[start1],count)\n",
    "    dit[u[start1]]=count\n",
    "    start1+=1\n",
    "print(dit)"
   ]
  },
  {
   "cell_type": "code",
   "execution_count": 29,
   "metadata": {},
   "outputs": [
    {
     "name": "stdout",
     "output_type": "stream",
     "text": [
      "{'H': 1, 'e': 1, 'l': 3, 'o': 2, 'w': 1, 'r': 1, 'd': 1}\n"
     ]
    }
   ],
   "source": [
    "st='Helloworld'\n",
    "dit={}\n",
    "start=0\n",
    "while start<len(st):\n",
    "    if st[start] not in dit:\n",
    "        dit[st[start]]=1\n",
    "    else:\n",
    "        dit[st[start]]+=1\n",
    "    start+=1\n",
    "print(dit)"
   ]
  },
  {
   "cell_type": "code",
   "execution_count": 23,
   "metadata": {},
   "outputs": [
    {
     "name": "stdout",
     "output_type": "stream",
     "text": [
      "HeloWrd\n",
      "lol\n",
      "H 1\n",
      "e 1\n",
      "l 3\n",
      "o 2\n",
      "W 1\n",
      "r 1\n",
      "d 1\n"
     ]
    }
   ],
   "source": [
    "st=\"HelloWorld\"\n",
    "start=0\n",
    "u=\"\"\n",
    "d=\"\"\n",
    "while start<len(st):\n",
    "    if st[start] not in u :\n",
    "        u=u+st[start]\n",
    "    else:\n",
    "        d=d+st[start]\n",
    "    start+=1\n",
    "print(u)\n",
    "print(d)\n",
    "start1=0\n",
    "while start1<len(u):\n",
    "    start2=0\n",
    "    count=1\n",
    "    while start2<len(d):\n",
    "        if u[start1]==d[start2]:\n",
    "            count+=1\n",
    "        start2+=1\n",
    "    print(u[start1],count)\n",
    "    start1+=1"
   ]
  },
  {
   "cell_type": "code",
   "execution_count": 17,
   "metadata": {},
   "outputs": [
    {
     "name": "stdout",
     "output_type": "stream",
     "text": [
      "HeloWrd\n",
      "l 3\n"
     ]
    }
   ],
   "source": [
    "#Wap to find out the largest occurance of the given string.\n",
    "st=\"HelloWorld\"\n",
    "u=''\n",
    "start=0\n",
    "while start<len(st):\n",
    "    if st[start] not in u:\n",
    "        u+=st[start]\n",
    "    start+=1\n",
    "print(u)\n",
    "start1=0\n",
    "count=0\n",
    "l=''\n",
    "while start1<len(u):\n",
    "    start2=0\n",
    "    count1=0\n",
    "    while start2<len(st):\n",
    "        if u[start1]==st[start2]:\n",
    "            count1+=1\n",
    "        start2+=1\n",
    "    if count<count1:\n",
    "        count=count1\n",
    "        l=u[start1]\n",
    "    start1+=1\n",
    "print(l,count)\n",
    "    \n",
    "    \n"
   ]
  },
  {
   "cell_type": "code",
   "execution_count": 19,
   "metadata": {},
   "outputs": [
    {
     "name": "stdout",
     "output_type": "stream",
     "text": [
      "['H', 'e', 'l', 'o', 'W', 'r', 'd']\n",
      "l 3\n"
     ]
    }
   ],
   "source": [
    "st='HelloWorld'\n",
    "res={}\n",
    "start=0\n",
    "while start<len(st):\n",
    "    if st[start] not in res:\n",
    "        res[st[start]]=1\n",
    "    else:\n",
    "        res[st[start]]+=1\n",
    "    start+=1\n",
    "d=list(res)\n",
    "small=0\n",
    "ch=''\n",
    "print(d)\n",
    "i=0\n",
    "while i<len(d):\n",
    "    if small<res[d[i]]:\n",
    "        small=res[d[i]]\n",
    "        ch=d[i]\n",
    "    i+=1\n",
    "print(ch,small)"
   ]
  },
  {
   "cell_type": "code",
   "execution_count": 20,
   "metadata": {},
   "outputs": [
    {
     "name": "stdout",
     "output_type": "stream",
     "text": [
      "['H', 'e', 'l', 'l', 'o', 'w', 'o', 'r', 'l', 'd']\n"
     ]
    }
   ],
   "source": [
    "#Wap to extract and store the each character from the given string and store it in the list.\n",
    "st='Helloworld'\n",
    "ref=[]\n",
    "i=0\n",
    "while i<len(st):\n",
    "    ref+=[st[i]]\n",
    "    i+=1\n",
    "print(ref)"
   ]
  },
  {
   "cell_type": "code",
   "execution_count": 21,
   "metadata": {},
   "outputs": [
    {
     "name": "stdout",
     "output_type": "stream",
     "text": [
      "['h', 'e', 'l', 'l', 'o', 'w', 'o', 'r', 'l', 'd']\n"
     ]
    }
   ],
   "source": [
    "st='helloworld'\n",
    "ref=[]\n",
    "ref+=st\n",
    "print(ref)"
   ]
  },
  {
   "cell_type": "code",
   "execution_count": 27,
   "metadata": {},
   "outputs": [
    {
     "name": "stdout",
     "output_type": "stream",
     "text": [
      "helloworld\n"
     ]
    }
   ],
   "source": [
    "#Wap to extract and store the each data item from the given list and store it in the string.\n",
    "li=['h','e','l','l','o','w','o','r','l','d']\n",
    "st=''\n",
    "start=0\n",
    "while start<len(li):\n",
    "    st+=str(li[start])\n",
    "    start+=1\n",
    "print(st)"
   ]
  },
  {
   "cell_type": "code",
   "execution_count": 29,
   "metadata": {},
   "outputs": [
    {
     "name": "stdout",
     "output_type": "stream",
     "text": [
      "{'H': 72, 'e': 101, 'l': 108, 'o': 111, 'w': 119, 'r': 114, 'd': 100}\n"
     ]
    }
   ],
   "source": [
    "#Wap to extract and store the each character from the given string and store it in the dict.(values are ascii values of given character).\n",
    "st=\"Helloworld\"\n",
    "dit={}\n",
    "start=0\n",
    "while start<len(st):\n",
    "    dit[st[start]]=ord(st[start])\n",
    "    start+=1\n",
    "print(dit)"
   ]
  },
  {
   "cell_type": "code",
   "execution_count": 31,
   "metadata": {},
   "outputs": [
    {
     "name": "stdout",
     "output_type": "stream",
     "text": [
      "Helowrd\n"
     ]
    }
   ],
   "source": [
    "#Wap to extract and store the value from the given dict and store it in the string.\n",
    "dit={'H': 72, 'e': 101, 'l': 108, 'o': 111, 'w': 119, 'r': 114, 'd': 100}\n",
    "k=list(dit)\n",
    "st=\"\"\n",
    "start=0\n",
    "while start<len(k):\n",
    "    st+=k[start]\n",
    "    start+=1\n",
    "print(st)"
   ]
  },
  {
   "cell_type": "code",
   "execution_count": 37,
   "metadata": {},
   "outputs": [
    {
     "name": "stdout",
     "output_type": "stream",
     "text": [
      "H72e101l108o111w119r114d100\n"
     ]
    }
   ],
   "source": [
    "#Wap to extract and store keys with values from given dict and store it in the string.\n",
    "dit={'H': 72, 'e': 101, 'l': 108, 'o': 111, 'w': 119, 'r': 114, 'd': 100}\n",
    "k=list(dit)\n",
    "st=\"\"\n",
    "start=0\n",
    "while start<len(k):\n",
    "    st+=k[start]+str(dit[k[start]])\n",
    "    start+=1\n",
    "print(st)\n",
    "\n",
    "\n",
    "\n"
   ]
  },
  {
   "cell_type": "code",
   "execution_count": 39,
   "metadata": {},
   "outputs": [
    {
     "name": "stdout",
     "output_type": "stream",
     "text": [
      "w\n"
     ]
    }
   ],
   "source": [
    "#Wap highest character in given string.\n",
    "st=\"helloworld\"\n",
    "ch=chr(0)\n",
    "start=0\n",
    "l=''\n",
    "while start<len(st):\n",
    "    if ch<st[start]:\n",
    "        ch=st[start]\n",
    "    start+=1\n",
    "print(ch)\n",
    "    "
   ]
  },
  {
   "cell_type": "code",
   "execution_count": 42,
   "metadata": {},
   "outputs": [
    {
     "name": "stdout",
     "output_type": "stream",
     "text": [
      "H\n"
     ]
    }
   ],
   "source": [
    "#Wap lowest character in given string.\n",
    "st=\"Helloworld\"\n",
    "ch=chr(127)\n",
    "start=0\n",
    "l=''\n",
    "while start<len(st):\n",
    "    if ch>st[start]:\n",
    "        ch=st[start]\n",
    "    start+=1\n",
    "print(ch)"
   ]
  },
  {
   "cell_type": "code",
   "execution_count": 44,
   "metadata": {},
   "outputs": [
    {
     "name": "stdout",
     "output_type": "stream",
     "text": [
      "10.8\n"
     ]
    }
   ],
   "source": [
    "#Wap to find out the largest number in given list.\n",
    "li=[1,2,3,4,5,6,'str',10.8,7,8,9,9.5,1+2j]\n",
    "start=0\n",
    "l=0\n",
    "while start<len(li):\n",
    "    if type(li[start]) in(int,float) and l<li[start]:\n",
    "        l=li[start]\n",
    "    start+=1\n",
    "print(l)\n",
    "        "
   ]
  },
  {
   "cell_type": "code",
   "execution_count": 50,
   "metadata": {},
   "outputs": [
    {
     "name": "stdout",
     "output_type": "stream",
     "text": [
      "c 80\n"
     ]
    }
   ],
   "source": [
    "#Wap to find largest value from a dict.\n",
    "d={'a':10,'b':50,'c':80,'d':5,\"f\":8}\n",
    "li=list(d)\n",
    "start=0\n",
    "ch=''\n",
    "l=0\n",
    "while start<len(li):\n",
    "    if type(d[li[start]]) in (int,float) and l<d[li[start]]:\n",
    "        l=d[li[start]]\n",
    "        ch=li[start]\n",
    "    start+=1\n",
    "print(ch,l)"
   ]
  },
  {
   "cell_type": "code",
   "execution_count": 54,
   "metadata": {},
   "outputs": [
    {
     "name": "stdout",
     "output_type": "stream",
     "text": [
      "d 5\n"
     ]
    }
   ],
   "source": [
    "#Wap to find smallest value from a dict.\n",
    "d={'a':10,'b':50,'c':80,'d':5,\"f\":8}\n",
    "li=list(d)\n",
    "start=0\n",
    "ch=None\n",
    "s=d[li[0]]\n",
    "while start<len(li):\n",
    "    if type(d[li[start]]) in (int,float) and s>d[li[start]]:\n",
    "        s=d[li[start]]\n",
    "        ch=li[start]\n",
    "    start+=1\n",
    "print(ch,s)"
   ]
  },
  {
   "cell_type": "code",
   "execution_count": 1,
   "metadata": {},
   "outputs": [
    {
     "name": "stdout",
     "output_type": "stream",
     "text": [
      "Hello Haii World W1V3Come To Py$Hon Class\n",
      "Hello Haii World W1V3Come To Py$Hon Class\n"
     ]
    }
   ],
   "source": [
    "#Wap to convert given string to title case.\n",
    "#each word staring character should be uppercase.\n",
    "#after special character or ascii value the next character should be upper case.\n",
    "st1='Hello haIi WOrld W1v3coMe to py$hon cLAsS'.title()\n",
    "print(st1)\n",
    "st='Hello haIi WOrld W1v3coMe to py$hon cLAsS'\n",
    "i=1\n",
    "c=''\n",
    "if \"a\"<=st[0]<=\"z\":\n",
    "        c+=chr(ord(st[0])-32)\n",
    "else:\n",
    "    c+=st[0]\n",
    "while i<len(st):\n",
    "    if 'a'<=st[i]<='z' and st[i-1]==' ':\n",
    "        c+=chr(ord(st[i])-32)\n",
    "    elif 'A'<=st[i]<='Z' and st[i-1]==' ':\n",
    "        c+=st[i]\n",
    "    elif 'a'<=st[i]<='z' and  not('a'<=st[i-1]<=\"z\" or \"A\"<=st[i-1]<=\"Z\" or st[i-1]==' '):\n",
    "        c+=chr(ord(st[i])-32)\n",
    "    elif \"A\"<=st[i]<=\"Z\":\n",
    "        c+=chr(ord(st[i])+32)\n",
    "    else:\n",
    "        c+=st[i]\n",
    "    i+=1\n",
    "print(c)"
   ]
  },
  {
   "cell_type": "code",
   "execution_count": 11,
   "metadata": {},
   "outputs": [
    {
     "name": "stdout",
     "output_type": "stream",
     "text": [
      "Aaa#Hello Haii World W1V#Ome To  Py$Hon Class\n"
     ]
    }
   ],
   "source": [
    "# wap to convert given string into title case\n",
    "# first letter of every word should be upper case\n",
    "# next letter of special case character and ascii number should be upper case \n",
    "# by modifying next character \n",
    "st=\"AAA#Hello haIi WOrld W1v#oMe to  py$hon cLasS\"\n",
    "res=\"\"\n",
    "i=0\n",
    "while i<len(st):\n",
    "    if i==0 and 'a'<=st[i]<='z':\n",
    "        res+=chr(ord(st[i])-32)\n",
    "    elif i==0 and 'A'<=st[i]<='Z':\n",
    "        res+=st[i]\n",
    "    elif not ('A'<=st[i]<='Z' or 'a'<=st[i]<='z'):\n",
    "        res+=st[i]\n",
    "        if 'a'<=st[i+1]<='z':\n",
    "            res+=chr(ord(st[i+1])-32)\n",
    "            i+=1\n",
    "        elif 'A'<=st[i+1]<='Z':\n",
    "            res+=st[i+1]\n",
    "            i+=1\n",
    "    elif 'A'<=st[i]<='Z':\n",
    "       res+=chr(ord(st[i])+32)\n",
    "    else:\n",
    "        res+=st[i]\n",
    "    i+=1\n",
    "print(res)"
   ]
  },
  {
   "cell_type": "code",
   "execution_count": 18,
   "metadata": {},
   "outputs": [
    {
     "name": "stdout",
     "output_type": "stream",
     "text": [
      "vamsi\n",
      "asd\n",
      "iajfd\n",
      "saifn\n",
      "asfln\n",
      "lkanf\n"
     ]
    }
   ],
   "source": [
    "#WAP to extract and store the each\n",
    "# charcter from the string andf storing the inside string?\n",
    "st='   vamsi asd iajfd saifn  asfln  lkanf   '\n",
    "res=\"\"\n",
    "start=0\n",
    "while start<len(st):\n",
    "    if st[start]!=\" \":\n",
    "        res+=st[start]\n",
    "    else:\n",
    "        if len(res)!=0:\n",
    "            print(res)\n",
    "            res=\"\"\n",
    "    start+=1"
   ]
  },
  {
   "cell_type": "code",
   "execution_count": 58,
   "metadata": {},
   "outputs": [
    {
     "name": "stdout",
     "output_type": "stream",
     "text": [
      "vamsi\n",
      "asd\n",
      "iajfd\n",
      "saifn\n",
      "asfln\n",
      "lkanf\n",
      "6\n"
     ]
    }
   ],
   "source": [
    "st='   vamsi asd    iajfd saifn  asfln  lkanf'\n",
    "start=0\n",
    "s=0\n",
    "n=0\n",
    "count=0\n",
    "while start<len(st):\n",
    "    if st[start]!=\" \" and st[start-1]==\" \":\n",
    "        s=start\n",
    "    elif st[start]!=\" \" and start+1<len(st) and st[start+1]==\" \":\n",
    "        n=start+1\n",
    "        count+=1\n",
    "        print(st[s:n])\n",
    "    else:\n",
    "        if st[start]!=\" \" and start==len(st)-1:\n",
    "            n=start+1\n",
    "            print(st[s:n])\n",
    "            count+=1\n",
    "    start+=1\n",
    "print(count)"
   ]
  },
  {
   "cell_type": "code",
   "execution_count": 27,
   "metadata": {},
   "outputs": [
    {
     "name": "stdout",
     "output_type": "stream",
     "text": [
      "['vamsi', 'asd', 'iajfd', 'saifn', 'asfln', 'lkanf']\n"
     ]
    }
   ],
   "source": [
    "st='   vamsi asd iajfd saifn  asfln  lkanf   '\n",
    "res=\"\"\n",
    "l=[]\n",
    "start=0\n",
    "while start<len(st):\n",
    "    if st[start]!=\" \":\n",
    "        res+=st[start]\n",
    "    else:\n",
    "        if len(res)!=0:\n",
    "            l+=[res]\n",
    "            res=\"\"\n",
    "    start+=1\n",
    "print(l)"
   ]
  },
  {
   "cell_type": "code",
   "execution_count": 32,
   "metadata": {},
   "outputs": [
    {
     "name": "stdout",
     "output_type": "stream",
     "text": [
      "['hello World Hai 1234 #$%', 'nsaduhahd jdksbf jkfb ', ' sdfikhsaf']\n"
     ]
    }
   ],
   "source": [
    "#Wap to segregate the lines in a given document string.\n",
    "st=\"hello World Hai 1234 #$%\\nnsaduhahd jdksbf jkfb \\n sdfikhsaf\"\n",
    "start=0\n",
    "res=\"\"\n",
    "l=[]\n",
    "while start<len(st):\n",
    "    if st[start]!='\\n':\n",
    "        res+=st[start]\n",
    "    else:\n",
    "        if len(res)!=0:\n",
    "            l+=[res]\n",
    "            res=\"\"\n",
    "    start+=1\n",
    "if len(res)!=0:\n",
    "    l+=[res]\n",
    "print(l)"
   ]
  },
  {
   "cell_type": "code",
   "execution_count": 34,
   "metadata": {},
   "outputs": [
    {
     "name": "stdout",
     "output_type": "stream",
     "text": [
      "['haii', 'hello', 'world', 'i', 'love', 'India', 'i', 'like', 'python']\n"
     ]
    }
   ],
   "source": [
    "st=\"haii hello world i love India i like python\"\n",
    "res=\"\"\n",
    "l=[]\n",
    "start=0\n",
    "while start<len(st):\n",
    "    if st[start]!=\" \":\n",
    "        res+=st[start]\n",
    "    else:\n",
    "        if len(res)!=0:\n",
    "            l+=[res]\n",
    "            res=\"\"\n",
    "    start+=1\n",
    "if len(res)!=0:\n",
    "    l+=[res]\n",
    "print(l)\n"
   ]
  },
  {
   "cell_type": "code",
   "execution_count": 62,
   "metadata": {},
   "outputs": [
    {
     "name": "stdout",
     "output_type": "stream",
     "text": [
      "['haii', 'hello', 'world', 'i', 'love', 'India', 'i', 'like', 'python']\n",
      "hwilIp\n",
      "[['haii', 'hello'], ['world'], ['i', 'i'], ['love', 'like'], ['India'], ['python']]\n"
     ]
    }
   ],
   "source": [
    "st=\"haii hello world i love India i like python\"\n",
    "res=\"\"\n",
    "l=[]\n",
    "start=0\n",
    "while start<len(st):\n",
    "    if st[start]!=\" \":\n",
    "        res+=st[start]\n",
    "    else:\n",
    "        if len(res)!=0:\n",
    "            l+=[res]\n",
    "            res=\"\"\n",
    "    start+=1\n",
    "if len(res)!=0:\n",
    "    l+=[res]\n",
    "print(l)\n",
    "\n",
    "uni=\"\"\n",
    "j=0\n",
    "while j<len(l):\n",
    "    if l[j][0] not in uni:\n",
    "        uni+=l[j][0]\n",
    "    j+=1\n",
    "print(uni)\n",
    "\n",
    "k=0\n",
    "d=[]\n",
    "while k<len(uni):\n",
    "    d+=[[]]\n",
    "    x=0\n",
    "    while x<len(l):\n",
    "        if uni[k]==l[x][0]:\n",
    "            d[-1]+=[l[x]]\n",
    "        x+=1\n",
    "    k+=1\n",
    "print(d)"
   ]
  },
  {
   "cell_type": "code",
   "execution_count": 64,
   "metadata": {},
   "outputs": [
    {
     "name": "stdout",
     "output_type": "stream",
     "text": [
      "7\n"
     ]
    }
   ],
   "source": [
    "st=\"   This is a    test  of  the  program.   \"\n",
    "start=0\n",
    "while start<len(st):\n",
    "    if st[start]!=' ':\n",
    "        break\n",
    "    start+=1\n",
    "count=0\n",
    "while start<len(st):\n",
    "    if st[start]==\" \" and start+1<len(st) and st[start+1]!=\" \":\n",
    "        count+=1\n",
    "    start+=1\n",
    "print(count+1)"
   ]
  },
  {
   "cell_type": "code",
   "execution_count": 67,
   "metadata": {},
   "outputs": [
    {
     "name": "stdout",
     "output_type": "stream",
     "text": [
      "7\n"
     ]
    }
   ],
   "source": [
    "st=\"   This is a    test  of  the  program.   \"\n",
    "count=len(st.split())\n",
    "print(count)"
   ]
  },
  {
   "cell_type": "code",
   "execution_count": 4,
   "metadata": {},
   "outputs": [
    {
     "name": "stdout",
     "output_type": "stream",
     "text": [
      "['haii', 'hello', 'world', 'i', 'love', 'India', 'i', 'like', 'python']\n",
      "[4, 5, 1, 6]\n",
      "[['haii', 'love', 'like'], ['hello', 'world', 'India'], ['i', 'i'], ['python']]\n"
     ]
    }
   ],
   "source": [
    "st=\"haii hello world i love India i like python\"\n",
    "res=\"\"\n",
    "l=[]\n",
    "start=0\n",
    "while start<len(st):\n",
    "    if st[start]!=\" \":\n",
    "        res+=st[start]\n",
    "    else:\n",
    "        if len(res)!=0:\n",
    "            l+=[res]\n",
    "            res=\"\"\n",
    "    start+=1\n",
    "if len(res)!=0:\n",
    "    l+=[res]\n",
    "print(l)\n",
    "\n",
    "lt=[]\n",
    "x=0\n",
    "while x<len(l):\n",
    "    if len(l[x]) not in lt:\n",
    "        lt+=[len(l[x])]\n",
    "    x+=1\n",
    "print(lt)\n",
    "\n",
    "res=[]\n",
    "y=0\n",
    "while y<len(lt):\n",
    "    res+=[[]]\n",
    "    start=0\n",
    "    while start<len(l):\n",
    "        if len(l[start])==lt[y]:\n",
    "            res[-1]+=[l[start]]\n",
    "        start+=1\n",
    "    y+=1\n",
    "print(res)\n"
   ]
  },
  {
   "cell_type": "code",
   "execution_count": 10,
   "metadata": {},
   "outputs": [
    {
     "name": "stdout",
     "output_type": "stream",
     "text": [
      "['haii', 'hello', 'world', 'i', 'love', 'India', 'i', 'like', 'python']\n",
      "{'h': ['haii', 'hello'], 'w': ['world'], 'i': ['i', 'i'], 'l': ['love', 'like'], 'I': ['India'], 'p': ['python']}\n",
      "['i', 'i']\n",
      "[['haii', 'hello'], ['world'], ['i', 'i'], ['love', 'like'], ['India'], ['python']]\n"
     ]
    }
   ],
   "source": [
    "st=\"haii hello world i love India i like python\"\n",
    "res=\"\"\n",
    "l=[]\n",
    "start=0\n",
    "while start<len(st):\n",
    "    if st[start]!=\" \":\n",
    "        res+=st[start]\n",
    "    else:\n",
    "        if len(res)!=0:\n",
    "            l+=[res]\n",
    "            res=\"\"\n",
    "    start+=1\n",
    "if len(res)!=0:\n",
    "    l+=[res]\n",
    "print(l)\n",
    "\n",
    "dit={}\n",
    "start=0\n",
    "while start<len(l):\n",
    "    if l[start][0] not in dit:\n",
    "        dit[l[start][0]]=[l[start]]\n",
    "    else:\n",
    "        dit[l[start][0]]+=[l[start]]\n",
    "    start+=1\n",
    "print(dit)\n",
    "\n",
    "print(dit['i'])\n",
    "\n",
    "li=list(dit)\n",
    "t=[]\n",
    "start=0\n",
    "while start<len(li):\n",
    "    t+=[dit[li[start]]]\n",
    "    start+=1\n",
    "print(t)\n"
   ]
  },
  {
   "cell_type": "code",
   "execution_count": 14,
   "metadata": {},
   "outputs": [
    {
     "name": "stdout",
     "output_type": "stream",
     "text": [
      "['haii', 'hello', 'world', 'i', 'love', 'India', 'i', 'like', 'python']\n",
      "{4: ['haii', 'love', 'like'], 5: ['hello', 'world', 'India'], 1: ['i', 'i'], 6: ['python']}\n",
      "['hello', 'world', 'India']\n"
     ]
    }
   ],
   "source": [
    "st=\"haii hello world i love India i like python\"\n",
    "res=\"\"\n",
    "l=[]\n",
    "start=0\n",
    "while start<len(st):\n",
    "    if st[start]!=\" \":\n",
    "        res+=st[start]\n",
    "    else:\n",
    "        if len(res)!=0:\n",
    "            l+=[res]\n",
    "            res=\"\"\n",
    "    start+=1\n",
    "if len(res)!=0:\n",
    "    l+=[res]\n",
    "print(l)\n",
    "\n",
    "dit={}\n",
    "start=0\n",
    "while start<len(l):\n",
    "    if len(l[start]) not in dit:\n",
    "        dit[len(l[start])]=[l[start]]\n",
    "    else:\n",
    "        dit[len(l[start])]+=[l[start]]\n",
    "    start+=1\n",
    "print(dit)\n",
    "\n",
    "n=int(input(\"Enter the length: \"))\n",
    "print(dit[n])"
   ]
  },
  {
   "cell_type": "code",
   "execution_count": 52,
   "metadata": {},
   "outputs": [
    {
     "name": "stdout",
     "output_type": "stream",
     "text": [
      "['@gmail.com', '@ymail.com', '@ymail.com ', '@pys.com', '@outlook.com']\n"
     ]
    }
   ],
   "source": [
    "# st=' qspiders@gmail.com pyspiders@ymail.com  jspiders@pys.com ramu@outlook.com '\n",
    "# o/p: ['@gmail.com', '@ymail.com', '@pys.com', '@outlook.com']\n",
    "st=' qspiders@gmail.com pyspiders@ymail.com  jspiders@pys.com ramu@outlook.com '\n",
    "start=0\n",
    "l=[]\n",
    "s=0\n",
    "n=0\n",
    "while start<len(st):\n",
    "    if st[start]==\"@\":\n",
    "        s=start\n",
    "    elif st[start]==\" \":\n",
    "        n=start\n",
    "        if len(st[s:n])!=0:\n",
    "            l+=[st[s:n]]\n",
    "    start+=1\n",
    "print(l)\n"
   ]
  },
  {
   "cell_type": "code",
   "execution_count": 1,
   "metadata": {},
   "outputs": [
    {
     "name": "stdout",
     "output_type": "stream",
     "text": [
      "['@gmail.com', '@ymail.com', '@pys.com', '@outlook.com']\n"
     ]
    }
   ],
   "source": [
    "st=' qspiders@gmail.com pyspiders@ymail.com  jspiders@pys.com ramu@outlook.com'\n",
    "start=0\n",
    "l=[]\n",
    "s=\"\"\n",
    "while start<len(st):\n",
    "    if st[start]=='@':\n",
    "        s=\"\"\n",
    "        s+=st[start]  \n",
    "    elif st[start]==\" \":\n",
    "        if len(s)!=0:\n",
    "            l+=[s]\n",
    "            s=''\n",
    "    else:\n",
    "        s+=st[start]\n",
    "    start+=1\n",
    "if len(s)!=0:\n",
    "    l+=[s]\n",
    "print(l)  \n"
   ]
  },
  {
   "cell_type": "code",
   "execution_count": 10,
   "metadata": {},
   "outputs": [
    {
     "name": "stdout",
     "output_type": "stream",
     "text": [
      "['gmail.com', 'ymail.com', 'pys.com', 'outlook.com']\n",
      "['.com', '.com', '.com', '.com']\n",
      "['moc.liamg', 'moc.liamy', 'moc.syp', 'moc.kooltuo']\n"
     ]
    }
   ],
   "source": [
    "# st=' qspiders@gmail.com pyspiders@ymail.com  jspiders@pys.com ramu@outlook.com'\n",
    "#o/p: ['gmail.com','ymail.com','pys.com','outlook.com']\n",
    "#o/p: ['.com','.com','.com','.com']\n",
    "#o/p: ['moc.liamg', 'moc.liamy', 'moc.syp', 'moc.kooltuo']\n",
    "st=' qspiders@gmail.com pyspiders@ymail.com  jspiders@pys.com ramu@outlook.com'\n",
    "s=\"\"\n",
    "l=[]\n",
    "start=0\n",
    "while start<len(st):\n",
    "    if st[start]==\"@\":\n",
    "        s=\"\"\n",
    "    elif st[start]==\" \":\n",
    "        if len(s)!=0:\n",
    "            l+=[s]\n",
    "            s=\"\"\n",
    "    else:\n",
    "        s+=st[start]\n",
    "    start+=1\n",
    "if len(s)!=0:\n",
    "    l+=[s]\n",
    "    s=\"\"\n",
    "print(l)\n",
    "\n",
    "l1=[]\n",
    "start=0\n",
    "while start<len(st):\n",
    "    if st[start]==\".\":\n",
    "        s=\"\"\n",
    "        s+=st[start]\n",
    "    elif st[start]==\" \":\n",
    "        if len(s)!=0:\n",
    "            l1+=[s]\n",
    "            s=\"\"\n",
    "    else:\n",
    "        s+=st[start]\n",
    "    start+=1\n",
    "if len(s)!=0:\n",
    "    l1+=[s]\n",
    "print(l1)\n",
    "\n",
    "l2=[]\n",
    "start=0\n",
    "while start<len(l):\n",
    "    l2+=[l[start][::-1]]\n",
    "    start+=1\n",
    "print(l2)\n",
    "\n",
    "\n",
    "    "
   ]
  },
  {
   "cell_type": "code",
   "execution_count": 1,
   "metadata": {},
   "outputs": [
    {
     "name": "stdout",
     "output_type": "stream",
     "text": [
      "['.com', '.in', '.edu', '.com', '.in', '.org.in']\n",
      "cieo\n",
      "[['com', 'com'], ['in', 'in'], ['edu'], ['org.in']]\n",
      "{3: ['com', 'edu', 'com'], 2: ['in', 'in'], 6: ['org.in']}\n"
     ]
    }
   ],
   "source": [
    "# st=' qspiders@gmail.com pyspiders@ymail.in  jspiders@pys.edu ramu@outlook.com seetha@fb.in ap@gmail.org.in'\n",
    "# o/p: ['.com', '.in', '.edu', '.com', '.in', '.org.in']\n",
    "# o/p: [['com', 'com'], ['in', 'in'], ['edu'], ['org.in']]\n",
    "# o/p: {3: ['com', 'edu', 'com'], 2: ['in', 'in'], 6: ['org.in']}\n",
    "st=' qspiders@gmail.com pyspiders@ymail.in  jspiders@pys.edu ramu@outlook.com seetha@fb.in ap@gmail.org.in'\n",
    "l=[]\n",
    "s=\"\"\n",
    "start=0\n",
    "while start<len(st):\n",
    "    if st[start]==\".\" and \".\" not in s:\n",
    "        s=\"\"\n",
    "        s+=st[start]\n",
    "    elif st[start]==\" \":\n",
    "        if len(s)!=0:\n",
    "            l+=[s]\n",
    "            s=\"\"\n",
    "    else:\n",
    "        s+=st[start]\n",
    "    start+=1\n",
    "if len(s)!=0:\n",
    "    l+=[s]\n",
    "print(l)\n",
    "\n",
    "uni=\"\"\n",
    "start=0\n",
    "while start<len(l):\n",
    "    if l[start][1] not in uni:\n",
    "        uni+=l[start][1]\n",
    "    start+=1\n",
    "print(uni)\n",
    "\n",
    "l2=[]\n",
    "i=0\n",
    "while i<len(uni):\n",
    "    l2+=[[]]\n",
    "    start1=0\n",
    "    while start1<len(l):\n",
    "        if uni[i]==l[start1][1]:\n",
    "            l2[-1]+=[l[start1][1:]]\n",
    "        start1+=1\n",
    "    i+=1\n",
    "print(l2)\n",
    "\n",
    "dit={}\n",
    "start=0\n",
    "while start<len(l):\n",
    "    if len(l[start][1:]) not in dit:\n",
    "        dit[len(l[start][1:])]=[l[start][1:]]\n",
    "    else:\n",
    "        dit[len(l[start][1:])]+=[l[start][1:]]\n",
    "    start+=1\n",
    "print(dit)"
   ]
  },
  {
   "cell_type": "code",
   "execution_count": 33,
   "metadata": {},
   "outputs": [
    {
     "name": "stdout",
     "output_type": "stream",
     "text": [
      "9 10\n",
      "8 9\n",
      "7 8\n",
      "6 7\n",
      "5 6\n",
      "4 5\n",
      "3 4\n"
     ]
    }
   ],
   "source": [
    "#Wap to find out the nth largest digit in given number.\n",
    "s='24536782921'\n",
    "n=7\n",
    "g=10\n",
    "while n:\n",
    "    h=0\n",
    "    i=0\n",
    "    while i<len(s):\n",
    "        if int(s[i])>h and int(s[i])<g:\n",
    "            h=int(s[i])\n",
    "        i+=1\n",
    "    print(h,g)\n",
    "    g=h\n",
    "    n-=1"
   ]
  },
  {
   "cell_type": "code",
   "execution_count": 35,
   "metadata": {},
   "outputs": [
    {
     "name": "stdout",
     "output_type": "stream",
     "text": [
      "9 10\n",
      "8 9\n",
      "7 8\n",
      "6 7\n",
      "5 6\n",
      "4 5\n",
      "3 4\n"
     ]
    }
   ],
   "source": [
    "s=24536782921\n",
    "temp=s\n",
    "n=7\n",
    "g=10\n",
    "while n:\n",
    "    h=0\n",
    "    i=0\n",
    "    while s:\n",
    "        if (s%10)>h and (s%10)<g:\n",
    "            h=(s%10)\n",
    "        s=s//10\n",
    "        i+=1\n",
    "    print(h,g)\n",
    "    g=h\n",
    "    s=temp\n",
    "    n-=1\n"
   ]
  },
  {
   "cell_type": "code",
   "execution_count": 57,
   "metadata": {},
   "outputs": [
    {
     "name": "stdout",
     "output_type": "stream",
     "text": [
      "abc\n",
      "def\n",
      "ijk\n",
      "lmno\n"
     ]
    }
   ],
   "source": [
    "#Wap to count the sequence characters in given string the min sequence count 3.\n",
    "st=\"abccdrwefs deflfgdfgvgh ijkdfg lmno\"\n",
    "start=1\n",
    "r=st[0]\n",
    "while start<len(st):\n",
    "    if ord(st[start])-1==ord(r[-1]):\n",
    "        r+=st[start]\n",
    "    else:\n",
    "        if len(r)>=3:\n",
    "            print(r)\n",
    "        r=st[start]\n",
    "    start+=1\n",
    "if len(r)>=3:\n",
    "    print(r)"
   ]
  },
  {
   "cell_type": "code",
   "execution_count": 64,
   "metadata": {},
   "outputs": [
    {
     "name": "stdout",
     "output_type": "stream",
     "text": [
      "abc\n",
      "def\n",
      "ijk\n",
      "lmno\n"
     ]
    }
   ],
   "source": [
    "st=\"abccdrwefs !deflfgdfgvgh ijkdfg lmno\"\n",
    "i=0\n",
    "s=\"\"\n",
    "while i<len(st):\n",
    "    if i!=len(st)-1 and ord(st[i])+1==ord(st[i+1]) and st[i] not in s:\n",
    "        s+=st[i]\n",
    "    elif ord(st[i-1])+1==ord(st[i]):\n",
    "        s+=st[i]\n",
    "        if len(s)<3:\n",
    "            s=\"\"\n",
    "    else:\n",
    "        if len(s)>=3:\n",
    "            print(s)\n",
    "        s=''\n",
    "    i+=1\n",
    "if len(s)>=3:\n",
    "    print(s)"
   ]
  },
  {
   "cell_type": "code",
   "execution_count": 22,
   "metadata": {},
   "outputs": [
    {
     "name": "stdout",
     "output_type": "stream",
     "text": [
      "['maths', 'science', 'english', 'social', 'hindi']\n",
      "hindi 67\n",
      "english 99\n"
     ]
    }
   ],
   "source": [
    "#Wap to print the max_keyvalue and min_keyvalue in given dict.\n",
    "d={'maths':96,'science':78,'english':99,'social':95,'hindi':67}\n",
    "l=list(d)\n",
    "print(l)\n",
    "max=0\n",
    "min=100\n",
    "min_k=\"\"\n",
    "max_k=\"\"\n",
    "i=0\n",
    "while i<len(l):\n",
    "    if max < d[l[i]]:\n",
    "        max=d[l[i]]\n",
    "        max_k=l[i]\n",
    "    if min > d[l[i]]:\n",
    "        min=d[l[i]]\n",
    "        min_k=l[i]\n",
    "    i+=1\n",
    "print(min_k,min)\n",
    "print(max_k,max)"
   ]
  },
  {
   "cell_type": "code",
   "execution_count": 31,
   "metadata": {},
   "outputs": [
    {
     "name": "stdout",
     "output_type": "stream",
     "text": [
      "pYTHON@124\n"
     ]
    }
   ],
   "source": [
    "#i/p: 'Python@124'\n",
    "#o/p: 'pYTHON@124'\n",
    "st='Python@124'\n",
    "res=''\n",
    "if \"A\"<=st[0]<=\"Z\":\n",
    "    res=chr(ord(st[0])+32)\n",
    "else:\n",
    "    res=st[0]\n",
    "i=1\n",
    "while i<len(st):\n",
    "    if \"a\"<=st[i]<=\"z\":\n",
    "        res+=chr(ord(st[i])-32)\n",
    "    else:\n",
    "        res+=st[i]\n",
    "    i+=1\n",
    "print(res)"
   ]
  },
  {
   "cell_type": "code",
   "execution_count": 32,
   "metadata": {},
   "outputs": [
    {
     "name": "stdout",
     "output_type": "stream",
     "text": [
      "6\n",
      "[1, 2, 3]\n",
      "15\n",
      "[4, 5, 6]\n",
      "24\n",
      "[7, 8, 9]\n"
     ]
    }
   ],
   "source": [
    "l=[[1,2,3],[4,5,6],[7,8,9]]\n",
    "x=0\n",
    "while x<len(l):\n",
    "    y=0\n",
    "    sum=0\n",
    "    while y<len(l[x]):\n",
    "        sum+=l[x][y]\n",
    "        y+=1\n",
    "    print(sum)\n",
    "    print(l[x])\n",
    "    x+=1"
   ]
  },
  {
   "cell_type": "code",
   "execution_count": 34,
   "metadata": {},
   "outputs": [
    {
     "name": "stdout",
     "output_type": "stream",
     "text": [
      "28\n",
      "80\n",
      "162\n"
     ]
    }
   ],
   "source": [
    "l=[[1,2,3],[4,5,6],[7,8,9]]\n",
    "i=0\n",
    "while i<len(l):\n",
    "    prod=1\n",
    "    x=0\n",
    "    while x<len(l):\n",
    "        prod*=(l[x][i])\n",
    "        x+=1\n",
    "    print(prod)\n",
    "    i+=1"
   ]
  },
  {
   "cell_type": "code",
   "execution_count": null,
   "metadata": {},
   "outputs": [],
   "source": []
  }
 ],
 "metadata": {
  "kernelspec": {
   "display_name": "Python 3",
   "language": "python",
   "name": "python3"
  },
  "language_info": {
   "codemirror_mode": {
    "name": "ipython",
    "version": 3
   },
   "file_extension": ".py",
   "mimetype": "text/x-python",
   "name": "python",
   "nbconvert_exporter": "python",
   "pygments_lexer": "ipython3",
   "version": "3.10.9"
  },
  "orig_nbformat": 4
 },
 "nbformat": 4,
 "nbformat_minor": 2
}
