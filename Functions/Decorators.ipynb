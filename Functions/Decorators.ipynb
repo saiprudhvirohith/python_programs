{
 "cells": [
  {
   "cell_type": "code",
   "execution_count": 1,
   "metadata": {},
   "outputs": [],
   "source": [
    "def outer(func):\n",
    "    def inner(*args,**kwargs):\n",
    "        print(\"Good Morning\")\n",
    "        func()\n",
    "        print(\"Good afternoon\")\n",
    "    return inner\n",
    "        "
   ]
  },
  {
   "cell_type": "code",
   "execution_count": 3,
   "metadata": {},
   "outputs": [
    {
     "name": "stdout",
     "output_type": "stream",
     "text": [
      "Good Morning\n",
      "Hai\n",
      "Good afternoon\n"
     ]
    }
   ],
   "source": [
    "@outer\n",
    "def sample():\n",
    "    print(\"Hai\")\n",
    "sample()\n",
    "    "
   ]
  },
  {
   "cell_type": "code",
   "execution_count": 5,
   "metadata": {},
   "outputs": [],
   "source": [
    "def outer1(func):\n",
    "    def inner1(*args,**kwargs):\n",
    "        print(\"Good Morning\")\n",
    "        func(*args,**kwargs)\n",
    "        print(\"Good afternoon\")\n",
    "    return inner1"
   ]
  },
  {
   "cell_type": "code",
   "execution_count": 6,
   "metadata": {},
   "outputs": [
    {
     "name": "stdout",
     "output_type": "stream",
     "text": [
      "Good Morning\n",
      "30 Hai\n",
      "Good afternoon\n"
     ]
    }
   ],
   "source": [
    "@outer1\n",
    "def sample(a,b):\n",
    "    print(a+b,\"Hai\")\n",
    "sample(10,20)"
   ]
  },
  {
   "cell_type": "code",
   "execution_count": 8,
   "metadata": {},
   "outputs": [],
   "source": [
    "def outer2(func):\n",
    "    def inner2(*args,**kwargs):\n",
    "        print(\"Good Morning\")\n",
    "        func(*args,**kwargs)\n",
    "        print(\"Good afternoon\")\n",
    "    return inner2"
   ]
  },
  {
   "cell_type": "code",
   "execution_count": 10,
   "metadata": {},
   "outputs": [
    {
     "name": "stdout",
     "output_type": "stream",
     "text": [
      "Good Morning\n",
      "30 Hai\n",
      "Good afternoon\n"
     ]
    }
   ],
   "source": [
    "\n",
    "def sample(a,b):\n",
    "    print(a+b,\"Hai\")\n",
    "sample=outer2(sample)\n",
    "sample(10,20)"
   ]
  },
  {
   "cell_type": "code",
   "execution_count": 12,
   "metadata": {},
   "outputs": [],
   "source": [
    "def outer3(func):\n",
    "    def inner3(*args,**kwargs):\n",
    "        print(\"Good Morning\")\n",
    "        res=func(*args,**kwargs)\n",
    "        print(\"Good afternoon\")\n",
    "        return res\n",
    "    return inner3"
   ]
  },
  {
   "cell_type": "code",
   "execution_count": 14,
   "metadata": {},
   "outputs": [
    {
     "name": "stdout",
     "output_type": "stream",
     "text": [
      "Good Morning\n",
      "Good afternoon\n"
     ]
    },
    {
     "data": {
      "text/plain": [
       "(30, 'Hai')"
      ]
     },
     "execution_count": 14,
     "metadata": {},
     "output_type": "execute_result"
    }
   ],
   "source": [
    "@outer3\n",
    "def sample(a,b):\n",
    "    return a+b,\"Hai\"\n",
    "sample(10,20)"
   ]
  },
  {
   "cell_type": "code",
   "execution_count": 15,
   "metadata": {},
   "outputs": [],
   "source": [
    "def check_prime(func):\n",
    "    def inner(*args,**kwargs):\n",
    "        d={2:True,3:True,11:True,17:True,97:True,6:False,10:False,16:False,123:False}\n",
    "        count=1\n",
    "        rating=0\n",
    "        for i in d:\n",
    "            if func(i)==d[i]:\n",
    "                res=f\"Testcase{count} ==> input is {i} output is Passed\"\n",
    "                print(res)\n",
    "                rating+=1\n",
    "            else:\n",
    "                res=f\"Testcase{count} ==> input is {i} output is Failed\"\n",
    "                print(res)\n",
    "            count+=1\n",
    "        return rating\n",
    "    return inner"
   ]
  },
  {
   "cell_type": "code",
   "execution_count": 16,
   "metadata": {},
   "outputs": [
    {
     "name": "stdout",
     "output_type": "stream",
     "text": [
      "Testcase1 ==> input is 2 output is Passed\n",
      "Testcase2 ==> input is 3 output is Passed\n",
      "Testcase3 ==> input is 11 output is Passed\n",
      "Testcase4 ==> input is 17 output is Passed\n",
      "Testcase5 ==> input is 97 output is Passed\n",
      "Testcase6 ==> input is 6 output is Passed\n",
      "Testcase7 ==> input is 10 output is Passed\n",
      "Testcase8 ==> input is 16 output is Passed\n",
      "Testcase9 ==> input is 123 output is Passed\n"
     ]
    },
    {
     "data": {
      "text/plain": [
       "9"
      ]
     },
     "execution_count": 16,
     "metadata": {},
     "output_type": "execute_result"
    }
   ],
   "source": [
    "@check_prime\n",
    "def prime(n):\n",
    "    for i in range(2,n):\n",
    "        if n%i==0:\n",
    "            return False\n",
    "    return True\n",
    "prime(2)"
   ]
  }
 ],
 "metadata": {
  "kernelspec": {
   "display_name": "Python 3",
   "language": "python",
   "name": "python3"
  },
  "language_info": {
   "codemirror_mode": {
    "name": "ipython",
    "version": 3
   },
   "file_extension": ".py",
   "mimetype": "text/x-python",
   "name": "python",
   "nbconvert_exporter": "python",
   "pygments_lexer": "ipython3",
   "version": "3.10.9"
  }
 },
 "nbformat": 4,
 "nbformat_minor": 2
}
