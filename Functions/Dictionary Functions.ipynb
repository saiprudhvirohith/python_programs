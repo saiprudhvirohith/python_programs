{
 "cells": [
  {
   "cell_type": "code",
   "execution_count": 1,
   "metadata": {},
   "outputs": [
    {
     "name": "stdout",
     "output_type": "stream",
     "text": [
      "1705231509824 {'a': 10, 'b': 20, 'c': 30}\n",
      "1705231509824 {}\n"
     ]
    }
   ],
   "source": [
    "d={\"a\":10,\"b\":20,\"c\":30}\n",
    "print(id(d),d)\n",
    "d.clear()\n",
    "print(id(d),d)"
   ]
  },
  {
   "cell_type": "code",
   "execution_count": 2,
   "metadata": {},
   "outputs": [
    {
     "name": "stdout",
     "output_type": "stream",
     "text": [
      "1705231515264 {'a': 10, 'b': 20, 'c': 30}\n",
      "1705231515264 {}\n"
     ]
    }
   ],
   "source": [
    "d={\"a\":10,\"b\":20,\"c\":30}\n",
    "print(id(d),d)\n",
    "\n",
    "def Clear(col):\n",
    "    if type(col)!=dict:\n",
    "        return -1\n",
    "    keys=list(col)\n",
    "    for i in keys:\n",
    "        del col[i]\n",
    "Clear(d)\n",
    "print(id(d),d)"
   ]
  },
  {
   "cell_type": "code",
   "execution_count": 3,
   "metadata": {},
   "outputs": [
    {
     "name": "stdout",
     "output_type": "stream",
     "text": [
      "1705231508800 {'a': 10, 'b': 20, 'c': 30}\n",
      "1705231195136 {'a': 10, 'b': 20, 'c': 30}\n"
     ]
    }
   ],
   "source": [
    "d={\"a\":10,\"b\":20,\"c\":30}\n",
    "print(id(d),d)\n",
    "D=d.copy()\n",
    "print(id(D),D)"
   ]
  },
  {
   "cell_type": "code",
   "execution_count": 4,
   "metadata": {},
   "outputs": [
    {
     "name": "stdout",
     "output_type": "stream",
     "text": [
      "1705231535872 {'a': 10, 'b': 20, 'c': 30}\n",
      "1705231508800 {'a': 10, 'b': 20, 'c': 30}\n"
     ]
    }
   ],
   "source": [
    "d={\"a\":10,\"b\":20,\"c\":30}\n",
    "print(id(d),d)\n",
    "\n",
    "def Copy(col):\n",
    "    if type(col)!=dict:\n",
    "        return -1\n",
    "    res={}\n",
    "    for i in col:\n",
    "        res[i]=col[i]\n",
    "    return res\n",
    "D=Copy(d)\n",
    "print(id(D),D)"
   ]
  },
  {
   "cell_type": "code",
   "execution_count": 9,
   "metadata": {},
   "outputs": [
    {
     "name": "stdout",
     "output_type": "stream",
     "text": [
      "10\n",
      "10\n",
      "None\n"
     ]
    },
    {
     "ename": "KeyError",
     "evalue": "'z'",
     "output_type": "error",
     "traceback": [
      "\u001b[1;31m---------------------------------------------------------------------------\u001b[0m",
      "\u001b[1;31mKeyError\u001b[0m                                  Traceback (most recent call last)",
      "\u001b[1;32mc:\\Users\\saipr\\OneDrive\\Documents\\rohith\\python_programs\\Functions\\Dictionary Functions.ipynb Cell 5\u001b[0m line \u001b[0;36m5\n\u001b[0;32m      <a href='vscode-notebook-cell:/c%3A/Users/saipr/OneDrive/Documents/rohith/python_programs/Functions/Dictionary%20Functions.ipynb#W5sZmlsZQ%3D%3D?line=2'>3</a>\u001b[0m \u001b[39mprint\u001b[39m(d[\u001b[39m\"\u001b[39m\u001b[39ma\u001b[39m\u001b[39m\"\u001b[39m])\n\u001b[0;32m      <a href='vscode-notebook-cell:/c%3A/Users/saipr/OneDrive/Documents/rohith/python_programs/Functions/Dictionary%20Functions.ipynb#W5sZmlsZQ%3D%3D?line=3'>4</a>\u001b[0m \u001b[39mprint\u001b[39m(d\u001b[39m.\u001b[39mget(\u001b[39m\"\u001b[39m\u001b[39mz\u001b[39m\u001b[39m\"\u001b[39m))\n\u001b[1;32m----> <a href='vscode-notebook-cell:/c%3A/Users/saipr/OneDrive/Documents/rohith/python_programs/Functions/Dictionary%20Functions.ipynb#W5sZmlsZQ%3D%3D?line=4'>5</a>\u001b[0m \u001b[39mprint\u001b[39m(d[\u001b[39m\"\u001b[39;49m\u001b[39mz\u001b[39;49m\u001b[39m\"\u001b[39;49m])\n",
      "\u001b[1;31mKeyError\u001b[0m: 'z'"
     ]
    }
   ],
   "source": [
    "d={\"a\":10,\"b\":20,\"c\":30}\n",
    "print(d.get(\"a\"))\n",
    "print(d[\"a\"])\n",
    "print(d.get(\"z\"))\n",
    "print(d[\"z\"])"
   ]
  },
  {
   "cell_type": "code",
   "execution_count": 15,
   "metadata": {},
   "outputs": [
    {
     "data": {
      "text/plain": [
       "10"
      ]
     },
     "execution_count": 15,
     "metadata": {},
     "output_type": "execute_result"
    }
   ],
   "source": [
    "d={\"a\":10,\"b\":20,\"c\":30}\n",
    "\n",
    "def Get(col,key):\n",
    "    if type(col)!=dict and key not in col:\n",
    "        return -1\n",
    "    value=col[key]\n",
    "    return value\n",
    "Get(d,\"a\")"
   ]
  },
  {
   "cell_type": "code",
   "execution_count": 16,
   "metadata": {},
   "outputs": [
    {
     "name": "stdout",
     "output_type": "stream",
     "text": [
      "1705253412096 {'a': 10, 'b': 20, 'c': 30}\n",
      "30\n",
      "1705253412096 {'a': 10, 'b': 20}\n"
     ]
    }
   ],
   "source": [
    "d={\"a\":10,\"b\":20,\"c\":30}\n",
    "print(id(d),d)\n",
    "print(d.pop(\"c\"))\n",
    "print(id(d),d)"
   ]
  },
  {
   "cell_type": "code",
   "execution_count": 14,
   "metadata": {},
   "outputs": [
    {
     "name": "stdout",
     "output_type": "stream",
     "text": [
      "1784466290560 {'a': 10, 'b': 20, 'c': 30}\n",
      "30\n",
      "1784466290560 {'a': 10, 'b': 20}\n"
     ]
    }
   ],
   "source": [
    "d={\"a\":10,\"b\":20,\"c\":30}\n",
    "print(id(d),d)\n",
    "\n",
    "def Pop(col,key):\n",
    "    if type(col)!=dict and type(key) in [list,set,dict]:\n",
    "        return -1\n",
    "    res=col[key]\n",
    "    del col[key]\n",
    "    return res\n",
    "print(Pop(d,\"c\"))\n",
    "print(id(d),d)"
   ]
  },
  {
   "cell_type": "code",
   "execution_count": 9,
   "metadata": {},
   "outputs": [
    {
     "name": "stdout",
     "output_type": "stream",
     "text": [
      "1784466140160 {'a': 10, 'b': 20, 'c': 30}\n",
      "('c', 30)\n",
      "1784466140160 {'a': 10, 'b': 20}\n"
     ]
    }
   ],
   "source": [
    "d={\"a\":10,\"b\":20,\"c\":30}\n",
    "print(id(d),d)\n",
    "print(d.popitem())\n",
    "print(id(d),d)"
   ]
  },
  {
   "cell_type": "code",
   "execution_count": 13,
   "metadata": {},
   "outputs": [
    {
     "name": "stdout",
     "output_type": "stream",
     "text": [
      "1784466290048 {'a': 10, 'b': 20, 'c': 30}\n",
      "('c', 30)\n",
      "1784466290048 {'a': 10, 'b': 20}\n"
     ]
    }
   ],
   "source": [
    "d={\"a\":10,\"b\":20,\"c\":30}\n",
    "print(id(d),d)\n",
    "\n",
    "def Popitem(col):\n",
    "    if type(col)!=dict:\n",
    "        return -1\n",
    "    key=list(col)[-1]\n",
    "    res=(key,col[key])\n",
    "    del col[key]\n",
    "    return res\n",
    "print(Popitem(d))\n",
    "print(id(d),d)"
   ]
  },
  {
   "cell_type": "code",
   "execution_count": 17,
   "metadata": {},
   "outputs": [
    {
     "name": "stdout",
     "output_type": "stream",
     "text": [
      "1784487303360 {'a': 10, 'b': 20, 'c': 30}\n",
      "1784487303360 {'a': 10, 'b': 20, 'c': 30, 'd': 40}\n"
     ]
    }
   ],
   "source": [
    "d={\"a\":10,\"b\":20,\"c\":30}\n",
    "print(id(d),d)\n",
    "d.update({\"d\":40})\n",
    "print(id(d),d)"
   ]
  },
  {
   "cell_type": "code",
   "execution_count": 19,
   "metadata": {},
   "outputs": [
    {
     "name": "stdout",
     "output_type": "stream",
     "text": [
      "1784487244864 {'a': 10, 'b': 20, 'c': 30}\n",
      "1784487244864 {'a': 10, 'b': 20, 'c': 30, 'd': 40}\n"
     ]
    }
   ],
   "source": [
    "d={\"a\":10,\"b\":20,\"c\":30}\n",
    "print(id(d),d)\n",
    "\n",
    "def Pop(col,ele):\n",
    "    if type(col)!=dict and type(ele)!=dict:\n",
    "        return -1\n",
    "    col|=ele\n",
    "Pop(d,{\"d\":40})\n",
    "print(id(d),d)"
   ]
  }
 ],
 "metadata": {
  "kernelspec": {
   "display_name": "Python 3",
   "language": "python",
   "name": "python3"
  },
  "language_info": {
   "codemirror_mode": {
    "name": "ipython",
    "version": 3
   },
   "file_extension": ".py",
   "mimetype": "text/x-python",
   "name": "python",
   "nbconvert_exporter": "python",
   "pygments_lexer": "ipython3",
   "version": "3.10.9"
  },
  "orig_nbformat": 4
 },
 "nbformat": 4,
 "nbformat_minor": 2
}
