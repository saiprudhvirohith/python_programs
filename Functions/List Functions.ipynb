{
 "cells": [
  {
   "cell_type": "code",
   "execution_count": 7,
   "metadata": {},
   "outputs": [
    {
     "name": "stdout",
     "output_type": "stream",
     "text": [
      "2151316532416 [10, 20, 30]\n",
      "2151316532416 [10, 20, 30, {'a': 10}]\n"
     ]
    }
   ],
   "source": [
    "l=[10,20,30]\n",
    "print(id(l),l)\n",
    "l.append({'a':10})\n",
    "print(id(l),l)"
   ]
  },
  {
   "cell_type": "code",
   "execution_count": 16,
   "metadata": {},
   "outputs": [
    {
     "name": "stdout",
     "output_type": "stream",
     "text": [
      "2151337910400 [10, 20, 30]\n",
      "2151337910400 [10, 20, 30, {'a': 10}]\n"
     ]
    }
   ],
   "source": [
    "l=[10,20,30]\n",
    "print(id(l),l)\n",
    "\n",
    "def ap(col,ele):\n",
    "    if type(col)!=list:\n",
    "        return -1\n",
    "    col+=[ele]\n",
    "ap(l,{\"a\":10})\n",
    "print(id(l),l)"
   ]
  },
  {
   "cell_type": "code",
   "execution_count": 14,
   "metadata": {},
   "outputs": [
    {
     "name": "stdout",
     "output_type": "stream",
     "text": [
      "2151337897792 [10, 20, 30]\n",
      "2151337897792 [10, 20, 30, 10, 'a']\n"
     ]
    }
   ],
   "source": [
    "l=[10,20,30]\n",
    "print(id(l),l)\n",
    "l.extend({\"a\",10})\n",
    "print(id(l),l)"
   ]
  },
  {
   "cell_type": "code",
   "execution_count": 20,
   "metadata": {},
   "outputs": [
    {
     "name": "stdout",
     "output_type": "stream",
     "text": [
      "2151337569280 [10, 20, 30]\n",
      "2151337569280 [10, 20, 30, 'a']\n"
     ]
    }
   ],
   "source": [
    "a=[10,20,30]\n",
    "print(id(a),a)\n",
    "\n",
    "def ext(col,ele):\n",
    "    if type(a)!=list:\n",
    "        return -1\n",
    "    if type(ele) not in [str,dict,list,set,tuple]:\n",
    "        return -2\n",
    "    for i in ele:\n",
    "        col+=[i]\n",
    "ext(a,{\"a\":10})\n",
    "print(id(a),a)    "
   ]
  },
  {
   "cell_type": "code",
   "execution_count": 32,
   "metadata": {},
   "outputs": [
    {
     "name": "stdout",
     "output_type": "stream",
     "text": [
      "2151337488768 [10, 20, 30]\n",
      "2151337488768 [10, 20, {'a': 10}, 30]\n"
     ]
    }
   ],
   "source": [
    "l=[10,20,30]\n",
    "print(id(l),l)\n",
    "l.insert(-1,{\"a\":10})\n",
    "print(id(l),l)"
   ]
  },
  {
   "cell_type": "code",
   "execution_count": 31,
   "metadata": {},
   "outputs": [
    {
     "name": "stdout",
     "output_type": "stream",
     "text": [
      "2151337798016 [10, 20, 30]\n",
      "2151337798016 [10, {10, 'a'}, 20, 30]\n"
     ]
    }
   ],
   "source": [
    "l=[10,20,30]\n",
    "print(id(l),l)\n",
    "\n",
    "def it(col,index,ele):\n",
    "    if type(l)!=list and type(int)!=int:\n",
    "        return -1\n",
    "    col[index:index]=[ele]\n",
    "it(l,-2,{\"a\",10})\n",
    "print(id(l),l)"
   ]
  },
  {
   "cell_type": "code",
   "execution_count": 34,
   "metadata": {},
   "outputs": [
    {
     "name": "stdout",
     "output_type": "stream",
     "text": [
      "2151338155712 [10, 20, 30]\n"
     ]
    },
    {
     "data": {
      "text/plain": [
       "1"
      ]
     },
     "execution_count": 34,
     "metadata": {},
     "output_type": "execute_result"
    }
   ],
   "source": [
    "l=[10,20,30]\n",
    "print(id(l),l)\n",
    "l.count(10)"
   ]
  },
  {
   "cell_type": "code",
   "execution_count": 37,
   "metadata": {},
   "outputs": [
    {
     "name": "stdout",
     "output_type": "stream",
     "text": [
      "2151338148736 [10, 20, 30]\n"
     ]
    },
    {
     "data": {
      "text/plain": [
       "1"
      ]
     },
     "execution_count": 37,
     "metadata": {},
     "output_type": "execute_result"
    }
   ],
   "source": [
    "l=[10,20,30]\n",
    "print(id(l),l)\n",
    "\n",
    "def ct(col,ele):\n",
    "    if type(col)!=list:\n",
    "        return -1\n",
    "    count=0\n",
    "    for i in col:\n",
    "        if i==ele:\n",
    "            count+=1\n",
    "    return count\n",
    "ct(l,20)"
   ]
  },
  {
   "cell_type": "code",
   "execution_count": 39,
   "metadata": {},
   "outputs": [
    {
     "name": "stdout",
     "output_type": "stream",
     "text": [
      "2151338148736 [10, 20, 30]\n"
     ]
    },
    {
     "data": {
      "text/plain": [
       "2"
      ]
     },
     "execution_count": 39,
     "metadata": {},
     "output_type": "execute_result"
    }
   ],
   "source": [
    "l=[10,20,30]\n",
    "print(id(l),l)\n",
    "l.index(30)"
   ]
  },
  {
   "cell_type": "code",
   "execution_count": 42,
   "metadata": {},
   "outputs": [
    {
     "name": "stdout",
     "output_type": "stream",
     "text": [
      "2151338148544 [10, 20, 30]\n"
     ]
    },
    {
     "data": {
      "text/plain": [
       "2"
      ]
     },
     "execution_count": 42,
     "metadata": {},
     "output_type": "execute_result"
    }
   ],
   "source": [
    "l=[10,20,30]\n",
    "print(id(l),l)\n",
    " \n",
    "def idx(col,ele):\n",
    "    if type(col)!=list:\n",
    "        return -1\n",
    "    for i in range(len(col)):\n",
    "        if col[i]==ele:\n",
    "            return i\n",
    "    return -1\n",
    "idx(l,30)"
   ]
  },
  {
   "cell_type": "code",
   "execution_count": 46,
   "metadata": {},
   "outputs": [
    {
     "name": "stdout",
     "output_type": "stream",
     "text": [
      "2151338032896 [10, 20, 30, 40, 50, 60, 70, 80, 90, 100]\n"
     ]
    },
    {
     "data": {
      "text/plain": [
       "1"
      ]
     },
     "execution_count": 46,
     "metadata": {},
     "output_type": "execute_result"
    }
   ],
   "source": [
    "l=[10,20,30,40,50,60,70,80,90,100]\n",
    "print(id(l),l)\n",
    " \n",
    "def idx(col,ele,start=0,end=None):\n",
    "    if type(col)!=list:\n",
    "        return -1\n",
    "    if start<0:\n",
    "        start=start+len(col)\n",
    "    if end==None:\n",
    "        end=len(col)\n",
    "    if end<0:\n",
    "        end=end+len(col)\n",
    "    for i in range(start,end):\n",
    "        if col[i]==ele:\n",
    "            return i\n",
    "    return -1\n",
    "idx(l,20,0,-5)"
   ]
  },
  {
   "cell_type": "code",
   "execution_count": 54,
   "metadata": {},
   "outputs": [
    {
     "name": "stdout",
     "output_type": "stream",
     "text": [
      "2151338286784 [10, 20, 30, 40, 50, 60, 70, 80, 90, 100]\n",
      "2151338286784 [100, 90, 80, 70, 60, 50, 40, 30, 20, 10]\n"
     ]
    }
   ],
   "source": [
    "l=[10,20,30,40,50,60,70,80,90,100]\n",
    "print(id(l),l)\n",
    "l.reverse()\n",
    "print(id(l),l)"
   ]
  },
  {
   "cell_type": "code",
   "execution_count": 56,
   "metadata": {},
   "outputs": [
    {
     "name": "stdout",
     "output_type": "stream",
     "text": [
      "2151338260864 [10, 20, 30, 40, 50, 60, 70, 80, 90, 100, 110]\n",
      "2151338260864 [110, 100, 90, 80, 70, 60, 50, 40, 30, 20, 10]\n"
     ]
    }
   ],
   "source": [
    "l=[10,20,30,40,50,60,70,80,90,100,110]\n",
    "print(id(l),l)\n",
    "\n",
    "def rev(col):\n",
    "    j=-1\n",
    "    for i in range(0,len(col)//2):\n",
    "        col[i],col[j]=col[j],col[i]\n",
    "        j-=1\n",
    "rev(l)\n",
    "print(id(l),l)"
   ]
  },
  {
   "cell_type": "code",
   "execution_count": 3,
   "metadata": {},
   "outputs": [
    {
     "name": "stdout",
     "output_type": "stream",
     "text": [
      "1972511113600 [10, 20, 30, 'a', 'b', 'c', [1, 2, 3]]\n",
      "1972511156736 [10, 20, 30, 'a', 'b', 'c', [1, 2, 3]]\n"
     ]
    }
   ],
   "source": [
    "l=[10,20,30,'a','b','c',[1,2,3]]\n",
    "x=l.copy()\n",
    "print(id(l),l)\n",
    "print(id(x),x)"
   ]
  },
  {
   "cell_type": "code",
   "execution_count": 6,
   "metadata": {},
   "outputs": [
    {
     "name": "stdout",
     "output_type": "stream",
     "text": [
      "1972511008256 [10, 20, 30, 'a', 'b', 'c', [1, 2, 3]]\n",
      "1972510998720 [10, 20, 30, 'a', 'b', 'c', [1, 2, 3]]\n",
      "[10, 20, 30, 'a', 'b', 'c', [1, 2, 3], 'hello']\n",
      "[10, 20, 30, 'a', 'b', 'c', [1, 2, 3]]\n",
      "[10, 20, 30, 'a', 'b', 'c', [1, 2, 3, 4, 5, 6], 'hello']\n",
      "[10, 20, 30, 'a', 'b', 'c', [1, 2, 3, 4, 5, 6]]\n"
     ]
    }
   ],
   "source": [
    "l=[10,20,30,'a','b','c',[1,2,3]]\n",
    "print(id(l),l)\n",
    "def cop(col):\n",
    "    if type(col)!=list:\n",
    "        return -1\n",
    "    res=[]\n",
    "    for i in col:\n",
    "        res+=[i]\n",
    "    return res\n",
    "y=cop(l)\n",
    "print(id(y),y)\n",
    "\n",
    "l+=[\"hello\"]\n",
    "print(l)\n",
    "print(y)\n",
    "\n",
    "y[-1]+=[4,5,6]\n",
    "print(l)\n",
    "print(y)\n"
   ]
  },
  {
   "cell_type": "code",
   "execution_count": 8,
   "metadata": {},
   "outputs": [
    {
     "name": "stdout",
     "output_type": "stream",
     "text": [
      "[10, 20, 30, 'a', 'b', 'c', [1, 2, 3]]\n",
      "[10, 20, 'a', 'b', 'c', [1, 2, 3]]\n"
     ]
    }
   ],
   "source": [
    "l=[10, 20, 30, 'a', 'b', 'c', [1, 2, 3], 'hello']\n",
    "l.pop()\n",
    "print(l)\n",
    "l.pop(2)\n",
    "print(l)"
   ]
  },
  {
   "cell_type": "code",
   "execution_count": 12,
   "metadata": {},
   "outputs": [
    {
     "name": "stdout",
     "output_type": "stream",
     "text": [
      "[10, 20, 30, 'a', 'b', 'c', [1, 2, 3]]\n",
      "[10, 20, 'a', 'b', 'c', [1, 2, 3]]\n"
     ]
    }
   ],
   "source": [
    "l=[10, 20, 30, 'a', 'b', 'c', [1, 2, 3], 'hello']\n",
    "\n",
    "def u_pop(col,index=-1):\n",
    "    if type(col)!=list:\n",
    "        retrun -1\n",
    "    del col[index]\n",
    "u_pop(l)\n",
    "print(l)\n",
    "u_pop(l,2)\n",
    "print(l)\n"
   ]
  },
  {
   "cell_type": "code",
   "execution_count": 14,
   "metadata": {},
   "outputs": [
    {
     "name": "stdout",
     "output_type": "stream",
     "text": [
      "1972511124800 [10, 20, 30, 'a', 'b', 'c', [1, 2, 3], 'hello']\n",
      "1972511124800 [10, 20, 'a', 'b', 'c', [1, 2, 3], 'hello']\n"
     ]
    },
    {
     "ename": "ValueError",
     "evalue": "list.remove(x): x not in list",
     "output_type": "error",
     "traceback": [
      "\u001b[1;31m---------------------------------------------------------------------------\u001b[0m",
      "\u001b[1;31mValueError\u001b[0m                                Traceback (most recent call last)",
      "\u001b[1;32mc:\\Users\\saipr\\OneDrive\\Documents\\rohith\\python_programs\\Functions\\List Functions.ipynb Cell 18\u001b[0m line \u001b[0;36m5\n\u001b[0;32m      <a href='vscode-notebook-cell:/c%3A/Users/saipr/OneDrive/Documents/rohith/python_programs/Functions/List%20Functions.ipynb#X23sZmlsZQ%3D%3D?line=2'>3</a>\u001b[0m l\u001b[39m.\u001b[39mremove(\u001b[39m30\u001b[39m)\n\u001b[0;32m      <a href='vscode-notebook-cell:/c%3A/Users/saipr/OneDrive/Documents/rohith/python_programs/Functions/List%20Functions.ipynb#X23sZmlsZQ%3D%3D?line=3'>4</a>\u001b[0m \u001b[39mprint\u001b[39m(\u001b[39mid\u001b[39m(l),l)\n\u001b[1;32m----> <a href='vscode-notebook-cell:/c%3A/Users/saipr/OneDrive/Documents/rohith/python_programs/Functions/List%20Functions.ipynb#X23sZmlsZQ%3D%3D?line=4'>5</a>\u001b[0m l\u001b[39m.\u001b[39;49mremove(\u001b[39m100\u001b[39;49m)\n",
      "\u001b[1;31mValueError\u001b[0m: list.remove(x): x not in list"
     ]
    }
   ],
   "source": [
    "l=[10, 20, 30, 'a', 'b', 'c', [1, 2, 3], 'hello']\n",
    "print(id(l),l)\n",
    "l.remove(30)\n",
    "print(id(l),l)\n",
    "l.remove(100)"
   ]
  },
  {
   "cell_type": "code",
   "execution_count": 20,
   "metadata": {},
   "outputs": [
    {
     "name": "stdout",
     "output_type": "stream",
     "text": [
      "1972511313408 [10, 20, 30, 'a', 'b', 'c', [1, 2, 3], 'hello']\n",
      "1972511313408 [10, 20, 'a', 'b', 'c', [1, 2, 3], 'hello']\n"
     ]
    },
    {
     "data": {
      "text/plain": [
       "-1"
      ]
     },
     "execution_count": 20,
     "metadata": {},
     "output_type": "execute_result"
    }
   ],
   "source": [
    "l=[10, 20, 30, 'a', 'b', 'c', [1, 2, 3], 'hello']\n",
    "print(id(l),l)\n",
    "\n",
    "def remoe(col,ele):\n",
    "    if type(col)!=list or ele not in col:\n",
    "        return -1\n",
    "    for i in range(len(l)):\n",
    "        if ele==col[i]:\n",
    "            del col[i]\n",
    "            break\n",
    "remoe(l,30)\n",
    "print(id(l),l)\n",
    "\n",
    "remoe(l,100)"
   ]
  },
  {
   "cell_type": "code",
   "execution_count": 21,
   "metadata": {},
   "outputs": [
    {
     "name": "stdout",
     "output_type": "stream",
     "text": [
      "1972511130240 [10, 20, 30, 'a', 'b', 'c', [1, 2, 3], 'hello']\n",
      "1972511130240 []\n"
     ]
    }
   ],
   "source": [
    "l=[10, 20, 30, 'a', 'b', 'c', [1, 2, 3], 'hello']\n",
    "print(id(l),l)\n",
    "l.clear()\n",
    "print(id(l),l)"
   ]
  },
  {
   "cell_type": "code",
   "execution_count": 22,
   "metadata": {},
   "outputs": [
    {
     "name": "stdout",
     "output_type": "stream",
     "text": [
      "1972511323328 [10, 20, 30, 'a', 'b', 'c', [1, 2, 3], 'hello']\n",
      "1972511323328 []\n"
     ]
    }
   ],
   "source": [
    "l=[10, 20, 30, 'a', 'b', 'c', [1, 2, 3], 'hello']\n",
    "print(id(l),l)\n",
    "\n",
    "def cl(col):\n",
    "    if type(col)!=list:\n",
    "        return -1\n",
    "    col[::]=[]\n",
    "cl(l)\n",
    "print(id(l),l)"
   ]
  },
  {
   "cell_type": "code",
   "execution_count": 23,
   "metadata": {},
   "outputs": [
    {
     "name": "stdout",
     "output_type": "stream",
     "text": [
      "1972511454976 [10, 20, 30, 'a', 'b', 'c', [1, 2, 3], 'hello']\n",
      "1972511454976 []\n"
     ]
    }
   ],
   "source": [
    "l=[10, 20, 30, 'a', 'b', 'c', [1, 2, 3], 'hello']\n",
    "print(id(l),l)\n",
    "\n",
    "def cl(col):\n",
    "    if type(col)!=list:\n",
    "        return -1\n",
    "    for i in range(len(col)):\n",
    "        del col[0]\n",
    "cl(l)\n",
    "print(id(l),l)"
   ]
  },
  {
   "cell_type": "code",
   "execution_count": 24,
   "metadata": {},
   "outputs": [
    {
     "name": "stdout",
     "output_type": "stream",
     "text": [
      "1972511452288 [10, 40, 60, 50, 70, 90, 20, 80, 30]\n",
      "1972511452288 [10, 20, 30, 40, 50, 60, 70, 80, 90]\n"
     ]
    }
   ],
   "source": [
    "l=[10,40,60,50,70,90,20,80,30]\n",
    "print(id(l),l)\n",
    "l.sort()\n",
    "print(id(l),l)"
   ]
  },
  {
   "cell_type": "code",
   "execution_count": 32,
   "metadata": {},
   "outputs": [
    {
     "name": "stdout",
     "output_type": "stream",
     "text": [
      "1972511272384 [10, 40, 60, 50, 70, 90, 20, 80, 30]\n",
      "1972511272384 [10, 20, 30, 40, 50, 60, 70, 80, 90]\n"
     ]
    }
   ],
   "source": [
    "l=[10,40,60,50,70,90,20,80,30]\n",
    "print(id(l),l)\n",
    "\n",
    "def st(col):\n",
    "    #count=0\n",
    "    if type(col)!=list:\n",
    "        return -1\n",
    "    for i in range (len(col)):\n",
    "        for j in range(len(col)-1):\n",
    "            if col[j]>col[j+1]:\n",
    "                col[j],col[j+1]=col[j+1],col[j]\n",
    "            #count+=1\n",
    "    #print(count)\n",
    "st(l)\n",
    "print(id(l),l)\n",
    "    "
   ]
  }
 ],
 "metadata": {
  "kernelspec": {
   "display_name": "Python 3",
   "language": "python",
   "name": "python3"
  },
  "language_info": {
   "codemirror_mode": {
    "name": "ipython",
    "version": 3
   },
   "file_extension": ".py",
   "mimetype": "text/x-python",
   "name": "python",
   "nbconvert_exporter": "python",
   "pygments_lexer": "ipython3",
   "version": "3.10.9"
  },
  "orig_nbformat": 4
 },
 "nbformat": 4,
 "nbformat_minor": 2
}
