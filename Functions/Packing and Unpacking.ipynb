{
 "cells": [
  {
   "cell_type": "markdown",
   "metadata": {},
   "source": [
    "Packing"
   ]
  },
  {
   "cell_type": "code",
   "execution_count": 1,
   "metadata": {},
   "outputs": [
    {
     "name": "stdout",
     "output_type": "stream",
     "text": [
      "(10, 20, 30, 40)\n"
     ]
    }
   ],
   "source": [
    "def sample(*args):    #userdefine Tuple Packing\n",
    "    print(args)\n",
    "sample(10,20,30,40)"
   ]
  },
  {
   "cell_type": "code",
   "execution_count": 2,
   "metadata": {},
   "outputs": [
    {
     "name": "stdout",
     "output_type": "stream",
     "text": [
      "{'a': 10, 'b': 20, 'c': 30, 'd': 40}\n"
     ]
    }
   ],
   "source": [
    "def sample(**kargs):    #userdefine Dictionary Packing\n",
    "    print(kargs)\n",
    "sample(a=10,b=20,c=30,d=40)"
   ]
  },
  {
   "cell_type": "code",
   "execution_count": 4,
   "metadata": {},
   "outputs": [
    {
     "name": "stdout",
     "output_type": "stream",
     "text": [
      "(10, 20, 30)\n",
      "{}\n",
      "--------------------\n",
      "()\n",
      "{'x': 100, 'y': 200, 'z': 300}\n",
      "--------------------\n",
      "(10, 20, 30)\n",
      "{'x': 100, 'y': 200, 'z': 300}\n"
     ]
    }
   ],
   "source": [
    "def sample(*args,**kargs):  #userdefine Packing and Dictionary Packing\n",
    "    print(args)\n",
    "    print(kargs)\n",
    "sample(10,20,30)\n",
    "print(\"--\"*10)\n",
    "sample(x=100,y=200,z=300)\n",
    "print(\"--\"*10)\n",
    "sample(10,20,30,x=100,y=200,z=300)"
   ]
  },
  {
   "cell_type": "markdown",
   "metadata": {},
   "source": [
    "Unpacking"
   ]
  },
  {
   "cell_type": "code",
   "execution_count": 5,
   "metadata": {},
   "outputs": [
    {
     "name": "stdout",
     "output_type": "stream",
     "text": [
      "10 20 30 40\n"
     ]
    }
   ],
   "source": [
    "t=(10,20,30,40)     #Tuple Unpacking\n",
    "def sample(a,b,c,d):\n",
    "    print(a,b,c,d)\n",
    "sample(*t)"
   ]
  },
  {
   "cell_type": "code",
   "execution_count": 6,
   "metadata": {},
   "outputs": [
    {
     "name": "stdout",
     "output_type": "stream",
     "text": [
      "a b c d\n"
     ]
    }
   ],
   "source": [
    "t={\"a\":10,'b':20,'c':30,'d':40} #Dictionary Unpacking using Tuple\n",
    "def sample(a,b,c,d):\n",
    "    print(a,b,c,d)\n",
    "sample(*t)"
   ]
  },
  {
   "cell_type": "code",
   "execution_count": 7,
   "metadata": {},
   "outputs": [
    {
     "name": "stdout",
     "output_type": "stream",
     "text": [
      "10 20 30 40\n"
     ]
    }
   ],
   "source": [
    "t={\"a\":10,'b':20,'c':30,'d':40} #Dictionary Unpacking\n",
    "def sample(a,b,c,d):\n",
    "    print(a,b,c,d)\n",
    "sample(**t)"
   ]
  },
  {
   "cell_type": "code",
   "execution_count": 8,
   "metadata": {},
   "outputs": [
    {
     "ename": "TypeError",
     "evalue": "sample() missing 1 required positional argument: 'e'",
     "output_type": "error",
     "traceback": [
      "\u001b[1;31m---------------------------------------------------------------------------\u001b[0m",
      "\u001b[1;31mTypeError\u001b[0m                                 Traceback (most recent call last)",
      "\u001b[1;32mc:\\Users\\saipr\\OneDrive\\Documents\\rohith\\python_programs\\Functions\\Packing and Unpacking.ipynb Cell 9\u001b[0m line \u001b[0;36m4\n\u001b[0;32m      <a href='vscode-notebook-cell:/c%3A/Users/saipr/OneDrive/Documents/rohith/python_programs/Functions/Packing%20and%20Unpacking.ipynb#X14sZmlsZQ%3D%3D?line=1'>2</a>\u001b[0m \u001b[39mdef\u001b[39;00m \u001b[39msample\u001b[39m(a,b,c,d,e):\n\u001b[0;32m      <a href='vscode-notebook-cell:/c%3A/Users/saipr/OneDrive/Documents/rohith/python_programs/Functions/Packing%20and%20Unpacking.ipynb#X14sZmlsZQ%3D%3D?line=2'>3</a>\u001b[0m     \u001b[39mprint\u001b[39m(a,b,c,d)\n\u001b[1;32m----> <a href='vscode-notebook-cell:/c%3A/Users/saipr/OneDrive/Documents/rohith/python_programs/Functions/Packing%20and%20Unpacking.ipynb#X14sZmlsZQ%3D%3D?line=3'>4</a>\u001b[0m sample(\u001b[39m*\u001b[39;49mt)\n",
      "\u001b[1;31mTypeError\u001b[0m: sample() missing 1 required positional argument: 'e'"
     ]
    }
   ],
   "source": [
    "t=(10,20,30,40)  #Unpacking when there are insuffiecient data items inside a tuple-->error1\n",
    "def sample(a,b,c,d,e):\n",
    "    print(a,b,c,d)\n",
    "sample(*t)"
   ]
  },
  {
   "cell_type": "code",
   "execution_count": 9,
   "metadata": {},
   "outputs": [
    {
     "name": "stdout",
     "output_type": "stream",
     "text": [
      "10 20 30 40\n"
     ]
    }
   ],
   "source": [
    "t=(10,20,30,40)  #0Unpacking when there are insuffiecient data items inside a tuple-->Solution1\n",
    "def sample(a,b,c,d,e=None):\n",
    "    print(a,b,c,d)\n",
    "sample(*t)"
   ]
  },
  {
   "cell_type": "code",
   "execution_count": 11,
   "metadata": {},
   "outputs": [
    {
     "ename": "TypeError",
     "evalue": "sample() takes 3 positional arguments but 4 were given",
     "output_type": "error",
     "traceback": [
      "\u001b[1;31m---------------------------------------------------------------------------\u001b[0m",
      "\u001b[1;31mTypeError\u001b[0m                                 Traceback (most recent call last)",
      "\u001b[1;32mc:\\Users\\saipr\\OneDrive\\Documents\\rohith\\python_programs\\Functions\\Packing and Unpacking.ipynb Cell 11\u001b[0m line \u001b[0;36m4\n\u001b[0;32m      <a href='vscode-notebook-cell:/c%3A/Users/saipr/OneDrive/Documents/rohith/python_programs/Functions/Packing%20and%20Unpacking.ipynb#X20sZmlsZQ%3D%3D?line=1'>2</a>\u001b[0m \u001b[39mdef\u001b[39;00m \u001b[39msample\u001b[39m(a,b,c):\n\u001b[0;32m      <a href='vscode-notebook-cell:/c%3A/Users/saipr/OneDrive/Documents/rohith/python_programs/Functions/Packing%20and%20Unpacking.ipynb#X20sZmlsZQ%3D%3D?line=2'>3</a>\u001b[0m     \u001b[39mprint\u001b[39m(a,b,c)\n\u001b[1;32m----> <a href='vscode-notebook-cell:/c%3A/Users/saipr/OneDrive/Documents/rohith/python_programs/Functions/Packing%20and%20Unpacking.ipynb#X20sZmlsZQ%3D%3D?line=3'>4</a>\u001b[0m sample(\u001b[39m*\u001b[39;49mt)\n",
      "\u001b[1;31mTypeError\u001b[0m: sample() takes 3 positional arguments but 4 were given"
     ]
    }
   ],
   "source": [
    "t=(10,20,30,40)  #0Unpacking when there are insuffiecient data items inside a function definition->error2\n",
    "def sample(a,b,c):\n",
    "    print(a,b,c)\n",
    "sample(*t)"
   ]
  },
  {
   "cell_type": "code",
   "execution_count": 13,
   "metadata": {},
   "outputs": [
    {
     "name": "stdout",
     "output_type": "stream",
     "text": [
      "10 20 30 (40,)\n"
     ]
    }
   ],
   "source": [
    "t=(10,20,30,40)  #0Unpacking when there are insuffiecient data items inside a function definition->solution2\n",
    "def sample(a,b,c,*args):\n",
    "    print(a,b,c,args)\n",
    "sample(*t)"
   ]
  },
  {
   "cell_type": "code",
   "execution_count": 14,
   "metadata": {},
   "outputs": [
    {
     "name": "stdout",
     "output_type": "stream",
     "text": [
      "10 20 30 40\n"
     ]
    }
   ],
   "source": [
    "t={\"a\":10,'b':20,'c':30,'d':40} #Dictionary Unpacking\n",
    "def sample(a,b,c,d):\n",
    "    print(a,b,c,d)\n",
    "sample(**t)"
   ]
  },
  {
   "cell_type": "code",
   "execution_count": 18,
   "metadata": {},
   "outputs": [
    {
     "ename": "TypeError",
     "evalue": "sample() got an unexpected keyword argument 'd'",
     "output_type": "error",
     "traceback": [
      "\u001b[1;31m---------------------------------------------------------------------------\u001b[0m",
      "\u001b[1;31mTypeError\u001b[0m                                 Traceback (most recent call last)",
      "\u001b[1;32mc:\\Users\\saipr\\OneDrive\\Documents\\rohith\\python_programs\\Functions\\Packing and Unpacking.ipynb Cell 14\u001b[0m line \u001b[0;36m4\n\u001b[0;32m      <a href='vscode-notebook-cell:/c%3A/Users/saipr/OneDrive/Documents/rohith/python_programs/Functions/Packing%20and%20Unpacking.ipynb#X24sZmlsZQ%3D%3D?line=1'>2</a>\u001b[0m \u001b[39mdef\u001b[39;00m \u001b[39msample\u001b[39m(a,b,c,D):\n\u001b[0;32m      <a href='vscode-notebook-cell:/c%3A/Users/saipr/OneDrive/Documents/rohith/python_programs/Functions/Packing%20and%20Unpacking.ipynb#X24sZmlsZQ%3D%3D?line=2'>3</a>\u001b[0m     \u001b[39mprint\u001b[39m(a,b,c,D)\n\u001b[1;32m----> <a href='vscode-notebook-cell:/c%3A/Users/saipr/OneDrive/Documents/rohith/python_programs/Functions/Packing%20and%20Unpacking.ipynb#X24sZmlsZQ%3D%3D?line=3'>4</a>\u001b[0m sample(\u001b[39m*\u001b[39m\u001b[39m*\u001b[39mt)\n",
      "\u001b[1;31mTypeError\u001b[0m: sample() got an unexpected keyword argument 'd'"
     ]
    }
   ],
   "source": [
    "t={\"a\":10,'b':20,'c':30,'d':40} #Unpacking of dictionary the keys are mismatched\n",
    "def sample(a,b,c,D):\n",
    "    print(a,b,c,D)\n",
    "sample(**t)"
   ]
  },
  {
   "cell_type": "code",
   "execution_count": 20,
   "metadata": {},
   "outputs": [
    {
     "ename": "TypeError",
     "evalue": "sample() got an unexpected keyword argument 'd'",
     "output_type": "error",
     "traceback": [
      "\u001b[1;31m---------------------------------------------------------------------------\u001b[0m",
      "\u001b[1;31mTypeError\u001b[0m                                 Traceback (most recent call last)",
      "\u001b[1;32mc:\\Users\\saipr\\OneDrive\\Documents\\rohith\\python_programs\\Functions\\Packing and Unpacking.ipynb Cell 15\u001b[0m line \u001b[0;36m4\n\u001b[0;32m      <a href='vscode-notebook-cell:/c%3A/Users/saipr/OneDrive/Documents/rohith/python_programs/Functions/Packing%20and%20Unpacking.ipynb#X25sZmlsZQ%3D%3D?line=1'>2</a>\u001b[0m \u001b[39mdef\u001b[39;00m \u001b[39msample\u001b[39m(a,b,c):\n\u001b[0;32m      <a href='vscode-notebook-cell:/c%3A/Users/saipr/OneDrive/Documents/rohith/python_programs/Functions/Packing%20and%20Unpacking.ipynb#X25sZmlsZQ%3D%3D?line=2'>3</a>\u001b[0m     \u001b[39mprint\u001b[39m(a,b,c)\n\u001b[1;32m----> <a href='vscode-notebook-cell:/c%3A/Users/saipr/OneDrive/Documents/rohith/python_programs/Functions/Packing%20and%20Unpacking.ipynb#X25sZmlsZQ%3D%3D?line=3'>4</a>\u001b[0m sample(\u001b[39m*\u001b[39m\u001b[39m*\u001b[39mt)\n",
      "\u001b[1;31mTypeError\u001b[0m: sample() got an unexpected keyword argument 'd'"
     ]
    }
   ],
   "source": [
    "t={\"a\":10,'b':20,'c':30,'d':40} #Unpacking when there are insufficient data items avaliable in function call-->error1\n",
    "def sample(a,b,c):\n",
    "    print(a,b,c)\n",
    "sample(**t)"
   ]
  },
  {
   "cell_type": "code",
   "execution_count": 21,
   "metadata": {},
   "outputs": [
    {
     "name": "stdout",
     "output_type": "stream",
     "text": [
      "10 20 30 {'d': 40}\n"
     ]
    }
   ],
   "source": [
    "t={\"a\":10,'b':20,'c':30,'d':40} #Unpacking when there are insufficient data items avaliable in function call-->solution1\n",
    "def sample(a,b,c,**args):\n",
    "    print(a,b,c,args)\n",
    "sample(**t)"
   ]
  },
  {
   "cell_type": "code",
   "execution_count": 23,
   "metadata": {},
   "outputs": [
    {
     "name": "stdout",
     "output_type": "stream",
     "text": [
      "10 20 30 40 None\n"
     ]
    }
   ],
   "source": [
    "t={\"a\":10,'b':20,'c':30,'d':40} #Unpacking when there are insufficient data items avaliable in function call-->solution1\n",
    "def sample(a,b,c,d,e=None):\n",
    "    print(a,b,c,d,e)\n",
    "sample(**t)"
   ]
  },
  {
   "cell_type": "markdown",
   "metadata": {},
   "source": [
    "Nested Function"
   ]
  },
  {
   "cell_type": "code",
   "execution_count": null,
   "metadata": {},
   "outputs": [],
   "source": [
    "def outer(x,y):\n",
    "    print(x,y)\n",
    "    def inner(m,n):\n",
    "        print(m,n)\n",
    "    inner(100,200)\n",
    "outer(10,20)"
   ]
  },
  {
   "cell_type": "code",
   "execution_count": 35,
   "metadata": {},
   "outputs": [
    {
     "name": "stdout",
     "output_type": "stream",
     "text": [
      "10 20\n",
      "<function outer.<locals>.inner at 0x0000015275E42290>\n",
      "100 200\n"
     ]
    }
   ],
   "source": [
    "def outer(x,y):\n",
    "    print(x,y)\n",
    "    def inner(m,n):\n",
    "        print(m,n)\n",
    "    return inner\n",
    "res=outer(10,20)\n",
    "print(res)\n",
    "res(100,200)"
   ]
  },
  {
   "cell_type": "code",
   "execution_count": 37,
   "metadata": {},
   "outputs": [
    {
     "name": "stdout",
     "output_type": "stream",
     "text": [
      "10 20\n",
      "<function outer.<locals>.inner at 0x0000015275EEC3A0>\n",
      "<function outer.<locals>.inner at 0x0000015275EEC3A0>\n",
      "100 200\n"
     ]
    }
   ],
   "source": [
    "def outer(x,y):\n",
    "    print(x,y)\n",
    "    def inner(m,n):\n",
    "        print(m,n)\n",
    "    print(inner)\n",
    "    return inner\n",
    "res=outer(10,20)\n",
    "print(res)\n",
    "res(100,200)"
   ]
  },
  {
   "cell_type": "code",
   "execution_count": 38,
   "metadata": {},
   "outputs": [
    {
     "name": "stdout",
     "output_type": "stream",
     "text": [
      "10 20\n",
      "100 200\n"
     ]
    }
   ],
   "source": [
    "def outer(x,y):\n",
    "    print(x,y)\n",
    "    def inner(m,n):\n",
    "        print(m,n)\n",
    "    inner(100,200)\n",
    "outer(10,20)"
   ]
  },
  {
   "cell_type": "code",
   "execution_count": 39,
   "metadata": {},
   "outputs": [
    {
     "name": "stdout",
     "output_type": "stream",
     "text": [
      "10 20\n"
     ]
    },
    {
     "ename": "NameError",
     "evalue": "name 'inner' is not defined",
     "output_type": "error",
     "traceback": [
      "\u001b[1;31m---------------------------------------------------------------------------\u001b[0m",
      "\u001b[1;31mNameError\u001b[0m                                 Traceback (most recent call last)",
      "\u001b[1;32mc:\\Users\\saipr\\OneDrive\\Documents\\rohith\\python_programs\\Functions\\Packing and Unpacking.ipynb Cell 23\u001b[0m line \u001b[0;36m7\n\u001b[0;32m      <a href='vscode-notebook-cell:/c%3A/Users/saipr/OneDrive/Documents/rohith/python_programs/Functions/Packing%20and%20Unpacking.ipynb#X41sZmlsZQ%3D%3D?line=3'>4</a>\u001b[0m         \u001b[39mprint\u001b[39m(m,n)\n\u001b[0;32m      <a href='vscode-notebook-cell:/c%3A/Users/saipr/OneDrive/Documents/rohith/python_programs/Functions/Packing%20and%20Unpacking.ipynb#X41sZmlsZQ%3D%3D?line=5'>6</a>\u001b[0m outer(\u001b[39m10\u001b[39m,\u001b[39m20\u001b[39m)\n\u001b[1;32m----> <a href='vscode-notebook-cell:/c%3A/Users/saipr/OneDrive/Documents/rohith/python_programs/Functions/Packing%20and%20Unpacking.ipynb#X41sZmlsZQ%3D%3D?line=6'>7</a>\u001b[0m inner(\u001b[39m100\u001b[39m,\u001b[39m200\u001b[39m)\n",
      "\u001b[1;31mNameError\u001b[0m: name 'inner' is not defined"
     ]
    }
   ],
   "source": [
    "def outer(x,y):\n",
    "    print(x,y)\n",
    "    def inner(m,n):\n",
    "        print(m,n)\n",
    "    \n",
    "outer(10,20)\n",
    "inner(100,200)"
   ]
  }
 ],
 "metadata": {
  "kernelspec": {
   "display_name": "Python 3",
   "language": "python",
   "name": "python3"
  },
  "language_info": {
   "codemirror_mode": {
    "name": "ipython",
    "version": 3
   },
   "file_extension": ".py",
   "mimetype": "text/x-python",
   "name": "python",
   "nbconvert_exporter": "python",
   "pygments_lexer": "ipython3",
   "version": "3.10.9"
  }
 },
 "nbformat": 4,
 "nbformat_minor": 2
}
