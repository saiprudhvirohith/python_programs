{
 "cells": [
  {
   "cell_type": "code",
   "execution_count": 2,
   "metadata": {},
   "outputs": [
    {
     "name": "stdout",
     "output_type": "stream",
     "text": [
      "2454607007296 {'a', 'c', 'b'}\n",
      "2454607007296 {'a', 'c', 'd', 'b'}\n"
     ]
    }
   ],
   "source": [
    "s={'a','b','c'}\n",
    "print(id(s),s)\n",
    "s.add(\"d\")\n",
    "print(id(s),s)"
   ]
  },
  {
   "cell_type": "code",
   "execution_count": 3,
   "metadata": {},
   "outputs": [
    {
     "name": "stdout",
     "output_type": "stream",
     "text": [
      "2454607007744 {'a', 'c', 'b'}\n",
      "2454607007744 {'a', 'c', 'd', 'b'}\n"
     ]
    }
   ],
   "source": [
    "s={'a','b','c'}\n",
    "print(id(s),s)\n",
    "\n",
    "def Add(col,ele):\n",
    "    if type(col)!=set:\n",
    "        return -1\n",
    "    if type(ele) in [list,set,dict]:\n",
    "        return -1\n",
    "    col|={ele}\n",
    "Add(s,\"d\")\n",
    "print(id(s),s)"
   ]
  },
  {
   "cell_type": "code",
   "execution_count": 4,
   "metadata": {},
   "outputs": [
    {
     "name": "stdout",
     "output_type": "stream",
     "text": [
      "2454607007296 {'a', 'c', 'b'}\n",
      "2454607007296 set()\n"
     ]
    }
   ],
   "source": [
    "s={'a','b','c'}\n",
    "print(id(s),s)\n",
    "s.clear()\n",
    "print(id(s),s)"
   ]
  },
  {
   "cell_type": "code",
   "execution_count": 5,
   "metadata": {},
   "outputs": [
    {
     "name": "stdout",
     "output_type": "stream",
     "text": [
      "2454628490976 {'a', 'c', 'b'}\n",
      "2454628490976 set()\n"
     ]
    }
   ],
   "source": [
    "s={'a','b','c'}\n",
    "print(id(s),s)\n",
    "\n",
    "def Clear(col):\n",
    "    if type(col)!=set:\n",
    "        return -1\n",
    "    col-=col\n",
    "Clear(s)\n",
    "print(id(s),s)"
   ]
  },
  {
   "cell_type": "code",
   "execution_count": 1,
   "metadata": {},
   "outputs": [
    {
     "name": "stdout",
     "output_type": "stream",
     "text": [
      "2265683119232 {'c', 'b', 'a'}\n",
      "2265683119232 {'b', 'a'}\n"
     ]
    }
   ],
   "source": [
    "s={'a','b','c'}\n",
    "print(id(s),s)\n",
    "s.pop()\n",
    "print(id(s),s)"
   ]
  },
  {
   "cell_type": "code",
   "execution_count": 3,
   "metadata": {},
   "outputs": [
    {
     "name": "stdout",
     "output_type": "stream",
     "text": [
      "2265704619296 {'c', 'b', 'a'}\n",
      "2265704619296 {'b', 'a'}\n"
     ]
    }
   ],
   "source": [
    "s={'a','b','c'}\n",
    "print(id(s),s)\n",
    "\n",
    "def Pop(col):\n",
    "    if type(col)!=set:\n",
    "        return -1\n",
    "    n=list(col)[0]\n",
    "    col-={n}\n",
    "Pop(s)\n",
    "print(id(s),s)\n",
    "    "
   ]
  },
  {
   "cell_type": "code",
   "execution_count": 4,
   "metadata": {},
   "outputs": [
    {
     "name": "stdout",
     "output_type": "stream",
     "text": [
      "2265704621088 {'c', 'b', 'a'}\n",
      "2265704621088 {'c', 'a'}\n"
     ]
    }
   ],
   "source": [
    "s={'a','b','c'}\n",
    "print(id(s),s)\n",
    "s.remove(\"b\")\n",
    "print(id(s),s)"
   ]
  },
  {
   "cell_type": "code",
   "execution_count": 8,
   "metadata": {},
   "outputs": [
    {
     "name": "stdout",
     "output_type": "stream",
     "text": [
      "2265704619296 {'c', 'b', 'a'}\n",
      "-1\n",
      "2265704619296 {'c', 'b', 'a'}\n"
     ]
    }
   ],
   "source": [
    "s={'a','b','c'}\n",
    "print(id(s),s)\n",
    "\n",
    "def Remove(col,ele):\n",
    "    if type(col)!=set or ele not in col:\n",
    "        return -1\n",
    "    col-={ele}\n",
    "print(Remove(s,'x'))\n",
    "print(id(s),s)"
   ]
  },
  {
   "cell_type": "code",
   "execution_count": 9,
   "metadata": {},
   "outputs": [
    {
     "name": "stdout",
     "output_type": "stream",
     "text": [
      "2265704621760 {'c', 'b', 'a'}\n",
      "2265704621760 {'c', 'b', 'a'}\n"
     ]
    }
   ],
   "source": [
    "s={'a','b','c'}\n",
    "print(id(s),s)\n",
    "s.discard(\"z\")\n",
    "print(id(s),s)"
   ]
  },
  {
   "cell_type": "code",
   "execution_count": 11,
   "metadata": {},
   "outputs": [
    {
     "name": "stdout",
     "output_type": "stream",
     "text": [
      "2265704621984 {'c', 'b', 'a'}\n",
      "2265704621984 {'c', 'b', 'a'}\n"
     ]
    }
   ],
   "source": [
    "s={'a','b','c'}\n",
    "print(id(s),s)\n",
    "\n",
    "def Discard(col,ele):\n",
    "    if type(col)!=set:\n",
    "        return -1\n",
    "    col-={ele}\n",
    "Discard(s,'x')\n",
    "print(id(s),s)"
   ]
  },
  {
   "cell_type": "code",
   "execution_count": 15,
   "metadata": {},
   "outputs": [
    {
     "data": {
      "text/plain": [
       "True"
      ]
     },
     "execution_count": 15,
     "metadata": {},
     "output_type": "execute_result"
    }
   ],
   "source": [
    "s={'a','b','d','c'}\n",
    "p={'a','b','c'}\n",
    "s.issuperset(p)"
   ]
  },
  {
   "cell_type": "code",
   "execution_count": 17,
   "metadata": {},
   "outputs": [
    {
     "data": {
      "text/plain": [
       "True"
      ]
     },
     "execution_count": 17,
     "metadata": {},
     "output_type": "execute_result"
    }
   ],
   "source": [
    "s={'a','b','c'}\n",
    "p={'a','b','c'}\n",
    "\n",
    "def Issuperset(col1,col2):\n",
    "    if type(col1)!=set and type(col2)!=set:\n",
    "        return -1\n",
    "    for i in col2:\n",
    "        if i not in col1:\n",
    "            return False\n",
    "    return True\n",
    "Issuperset(s,p)"
   ]
  },
  {
   "cell_type": "code",
   "execution_count": 21,
   "metadata": {},
   "outputs": [
    {
     "data": {
      "text/plain": [
       "True"
      ]
     },
     "execution_count": 21,
     "metadata": {},
     "output_type": "execute_result"
    }
   ],
   "source": [
    "s={'a','b',\"c\"}\n",
    "p={'a','b','c','d'}\n",
    "s.issubset(p)"
   ]
  },
  {
   "cell_type": "code",
   "execution_count": 22,
   "metadata": {},
   "outputs": [
    {
     "data": {
      "text/plain": [
       "True"
      ]
     },
     "execution_count": 22,
     "metadata": {},
     "output_type": "execute_result"
    }
   ],
   "source": [
    "s={'a','b',\"c\"}\n",
    "p={'a','b','c','d'}\n",
    "\n",
    "def Issubset(col1,col2):\n",
    "    if type(col1)!=set and type(col2)!=set:\n",
    "        return -1\n",
    "    for i in col1:\n",
    "        if i not in col2:\n",
    "            return False\n",
    "    return True\n",
    "Issubset(s,p)"
   ]
  },
  {
   "cell_type": "code",
   "execution_count": 26,
   "metadata": {},
   "outputs": [
    {
     "data": {
      "text/plain": [
       "True"
      ]
     },
     "execution_count": 26,
     "metadata": {},
     "output_type": "execute_result"
    }
   ],
   "source": [
    "s={'a','b',\"c\"}\n",
    "p={\"d\",'e','f'}\n",
    "s.isdisjoint(p)"
   ]
  },
  {
   "cell_type": "code",
   "execution_count": 30,
   "metadata": {},
   "outputs": [
    {
     "data": {
      "text/plain": [
       "True"
      ]
     },
     "execution_count": 30,
     "metadata": {},
     "output_type": "execute_result"
    }
   ],
   "source": [
    "s={'a','b',\"c\",}\n",
    "p={\"d\",'e','f'}\n",
    "\n",
    "def Issubset(col1,col2):\n",
    "    if type(col1)!=set and type(col2)!=set:\n",
    "        return -1\n",
    "    for i in col2:\n",
    "        if i in col1:\n",
    "            return False\n",
    "    return True\n",
    "Issubset(s,p)"
   ]
  }
 ],
 "metadata": {
  "kernelspec": {
   "display_name": "Python 3",
   "language": "python",
   "name": "python3"
  },
  "language_info": {
   "codemirror_mode": {
    "name": "ipython",
    "version": 3
   },
   "file_extension": ".py",
   "mimetype": "text/x-python",
   "name": "python",
   "nbconvert_exporter": "python",
   "pygments_lexer": "ipython3",
   "version": "3.10.9"
  },
  "orig_nbformat": 4
 },
 "nbformat": 4,
 "nbformat_minor": 2
}
