{
 "cells": [
  {
   "cell_type": "code",
   "execution_count": 1,
   "metadata": {},
   "outputs": [
    {
     "name": "stdout",
     "output_type": "stream",
     "text": [
      "5\n",
      "10\n"
     ]
    }
   ],
   "source": [
    "def add(x,y):\n",
    "    z=x+y\n",
    "    return z\n",
    "add(1,2)\n",
    "print(add(2,3))\n",
    "print(add(5,5))"
   ]
  },
  {
   "cell_type": "code",
   "execution_count": 4,
   "metadata": {},
   "outputs": [
    {
     "name": "stdout",
     "output_type": "stream",
     "text": [
      "<function sample at 0x000001A64F412C20>\n"
     ]
    }
   ],
   "source": [
    "def sample():\n",
    "    print(\"Hello\")\n",
    "print(sample)"
   ]
  },
  {
   "cell_type": "code",
   "execution_count": 5,
   "metadata": {},
   "outputs": [
    {
     "name": "stdout",
     "output_type": "stream",
     "text": [
      "20\n",
      "None\n"
     ]
    }
   ],
   "source": [
    "def s():\n",
    "    a=10\n",
    "    b=10\n",
    "    c=a+b\n",
    "    print(c)\n",
    "print(s())"
   ]
  },
  {
   "cell_type": "code",
   "execution_count": 6,
   "metadata": {},
   "outputs": [
    {
     "name": "stdout",
     "output_type": "stream",
     "text": [
      "20\n"
     ]
    }
   ],
   "source": [
    "def s():\n",
    "    a=10\n",
    "    b=10\n",
    "    c=a+b\n",
    "    print(c)\n",
    "s()"
   ]
  },
  {
   "cell_type": "code",
   "execution_count": 7,
   "metadata": {},
   "outputs": [
    {
     "name": "stdout",
     "output_type": "stream",
     "text": [
      "20\n"
     ]
    }
   ],
   "source": [
    "def mul(a,b):\n",
    "    c=a*b\n",
    "    print(c)\n",
    "mul(10,2)"
   ]
  },
  {
   "cell_type": "code",
   "execution_count": 8,
   "metadata": {},
   "outputs": [
    {
     "ename": "TypeError",
     "evalue": "mul() missing 2 required positional arguments: 'a' and 'b'",
     "output_type": "error",
     "traceback": [
      "\u001b[1;31m---------------------------------------------------------------------------\u001b[0m",
      "\u001b[1;31mTypeError\u001b[0m                                 Traceback (most recent call last)",
      "\u001b[1;32mc:\\Users\\saipr\\OneDrive\\Documents\\rohith\\python_programs\\Functions\\Programs.ipynb Cell 6\u001b[0m line \u001b[0;36m4\n\u001b[0;32m      <a href='vscode-notebook-cell:/c%3A/Users/saipr/OneDrive/Documents/rohith/python_programs/Functions/Programs.ipynb#W6sZmlsZQ%3D%3D?line=1'>2</a>\u001b[0m     c\u001b[39m=\u001b[39ma\u001b[39m*\u001b[39mb\n\u001b[0;32m      <a href='vscode-notebook-cell:/c%3A/Users/saipr/OneDrive/Documents/rohith/python_programs/Functions/Programs.ipynb#W6sZmlsZQ%3D%3D?line=2'>3</a>\u001b[0m     \u001b[39mprint\u001b[39m(c)\n\u001b[1;32m----> <a href='vscode-notebook-cell:/c%3A/Users/saipr/OneDrive/Documents/rohith/python_programs/Functions/Programs.ipynb#W6sZmlsZQ%3D%3D?line=3'>4</a>\u001b[0m mul()\n",
      "\u001b[1;31mTypeError\u001b[0m: mul() missing 2 required positional arguments: 'a' and 'b'"
     ]
    }
   ],
   "source": [
    "def mul(a,b):\n",
    "    c=a*b\n",
    "    print(c)\n",
    "mul()"
   ]
  },
  {
   "cell_type": "code",
   "execution_count": 12,
   "metadata": {},
   "outputs": [
    {
     "name": "stdout",
     "output_type": "stream",
     "text": [
      "20\n"
     ]
    }
   ],
   "source": [
    "def mul(a=10,b=2):\n",
    "    c=a*b\n",
    "    print(c)\n",
    "mul()"
   ]
  },
  {
   "cell_type": "code",
   "execution_count": 13,
   "metadata": {},
   "outputs": [
    {
     "data": {
      "text/plain": [
       "0"
      ]
     },
     "execution_count": 13,
     "metadata": {},
     "output_type": "execute_result"
    }
   ],
   "source": [
    "def mod():\n",
    "    a=2\n",
    "    b=10\n",
    "    c=b%a\n",
    "    return c\n",
    "mod()"
   ]
  },
  {
   "cell_type": "code",
   "execution_count": 14,
   "metadata": {},
   "outputs": [
    {
     "name": "stdout",
     "output_type": "stream",
     "text": [
      "0\n",
      "10\n"
     ]
    }
   ],
   "source": [
    "def mod():\n",
    "    a=2\n",
    "    b=10\n",
    "    c=b%a\n",
    "    return c\n",
    "res=mod()\n",
    "print(res)\n",
    "res+=10\n",
    "print(res)"
   ]
  },
  {
   "cell_type": "code",
   "execution_count": 1,
   "metadata": {},
   "outputs": [
    {
     "data": {
      "text/plain": [
       "'HELLO HAII 123 !@#'"
      ]
     },
     "execution_count": 1,
     "metadata": {},
     "output_type": "execute_result"
    }
   ],
   "source": [
    "\"Hello HaII 123 !@#\".upper()"
   ]
  },
  {
   "cell_type": "code",
   "execution_count": 2,
   "metadata": {},
   "outputs": [
    {
     "name": "stdout",
     "output_type": "stream",
     "text": [
      "HELLO HAII 123 !@#\n"
     ]
    }
   ],
   "source": [
    "st=\"Hello HaII 123 !@#\"\n",
    "res=\"\"\n",
    "for i in st:\n",
    "    if \"a\"<=i<=\"z\":\n",
    "        res+=chr(ord(i)-32)\n",
    "    else:\n",
    "        res+=i\n",
    "print(res)"
   ]
  },
  {
   "cell_type": "code",
   "execution_count": 3,
   "metadata": {},
   "outputs": [
    {
     "name": "stdout",
     "output_type": "stream",
     "text": [
      "HELLO HAII 123 !@#\n"
     ]
    }
   ],
   "source": [
    "def Upper():\n",
    "    st=\"Hello HaII 123 !@#\"\n",
    "    res=\"\"\n",
    "    for i in st:\n",
    "        if \"a\"<=i<=\"z\":\n",
    "            res+=chr(ord(i)-32)\n",
    "        else:\n",
    "            res+=i\n",
    "    print(res)\n",
    "Upper()"
   ]
  },
  {
   "cell_type": "code",
   "execution_count": 5,
   "metadata": {},
   "outputs": [
    {
     "name": "stdout",
     "output_type": "stream",
     "text": [
      "HELLO HAII 123 !@#\n",
      "I LOVE INDIA\n"
     ]
    }
   ],
   "source": [
    "x=\"Hello HaII 123 !@#\"\n",
    "def Upper(st):\n",
    "    res=\"\"\n",
    "    for i in st:\n",
    "        if \"a\"<=i<=\"z\":\n",
    "            res+=chr(ord(i)-32)\n",
    "        else:\n",
    "            res+=i\n",
    "    print(res)\n",
    "Upper(x)\n"
   ]
  },
  {
   "cell_type": "code",
   "execution_count": 8,
   "metadata": {},
   "outputs": [
    {
     "data": {
      "text/plain": [
       "'I LOVE INDIA'"
      ]
     },
     "execution_count": 8,
     "metadata": {},
     "output_type": "execute_result"
    }
   ],
   "source": [
    "x=\"Hello HaII 123 !@#\"\n",
    "def Upper(st):\n",
    "    res=\"\"\n",
    "    for i in st:\n",
    "        if \"a\"<=i<=\"z\":\n",
    "            res+=chr(ord(i)-32)\n",
    "        else:\n",
    "            res+=i\n",
    "    return res\n",
    "Upper(x)\n",
    "Upper(\"I love india\")"
   ]
  },
  {
   "cell_type": "code",
   "execution_count": 9,
   "metadata": {},
   "outputs": [
    {
     "name": "stdout",
     "output_type": "stream",
     "text": [
      "HELLO HAII 123 !@#\n"
     ]
    }
   ],
   "source": [
    "x=\"Hello HaII 123 !@#\"\n",
    "def Upper(st):\n",
    "    res=\"\"\n",
    "    for i in st:\n",
    "        if \"a\"<=i<=\"z\":\n",
    "            res+=chr(ord(i)-32)\n",
    "        else:\n",
    "            res+=i\n",
    "    return res\n",
    "temp=Upper(x)\n",
    "print(temp)"
   ]
  },
  {
   "cell_type": "code",
   "execution_count": 27,
   "metadata": {},
   "outputs": [
    {
     "name": "stdout",
     "output_type": "stream",
     "text": [
      "9\n"
     ]
    }
   ],
   "source": [
    "l=[10,20,30,40,50,60,10,50,20,10]\n",
    "def sample(coll,ele,occur=1,start=0,end=0):\n",
    "    if start<0:\n",
    "        start=len(coll)+start\n",
    "    if end<0:\n",
    "        end=len(coll)+end\n",
    "    if end==0:\n",
    "        end=len(coll)\n",
    "    count=0\n",
    "    for i in range(start,end):\n",
    "        if coll[i]==ele:\n",
    "            count+=1\n",
    "            if count==occur:\n",
    "                return i\n",
    "    return -1\n",
    "print(sample(l,10,3,0,10))"
   ]
  },
  {
   "cell_type": "code",
   "execution_count": 17,
   "metadata": {},
   "outputs": [
    {
     "name": "stdout",
     "output_type": "stream",
     "text": [
      "Hello world @123\n"
     ]
    },
    {
     "data": {
      "text/plain": [
       "'Hello world @123'"
      ]
     },
     "execution_count": 17,
     "metadata": {},
     "output_type": "execute_result"
    }
   ],
   "source": [
    "st=\"Hello World @123\"\n",
    "n=st.capitalize()\n",
    "print(n)\n",
    "def cap(name):\n",
    "    res=\"\"\n",
    "    if \"a\"<=name[0]<=\"Z\":\n",
    "        res+=chr(ord(name[0])-32)\n",
    "    else:\n",
    "        res+=name[0]\n",
    "    for i in range(1,len(name)):\n",
    "        if \"A\"<=name[i]<=\"Z\":\n",
    "            res+=chr(ord(name[i])+32)\n",
    "        else:\n",
    "            res+=name[i]\n",
    "    return res\n",
    "cap(st)"
   ]
  },
  {
   "cell_type": "code",
   "execution_count": 24,
   "metadata": {},
   "outputs": [
    {
     "name": "stdout",
     "output_type": "stream",
     "text": [
      "hello world @123\n"
     ]
    },
    {
     "data": {
      "text/plain": [
       "'hello world @123'"
      ]
     },
     "execution_count": 24,
     "metadata": {},
     "output_type": "execute_result"
    }
   ],
   "source": [
    "st=\"Hello WorlD @123\"\n",
    "m=st.casefold()\n",
    "print(m)\n",
    "def cas(name):\n",
    "    res=\"\"\n",
    "    for i in range(0,len(name)):\n",
    "        if \"A\"<=name[i]<=\"Z\":\n",
    "            res+=chr(ord(name[i])+32)\n",
    "        else:\n",
    "            res+=name[i]\n",
    "    return res\n",
    "cas(st)"
   ]
  },
  {
   "cell_type": "code",
   "execution_count": 25,
   "metadata": {},
   "outputs": [
    {
     "name": "stdout",
     "output_type": "stream",
     "text": [
      "HELLO WORLD @123\n"
     ]
    },
    {
     "data": {
      "text/plain": [
       "'HELLO WORLD @123'"
      ]
     },
     "execution_count": 25,
     "metadata": {},
     "output_type": "execute_result"
    }
   ],
   "source": [
    "st=\"Hello WorlD @123\"\n",
    "n=st.upper()\n",
    "print(n)\n",
    "def up(name):\n",
    "    res=\"\"\n",
    "    for i in range(0,len(name)):\n",
    "        if \"a\"<=name[i]<=\"z\":\n",
    "            res+=chr(ord(name[i])-32)\n",
    "        else:\n",
    "            res+=name[i]\n",
    "    return res\n",
    "up(st)"
   ]
  },
  {
   "cell_type": "code",
   "execution_count": 28,
   "metadata": {},
   "outputs": [
    {
     "name": "stdout",
     "output_type": "stream",
     "text": [
      "hello world @123\n"
     ]
    },
    {
     "data": {
      "text/plain": [
       "'hello world @123'"
      ]
     },
     "execution_count": 28,
     "metadata": {},
     "output_type": "execute_result"
    }
   ],
   "source": [
    "st=\"Hello WorlD @123\"\n",
    "m=st.lower()\n",
    "print(m)\n",
    "def lo(name):\n",
    "    res=\"\"\n",
    "    for i in range(0,len(name)):\n",
    "        if \"A\"<=name[i]<=\"Z\":\n",
    "            res+=chr(ord(name[i])+32)\n",
    "        else:\n",
    "            res+=name[i]\n",
    "    return res\n",
    "lo(st)"
   ]
  },
  {
   "cell_type": "code",
   "execution_count": 27,
   "metadata": {},
   "outputs": [
    {
     "name": "stdout",
     "output_type": "stream",
     "text": [
      "hELLO wORLd @123\n"
     ]
    },
    {
     "data": {
      "text/plain": [
       "'hELLO wORLd @123'"
      ]
     },
     "execution_count": 27,
     "metadata": {},
     "output_type": "execute_result"
    }
   ],
   "source": [
    "st=\"Hello WorlD @123\"\n",
    "m=st.swapcase()\n",
    "print(m)\n",
    "def sc(name):\n",
    "    res=\"\"\n",
    "    for i in range(0,len(name)):\n",
    "        if \"A\"<=name[i]<=\"Z\":\n",
    "            res+=chr(ord(name[i])+32)\n",
    "        elif \"a\"<=name[i]<=\"z\":\n",
    "            res+=chr(ord(name[i])-32)\n",
    "        else:\n",
    "            res+=name[i]\n",
    "    return res\n",
    "sc(st)"
   ]
  },
  {
   "cell_type": "code",
   "execution_count": 32,
   "metadata": {},
   "outputs": [
    {
     "name": "stdout",
     "output_type": "stream",
     "text": [
      "@Hello World123Abc $Xyz Ijkl\n"
     ]
    },
    {
     "data": {
      "text/plain": [
       "'@Hello World123Abc $Xyz Ijkl'"
      ]
     },
     "execution_count": 32,
     "metadata": {},
     "output_type": "execute_result"
    }
   ],
   "source": [
    "st=\"HELLo World123ABC $XYZ IJKL\"\n",
    "n=st.title()\n",
    "print(n)\n",
    "def tit(name):\n",
    "    i=1\n",
    "    res=''\n",
    "    if \"a\"<=name[0]<=\"z\":\n",
    "            res+=chr(ord(name[0])-32)\n",
    "    else:\n",
    "        res+=name[0]\n",
    "    while i<len(name):\n",
    "        if 'a'<=name[i]<='z' and name[i-1]==' ':\n",
    "            res+=chr(ord(name[i])-32)\n",
    "        elif 'A'<=name[i]<='Z' and name[i-1]==' ':\n",
    "            res+=name[i]\n",
    "        elif 'a'<=name[i]<='z' and  not('a'<=name[i-1]<=\"z\" or \"A\"<=name[i-1]<=\"Z\" or name[i-1]==' '):\n",
    "            res+=chr(ord(name[i])-32)\n",
    "        elif 'A'<=name[i]<='Z' and  not('a'<=name[i-1]<=\"z\" or \"A\"<=name[i-1]<=\"Z\" or name[i-1]==' '):\n",
    "            res+=name[i]\n",
    "        elif \"A\"<=name[i]<=\"Z\":\n",
    "            res+=chr(ord(name[i])+32)\n",
    "        else:\n",
    "            res+=name[i]\n",
    "        i+=1\n",
    "    return res\n",
    "tit(st)"
   ]
  },
  {
   "cell_type": "code",
   "execution_count": 46,
   "metadata": {},
   "outputs": [
    {
     "name": "stdout",
     "output_type": "stream",
     "text": [
      "--------abc---------\n",
      "20\n",
      "--------abc---------\n",
      "20\n"
     ]
    }
   ],
   "source": [
    "st=\"abc\"\n",
    "m=st.center(20,'-')\n",
    "print(m)\n",
    "print(len(m))\n",
    "def cen(col,width,fill_char=\" \"):\n",
    "    res=\"\"\n",
    "    num=width-len(col)\n",
    "    start=num//2\n",
    "    end=num-start\n",
    "    res+=(fill_char*start)+col+(fill_char*end)\n",
    "    return res\n",
    "r=cen(st,20,\"-\")\n",
    "print(r)\n",
    "print(len(r))"
   ]
  },
  {
   "cell_type": "code",
   "execution_count": 48,
   "metadata": {},
   "outputs": [
    {
     "name": "stdout",
     "output_type": "stream",
     "text": [
      "--------abc---------\n",
      "20\n",
      "--------abc---------\n",
      "20\n"
     ]
    }
   ],
   "source": [
    "st=\"abc\"\n",
    "m=st.center(20,'-')\n",
    "print(m)\n",
    "print(len(m))\n",
    "def cen(col,width,fill_char=\" \"):\n",
    "    if len(fill_char)>1:\n",
    "        return \"TypeError: The fill character must be exactly one character long\"\n",
    "    res=\"\"\n",
    "    num=width-len(col)\n",
    "    start=num//2\n",
    "    end=num-start\n",
    "    res+=(fill_char*start)+col+(fill_char*end)\n",
    "    return res\n",
    "r=cen(st,20,\"-\")\n",
    "print(r)\n",
    "print(len(r))"
   ]
  },
  {
   "cell_type": "code",
   "execution_count": 50,
   "metadata": {},
   "outputs": [
    {
     "name": "stdout",
     "output_type": "stream",
     "text": [
      "--------abc---------\n",
      "--------abc---------\n"
     ]
    }
   ],
   "source": [
    "st=\"abc\"\n",
    "m=st.center(20,'-')\n",
    "print(m)\n",
    "def cen(col,width,fill_char=\" \"):\n",
    "    if len(fill_char)>1:\n",
    "        raise TypeError(\"The fill character must be exactly one character long\")\n",
    "    res=\"\"\n",
    "    num=width-len(col)\n",
    "    start=num//2\n",
    "    end=num-start\n",
    "    res+=(fill_char*start)+col+(fill_char*end)\n",
    "    return res\n",
    "r=cen(st,20,\"-\")\n",
    "print(r)"
   ]
  },
  {
   "cell_type": "code",
   "execution_count": 44,
   "metadata": {},
   "outputs": [
    {
     "name": "stdout",
     "output_type": "stream",
     "text": [
      "--------abc---------\n",
      "-1\n"
     ]
    }
   ],
   "source": [
    "st=\"abc\"\n",
    "m=st.center(20,'-')\n",
    "print(m)\n",
    "def cen(col,width,fill_char=\" \"):\n",
    "    if len(fill_char)>1:\n",
    "        return -1\n",
    "    res=\"\"\n",
    "    num=width-len(col)\n",
    "    start=num//2\n",
    "    end=num-start\n",
    "    res+=(fill_char*start)+col+(fill_char*end)\n",
    "    return res\n",
    "r=cen(st,20,\"--\")\n",
    "print(r)"
   ]
  },
  {
   "cell_type": "code",
   "execution_count": 55,
   "metadata": {},
   "outputs": [
    {
     "name": "stdout",
     "output_type": "stream",
     "text": [
      "True\n",
      "True\n"
     ]
    }
   ],
   "source": [
    "st=\"@Hello World123Abc $Xyz Ijkl\"\n",
    "n=st.istitle()\n",
    "print(n)\n",
    "\n",
    "def is_tit(name):\n",
    "    if \"a\"<=name[0]<=\"z\":\n",
    "        return False\n",
    "    i=0\n",
    "    while i<len(name):\n",
    "        if not (\"A\"<=name[i]<=\"Z\" or \"a\"<=name[i]<=\"z\"):\n",
    "            if \"a\"<=name[i+1]<=\"z\":\n",
    "                return False\n",
    "        i+=1\n",
    "    return True\n",
    "m=is_tit(st)\n",
    "print(m)"
   ]
  },
  {
   "cell_type": "code",
   "execution_count": 65,
   "metadata": {},
   "outputs": [
    {
     "name": "stdout",
     "output_type": "stream",
     "text": [
      "True\n",
      "True\n"
     ]
    }
   ],
   "source": [
    "st=\"HELLO WORLD\"\n",
    "m=st.isupper()\n",
    "print(m)\n",
    "\n",
    "def is_up(name):\n",
    "    for i in name:\n",
    "        if \"a\"<=i<=\"z\":\n",
    "            return False\n",
    "    return True\n",
    "n=is_up(st)\n",
    "print(n)"
   ]
  },
  {
   "cell_type": "code",
   "execution_count": 71,
   "metadata": {},
   "outputs": [
    {
     "name": "stdout",
     "output_type": "stream",
     "text": [
      "True\n",
      "True\n"
     ]
    }
   ],
   "source": [
    "st=\"hello world\"\n",
    "m=st.islower()\n",
    "print(m)\n",
    "\n",
    "def is_up(name):\n",
    "    for i in name:\n",
    "        if \"A\"<=i<=\"Z\":\n",
    "            return False\n",
    "    return True\n",
    "n=is_up(st)\n",
    "print(n)"
   ]
  },
  {
   "cell_type": "code",
   "execution_count": 79,
   "metadata": {},
   "outputs": [
    {
     "name": "stdout",
     "output_type": "stream",
     "text": [
      "True\n",
      "True\n"
     ]
    }
   ],
   "source": [
    "st=\"helloworld\"\n",
    "m=st.isalpha()\n",
    "print(m)\n",
    "\n",
    "def is_up(name):\n",
    "    for i in name:\n",
    "        if not (\"A\"<=i<=\"Z\" or \"a\"<=i<=\"z\"):\n",
    "            return False\n",
    "    return True\n",
    "n=is_up(st)\n",
    "print(n)"
   ]
  },
  {
   "cell_type": "code",
   "execution_count": 87,
   "metadata": {},
   "outputs": [
    {
     "name": "stdout",
     "output_type": "stream",
     "text": [
      "True\n",
      "True\n"
     ]
    }
   ],
   "source": [
    "st=\"helloworld123\"\n",
    "m=st.isalnum()\n",
    "print(m)\n",
    "\n",
    "def is_up(name):\n",
    "    for i in name:\n",
    "        if not (\"A\"<=i<=\"Z\" or \"a\"<=i<=\"z\" or \"0\"<=i<=\"9\"):\n",
    "            return False\n",
    "    return True\n",
    "n=is_up(st)\n",
    "print(n)"
   ]
  },
  {
   "cell_type": "code",
   "execution_count": 94,
   "metadata": {},
   "outputs": [
    {
     "name": "stdout",
     "output_type": "stream",
     "text": [
      "True\n",
      "True\n"
     ]
    }
   ],
   "source": [
    "st=\"1235\"\n",
    "m=st.isnumeric()\n",
    "print(m)\n",
    "\n",
    "def is_up(name):\n",
    "    for i in name:\n",
    "        if not (\"0\"<=i<=\"9\"):\n",
    "            return False\n",
    "    return True\n",
    "n=is_up(st)\n",
    "print(n)"
   ]
  },
  {
   "cell_type": "code",
   "execution_count": 100,
   "metadata": {},
   "outputs": [
    {
     "name": "stdout",
     "output_type": "stream",
     "text": [
      "True\n",
      "True\n"
     ]
    }
   ],
   "source": [
    "st=\"1235\"\n",
    "m=st.isdecimal()\n",
    "print(m)\n",
    "\n",
    "def is_up(name):\n",
    "    for i in name:\n",
    "        if not (\"0\"<=i<=\"9\"):\n",
    "            return False\n",
    "    return True\n",
    "n=is_up(st)\n",
    "print(n)"
   ]
  },
  {
   "cell_type": "code",
   "execution_count": 103,
   "metadata": {},
   "outputs": [
    {
     "name": "stdout",
     "output_type": "stream",
     "text": [
      "True\n",
      "True\n"
     ]
    }
   ],
   "source": [
    "st=\"1235\"\n",
    "m=st.isdigit()\n",
    "print(m)\n",
    "\n",
    "def is_up(name):\n",
    "    for i in name:\n",
    "        if not (\"0\"<=i<=\"9\"):\n",
    "            return False\n",
    "    return True\n",
    "n=is_up(st)\n",
    "print(n)"
   ]
  },
  {
   "cell_type": "code",
   "execution_count": 15,
   "metadata": {},
   "outputs": [
    {
     "name": "stdout",
     "output_type": "stream",
     "text": [
      "True\n",
      "True\n"
     ]
    }
   ],
   "source": [
    "st=\"HelloWorld\"\n",
    "m=st.isidentifier()\n",
    "print(m)\n",
    "\n",
    "def is_id(name):\n",
    "    if \"0\"<=name[0]<=\"9\":\n",
    "        return False\n",
    "    for i in name:\n",
    "        if not (\"A\"<=i<=\"Z\" or \"a\"<=i<=\"z\" or \"0\"<=i<=\"9\" or i==\"_\"):\n",
    "            return False\n",
    "    return True\n",
    "n=is_id(st)\n",
    "print(n)"
   ]
  },
  {
   "cell_type": "code",
   "execution_count": 26,
   "metadata": {},
   "outputs": [
    {
     "name": "stdout",
     "output_type": "stream",
     "text": [
      "True\n",
      "True\n"
     ]
    }
   ],
   "source": [
    "st=\"      \"\n",
    "m=st.isspace()\n",
    "print(m)\n",
    "\n",
    "def is_sp(name):\n",
    "    for i in name:\n",
    "        if i!=\" \":\n",
    "            return False\n",
    "    return True\n",
    "n=is_sp(st)\n",
    "print(n)"
   ]
  },
  {
   "cell_type": "code",
   "execution_count": 37,
   "metadata": {},
   "outputs": [
    {
     "name": "stdout",
     "output_type": "stream",
     "text": [
      "ab__bc__cd__de\n",
      "ab__bc__cd__de\n"
     ]
    }
   ],
   "source": [
    "li=[\"ab\",'bc','cd','de']\n",
    "m=(\"__\".join(li))\n",
    "print(m)\n",
    "\n",
    "def Join(col,sep=\"\"):\n",
    "    for i in col:\n",
    "        if type(i)!=str:\n",
    "            return False\n",
    "    res=\"\"\n",
    "    for i in col:\n",
    "        res=res+i+sep\n",
    "    if sep==\"\":\n",
    "        return res\n",
    "    else:\n",
    "        return res[:-(len(sep))]\n",
    "n=Join(li,\"__\")\n",
    "print(n)"
   ]
  }
 ],
 "metadata": {
  "kernelspec": {
   "display_name": "Python 3",
   "language": "python",
   "name": "python3"
  },
  "language_info": {
   "codemirror_mode": {
    "name": "ipython",
    "version": 3
   },
   "file_extension": ".py",
   "mimetype": "text/x-python",
   "name": "python",
   "nbconvert_exporter": "python",
   "pygments_lexer": "ipython3",
   "version": "3.10.9"
  },
  "orig_nbformat": 4
 },
 "nbformat": 4,
 "nbformat_minor": 2
}
