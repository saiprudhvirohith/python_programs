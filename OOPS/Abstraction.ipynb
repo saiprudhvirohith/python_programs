{
 "cells": [
  {
   "cell_type": "code",
   "execution_count": null,
   "metadata": {},
   "outputs": [],
   "source": [
    "#Abstraction:- The process of handling complexity by hiding unnecessary information from user.\n",
    "# Hiding internal functionality is also called Abstraction.\n",
    "# We can use abstract classes for implementing abstraction.\n",
    "# If a class contain one or more than one abstract method then the class is called Abstract Class.\n",
    "# If the method is declared without implementation it is called Abstract Method.\n",
    "# We cannot instantiate abstract classes.\n"
   ]
  },
  {
   "cell_type": "code",
   "execution_count": 1,
   "metadata": {},
   "outputs": [],
   "source": [
    "class A:\n",
    "    def method(self):\n",
    "        pass\n",
    "obj1=A()\n",
    "obj1.method()"
   ]
  },
  {
   "cell_type": "code",
   "execution_count": 2,
   "metadata": {},
   "outputs": [
    {
     "ename": "TypeError",
     "evalue": "Can't instantiate abstract class A with abstract method method",
     "output_type": "error",
     "traceback": [
      "\u001b[1;31m---------------------------------------------------------------------------\u001b[0m",
      "\u001b[1;31mTypeError\u001b[0m                                 Traceback (most recent call last)",
      "\u001b[1;32mc:\\Users\\saipr\\OneDrive\\Documents\\rohith\\python_programs\\OOPS\\Abstraction.ipynb Cell 3\u001b[0m line \u001b[0;36m6\n\u001b[0;32m      <a href='vscode-notebook-cell:/c%3A/Users/saipr/OneDrive/Documents/rohith/python_programs/OOPS/Abstraction.ipynb#W2sZmlsZQ%3D%3D?line=2'>3</a>\u001b[0m     \u001b[39m@abstractmethod\u001b[39m\n\u001b[0;32m      <a href='vscode-notebook-cell:/c%3A/Users/saipr/OneDrive/Documents/rohith/python_programs/OOPS/Abstraction.ipynb#W2sZmlsZQ%3D%3D?line=3'>4</a>\u001b[0m     \u001b[39mdef\u001b[39;00m \u001b[39mmethod\u001b[39m(\u001b[39mself\u001b[39m):\n\u001b[0;32m      <a href='vscode-notebook-cell:/c%3A/Users/saipr/OneDrive/Documents/rohith/python_programs/OOPS/Abstraction.ipynb#W2sZmlsZQ%3D%3D?line=4'>5</a>\u001b[0m         \u001b[39mpass\u001b[39;00m\n\u001b[1;32m----> <a href='vscode-notebook-cell:/c%3A/Users/saipr/OneDrive/Documents/rohith/python_programs/OOPS/Abstraction.ipynb#W2sZmlsZQ%3D%3D?line=5'>6</a>\u001b[0m obj1\u001b[39m=\u001b[39mA()\n\u001b[0;32m      <a href='vscode-notebook-cell:/c%3A/Users/saipr/OneDrive/Documents/rohith/python_programs/OOPS/Abstraction.ipynb#W2sZmlsZQ%3D%3D?line=6'>7</a>\u001b[0m obj1\u001b[39m.\u001b[39mmethod()\n",
      "\u001b[1;31mTypeError\u001b[0m: Can't instantiate abstract class A with abstract method method"
     ]
    }
   ],
   "source": [
    "from abc import ABC,abstractmethod\n",
    "class A(ABC):\n",
    "    @abstractmethod\n",
    "    def method(self):\n",
    "        pass\n",
    "obj1=A()\n",
    "obj1.method()"
   ]
  },
  {
   "cell_type": "code",
   "execution_count": null,
   "metadata": {},
   "outputs": [],
   "source": [
    "# Concrete method:- Normal method in abstract class.\n",
    "from abc import ABC,abstractmethod\n",
    "class A(ABC):\n",
    "    @abstractmethod\n",
    "    def method1(self):\n",
    "        pass\n",
    "    def method2(self):\n",
    "        print(\"concrete method\")\n",
    "        \n",
    "obj1=A()\n",
    "obj1.method1()"
   ]
  },
  {
   "cell_type": "code",
   "execution_count": 4,
   "metadata": {},
   "outputs": [
    {
     "name": "stdout",
     "output_type": "stream",
     "text": [
      "Method1 is implementrd in sub class\n",
      "concrete method\n",
      "Method3 is implementrd in sub class\n"
     ]
    }
   ],
   "source": [
    "# We cannot directly create object for abstract class.\n",
    "# But we can inherit abstract class & we can create Object.\n",
    "# Rules for inheriting abstract class:-\n",
    "## Abstract methods in abstract class must implement in subclass.\n",
    "from abc import ABC,abstractmethod\n",
    "class A(ABC):\n",
    "    @abstractmethod\n",
    "    def method1(self):\n",
    "        pass\n",
    "    def method2(self):\n",
    "        print(\"concrete method\")\n",
    "    @abstractmethod\n",
    "    def method3(self):\n",
    "        pass\n",
    "class B(A):\n",
    "    def method1(self):\n",
    "        print(\"Method1 is implementrd in sub class\")\n",
    "    def method3(self):\n",
    "        print(\"Method3 is implementrd in sub class\")     \n",
    "obj1=B()\n",
    "obj1.method1()\n",
    "obj1.method2()\n",
    "obj1.method3()"
   ]
  },
  {
   "cell_type": "code",
   "execution_count": 5,
   "metadata": {},
   "outputs": [
    {
     "ename": "TypeError",
     "evalue": "Can't instantiate abstract class B with abstract method method4",
     "output_type": "error",
     "traceback": [
      "\u001b[1;31m---------------------------------------------------------------------------\u001b[0m",
      "\u001b[1;31mTypeError\u001b[0m                                 Traceback (most recent call last)",
      "\u001b[1;32mc:\\Users\\saipr\\OneDrive\\Documents\\rohith\\python_programs\\OOPS\\Abstraction.ipynb Cell 6\u001b[0m line \u001b[0;36m1\n\u001b[0;32m     <a href='vscode-notebook-cell:/c%3A/Users/saipr/OneDrive/Documents/rohith/python_programs/OOPS/Abstraction.ipynb#W5sZmlsZQ%3D%3D?line=16'>17</a>\u001b[0m     \u001b[39mdef\u001b[39;00m \u001b[39mmethod3\u001b[39m(\u001b[39mself\u001b[39m):\n\u001b[0;32m     <a href='vscode-notebook-cell:/c%3A/Users/saipr/OneDrive/Documents/rohith/python_programs/OOPS/Abstraction.ipynb#W5sZmlsZQ%3D%3D?line=17'>18</a>\u001b[0m         \u001b[39mprint\u001b[39m(\u001b[39m\"\u001b[39m\u001b[39mMethod3 is implementrd in sub class\u001b[39m\u001b[39m\"\u001b[39m)     \n\u001b[1;32m---> <a href='vscode-notebook-cell:/c%3A/Users/saipr/OneDrive/Documents/rohith/python_programs/OOPS/Abstraction.ipynb#W5sZmlsZQ%3D%3D?line=18'>19</a>\u001b[0m obj1\u001b[39m=\u001b[39mB()\n\u001b[0;32m     <a href='vscode-notebook-cell:/c%3A/Users/saipr/OneDrive/Documents/rohith/python_programs/OOPS/Abstraction.ipynb#W5sZmlsZQ%3D%3D?line=19'>20</a>\u001b[0m obj1\u001b[39m.\u001b[39mmethod1()\n\u001b[0;32m     <a href='vscode-notebook-cell:/c%3A/Users/saipr/OneDrive/Documents/rohith/python_programs/OOPS/Abstraction.ipynb#W5sZmlsZQ%3D%3D?line=20'>21</a>\u001b[0m obj1\u001b[39m.\u001b[39mmethod2()\n",
      "\u001b[1;31mTypeError\u001b[0m: Can't instantiate abstract class B with abstract method method4"
     ]
    }
   ],
   "source": [
    "from abc import ABC,abstractmethod\n",
    "class A(ABC):\n",
    "    @abstractmethod\n",
    "    def method1(self):\n",
    "        pass\n",
    "    def method2(self):\n",
    "        print(\"concrete method\")\n",
    "    @abstractmethod\n",
    "    def method3(self):\n",
    "        pass\n",
    "    @abstractmethod\n",
    "    def method4(self):\n",
    "        pass\n",
    "class B(A):\n",
    "    def method1(self):\n",
    "        print(\"Method1 is implementrd in sub class\")\n",
    "    def method3(self):\n",
    "        print(\"Method3 is implementrd in sub class\")     \n",
    "obj1=B()\n",
    "obj1.method1()\n",
    "obj1.method2()\n",
    "obj1.method3()"
   ]
  },
  {
   "cell_type": "code",
   "execution_count": null,
   "metadata": {},
   "outputs": [],
   "source": [
    "# Abstract classes used as blueprint for another class.\n",
    "# If a project has lot of classes & functions the developers create\n",
    "# abstract class & use the classes By inheriting.\n",
    "# If we want to define set of classes if the classes has common behaviour\n",
    "# then we create abstract classes & derive Subclasses from it.\n",
    "# When we creating classes, if the claases have same methods &\n",
    "# implementation is different then we create abstract class.\n"
   ]
  },
  {
   "cell_type": "code",
   "execution_count": 12,
   "metadata": {},
   "outputs": [
    {
     "name": "stdout",
     "output_type": "stream",
     "text": [
      "200\n",
      "60\n",
      "rectangle has 4 sides.\n",
      "It is a 2-dimensional plane figure.\n",
      "0.0\n",
      "30.0\n",
      "triangle has 3 sides.\n",
      "It is a 2-dimensional plane figure.\n",
      "100\n",
      "40\n",
      "square has 4 sides.\n",
      "It is a 2-dimensional plane figure.\n"
     ]
    }
   ],
   "source": [
    "# Example Polygon- trinagle, rectangle , pentagon, hexagon, octagon\n",
    "from abc import ABC,abstractmethod\n",
    "from math import sqrt\n",
    "class Polygon(ABC):\n",
    "    @abstractmethod\n",
    "    def sides(self):\n",
    "        pass\n",
    "    @abstractmethod\n",
    "    def area(self):\n",
    "        pass\n",
    "    @abstractmethod\n",
    "    def perimeter(self):\n",
    "        pass\n",
    "    def figure(self):\n",
    "        return \"It is a 2-dimensional plane figure.\"\n",
    "class Rectangle(Polygon):\n",
    "    def sides(self,length,breadth):\n",
    "        self.length=length\n",
    "        self.breadth=breadth\n",
    "    def area(self):\n",
    "        return self.length*self.breadth\n",
    "    def perimeter(self):\n",
    "        return 2*(self.length+self.breadth)\n",
    "    def extramethod(self):\n",
    "        return \"rectangle has 4 sides.\"\n",
    "\n",
    "class Triangle(Polygon):\n",
    "    def sides(self,a,b,c):\n",
    "        self.a=a\n",
    "        self.b=b\n",
    "        self.c=c\n",
    "    def area(self):\n",
    "        s=self.perimeter()\n",
    "        return sqrt(s*(s-self.a)*(s-self.b)*(s-self.c))\n",
    "    def perimeter(self):\n",
    "        return (self.a+self.b+self.c)/2\n",
    "    def extramethod(self):\n",
    "        return \"triangle has 3 sides.\"\n",
    "class Square(Polygon):\n",
    "    def sides(self,side):\n",
    "        self.side=side\n",
    "    def area(self):\n",
    "        return self.side*self.side\n",
    "    def perimeter(self):\n",
    "        return 4*(self.side)\n",
    "    def extramethod(self):\n",
    "        return \"square has 4 sides.\"\n",
    "    \n",
    "rect=Rectangle()\n",
    "rect.sides(10,20)\n",
    "trail=Triangle()\n",
    "trail.sides(10,20,30)\n",
    "squa=Square()\n",
    "squa.sides(10)\n",
    "for obj in[rect,trail,squa]:\n",
    "    print(obj.area())\n",
    "    print(obj.perimeter())\n",
    "    print(obj.extramethod())\n",
    "    print(obj.figure())\n",
    "    \n"
   ]
  }
 ],
 "metadata": {
  "kernelspec": {
   "display_name": "Python 3",
   "language": "python",
   "name": "python3"
  },
  "language_info": {
   "codemirror_mode": {
    "name": "ipython",
    "version": 3
   },
   "file_extension": ".py",
   "mimetype": "text/x-python",
   "name": "python",
   "nbconvert_exporter": "python",
   "pygments_lexer": "ipython3",
   "version": "3.10.9"
  }
 },
 "nbformat": 4,
 "nbformat_minor": 2
}
