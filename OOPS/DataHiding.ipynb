{
 "cells": [
  {
   "cell_type": "code",
   "execution_count": 4,
   "metadata": {},
   "outputs": [
    {
     "ename": "AttributeError",
     "evalue": "'AP' object has no attribute '__balance'",
     "output_type": "error",
     "traceback": [
      "\u001b[1;31m---------------------------------------------------------------------------\u001b[0m",
      "\u001b[1;31mAttributeError\u001b[0m                            Traceback (most recent call last)",
      "\u001b[1;32mc:\\Users\\saipr\\OneDrive\\Documents\\rohith\\python_programs\\OOPS\\DataHiding.ipynb Cell 1\u001b[0m line \u001b[0;36m1\n\u001b[0;32m     <a href='vscode-notebook-cell:/c%3A/Users/saipr/OneDrive/Documents/rohith/python_programs/OOPS/DataHiding.ipynb#W0sZmlsZQ%3D%3D?line=14'>15</a>\u001b[0m \u001b[39m# print(obj.getbalance())\u001b[39;00m\n\u001b[0;32m     <a href='vscode-notebook-cell:/c%3A/Users/saipr/OneDrive/Documents/rohith/python_programs/OOPS/DataHiding.ipynb#W0sZmlsZQ%3D%3D?line=15'>16</a>\u001b[0m \u001b[39m# print(obj.printBalance())\u001b[39;00m\n\u001b[0;32m     <a href='vscode-notebook-cell:/c%3A/Users/saipr/OneDrive/Documents/rohith/python_programs/OOPS/DataHiding.ipynb#W0sZmlsZQ%3D%3D?line=16'>17</a>\u001b[0m obj2\u001b[39m=\u001b[39mbank()\n\u001b[1;32m---> <a href='vscode-notebook-cell:/c%3A/Users/saipr/OneDrive/Documents/rohith/python_programs/OOPS/DataHiding.ipynb#W0sZmlsZQ%3D%3D?line=17'>18</a>\u001b[0m \u001b[39mprint\u001b[39m(obj\u001b[39m.\u001b[39;49m__balance)\n\u001b[0;32m     <a href='vscode-notebook-cell:/c%3A/Users/saipr/OneDrive/Documents/rohith/python_programs/OOPS/DataHiding.ipynb#W0sZmlsZQ%3D%3D?line=18'>19</a>\u001b[0m \u001b[39mprint\u001b[39m(obj2\u001b[39m.\u001b[39m__balance)\n",
      "\u001b[1;31mAttributeError\u001b[0m: 'AP' object has no attribute '__balance'"
     ]
    }
   ],
   "source": [
    "# DataHiding is based on Enapsulation\n",
    "# DataHiding:- declare data in one class, doesn't give access to another class & hides the data.\n",
    "# To give security to Sensitive information.\n",
    "# Hides Sensitive data for security purpose.\n",
    "# If we want to give datahiding in python then we declare data as private member.\n",
    "# Put __[double underscore] before data and to declare as private member.\n",
    "class bank:\n",
    "    __balance=10000\n",
    "    def getbalance(self):\n",
    "        return self.__balance\n",
    "class AP(bank):\n",
    "    def printBalance(self):\n",
    "        return self.__balance\n",
    "obj=AP()\n",
    "# print(obj.getbalance())\n",
    "# print(obj.printBalance())\n",
    "obj2=bank()\n",
    "print(obj.__balance)\n",
    "print(obj2.__balance)"
   ]
  }
 ],
 "metadata": {
  "kernelspec": {
   "display_name": "Python 3",
   "language": "python",
   "name": "python3"
  },
  "language_info": {
   "codemirror_mode": {
    "name": "ipython",
    "version": 3
   },
   "file_extension": ".py",
   "mimetype": "text/x-python",
   "name": "python",
   "nbconvert_exporter": "python",
   "pygments_lexer": "ipython3",
   "version": "3.10.9"
  }
 },
 "nbformat": 4,
 "nbformat_minor": 2
}
