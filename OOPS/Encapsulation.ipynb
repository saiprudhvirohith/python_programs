{
 "cells": [
  {
   "cell_type": "code",
   "execution_count": null,
   "metadata": {},
   "outputs": [],
   "source": [
    "# Encapsulation:- Grouping of data and mentods in a object or class.\n",
    "# Code will be organized and clean.\n",
    "# Prevents the data from accidental removal and delection Ex: Pandas Lab.\n",
    "# Abstraction.\n",
    "# Encapsulation means Hides implementation logic and allows only to use.\n",
    "# Datahiding.\n",
    "# Modularity.\n",
    "# Datahiding +Abstraction=Encapsulation.\n",
    "#Access Modifiers or Access Specifiers:-\n",
    "##1. Public access specifiers.\n",
    "##2. Protected access specifiers.\n",
    "##3. Private access specifiers.\n",
    "# In python private, protected data is accessed same as public data."
   ]
  },
  {
   "cell_type": "code",
   "execution_count": 3,
   "metadata": {},
   "outputs": [
    {
     "name": "stdout",
     "output_type": "stream",
     "text": [
      "10\n",
      "10\n",
      "10\n",
      "10\n"
     ]
    }
   ],
   "source": [
    "#1. Public Access Specifier or Public Access Modifier or Public Member.\n",
    "# Any where in the class we can use when we delare i public class specifier.\n",
    "# if data is declare in public access specifier we can access data:\n",
    "## In same class\n",
    "## By object\n",
    "## we can access from subclass and access by subclass object.\n",
    "class Parent:\n",
    "    publicData=10\n",
    "    def publicmethod(self):\n",
    "        print(self.publicData)\n",
    "class Child(Parent):\n",
    "    def method(self):\n",
    "        print(self.publicData)\n",
    "obj1=Parent()\n",
    "obj1.publicmethod()\n",
    "print(obj1.publicData)\n",
    "obj2=Child()\n",
    "obj2.method()\n",
    "print(obj2.publicData)\n",
    "        "
   ]
  },
  {
   "cell_type": "code",
   "execution_count": 5,
   "metadata": {},
   "outputs": [
    {
     "name": "stdout",
     "output_type": "stream",
     "text": [
      "10\n",
      "10\n",
      "10\n"
     ]
    }
   ],
   "source": [
    "#2. Protected Access Specifier or Protected Access Modifier or Protected Member.\n",
    "# If data is declare in proteced access specifier it can access only that class and derived class.\n",
    "# put _[single underscore] before data and method to declare as protected.\n",
    "class Parent:\n",
    "    _protectedData=10\n",
    "    def protectedmethod(self):\n",
    "        print(self._protectedData)\n",
    "class Child(Parent):\n",
    "    def method(self):\n",
    "        print(self._protectedData)\n",
    "obj1=Parent()\n",
    "obj1.protectedmethod()\n",
    "obj2=Child()\n",
    "obj2.method()\n",
    "print(obj1._protectedData)"
   ]
  },
  {
   "cell_type": "code",
   "execution_count": 7,
   "metadata": {},
   "outputs": [
    {
     "name": "stdout",
     "output_type": "stream",
     "text": [
      "10\n"
     ]
    },
    {
     "ename": "AttributeError",
     "evalue": "'Child' object has no attribute '_protectedData'",
     "output_type": "error",
     "traceback": [
      "\u001b[1;31m---------------------------------------------------------------------------\u001b[0m",
      "\u001b[1;31mAttributeError\u001b[0m                            Traceback (most recent call last)",
      "\u001b[1;32mc:\\Users\\saipr\\OneDrive\\Documents\\rohith\\python_programs\\OOPS\\Encapsulation.ipynb Cell 4\u001b[0m line \u001b[0;36m1\n\u001b[0;32m     <a href='vscode-notebook-cell:/c%3A/Users/saipr/OneDrive/Documents/rohith/python_programs/OOPS/Encapsulation.ipynb#W3sZmlsZQ%3D%3D?line=10'>11</a>\u001b[0m obj1\u001b[39m.\u001b[39mprivatemethod()\n\u001b[0;32m     <a href='vscode-notebook-cell:/c%3A/Users/saipr/OneDrive/Documents/rohith/python_programs/OOPS/Encapsulation.ipynb#W3sZmlsZQ%3D%3D?line=11'>12</a>\u001b[0m obj2\u001b[39m=\u001b[39mChild()\n\u001b[1;32m---> <a href='vscode-notebook-cell:/c%3A/Users/saipr/OneDrive/Documents/rohith/python_programs/OOPS/Encapsulation.ipynb#W3sZmlsZQ%3D%3D?line=12'>13</a>\u001b[0m obj2\u001b[39m.\u001b[39;49mmethod()\n",
      "\u001b[1;32mc:\\Users\\saipr\\OneDrive\\Documents\\rohith\\python_programs\\OOPS\\Encapsulation.ipynb Cell 4\u001b[0m line \u001b[0;36m9\n\u001b[0;32m      <a href='vscode-notebook-cell:/c%3A/Users/saipr/OneDrive/Documents/rohith/python_programs/OOPS/Encapsulation.ipynb#W3sZmlsZQ%3D%3D?line=7'>8</a>\u001b[0m \u001b[39mdef\u001b[39;00m \u001b[39mmethod\u001b[39m(\u001b[39mself\u001b[39m):\n\u001b[1;32m----> <a href='vscode-notebook-cell:/c%3A/Users/saipr/OneDrive/Documents/rohith/python_programs/OOPS/Encapsulation.ipynb#W3sZmlsZQ%3D%3D?line=8'>9</a>\u001b[0m     \u001b[39mprint\u001b[39m(\u001b[39mself\u001b[39;49m\u001b[39m.\u001b[39;49m_protectedData)\n",
      "\u001b[1;31mAttributeError\u001b[0m: 'Child' object has no attribute '_protectedData'"
     ]
    }
   ],
   "source": [
    "#3. Private Access Specifier.\n",
    "#put __[single underscore] before data and method to declare as private.\n",
    "class Parent:\n",
    "    __privateData=10\n",
    "    def privatemethod(self):\n",
    "        print(self.__privateData)\n",
    "class Child(Parent):\n",
    "    def method(self):\n",
    "        print(self._protectedData)\n",
    "obj1=Parent()\n",
    "obj1.privatemethod()\n",
    "obj2=Child()\n",
    "obj2.method()"
   ]
  },
  {
   "cell_type": "code",
   "execution_count": null,
   "metadata": {},
   "outputs": [],
   "source": [
    "# To avoid name collisions we use public, private, protected in pyhton.\n"
   ]
  },
  {
   "cell_type": "code",
   "execution_count": 9,
   "metadata": {},
   "outputs": [
    {
     "ename": "NameError",
     "evalue": "name 'self' is not defined",
     "output_type": "error",
     "traceback": [
      "\u001b[1;31m---------------------------------------------------------------------------\u001b[0m",
      "\u001b[1;31mNameError\u001b[0m                                 Traceback (most recent call last)",
      "\u001b[1;32mc:\\Users\\saipr\\OneDrive\\Documents\\rohith\\python_programs\\OOPS\\Encapsulation.ipynb Cell 6\u001b[0m line \u001b[0;36m7\n\u001b[0;32m      <a href='vscode-notebook-cell:/c%3A/Users/saipr/OneDrive/Documents/rohith/python_programs/OOPS/Encapsulation.ipynb#W5sZmlsZQ%3D%3D?line=4'>5</a>\u001b[0m     \u001b[39mdef\u001b[39;00m \u001b[39m__changeSal\u001b[39m(\u001b[39mself\u001b[39m,increment):\n\u001b[0;32m      <a href='vscode-notebook-cell:/c%3A/Users/saipr/OneDrive/Documents/rohith/python_programs/OOPS/Encapsulation.ipynb#W5sZmlsZQ%3D%3D?line=5'>6</a>\u001b[0m         \u001b[39mself\u001b[39m\u001b[39m.\u001b[39m__sal\u001b[39m+\u001b[39m\u001b[39m=\u001b[39mincrement\n\u001b[1;32m----> <a href='vscode-notebook-cell:/c%3A/Users/saipr/OneDrive/Documents/rohith/python_programs/OOPS/Encapsulation.ipynb#W5sZmlsZQ%3D%3D?line=6'>7</a>\u001b[0m \u001b[39mclass\u001b[39;00m \u001b[39mmanager\u001b[39;00m(Emp):\n\u001b[0;32m      <a href='vscode-notebook-cell:/c%3A/Users/saipr/OneDrive/Documents/rohith/python_programs/OOPS/Encapsulation.ipynb#W5sZmlsZQ%3D%3D?line=7'>8</a>\u001b[0m     \u001b[39mself\u001b[39m\u001b[39m.\u001b[39m__changesal(\u001b[39m100000\u001b[39m)\n",
      "\u001b[1;32mc:\\Users\\saipr\\OneDrive\\Documents\\rohith\\python_programs\\OOPS\\Encapsulation.ipynb Cell 6\u001b[0m line \u001b[0;36m8\n\u001b[0;32m      <a href='vscode-notebook-cell:/c%3A/Users/saipr/OneDrive/Documents/rohith/python_programs/OOPS/Encapsulation.ipynb#W5sZmlsZQ%3D%3D?line=6'>7</a>\u001b[0m \u001b[39mclass\u001b[39;00m \u001b[39mmanager\u001b[39;00m(Emp):\n\u001b[1;32m----> <a href='vscode-notebook-cell:/c%3A/Users/saipr/OneDrive/Documents/rohith/python_programs/OOPS/Encapsulation.ipynb#W5sZmlsZQ%3D%3D?line=7'>8</a>\u001b[0m     \u001b[39mself\u001b[39;49m\u001b[39m.\u001b[39m__changesal(\u001b[39m100000\u001b[39m)\n",
      "\u001b[1;31mNameError\u001b[0m: name 'self' is not defined"
     ]
    }
   ],
   "source": [
    "class Emp:\n",
    "    __sal=30000\n",
    "    def getBalance(self):\n",
    "        print(self.__sal)\n",
    "    def __changeSal(self,increment):\n",
    "        self.__sal+=increment\n",
    "class manager(Emp):\n",
    "    self.__changesal(100000)"
   ]
  }
 ],
 "metadata": {
  "kernelspec": {
   "display_name": "Python 3",
   "language": "python",
   "name": "python3"
  },
  "language_info": {
   "codemirror_mode": {
    "name": "ipython",
    "version": 3
   },
   "file_extension": ".py",
   "mimetype": "text/x-python",
   "name": "python",
   "nbconvert_exporter": "python",
   "pygments_lexer": "ipython3",
   "version": "3.10.9"
  }
 },
 "nbformat": 4,
 "nbformat_minor": 2
}
