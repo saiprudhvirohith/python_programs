{
 "cells": [
  {
   "cell_type": "code",
   "execution_count": 4,
   "metadata": {},
   "outputs": [
    {
     "name": "stdout",
     "output_type": "stream",
     "text": [
      "I am a child\n",
      "I am a parent\n",
      "I am a parent\n"
     ]
    },
    {
     "ename": "AttributeError",
     "evalue": "'Parent' object has no attribute 'method2'",
     "output_type": "error",
     "traceback": [
      "\u001b[1;31m---------------------------------------------------------------------------\u001b[0m",
      "\u001b[1;31mAttributeError\u001b[0m                            Traceback (most recent call last)",
      "\u001b[1;32mc:\\Users\\saipr\\OneDrive\\Documents\\rohith\\python_programs\\OOPS\\Inheritance.ipynb Cell 1\u001b[0m line \u001b[0;36m1\n\u001b[0;32m     <a href='vscode-notebook-cell:/c%3A/Users/saipr/OneDrive/Documents/rohith/python_programs/OOPS/Inheritance.ipynb#W0sZmlsZQ%3D%3D?line=10'>11</a>\u001b[0m Parent1\u001b[39m=\u001b[39mParent()\n\u001b[0;32m     <a href='vscode-notebook-cell:/c%3A/Users/saipr/OneDrive/Documents/rohith/python_programs/OOPS/Inheritance.ipynb#W0sZmlsZQ%3D%3D?line=11'>12</a>\u001b[0m Parent1\u001b[39m.\u001b[39mmethod1()\n\u001b[1;32m---> <a href='vscode-notebook-cell:/c%3A/Users/saipr/OneDrive/Documents/rohith/python_programs/OOPS/Inheritance.ipynb#W0sZmlsZQ%3D%3D?line=12'>13</a>\u001b[0m Parent1\u001b[39m.\u001b[39;49mmethod2()\n",
      "\u001b[1;31mAttributeError\u001b[0m: 'Parent' object has no attribute 'method2'"
     ]
    }
   ],
   "source": [
    "#1.Single Inheritance- Having one parent class and one child class.\n",
    "class Parent:\n",
    "    def method1(self):\n",
    "        print(\"I am a parent\")\n",
    "class Child(Parent):\n",
    "    def method2(self):\n",
    "        print(\"I am a child\")\n",
    "child1=Child()\n",
    "child1.method2()\n",
    "child1.method1()\n",
    "Parent1=Parent()\n",
    "Parent1.method1()\n",
    "Parent1.method2()"
   ]
  },
  {
   "cell_type": "code",
   "execution_count": 9,
   "metadata": {},
   "outputs": [
    {
     "name": "stdout",
     "output_type": "stream",
     "text": [
      "I am a child\n",
      "I am a mother\n",
      "I am a father\n",
      "(<class '__main__.Child'>, <class '__main__.Father'>, <class '__main__.Mother'>, <class 'object'>)\n"
     ]
    }
   ],
   "source": [
    "#2. Multiple Inheritance- having one or more parent class and one child class.\n",
    "class Father:\n",
    "    def method1(self):\n",
    "        print(\"I am a father\")\n",
    "class Mother:\n",
    "    def method2(self):# mro -> method1\n",
    "        print(\"I am a mother\")\n",
    "class Child(Father,Mother):\n",
    "    def method3(self):\n",
    "        print(\"I am a child\")\n",
    "child1=Child()\n",
    "child1.method3()\n",
    "child1.method2()\n",
    "child1.method1()\n",
    "print(Child.__mro__)#method resolution order: if parent classes having same method name.\n",
    "                    # when we call the method name in the child class\n",
    "                    #it call the first parent class in the child class\n",
    "                    # to see the flow of multiple inheritance we used (mro). "
   ]
  },
  {
   "cell_type": "code",
   "execution_count": 15,
   "metadata": {},
   "outputs": [
    {
     "name": "stdout",
     "output_type": "stream",
     "text": [
      "I am a child\n",
      "I am a parent\n",
      "I am a grandparent\n",
      "I am a parent\n",
      "I am a grandparent\n",
      "(<class '__main__.Child'>, <class '__main__.Parent'>, <class '__main__.GrandParent'>, <class 'object'>)\n"
     ]
    }
   ],
   "source": [
    "#3.Multilevel Inhertance- \n",
    "class GrandParent:\n",
    "    def method1(self):\n",
    "        print(\"I am a grandparent\")\n",
    "class Parent(GrandParent):\n",
    "    def method2(self):\n",
    "        print(\"I am a parent\")\n",
    "class Child(Parent):\n",
    "    def method3(self):\n",
    "        print(\"I am a child\")\n",
    "child1=Child()\n",
    "child1.method3()\n",
    "child1.method2()\n",
    "child1.method1()\n",
    "parent1=Parent()\n",
    "parent1.method2()\n",
    "parent1.method1()\n",
    "print(Child.__mro__)"
   ]
  },
  {
   "cell_type": "code",
   "execution_count": 17,
   "metadata": {},
   "outputs": [
    {
     "name": "stdout",
     "output_type": "stream",
     "text": [
      "I am first child\n",
      "I am a Parent\n",
      "I am second child\n",
      "I am a Parent\n"
     ]
    }
   ],
   "source": [
    "#4.Hierarchical Inheritance- having one parent class and one or more child class.\n",
    "class Parent:\n",
    "    def parentMethod(self):\n",
    "        print(\"I am a Parent\")\n",
    "class Child1(Parent):\n",
    "    def childMethod(self):\n",
    "        print(\"I am first child\")\n",
    "class Child2(Parent):\n",
    "    def childMethod(self):\n",
    "        print(\"I am second child\")\n",
    "child1=Child1()\n",
    "child1.childMethod()\n",
    "child1.parentMethod()\n",
    "child2=Child2()\n",
    "child2.childMethod()\n",
    "child2.parentMethod()"
   ]
  },
  {
   "cell_type": "code",
   "execution_count": 23,
   "metadata": {},
   "outputs": [
    {
     "name": "stdout",
     "output_type": "stream",
     "text": [
      "I am a child\n",
      "I am a parent2\n",
      "I am a parent1\n",
      "I am a grandparent\n",
      "I am a parent1\n",
      "I am a grandparent\n",
      "I am a parent2\n",
      "(<class '__main__.Child'>, <class '__main__.Parent1'>, <class '__main__.GrandParent'>, <class '__main__.Parent2'>, <class 'object'>)\n"
     ]
    }
   ],
   "source": [
    "#5. Hybrid Inheritance-Combination of more than one inhertance\n",
    "class GrandParent:\n",
    "    def method1(self):\n",
    "        print(\"I am a grandparent\")\n",
    "class Parent1(GrandParent):\n",
    "    def method2(self):\n",
    "        print(\"I am a parent1\")\n",
    "class Parent2:\n",
    "    def method3(self):\n",
    "        print(\"I am a parent2\")\n",
    "class Child(Parent1,Parent2):\n",
    "    def method4(self):\n",
    "        print(\"I am a child\")\n",
    "child1=Child()\n",
    "child1.method4()\n",
    "child1.method3()\n",
    "child1.method2()\n",
    "child1.method1()\n",
    "parent1=Parent1()\n",
    "parent1.method2()\n",
    "parent1.method1()\n",
    "parent2=Parent2()\n",
    "parent2.method3()\n",
    "print(Child.__mro__)"
   ]
  },
  {
   "cell_type": "code",
   "execution_count": null,
   "metadata": {},
   "outputs": [],
   "source": [
    "class Faculty:\n",
    "    def __init__(self,firstName,lastName,email,facultyId,address,mobileNumber,subjectsTeaching,salary,dateJoined):\n",
    "        self.firstName=firstName\n",
    "        self.lastName=lastName\n",
    "        self.email=email\n",
    "        self.facultyId=facultyId\n",
    "        self.adddress=address\n",
    "        self.mobileNumber=mobileNumber\n",
    "        self.subjectTeaching=subjectsTeaching\n",
    "        self.salary=salary\n",
    "        self.dateJoined=dateJoined\n",
    "    def getFullName(self):\n",
    "        print(self.firstName+\" \"+self.lastName)\n",
    "    def changeAddress(self,newAddress):\n",
    "        self.adddress=newAddress\n",
    "        print(\"Address changed successfully\")\n",
    "    def changeNumber(self,newNumber):\n",
    "        self.mobileNumber=newNumber\n",
    "        print(\"Mobile Number changed successfully\")\n",
    "    def getSalary(self):\n",
    "        print(\"Your salary is \"+self.salary)"
   ]
  },
  {
   "cell_type": "code",
   "execution_count": null,
   "metadata": {},
   "outputs": [],
   "source": [
    "class Student:\n",
    "    def __init__(self,firstName,lastName,email,studentId,address,mobileNumber,subjectsLearning,GPA,dateJoined):\n",
    "        self.firstName=firstName\n",
    "        self.lastName=lastName\n",
    "        self.email=email\n",
    "        self.studentId=studentId\n",
    "        self.adddress=address\n",
    "        self.mobileNumber=mobileNumber\n",
    "        self.subjectLearning=subjectsLearning\n",
    "        self.GPA=GPA\n",
    "        self.dateJoined=dateJoined\n",
    "    def getFullName(self):\n",
    "        print(self.firstName+\" \"+self.lastName)\n",
    "    def changeAddress(self,newAddress):\n",
    "        self.adddress=newAddress\n",
    "        print(\"Address changed successfully\")\n",
    "    def changeNumber(self,newNumber):\n",
    "        self.mobileNumber=newNumber\n",
    "        print(\"Mobile Number changed successfully\")\n",
    "    def getGPA(self):\n",
    "        print(\"Your GPA is \"+self.GPA)"
   ]
  },
  {
   "cell_type": "code",
   "execution_count": 25,
   "metadata": {},
   "outputs": [
    {
     "name": "stdout",
     "output_type": "stream",
     "text": [
      "Sai Prudhvi\n"
     ]
    }
   ],
   "source": [
    "#Inheritance code for faculty and sutudent.\n",
    "class Member:\n",
    "    def __init__(self,firstName,lastName,email,memberId,address,mobileNumber,dateJoined):\n",
    "        self.firstName=firstName\n",
    "        self.lastName=lastName\n",
    "        self.email=email\n",
    "        self.memberId=memberId\n",
    "        self.adddress=address\n",
    "        self.mobileNumber=mobileNumber\n",
    "        self.dateJoined=dateJoined\n",
    "    def getFullName(self):\n",
    "        print(self.firstName+\" \"+self.lastName)\n",
    "    def changeAddress(self,newAddress):\n",
    "        self.adddress=newAddress\n",
    "        print(\"Address changed successfully\")\n",
    "    def changeNumber(self,newNumber):\n",
    "        self.mobileNumber=newNumber\n",
    "        print(\"Mobile Number changed successfully\")\n",
    "    \n",
    "class Faculty(Member):\n",
    "    def __init__(self,firstName,lastName,email,memberId,address,mobileNumber,subjectsTeaching,salary,dateJoined):\n",
    "        self.subjectTeaching=subjectsTeaching\n",
    "        self.salary=salary\n",
    "        Member.__init__(self,firstName,lastName,email,memberId,address,mobileNumber,dateJoined)\n",
    "    def getSalary(self):\n",
    "        print(\"Your salary is \"+self.salary)\n",
    "\n",
    "class Student(Member):\n",
    "    def __init__(self,firstName,lastName,email,memberId,address,mobileNumber,subjectsLearning,GPA,dateJoined):\n",
    "        self.subjectLearning=subjectsLearning\n",
    "        self.GPA=GPA\n",
    "        Member.__init__(self,firstName,lastName,email,memberId,address,mobileNumber,dateJoined)\n",
    "    def getGPA(self):\n",
    "        print(\"Your GPA is \"+self.GPA)\n",
    "faculty1=Faculty(\"Sai\",\"Prudhvi\",\"rohtihs819@gmail.com\",143,\"Machilipatnam\",8008535363,\"Python\",30000,\"15-DEC-2023\")\n",
    "faculty1.getFullName()\n",
    "    "
   ]
  }
 ],
 "metadata": {
  "kernelspec": {
   "display_name": "Python 3",
   "language": "python",
   "name": "python3"
  },
  "language_info": {
   "codemirror_mode": {
    "name": "ipython",
    "version": 3
   },
   "file_extension": ".py",
   "mimetype": "text/x-python",
   "name": "python",
   "nbconvert_exporter": "python",
   "pygments_lexer": "ipython3",
   "version": "3.10.9"
  }
 },
 "nbformat": 4,
 "nbformat_minor": 2
}
