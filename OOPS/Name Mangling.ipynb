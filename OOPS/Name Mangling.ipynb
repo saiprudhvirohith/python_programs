{
 "cells": [
  {
   "cell_type": "code",
   "execution_count": 1,
   "metadata": {},
   "outputs": [
    {
     "name": "stdout",
     "output_type": "stream",
     "text": [
      "['_A_____d', '_A____c', '_A___b', '_A__a', '_A__e_', '___j___', '__class__', '__delattr__', '__dict__', '__dir__', '__doc__', '__eq__', '__f__', '__format__', '__g___', '__ge__', '__getattribute__', '__gt__', '__hash__', '__init__', '__init_subclass__', '__le__', '__lt__', '__module__', '__ne__', '__new__', '__reduce__', '__reduce_ex__', '__repr__', '__setattr__', '__sizeof__', '__str__', '__subclasshook__', '__weakref__', '_i_']\n"
     ]
    }
   ],
   "source": [
    "#Name Mangling:- Declare data or method with atleast 2 leading underscores and atmost 1 trailing underscore.\n",
    "## then it will replace to _classNameName by the interpreter.\n",
    "##__data_\n",
    "class A:\n",
    "    __a=10\n",
    "    ___b=20\n",
    "    ____c=30\n",
    "    _____d=40\n",
    "    __e_=50\n",
    "    __f__=60\n",
    "    __g___=70\n",
    "    _i_=100\n",
    "    ___j___=200\n",
    "print(dir(A))"
   ]
  },
  {
   "cell_type": "code",
   "execution_count": 5,
   "metadata": {},
   "outputs": [
    {
     "name": "stdout",
     "output_type": "stream",
     "text": [
      "10\n"
     ]
    },
    {
     "ename": "AttributeError",
     "evalue": "'A' object has no attribute '__a'",
     "output_type": "error",
     "traceback": [
      "\u001b[1;31m---------------------------------------------------------------------------\u001b[0m",
      "\u001b[1;31mAttributeError\u001b[0m                            Traceback (most recent call last)",
      "\u001b[1;32mc:\\Users\\saipr\\OneDrive\\Documents\\rohith\\python_programs\\OOPS\\Name Mangling.ipynb Cell 2\u001b[0m line \u001b[0;36m1\n\u001b[0;32m     <a href='vscode-notebook-cell:/c%3A/Users/saipr/OneDrive/Documents/rohith/python_programs/OOPS/Name%20Mangling.ipynb#W1sZmlsZQ%3D%3D?line=10'>11</a>\u001b[0m         \u001b[39mprint\u001b[39m(\u001b[39mself\u001b[39m\u001b[39m.\u001b[39m__a)\n\u001b[0;32m     <a href='vscode-notebook-cell:/c%3A/Users/saipr/OneDrive/Documents/rohith/python_programs/OOPS/Name%20Mangling.ipynb#W1sZmlsZQ%3D%3D?line=11'>12</a>\u001b[0m \u001b[39m# obj2=B()\u001b[39;00m\n\u001b[0;32m     <a href='vscode-notebook-cell:/c%3A/Users/saipr/OneDrive/Documents/rohith/python_programs/OOPS/Name%20Mangling.ipynb#W1sZmlsZQ%3D%3D?line=12'>13</a>\u001b[0m \u001b[39m# obj2.getPrivateMember()\u001b[39;00m\n\u001b[1;32m---> <a href='vscode-notebook-cell:/c%3A/Users/saipr/OneDrive/Documents/rohith/python_programs/OOPS/Name%20Mangling.ipynb#W1sZmlsZQ%3D%3D?line=14'>15</a>\u001b[0m \u001b[39mprint\u001b[39m(obj1\u001b[39m.\u001b[39;49m__a)\n",
      "\u001b[1;31mAttributeError\u001b[0m: 'A' object has no attribute '__a'"
     ]
    }
   ],
   "source": [
    "# In python if we declare data as private member then it is accessible only that class.\n",
    "class A:\n",
    "    __a=10\n",
    "    def privateData(self):\n",
    "        print(self.__a)\n",
    "obj1=A()\n",
    "obj1.privateData()\n",
    "\n",
    "class B(A):\n",
    "    def getPrivateMember(self):\n",
    "        print(self.__a)\n",
    "# obj2=B()\n",
    "# obj2.getPrivateMember()\n",
    "\n",
    "print(obj1.__a)"
   ]
  },
  {
   "cell_type": "code",
   "execution_count": 10,
   "metadata": {},
   "outputs": [
    {
     "name": "stdout",
     "output_type": "stream",
     "text": [
      "10\n",
      "10\n",
      "10\n"
     ]
    }
   ],
   "source": [
    "# By using name mangling\n",
    "class A:\n",
    "    __a=10\n",
    "    def privateData(self):\n",
    "        print(self.__a)\n",
    "class B(A):\n",
    "    def getprivatemember(self):\n",
    "        print(self._A__a)\n",
    "obj1=A()\n",
    "print(obj1._A__a)\n",
    "obj2=B()\n",
    "obj2.getprivatemember()\n",
    "print(obj2._A__a)\n",
    "        "
   ]
  }
 ],
 "metadata": {
  "kernelspec": {
   "display_name": "Python 3",
   "language": "python",
   "name": "python3"
  },
  "language_info": {
   "codemirror_mode": {
    "name": "ipython",
    "version": 3
   },
   "file_extension": ".py",
   "mimetype": "text/x-python",
   "name": "python",
   "nbconvert_exporter": "python",
   "pygments_lexer": "ipython3",
   "version": "3.10.9"
  }
 },
 "nbformat": 4,
 "nbformat_minor": 2
}
