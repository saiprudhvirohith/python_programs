{
 "cells": [
  {
   "cell_type": "code",
   "execution_count": 2,
   "metadata": {},
   "outputs": [
    {
     "name": "stdout",
     "output_type": "stream",
     "text": [
      "6\n",
      "4.7\n",
      "helloWorld\n"
     ]
    }
   ],
   "source": [
    "# Polymorphism:- An ability can do more than one task.\n",
    "# Operator Overloading:- One operator performing different in different cases (or) One operator can handle more than one operation.\n",
    "# + and * operator and print() function and overloading is a example for polymorphism.\n",
    "# If a function handles more than one datatype and different parameter size then it is polymorphism.\n",
    "# It si classified in to two types:-\n",
    "#1. Compile Time Polymorphism\n",
    "#2. Static Polymorpgism\n",
    "#Example.\n",
    "def sum(*args):\n",
    "    if args:\n",
    "        start = type(args[0])()\n",
    "        for i in args:\n",
    "            start+=i\n",
    "        return start\n",
    "print(sum(1,2,3))\n",
    "print(sum(1.2,3.5))\n",
    "print(sum(\"hello\",\"World\"))\n"
   ]
  },
  {
   "cell_type": "code",
   "execution_count": 6,
   "metadata": {},
   "outputs": [
    {
     "name": "stdout",
     "output_type": "stream",
     "text": [
      "This is class A\n",
      "This is class B\n",
      "This is class C\n"
     ]
    }
   ],
   "source": [
    "class A:\n",
    "    def Fun(self):\n",
    "        print(\"This is class A\")\n",
    "class B:\n",
    "    def Fun(self):\n",
    "        print(\"This is class B\")\n",
    "class C:\n",
    "    def Fun(self):\n",
    "        print(\"This is class C\")\n",
    "def poly(obj):\n",
    "    obj.Fun()\n",
    "obj1=A()\n",
    "obj2=B()\n",
    "obj3=C()\n",
    "poly(obj1)\n",
    "poly(obj2)\n",
    "poly(obj3)"
   ]
  },
  {
   "cell_type": "code",
   "execution_count": 7,
   "metadata": {},
   "outputs": [
    {
     "name": "stdout",
     "output_type": "stream",
     "text": [
      "6\n",
      "3\n"
     ]
    }
   ],
   "source": [
    "#Method Overloading\n",
    "import multipledispatch\n",
    "class ADD:\n",
    "    @ multipledispatch.dispatch(int,int)\n",
    "    def add(self,x,y):\n",
    "        return x+y\n",
    "    @ multipledispatch.dispatch(int,int,int)\n",
    "    def add(self,x,y,z):\n",
    "        return x+y+z\n",
    "obj=ADD()\n",
    "print(obj.add(1,2,3))\n",
    "print(obj.add(1,2))\n"
   ]
  },
  {
   "cell_type": "code",
   "execution_count": null,
   "metadata": {},
   "outputs": [],
   "source": [
    "#1. Compile Time Polymorphism\n",
    "# Method Overloading and Operator Overloading are the examples.\n",
    "# When operation is going on, th ecomplier will decides which method or operator will executed (+:- adding two  numbers or concating two strings)\n"
   ]
  },
  {
   "cell_type": "code",
   "execution_count": null,
   "metadata": {},
   "outputs": [],
   "source": [
    "#2. Run Time Polymorphism (or) Dynamic Polymorphism\n",
    "# method Overriding and Print() and function are examples"
   ]
  }
 ],
 "metadata": {
  "kernelspec": {
   "display_name": "Python 3",
   "language": "python",
   "name": "python3"
  },
  "language_info": {
   "codemirror_mode": {
    "name": "ipython",
    "version": 3
   },
   "file_extension": ".py",
   "mimetype": "text/x-python",
   "name": "python",
   "nbconvert_exporter": "python",
   "pygments_lexer": "ipython3",
   "version": "3.10.9"
  }
 },
 "nbformat": 4,
 "nbformat_minor": 2
}
