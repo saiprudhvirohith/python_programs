{
 "cells": [
  {
   "cell_type": "code",
   "execution_count": 1,
   "metadata": {},
   "outputs": [],
   "source": [
    "class dog:\n",
    "    pass"
   ]
  },
  {
   "cell_type": "code",
   "execution_count": 2,
   "metadata": {},
   "outputs": [
    {
     "name": "stdout",
     "output_type": "stream",
     "text": [
      "<__main__.dog object at 0x0000015A159757B0>\n"
     ]
    }
   ],
   "source": [
    "obj=dog()\n",
    "print(obj)"
   ]
  },
  {
   "cell_type": "markdown",
   "metadata": {},
   "source": [
    "Class and Object"
   ]
  },
  {
   "cell_type": "code",
   "execution_count": 28,
   "metadata": {},
   "outputs": [
    {
     "name": "stdout",
     "output_type": "stream",
     "text": [
      "10\n",
      "20\n"
     ]
    }
   ],
   "source": [
    "#how to create the class and call the class.\n",
    "class SampleClass:\n",
    "    attribute1=10\n",
    "    attribute2=20\n",
    "print(SampleClass.attribute1)\n",
    "print(SampleClass.attribute2)"
   ]
  },
  {
   "cell_type": "code",
   "execution_count": 29,
   "metadata": {},
   "outputs": [
    {
     "name": "stdout",
     "output_type": "stream",
     "text": [
      "10\n",
      "20\n",
      "10\n",
      "20\n",
      "10\n",
      "20\n"
     ]
    }
   ],
   "source": [
    "#how to create the object by class.\n",
    "obj1=SampleClass()\n",
    "obj2=SampleClass()\n",
    "obj3=SampleClass()\n",
    "print(obj1.attribute1)\n",
    "print(obj1.attribute2)\n",
    "print(obj2.attribute1)\n",
    "print(obj2.attribute2)\n",
    "print(obj3.attribute1)\n",
    "print(obj3.attribute2)\n"
   ]
  },
  {
   "cell_type": "code",
   "execution_count": 30,
   "metadata": {},
   "outputs": [
    {
     "name": "stdout",
     "output_type": "stream",
     "text": [
      "100\n",
      "10\n",
      "10\n",
      "10\n"
     ]
    }
   ],
   "source": [
    "#to check the attribute values by using object.\n",
    "obj1=SampleClass()\n",
    "obj2=SampleClass()\n",
    "obj3=SampleClass()\n",
    "obj1.attribute1=100\n",
    "print(obj1.attribute1)\n",
    "print(obj2.attribute1)\n",
    "print(obj3.attribute1)\n",
    "print(SampleClass.attribute1)# it not change the values in the class"
   ]
  },
  {
   "cell_type": "code",
   "execution_count": 31,
   "metadata": {},
   "outputs": [
    {
     "name": "stdout",
     "output_type": "stream",
     "text": [
      "10\n",
      "100\n",
      "1\n",
      "1\n"
     ]
    }
   ],
   "source": [
    "# to check the attributes values by using class.\n",
    "print(SampleClass.attribute1)\n",
    "SampleClass.attribute1=1\n",
    "print(obj1.attribute1)\n",
    "print(obj2.attribute1)\n",
    "print(obj3.attribute1)"
   ]
  },
  {
   "cell_type": "code",
   "execution_count": 36,
   "metadata": {},
   "outputs": [
    {
     "name": "stdout",
     "output_type": "stream",
     "text": [
      "This method is created to demonstrate methods in class\n"
     ]
    }
   ],
   "source": [
    "# to create methods in class.\n",
    "class SampleClass1:\n",
    "    def sampleMethod(self):# we have to declare self in the function to create methods.\n",
    "        print(\"This method is created to demonstrate methods in class\")\n",
    "n=SampleClass1()\n",
    "n.sampleMethod()"
   ]
  },
  {
   "cell_type": "code",
   "execution_count": 37,
   "metadata": {},
   "outputs": [
    {
     "name": "stdout",
     "output_type": "stream",
     "text": [
      "This method was called automatically when the class was created\n"
     ]
    }
   ],
   "source": [
    "#init method.\n",
    "class ConstructorClass:\n",
    "    def __init__(self):\n",
    "        print(\"This method was called automatically when the class was created\")\n",
    "n=ConstructorClass()"
   ]
  },
  {
   "cell_type": "code",
   "execution_count": 42,
   "metadata": {},
   "outputs": [
    {
     "name": "stdout",
     "output_type": "stream",
     "text": [
      "Rohith 123456789 SBI012345 50000\n"
     ]
    }
   ],
   "source": [
    "class BanckAccount:\n",
    "    def __init__(self,accountNo,accountName,ifseCode,balance):\n",
    "        self.accountNo=accountNo\n",
    "        self.accountName=accountName\n",
    "        self.ifseCode=ifseCode\n",
    "        self.balance=balance\n",
    "    def display(self):\n",
    "        print(self.accountName,self.accountNo,self.ifseCode,self.balance)\n",
    "object1=BanckAccount(123456789,\"Rohith\",\"SBI012345\",50000)\n",
    "object1.display()"
   ]
  },
  {
   "cell_type": "code",
   "execution_count": 47,
   "metadata": {},
   "outputs": [
    {
     "name": "stdout",
     "output_type": "stream",
     "text": [
      "50000\n",
      "40000\n",
      "100000\n"
     ]
    }
   ],
   "source": [
    "class BanckAccount:\n",
    "    #Attributes\n",
    "    def __init__(self,accountNo,accountName,ifseCode,balance):\n",
    "        self.accountNo=accountNo\n",
    "        self.accountName=accountName\n",
    "        self.ifseCode=ifseCode\n",
    "        self.balance=balance\n",
    "    #Methods\n",
    "    def withdraw(self,amount):\n",
    "        self.balance-=amount\n",
    "    def deposit(self,amount):\n",
    "        self.balance+=amount\n",
    "    def CheckBalance(self):\n",
    "        print(self.balance)\n",
    "object1=BanckAccount(123456789,\"Rohith\",\"SBI012345\",50000)\n",
    "object1.CheckBalance()\n",
    "object1.withdraw(10000)\n",
    "object1.CheckBalance()\n",
    "object1.deposit(60000)\n",
    "object1.CheckBalance()\n"
   ]
  }
 ],
 "metadata": {
  "kernelspec": {
   "display_name": "Python 3",
   "language": "python",
   "name": "python3"
  },
  "language_info": {
   "codemirror_mode": {
    "name": "ipython",
    "version": 3
   },
   "file_extension": ".py",
   "mimetype": "text/x-python",
   "name": "python",
   "nbconvert_exporter": "python",
   "pygments_lexer": "ipython3",
   "version": "3.10.9"
  }
 },
 "nbformat": 4,
 "nbformat_minor": 2
}
