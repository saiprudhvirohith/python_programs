{
 "cells": [
  {
   "cell_type": "code",
   "execution_count": 3,
   "metadata": {},
   "outputs": [
    {
     "name": "stdout",
     "output_type": "stream",
     "text": [
      "This is child method\n",
      "This ia parent method\n"
     ]
    }
   ],
   "source": [
    "class GrandParent:\n",
    "    def method(self):\n",
    "        print(\"This is grand parent method\")\n",
    "class Parent:\n",
    "    def method(self):\n",
    "        print(\"This ia parent method\")\n",
    "class Child(Parent):\n",
    "    def method(self):\n",
    "        print(\"This is child method\")\n",
    "object1=Child()\n",
    "object1.method()\n",
    "parent1=Parent()\n",
    "parent1.method()"
   ]
  },
  {
   "cell_type": "code",
   "execution_count": 5,
   "metadata": {},
   "outputs": [
    {
     "name": "stdout",
     "output_type": "stream",
     "text": [
      "This is parent1 method\n"
     ]
    }
   ],
   "source": [
    "class Parent1:\n",
    "    def method(self):\n",
    "        print(\"This is parent1 method\")\n",
    "class Parent2:\n",
    "    def method(self):\n",
    "        print(\"This is parent2 method\")\n",
    "class child(Parent1,Parent2):\n",
    "    # def method(self):\n",
    "    #     print(\"This is child method\")\n",
    "    pass\n",
    "obj=child()\n",
    "obj.method()"
   ]
  },
  {
   "cell_type": "code",
   "execution_count": 8,
   "metadata": {},
   "outputs": [
    {
     "name": "stdout",
     "output_type": "stream",
     "text": [
      "This is child constructor method\n"
     ]
    },
    {
     "data": {
      "text/plain": [
       "<__main__.Child at 0x1d1429990f0>"
      ]
     },
     "execution_count": 8,
     "metadata": {},
     "output_type": "execute_result"
    }
   ],
   "source": [
    "class Parent:\n",
    "    def __init__(self):\n",
    "        print(\"This is parent constructor method\")\n",
    "class Child(Parent):\n",
    "    def __init__(self):\n",
    "        print(\"This is child constructor method\")\n",
    "Child()"
   ]
  },
  {
   "cell_type": "code",
   "execution_count": 10,
   "metadata": {},
   "outputs": [
    {
     "name": "stdout",
     "output_type": "stream",
     "text": [
      "This is child method\n",
      "This is parent method\n"
     ]
    }
   ],
   "source": [
    "class Parent:\n",
    "    def method(self):\n",
    "        print(\"This is parent method\")\n",
    "class Child(Parent):\n",
    "    def method(self):\n",
    "        print(\"This is child method\")\n",
    "        Parent.method(self)##first way to call superclass method\n",
    "c=Child()\n",
    "c.method()"
   ]
  },
  {
   "cell_type": "code",
   "execution_count": 12,
   "metadata": {},
   "outputs": [
    {
     "name": "stdout",
     "output_type": "stream",
     "text": [
      "This is child method\n",
      "This is parent method\n"
     ]
    }
   ],
   "source": [
    "class Parent:\n",
    "    def method(self):\n",
    "        print(\"This is parent method\")\n",
    "class Child(Parent):\n",
    "    def method(self):\n",
    "        print(\"This is child method\")\n",
    "        super().method()##second way to call superclass method\n",
    "C=Child()\n",
    "C.method()"
   ]
  },
  {
   "cell_type": "code",
   "execution_count": 25,
   "metadata": {},
   "outputs": [
    {
     "data": {
      "text/plain": [
       "''"
      ]
     },
     "execution_count": 25,
     "metadata": {},
     "output_type": "execute_result"
    }
   ],
   "source": [
    "a=\"good evening\"\n",
    "a[1:6:1]\n",
    "a[3:10]\n",
    "a[5:10:2]\n",
    "a[::]\n",
    "a[:]\n",
    "a[::-1]\n",
    "a[6:2:-1]\n",
    "a[-1:-8:-2]\n",
    "a[0:50]\n",
    "a[:10:4]\n",
    "a[-4::-2]\n",
    "a[-5:-1:-2]"
   ]
  },
  {
   "cell_type": "code",
   "execution_count": 34,
   "metadata": {},
   "outputs": [
    {
     "data": {
      "text/plain": [
       "'hserev'"
      ]
     },
     "execution_count": 34,
     "metadata": {},
     "output_type": "execute_result"
    }
   ],
   "source": [
    "s=\"veresh is drinking water\"\n",
    "s[-1:-6:-1]\n",
    "s[23:18:-1]\n",
    "s[-7:-15:-1]\n",
    "s[17:9:-1]\n",
    "s[5::-1]"
   ]
  },
  {
   "cell_type": "code",
   "execution_count": 37,
   "metadata": {},
   "outputs": [
    {
     "name": "stdout",
     "output_type": "stream",
     "text": [
      "False\n"
     ]
    }
   ],
   "source": [
    "a=[\"a\",\"b\",\"c\"]\n",
    "b=\"a\"\n",
    "print(b not in a)"
   ]
  },
  {
   "cell_type": "code",
   "execution_count": 40,
   "metadata": {},
   "outputs": [
    {
     "name": "stdout",
     "output_type": "stream",
     "text": [
      "True\n"
     ]
    }
   ],
   "source": [
    "a=10\n",
    "b=100\n",
    "print(a is not b)"
   ]
  },
  {
   "cell_type": "code",
   "execution_count": 43,
   "metadata": {},
   "outputs": [
    {
     "name": "stdout",
     "output_type": "stream",
     "text": [
      "11\n"
     ]
    }
   ],
   "source": [
    "a=1\n",
    "if a<=5:\n",
    "    print(a+10)\n",
    "else:\n",
    "    print(a ,\"is greater than 5\")"
   ]
  },
  {
   "cell_type": "code",
   "execution_count": 46,
   "metadata": {},
   "outputs": [
    {
     "name": "stdout",
     "output_type": "stream",
     "text": [
      "invalid character\n"
     ]
    }
   ],
   "source": [
    "a=\"d\"\n",
    "if len(a)==1 and \"A\"<=a<=\"Z\":\n",
    "    print(\"uppercase\")\n",
    "else:\n",
    "    print(\"invalid character\")"
   ]
  },
  {
   "cell_type": "code",
   "execution_count": 53,
   "metadata": {},
   "outputs": [
    {
     "name": "stdout",
     "output_type": "stream",
     "text": [
      "Not a special character\n"
     ]
    }
   ],
   "source": [
    "a=\"d\"\n",
    "if not(\"a\"<=a<=\"z\" or \"A\"<=a<=\"Z\" or \"0\"<=a<=\"9\"):\n",
    "    print(\"Special Character\")\n",
    "else:\n",
    "    print(\"Not a special character\")"
   ]
  },
  {
   "cell_type": "code",
   "execution_count": 57,
   "metadata": {},
   "outputs": [
    {
     "name": "stdout",
     "output_type": "stream",
     "text": [
      "level\n",
      "palindrome \n"
     ]
    }
   ],
   "source": [
    "a=\"level\"\n",
    "b=\"\"\n",
    "for i in range(0,len(a)):\n",
    "    b=a[i]+b\n",
    "print(b)\n",
    "if a==b:\n",
    "    print(\"palindrome \")\n",
    "else:\n",
    "    print(\"not a palindrome\")"
   ]
  },
  {
   "cell_type": "code",
   "execution_count": 59,
   "metadata": {},
   "outputs": [],
   "source": [
    "num=8\n",
    "if num%5==0 and num%3==0:\n",
    "    print(num,\" is divisible by both 5 and 3\")\n",
    "elif num%5==0:\n",
    "    print(num+20)\n",
    "elif num%3==0:\n",
    "    print(num+20)\n",
    "else:\n",
    "    print(num,\"is not dividible by both 5 and 3\")"
   ]
  },
  {
   "cell_type": "code",
   "execution_count": 60,
   "metadata": {},
   "outputs": [
    {
     "name": "stdout",
     "output_type": "stream",
     "text": [
      "1\n",
      "2\n",
      "3\n",
      "4\n",
      "5\n"
     ]
    }
   ],
   "source": [
    "num=5\n",
    "i=1\n",
    "while i<=num:\n",
    "    print(i)\n",
    "    i+=1"
   ]
  },
  {
   "cell_type": "code",
   "execution_count": 64,
   "metadata": {},
   "outputs": [
    {
     "name": "stdout",
     "output_type": "stream",
     "text": [
      "730\n"
     ]
    }
   ],
   "source": [
    "l=[10,20,33,44,55,77,88,120,565]\n",
    "sumodd=0\n",
    "for i in range(0,len(l)):\n",
    "    if l[i]%2!=0:\n",
    "        sumodd+=l[i]\n",
    "print(sumodd)"
   ]
  },
  {
   "cell_type": "code",
   "execution_count": 68,
   "metadata": {},
   "outputs": [
    {
     "name": "stdout",
     "output_type": "stream",
     "text": [
      "APPLE\n"
     ]
    }
   ],
   "source": [
    "a=\"ApplE\"\n",
    "b=\"\"\n",
    "for i in range(0,len(a)):\n",
    "    if \"a\"<=a[i]<=\"z\":\n",
    "        b=b+chr(ord(a[i])-32)\n",
    "    else:\n",
    "        b=b+a[i]\n",
    "print(b)"
   ]
  },
  {
   "cell_type": "code",
   "execution_count": 72,
   "metadata": {},
   "outputs": [
    {
     "name": "stdout",
     "output_type": "stream",
     "text": [
      "apple\n"
     ]
    }
   ],
   "source": [
    "a=\"ApplE\"\n",
    "locase=\"\"\n",
    "for i in range(0,len(a)):\n",
    "    if \"A\"<=a[i]<=\"Z\":\n",
    "        locase=locase+chr(ord(a[i])+32)\n",
    "    else:\n",
    "        locase=locase+a[i]\n",
    "print(locase)"
   ]
  }
 ],
 "metadata": {
  "kernelspec": {
   "display_name": "Python 3",
   "language": "python",
   "name": "python3"
  },
  "language_info": {
   "codemirror_mode": {
    "name": "ipython",
    "version": 3
   },
   "file_extension": ".py",
   "mimetype": "text/x-python",
   "name": "python",
   "nbconvert_exporter": "python",
   "pygments_lexer": "ipython3",
   "version": "3.10.9"
  }
 },
 "nbformat": 4,
 "nbformat_minor": 2
}
