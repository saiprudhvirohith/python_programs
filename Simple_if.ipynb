{
 "cells": [
  {
   "cell_type": "code",
   "execution_count": 1,
   "metadata": {},
   "outputs": [
    {
     "name": "stdout",
     "output_type": "stream",
     "text": [
      "Positive\n"
     ]
    }
   ],
   "source": [
    "#1.WAP to check whether a number is positive. If Positive, print a message Positive.\n",
    "n=10\n",
    "if n>=0:\n",
    "    print(\"Positive\")"
   ]
  },
  {
   "cell_type": "code",
   "execution_count": 2,
   "metadata": {},
   "outputs": [
    {
     "name": "stdout",
     "output_type": "stream",
     "text": [
      "Hello world\n"
     ]
    }
   ],
   "source": [
    "#2.WAP to display hello world if the number is greater than 1 and lesser than 5.\n",
    "n=3\n",
    "if n>1 and n<5:\n",
    "    print(\"Hello world\")"
   ]
  },
  {
   "cell_type": "code",
   "execution_count": 3,
   "metadata": {},
   "outputs": [
    {
     "name": "stdout",
     "output_type": "stream",
     "text": [
      "Fizz\n"
     ]
    }
   ],
   "source": [
    "#3.WAP to check whether the given number is divisible by 3 or not if print fizz.\n",
    "n=21\n",
    "if n%3==0:\n",
    "    print(\"Fizz\")"
   ]
  },
  {
   "cell_type": "code",
   "execution_count": 4,
   "metadata": {},
   "outputs": [
    {
     "name": "stdout",
     "output_type": "stream",
     "text": [
      "(12+0j)\n"
     ]
    }
   ],
   "source": [
    "#4.WAP to check whether given input is divisible by 2 and 6. If the condition is satisfied, convert the given number into a complex number.\n",
    "n=12\n",
    "if n%2==0 and n%6==0:\n",
    "    con=complex(n)\n",
    "    print(con)"
   ]
  },
  {
   "cell_type": "code",
   "execution_count": 5,
   "metadata": {},
   "outputs": [
    {
     "name": "stdout",
     "output_type": "stream",
     "text": [
      "['3', '0']\n"
     ]
    }
   ],
   "source": [
    "#5.WAP to check whether a given input is divisible by 3 or 5. If the condition is satisfied, the number is converted to a list.\n",
    "# i/p: 30\n",
    "# o/p:[‘3’,’0’]\n",
    "n=30\n",
    "if n%3==0 and n%5==0:\n",
    "    l=list(str(n))\n",
    "    print(l)"
   ]
  },
  {
   "cell_type": "code",
   "execution_count": 6,
   "metadata": {},
   "outputs": [
    {
     "name": "stdout",
     "output_type": "stream",
     "text": [
      "120 is multiple of 5.\n"
     ]
    }
   ],
   "source": [
    "#6.Write a program to check whether a given number is multiple of 5 or not.\n",
    "n=120\n",
    "if n%5==0:\n",
    "    print(n,\"is multiple of 5.\")"
   ]
  },
  {
   "cell_type": "code",
   "execution_count": 7,
   "metadata": {},
   "outputs": [
    {
     "name": "stdout",
     "output_type": "stream",
     "text": [
      "0\n"
     ]
    }
   ],
   "source": [
    "#7.WAP to check whether the given input is 0 or not if 0 prints 0.\n",
    "n=0\n",
    "if n==0:\n",
    "    print(n)"
   ]
  },
  {
   "cell_type": "code",
   "execution_count": 8,
   "metadata": {},
   "outputs": [
    {
     "name": "stdout",
     "output_type": "stream",
     "text": [
      "Negative\n"
     ]
    }
   ],
   "source": [
    "#8.WAP to check whether a number is negative. If negative, print a message negative.\n",
    "n=-143\n",
    "if n<0:\n",
    "    print('Negative')"
   ]
  },
  {
   "cell_type": "code",
   "execution_count": 19,
   "metadata": {},
   "outputs": [
    {
     "name": "stdout",
     "output_type": "stream",
     "text": [
      "[22]\n",
      "[22]\n"
     ]
    }
   ],
   "source": [
    "#9.WAP to check whether a number is even or not. If even, store the value inside the list.\n",
    "n=22\n",
    "l=[]\n",
    "if n%2==0:\n",
    "    l+=[n]\n",
    "    print(l)"
   ]
  },
  {
   "cell_type": "code",
   "execution_count": 24,
   "metadata": {},
   "outputs": [
    {
     "name": "stdout",
     "output_type": "stream",
     "text": [
      "(39,)\n"
     ]
    }
   ],
   "source": [
    "#10.WAP to check whether a number is odd or not. If odd, store the value inside the tuple.\n",
    "n=39\n",
    "l=()\n",
    "if n%2!=0:\n",
    "    l+=(n,)\n",
    "    print(l)"
   ]
  },
  {
   "cell_type": "code",
   "execution_count": 25,
   "metadata": {},
   "outputs": [
    {
     "name": "stdout",
     "output_type": "stream",
     "text": [
      "3748096\n"
     ]
    }
   ],
   "source": [
    "#11.WAP to check if the given number is even or not. if it is yes, to print the power of 4 in a given number.\n",
    "n=44\n",
    "if n%2==0:\n",
    "    print(n**4)"
   ]
  },
  {
   "cell_type": "code",
   "execution_count": 26,
   "metadata": {},
   "outputs": [
    {
     "name": "stdout",
     "output_type": "stream",
     "text": [
      "21\n"
     ]
    }
   ],
   "source": [
    "#12.WAP to take the input from the user as a number and check whether it is a number or not. if yes. take the number and add some value and print it.\n",
    "n=20\n",
    "if type(n)==int:\n",
    "    print(n+1)"
   ]
  },
  {
   "cell_type": "code",
   "execution_count": 27,
   "metadata": {},
   "outputs": [
    {
     "name": "stdout",
     "output_type": "stream",
     "text": [
      "1225\n"
     ]
    }
   ],
   "source": [
    "#13.WAP to check whether a given value is divisible by 5 and 7. If the value is divisible,to display the square of the values.\n",
    "n=35\n",
    "if n%5==0 and n%7==0:\n",
    "    print(n**2)"
   ]
  },
  {
   "cell_type": "code",
   "execution_count": 28,
   "metadata": {},
   "outputs": [
    {
     "name": "stdout",
     "output_type": "stream",
     "text": [
      "6\n"
     ]
    }
   ],
   "source": [
    "#14.WAP to check whether the given value's last digit is greater than 5 or not.if greater, to perform the bitwise right shift operator (skipping value is 2).\n",
    "n=25\n",
    "if (n%10)%5==0:\n",
    "    print(n>>2)"
   ]
  },
  {
   "cell_type": "code",
   "execution_count": 29,
   "metadata": {},
   "outputs": [
    {
     "name": "stdout",
     "output_type": "stream",
     "text": [
      "576\n"
     ]
    }
   ],
   "source": [
    "#15.WAP to check whether a given value is divisible by 3 and less than 30. If the value is divisible,to display the square of the values.\n",
    "n=24\n",
    "if n%3==0 and n<30:\n",
    "    print(n**2)"
   ]
  },
  {
   "cell_type": "code",
   "execution_count": 32,
   "metadata": {},
   "outputs": [
    {
     "name": "stdout",
     "output_type": "stream",
     "text": [
      "21952\n"
     ]
    }
   ],
   "source": [
    "#16.WAP to check whether a given value is an even number and divisible by 4. If satisfied ,to display the cube of the values.\n",
    "n=28\n",
    "if n%2==0 and n%4==0:\n",
    "    print(n**3)"
   ]
  },
  {
   "cell_type": "code",
   "execution_count": 69,
   "metadata": {},
   "outputs": [
    {
     "name": "stdout",
     "output_type": "stream",
     "text": [
      "8\n",
      "-8\n",
      "8\n"
     ]
    }
   ],
   "source": [
    "#17.WAP to check whether a given value is a negative or even number. If satisfied ,to display the last digit of the values.\n",
    "n=-48\n",
    "if n<0 or n%2==0:\n",
    "    print(abs(n)%10)\n",
    "    print(n-(10*int(n/10)))\n",
    "    print((n*(-1))%10)"
   ]
  },
  {
   "cell_type": "code",
   "execution_count": 72,
   "metadata": {},
   "outputs": [
    {
     "name": "stdout",
     "output_type": "stream",
     "text": [
      "-110592\n"
     ]
    }
   ],
   "source": [
    "#18.WAP to check whether a given value is a negative or odd number and divisible by 4. If satisfied ,to display the cube of the values.\n",
    "n=-48\n",
    "if (n<0 or n%2!=0) and n%4==0:\n",
    "    print(n**3)"
   ]
  },
  {
   "cell_type": "code",
   "execution_count": 76,
   "metadata": {},
   "outputs": [
    {
     "name": "stdout",
     "output_type": "stream",
     "text": [
      "D\n"
     ]
    }
   ],
   "source": [
    "#19.WAP to check whether a given ascii value is divisible by 4 and even value. If satisfied, to display the ascii character.\n",
    "n=68\n",
    "if n%4==0 and n%2==0:\n",
    "    print(chr(n))"
   ]
  },
  {
   "cell_type": "code",
   "execution_count": 81,
   "metadata": {},
   "outputs": [
    {
     "name": "stdout",
     "output_type": "stream",
     "text": [
      "x\n"
     ]
    }
   ],
   "source": [
    "#20.WAP to check whether a given value is present in between 45 to 125 and the number should be divisible by 4 and 5 and even value. If satisfied, to display the ascii character.\n",
    "n=120\n",
    "if 45<=n<=125 and n%2==0 and n%4==0 and n%5==0:\n",
    "    print(chr(n))"
   ]
  },
  {
   "cell_type": "code",
   "execution_count": 83,
   "metadata": {},
   "outputs": [
    {
     "name": "stdout",
     "output_type": "stream",
     "text": [
      "500\n"
     ]
    }
   ],
   "source": [
    "#21.WAP to check whether a given value is present in between 25 to 100 and the number should be divisible by 4 and 5. If satisfied, to display multiplication of given value with 5.\n",
    "n=100\n",
    "if 25<=n<=100 and n%4==0 and n%5==0:\n",
    "    print(n*5)"
   ]
  },
  {
   "cell_type": "code",
   "execution_count": 84,
   "metadata": {},
   "outputs": [
    {
     "name": "stdout",
     "output_type": "stream",
     "text": [
      "True\n"
     ]
    }
   ],
   "source": [
    "#22.WAP to check whether a given number is an integer and odd number. If the condition is satisfied, the integer is divisible by 5 and displays the result.\n",
    "n=125\n",
    "if type(n)==int and n%2!=0:\n",
    "    print(n%5==0)"
   ]
  },
  {
   "cell_type": "code",
   "execution_count": 87,
   "metadata": {},
   "outputs": [
    {
     "name": "stdout",
     "output_type": "stream",
     "text": [
      "143 <class 'str'>\n"
     ]
    }
   ],
   "source": [
    "#23.WAP to check whether a given value is an integer or not. If integer, the given value is converted to string and displays the result.\n",
    "n=143\n",
    "if type(n)==int:\n",
    "    m=str(n)\n",
    "    print(m,type(m))"
   ]
  },
  {
   "cell_type": "code",
   "execution_count": 88,
   "metadata": {},
   "outputs": [
    {
     "name": "stdout",
     "output_type": "stream",
     "text": [
      "D\n"
     ]
    }
   ],
   "source": [
    "#24.WAP to check whether a given value is less than 125 and greater than 60 or not. If the condition is satisfied, take the name and extract the middle character and display it.\n",
    "n=100\n",
    "m=\"PRUDHVI\"\n",
    "if 60<n<125:\n",
    "    print(m[len(m)//2])"
   ]
  },
  {
   "cell_type": "code",
   "execution_count": 89,
   "metadata": {},
   "outputs": [
    {
     "name": "stdout",
     "output_type": "stream",
     "text": [
      "500\n"
     ]
    }
   ],
   "source": [
    "#25.WAP to check whether a given two integers are equal or not. If both are equal, to perform addition and display the result.\n",
    "n=250\n",
    "m=250\n",
    "if n==m:\n",
    "    print(n+m)"
   ]
  },
  {
   "cell_type": "code",
   "execution_count": 91,
   "metadata": {},
   "outputs": [
    {
     "name": "stdout",
     "output_type": "stream",
     "text": [
      "81\n"
     ]
    }
   ],
   "source": [
    "#26.WAP to check whether two values are equal or not. if equal, to perform multiplication of two numbers and that result is division by 3 and display the value.\n",
    "n=9\n",
    "m=9\n",
    "if n==m:\n",
    "    o=n*m\n",
    "    print((o)%3==0 and o )"
   ]
  },
  {
   "cell_type": "code",
   "execution_count": 97,
   "metadata": {},
   "outputs": [
    {
     "name": "stdout",
     "output_type": "stream",
     "text": [
      "{'B': 66}\n"
     ]
    }
   ],
   "source": [
    "#27.WAP to check whether a character is in the alphabet or not. If the alphabet, store the value inside the dict(key as a character and value as an ascii value).\n",
    "n='B'\n",
    "o={}\n",
    "if len(n)==1 and ('A'<=n<='Z' or 'a'<=n<='z'):\n",
    "    o[n]=ord(n)\n",
    "    print(o)\n",
    "    "
   ]
  },
  {
   "cell_type": "code",
   "execution_count": 99,
   "metadata": {},
   "outputs": [
    {
     "name": "stdout",
     "output_type": "stream",
     "text": [
      "{'X': 88}\n"
     ]
    }
   ],
   "source": [
    "#28.WAP to check whether a character is in the uppercase or not. If the uppercase, store the value inside the dict(key as a character and value as an ascii value).\n",
    "n='X'\n",
    "o={}\n",
    "if len(n)==1 and 'A'<=n<='Z':\n",
    "    o[n]=ord(n)\n",
    "    print(o)\n",
    "    "
   ]
  },
  {
   "cell_type": "code",
   "execution_count": 100,
   "metadata": {},
   "outputs": [
    {
     "name": "stdout",
     "output_type": "stream",
     "text": [
      "{'r': 114}\n"
     ]
    }
   ],
   "source": [
    "#29.WAP to check whether a character is in the uppercase or not. If the uppercase, convert to lowercase and store the value inside the dict(character as a key and ascii value as a value).\n",
    "n='R'\n",
    "o={}\n",
    "if len(n)==1 and 'A'<=n<='Z':\n",
    "    o[chr(ord(n)+32)]=ord(n)+32\n",
    "    print(o)"
   ]
  },
  {
   "cell_type": "code",
   "execution_count": 103,
   "metadata": {},
   "outputs": [
    {
     "name": "stdout",
     "output_type": "stream",
     "text": [
      "qq\n"
     ]
    }
   ],
   "source": [
    "#30.WAP to check whether a character is in the lowercase or not. If the lowercase, to perform the replication operation on that character.\n",
    "n='q'\n",
    "if len(n)==1 and 'a'<=n<='z':\n",
    "    print(n*2)"
   ]
  },
  {
   "cell_type": "code",
   "execution_count": 104,
   "metadata": {},
   "outputs": [
    {
     "name": "stdout",
     "output_type": "stream",
     "text": [
      "1 <class 'int'>\n"
     ]
    }
   ],
   "source": [
    "#31.WAP to check whether a character is in the ascii number or not. If the ascii number, to convert into integer.\n",
    "n=\"1\"\n",
    "if '0'<=n<='9':\n",
    "    m=int(n)\n",
    "    print(m,type(m))"
   ]
  },
  {
   "cell_type": "code",
   "execution_count": 105,
   "metadata": {},
   "outputs": [
    {
     "name": "stdout",
     "output_type": "stream",
     "text": [
      "$ 36\n"
     ]
    }
   ],
   "source": [
    "#32.WAP to check whether a character is in the special symbol or not. If the special symbol, to display a symbol with ascii value.\n",
    "n='$'\n",
    "if not('A'<=n<='Z' or 'a'<=n<='z' or '0'<=n<='9'):\n",
    "    print(n,ord(n))"
   ]
  }
 ],
 "metadata": {
  "kernelspec": {
   "display_name": "Python 3",
   "language": "python",
   "name": "python3"
  },
  "language_info": {
   "codemirror_mode": {
    "name": "ipython",
    "version": 3
   },
   "file_extension": ".py",
   "mimetype": "text/x-python",
   "name": "python",
   "nbconvert_exporter": "python",
   "pygments_lexer": "ipython3",
   "version": "3.10.9"
  },
  "orig_nbformat": 4
 },
 "nbformat": 4,
 "nbformat_minor": 2
}
