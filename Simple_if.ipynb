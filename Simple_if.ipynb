{
 "cells": [
  {
   "cell_type": "code",
   "execution_count": 1,
   "metadata": {},
   "outputs": [
    {
     "name": "stdout",
     "output_type": "stream",
     "text": [
      "Positive\n"
     ]
    }
   ],
   "source": [
    "#1.WAP to check whether a number is positive. If Positive, print a message Positive.\n",
    "n=10\n",
    "if n>=0:\n",
    "    print(\"Positive\")"
   ]
  },
  {
   "cell_type": "code",
   "execution_count": 2,
   "metadata": {},
   "outputs": [
    {
     "name": "stdout",
     "output_type": "stream",
     "text": [
      "Hello world\n"
     ]
    }
   ],
   "source": [
    "#2.WAP to display hello world if the number is greater than 1 and lesser than 5.\n",
    "n=3\n",
    "if n>1 and n<5:\n",
    "    print(\"Hello world\")"
   ]
  },
  {
   "cell_type": "code",
   "execution_count": 3,
   "metadata": {},
   "outputs": [
    {
     "name": "stdout",
     "output_type": "stream",
     "text": [
      "Fizz\n"
     ]
    }
   ],
   "source": [
    "#3.WAP to check whether the given number is divisible by 3 or not if print fizz.\n",
    "n=21\n",
    "if n%3==0:\n",
    "    print(\"Fizz\")"
   ]
  },
  {
   "cell_type": "code",
   "execution_count": 4,
   "metadata": {},
   "outputs": [
    {
     "name": "stdout",
     "output_type": "stream",
     "text": [
      "(12+0j)\n"
     ]
    }
   ],
   "source": [
    "#4.WAP to check whether given input is divisible by 2 and 6. If the condition is satisfied, convert the given number into a complex number.\n",
    "n=12\n",
    "if n%2==0 and n%6==0:\n",
    "    con=complex(n)\n",
    "    print(con)"
   ]
  },
  {
   "cell_type": "code",
   "execution_count": 5,
   "metadata": {},
   "outputs": [
    {
     "name": "stdout",
     "output_type": "stream",
     "text": [
      "['3', '0']\n"
     ]
    }
   ],
   "source": [
    "#5.WAP to check whether a given input is divisible by 3 or 5. If the condition is satisfied, the number is converted to a list.\n",
    "# i/p: 30\n",
    "# o/p:[‘3’,’0’]\n",
    "n=30\n",
    "if n%3==0 and n%5==0:\n",
    "    l=list(str(n))\n",
    "    print(l)"
   ]
  },
  {
   "cell_type": "code",
   "execution_count": 6,
   "metadata": {},
   "outputs": [
    {
     "name": "stdout",
     "output_type": "stream",
     "text": [
      "120 is multiple of 5.\n"
     ]
    }
   ],
   "source": [
    "#6.Write a program to check whether a given number is multiple of 5 or not.\n",
    "n=120\n",
    "if n%5==0:\n",
    "    print(n,\"is multiple of 5.\")"
   ]
  },
  {
   "cell_type": "code",
   "execution_count": 7,
   "metadata": {},
   "outputs": [
    {
     "name": "stdout",
     "output_type": "stream",
     "text": [
      "0\n"
     ]
    }
   ],
   "source": [
    "#7.WAP to check whether the given input is 0 or not if 0 prints 0.\n",
    "n=0\n",
    "if n==0:\n",
    "    print(n)"
   ]
  },
  {
   "cell_type": "code",
   "execution_count": 8,
   "metadata": {},
   "outputs": [
    {
     "name": "stdout",
     "output_type": "stream",
     "text": [
      "Negative\n"
     ]
    }
   ],
   "source": [
    "#8.WAP to check whether a number is negative. If negative, print a message negative.\n",
    "n=-143\n",
    "if n<0:\n",
    "    print('Negative')"
   ]
  },
  {
   "cell_type": "code",
   "execution_count": 19,
   "metadata": {},
   "outputs": [
    {
     "name": "stdout",
     "output_type": "stream",
     "text": [
      "[22]\n",
      "[22]\n"
     ]
    }
   ],
   "source": [
    "#9.WAP to check whether a number is even or not. If even, store the value inside the list.\n",
    "n=22\n",
    "l=[]\n",
    "if n%2==0:\n",
    "    l+=[n]\n",
    "    print(l)"
   ]
  },
  {
   "cell_type": "code",
   "execution_count": 24,
   "metadata": {},
   "outputs": [
    {
     "name": "stdout",
     "output_type": "stream",
     "text": [
      "(39,)\n"
     ]
    }
   ],
   "source": [
    "#10.WAP to check whether a number is odd or not. If odd, store the value inside the tuple.\n",
    "n=39\n",
    "l=()\n",
    "if n%2!=0:\n",
    "    l+=(n,)\n",
    "    print(l)"
   ]
  },
  {
   "cell_type": "code",
   "execution_count": 25,
   "metadata": {},
   "outputs": [
    {
     "name": "stdout",
     "output_type": "stream",
     "text": [
      "3748096\n"
     ]
    }
   ],
   "source": [
    "#11.WAP to check if the given number is even or not. if it is yes, to print the power of 4 in a given number.\n",
    "n=44\n",
    "if n%2==0:\n",
    "    print(n**4)"
   ]
  },
  {
   "cell_type": "code",
   "execution_count": 26,
   "metadata": {},
   "outputs": [
    {
     "name": "stdout",
     "output_type": "stream",
     "text": [
      "21\n"
     ]
    }
   ],
   "source": [
    "#12.WAP to take the input from the user as a number and check whether it is a number or not. if yes. take the number and add some value and print it.\n",
    "n=20\n",
    "if type(n)==int:\n",
    "    print(n+1)"
   ]
  },
  {
   "cell_type": "code",
   "execution_count": 27,
   "metadata": {},
   "outputs": [
    {
     "name": "stdout",
     "output_type": "stream",
     "text": [
      "1225\n"
     ]
    }
   ],
   "source": [
    "#13.WAP to check whether a given value is divisible by 5 and 7. If the value is divisible,to display the square of the values.\n",
    "n=35\n",
    "if n%5==0 and n%7==0:\n",
    "    print(n**2)"
   ]
  },
  {
   "cell_type": "code",
   "execution_count": 4,
   "metadata": {},
   "outputs": [
    {
     "name": "stdout",
     "output_type": "stream",
     "text": [
      "6\n"
     ]
    }
   ],
   "source": [
    "#14.WAP to check whether the given value's last digit is greater than 5 or not.if greater, to perform the bitwise right shift operator (skipping value is 2).\n",
    "n=26\n",
    "if (n%10)>5:\n",
    "    print(n>>2)"
   ]
  },
  {
   "cell_type": "code",
   "execution_count": 29,
   "metadata": {},
   "outputs": [
    {
     "name": "stdout",
     "output_type": "stream",
     "text": [
      "576\n"
     ]
    }
   ],
   "source": [
    "#15.WAP to check whether a given value is divisible by 3 and less than 30. If the value is divisible,to display the square of the values.\n",
    "n=24\n",
    "if n%3==0 and n<30:\n",
    "    print(n**2)"
   ]
  },
  {
   "cell_type": "code",
   "execution_count": 32,
   "metadata": {},
   "outputs": [
    {
     "name": "stdout",
     "output_type": "stream",
     "text": [
      "21952\n"
     ]
    }
   ],
   "source": [
    "#16.WAP to check whether a given value is an even number and divisible by 4. If satisfied ,to display the cube of the values.\n",
    "n=28\n",
    "if n%2==0 and n%4==0:\n",
    "    print(n**3)"
   ]
  },
  {
   "cell_type": "code",
   "execution_count": 69,
   "metadata": {},
   "outputs": [
    {
     "name": "stdout",
     "output_type": "stream",
     "text": [
      "8\n",
      "-8\n",
      "8\n"
     ]
    }
   ],
   "source": [
    "#17.WAP to check whether a given value is a negative or even number. If satisfied ,to display the last digit of the values.\n",
    "n=-48\n",
    "if n<0 or n%2==0:\n",
    "    print(abs(n)%10)\n",
    "    print(n-(10*int(n/10)))\n",
    "    print((n*(-1))%10)"
   ]
  },
  {
   "cell_type": "code",
   "execution_count": 72,
   "metadata": {},
   "outputs": [
    {
     "name": "stdout",
     "output_type": "stream",
     "text": [
      "-110592\n"
     ]
    }
   ],
   "source": [
    "#18.WAP to check whether a given value is a negative or odd number and divisible by 4. If satisfied ,to display the cube of the values.\n",
    "n=-48\n",
    "if (n<0 or n%2!=0) and n%4==0:\n",
    "    print(n**3)"
   ]
  },
  {
   "cell_type": "code",
   "execution_count": 76,
   "metadata": {},
   "outputs": [
    {
     "name": "stdout",
     "output_type": "stream",
     "text": [
      "D\n"
     ]
    }
   ],
   "source": [
    "#19.WAP to check whether a given ascii value is divisible by 4 and even value. If satisfied, to display the ascii character.\n",
    "n=68\n",
    "if n%4==0 and n%2==0:\n",
    "    print(chr(n))"
   ]
  },
  {
   "cell_type": "code",
   "execution_count": 81,
   "metadata": {},
   "outputs": [
    {
     "name": "stdout",
     "output_type": "stream",
     "text": [
      "x\n"
     ]
    }
   ],
   "source": [
    "#20.WAP to check whether a given value is present in between 45 to 125 and the number should be divisible by 4 and 5 and even value. If satisfied, to display the ascii character.\n",
    "n=120\n",
    "if 45<=n<=125 and n%2==0 and n%4==0 and n%5==0:\n",
    "    print(chr(n))"
   ]
  },
  {
   "cell_type": "code",
   "execution_count": 83,
   "metadata": {},
   "outputs": [
    {
     "name": "stdout",
     "output_type": "stream",
     "text": [
      "500\n"
     ]
    }
   ],
   "source": [
    "#21.WAP to check whether a given value is present in between 25 to 100 and the number should be divisible by 4 and 5. If satisfied, to display multiplication of given value with 5.\n",
    "n=100\n",
    "if 25<=n<=100 and n%4==0 and n%5==0:\n",
    "    print(n*5)"
   ]
  },
  {
   "cell_type": "code",
   "execution_count": 84,
   "metadata": {},
   "outputs": [
    {
     "name": "stdout",
     "output_type": "stream",
     "text": [
      "True\n"
     ]
    }
   ],
   "source": [
    "#22.WAP to check whether a given number is an integer and odd number. If the condition is satisfied, the integer is divisible by 5 and displays the result.\n",
    "n=125\n",
    "if type(n)==int and n%2!=0:\n",
    "    print(n%5==0)"
   ]
  },
  {
   "cell_type": "code",
   "execution_count": 87,
   "metadata": {},
   "outputs": [
    {
     "name": "stdout",
     "output_type": "stream",
     "text": [
      "143 <class 'str'>\n"
     ]
    }
   ],
   "source": [
    "#23.WAP to check whether a given value is an integer or not. If integer, the given value is converted to string and displays the result.\n",
    "n=143\n",
    "if type(n)==int:\n",
    "    m=str(n)\n",
    "    print(m,type(m))"
   ]
  },
  {
   "cell_type": "code",
   "execution_count": 88,
   "metadata": {},
   "outputs": [
    {
     "name": "stdout",
     "output_type": "stream",
     "text": [
      "D\n"
     ]
    }
   ],
   "source": [
    "#24.WAP to check whether a given value is less than 125 and greater than 60 or not. If the condition is satisfied, take the name and extract the middle character and display it.\n",
    "n=100\n",
    "m=\"PRUDHVI\"\n",
    "if 60<n<125:\n",
    "    print(m[len(m)//2])"
   ]
  },
  {
   "cell_type": "code",
   "execution_count": 89,
   "metadata": {},
   "outputs": [
    {
     "name": "stdout",
     "output_type": "stream",
     "text": [
      "500\n"
     ]
    }
   ],
   "source": [
    "#25.WAP to check whether a given two integers are equal or not. If both are equal, to perform addition and display the result.\n",
    "n=250\n",
    "m=250\n",
    "if n==m:\n",
    "    print(n+m)"
   ]
  },
  {
   "cell_type": "code",
   "execution_count": 91,
   "metadata": {},
   "outputs": [
    {
     "name": "stdout",
     "output_type": "stream",
     "text": [
      "81\n"
     ]
    }
   ],
   "source": [
    "#26.WAP to check whether two values are equal or not. if equal, to perform multiplication of two numbers and that result is division by 3 and display the value.\n",
    "n=9\n",
    "m=9\n",
    "if n==m:\n",
    "    o=n*m\n",
    "    print((o)%3==0 and o )"
   ]
  },
  {
   "cell_type": "code",
   "execution_count": 97,
   "metadata": {},
   "outputs": [
    {
     "name": "stdout",
     "output_type": "stream",
     "text": [
      "{'B': 66}\n"
     ]
    }
   ],
   "source": [
    "#27.WAP to check whether a character is in the alphabet or not. If the alphabet, store the value inside the dict(key as a character and value as an ascii value).\n",
    "n='B'\n",
    "o={}\n",
    "if len(n)==1 and ('A'<=n<='Z' or 'a'<=n<='z'):\n",
    "    o[n]=ord(n)\n",
    "    print(o)\n",
    "    "
   ]
  },
  {
   "cell_type": "code",
   "execution_count": 99,
   "metadata": {},
   "outputs": [
    {
     "name": "stdout",
     "output_type": "stream",
     "text": [
      "{'X': 88}\n"
     ]
    }
   ],
   "source": [
    "#28.WAP to check whether a character is in the uppercase or not. If the uppercase, store the value inside the dict(key as a character and value as an ascii value).\n",
    "n='X'\n",
    "o={}\n",
    "if len(n)==1 and 'A'<=n<='Z':\n",
    "    o[n]=ord(n)\n",
    "    print(o)\n",
    "    "
   ]
  },
  {
   "cell_type": "code",
   "execution_count": 100,
   "metadata": {},
   "outputs": [
    {
     "name": "stdout",
     "output_type": "stream",
     "text": [
      "{'r': 114}\n"
     ]
    }
   ],
   "source": [
    "#29.WAP to check whether a character is in the uppercase or not. If the uppercase, convert to lowercase and store the value inside the dict(character as a key and ascii value as a value).\n",
    "n='R'\n",
    "o={}\n",
    "if len(n)==1 and 'A'<=n<='Z':\n",
    "    o[chr(ord(n)+32)]=ord(n)+32\n",
    "    print(o)"
   ]
  },
  {
   "cell_type": "code",
   "execution_count": 103,
   "metadata": {},
   "outputs": [
    {
     "name": "stdout",
     "output_type": "stream",
     "text": [
      "qq\n"
     ]
    }
   ],
   "source": [
    "#30.WAP to check whether a character is in the lowercase or not. If the lowercase, to perform the replication operation on that character.\n",
    "n='q'\n",
    "if len(n)==1 and 'a'<=n<='z':\n",
    "    print(n*2)"
   ]
  },
  {
   "cell_type": "code",
   "execution_count": 104,
   "metadata": {},
   "outputs": [
    {
     "name": "stdout",
     "output_type": "stream",
     "text": [
      "1 <class 'int'>\n"
     ]
    }
   ],
   "source": [
    "#31.WAP to check whether a character is in the ascii number or not. If the ascii number, to convert into integer.\n",
    "n=\"1\"\n",
    "if '0'<=n<='9':\n",
    "    m=int(n)\n",
    "    print(m,type(m))"
   ]
  },
  {
   "cell_type": "code",
   "execution_count": 105,
   "metadata": {},
   "outputs": [
    {
     "name": "stdout",
     "output_type": "stream",
     "text": [
      "$ 36\n"
     ]
    }
   ],
   "source": [
    "#32.WAP to check whether a character is in the special symbol or not. If the special symbol, to display a symbol with ascii value.\n",
    "n='$'\n",
    "if not('A'<=n<='Z' or 'a'<=n<='z' or '0'<=n<='9'):\n",
    "    print(n,ord(n))"
   ]
  },
  {
   "cell_type": "code",
   "execution_count": 1,
   "metadata": {},
   "outputs": [
    {
     "name": "stdout",
     "output_type": "stream",
     "text": [
      "64 is a even number.\n"
     ]
    }
   ],
   "source": [
    "#33.WAP to check whether a character is an even number or not. If the even number, to display an even number.\n",
    "n=64\n",
    "if n%2==0:\n",
    "    print(n,\"is a even number.\")"
   ]
  },
  {
   "cell_type": "code",
   "execution_count": 4,
   "metadata": {},
   "outputs": [
    {
     "name": "stdout",
     "output_type": "stream",
     "text": [
      "100\n"
     ]
    }
   ],
   "source": [
    "#34.WAP to check whether a Given two integers a and b, if any of the integers is 10 or if their sum is 10, to perform the sum of the numbers and to display the square of the result.\n",
    "n=5\n",
    "m=5\n",
    "if (n==10 or m==10) or (n+m)==10:\n",
    "    print((n+m)**2)"
   ]
  },
  {
   "cell_type": "code",
   "execution_count": 5,
   "metadata": {},
   "outputs": [
    {
     "name": "stdout",
     "output_type": "stream",
     "text": [
      "b\n"
     ]
    }
   ],
   "source": [
    "#35.WAP to check whether a character is in the vowel or not. If the vowel,print the next character.\n",
    "n=\"a\"\n",
    "if n in 'aeiouAEIOU':\n",
    "    print(chr(ord(n)+1))"
   ]
  },
  {
   "cell_type": "code",
   "execution_count": 8,
   "metadata": {},
   "outputs": [
    {
     "name": "stdout",
     "output_type": "stream",
     "text": [
      "L\n"
     ]
    }
   ],
   "source": [
    "#36.WAP to check whether a character is in the not a vowel. If it's not a vowel,print the previous character.\n",
    "n='M'\n",
    "if n not in 'aeiouAEIOU':\n",
    "    print(chr(ord(n)-1))"
   ]
  },
  {
   "cell_type": "code",
   "execution_count": 12,
   "metadata": {},
   "outputs": [
    {
     "name": "stdout",
     "output_type": "stream",
     "text": [
      "b'10101' is a single value data type.\n"
     ]
    }
   ],
   "source": [
    "#37.WAP to check whether a given value is a single value data type or not. If single value, display the given value as a single value data type.\n",
    "n=b'10101'\n",
    "if type(n) in [int,float,bool,complex,bytes,type(None)]:\n",
    "    print(n,'is a single value data type.')"
   ]
  },
  {
   "cell_type": "code",
   "execution_count": 19,
   "metadata": {},
   "outputs": [
    {
     "name": "stdout",
     "output_type": "stream",
     "text": [
      "({'a': 10},)\n"
     ]
    }
   ],
   "source": [
    "#38.WAP to check whether a given value is a multi-value data type or not. If multi value, store the given value inside the tuple and display it.\n",
    "n={'a':10}\n",
    "m=()\n",
    "if type(n) in [list,tuple,str,set,dict]:\n",
    "    m+=(n,)\n",
    "    print(m)"
   ]
  },
  {
   "cell_type": "code",
   "execution_count": 42,
   "metadata": {},
   "outputs": [
    {
     "name": "stdout",
     "output_type": "stream",
     "text": [
      "{(10+15j)}\n"
     ]
    }
   ],
   "source": [
    "#39.WAP to check whether a given value is an immutable data type or not. If an immutable data type value, store the given value inside the set and display it.\n",
    "n=10+15j\n",
    "m=set()\n",
    "if type(n) not in[list,set,dict]:\n",
    "    m|={n}\n",
    "    print(m)    "
   ]
  },
  {
   "cell_type": "code",
   "execution_count": 49,
   "metadata": {},
   "outputs": [
    {
     "name": "stdout",
     "output_type": "stream",
     "text": [
      "3 is a odd number.\n"
     ]
    }
   ],
   "source": [
    "#40.WAP to check whether the middle element of a given list is odd or not. If it is odd then print odd then print the number else directly print the number.\n",
    "n=[1,2,3,4,5]\n",
    "if (((n[len(n)//2])%2!=0)):\n",
    "    print(n[len(n)//2],\"is a odd number.\")"
   ]
  },
  {
   "cell_type": "code",
   "execution_count": 3,
   "metadata": {},
   "outputs": [
    {
     "name": "stdout",
     "output_type": "stream",
     "text": [
      "not a mutable data type\n"
     ]
    }
   ],
   "source": [
    "#41.WAP Return a new string with \"not\" prefixed to the front of the original string. Return the string unmodified if the string already has the word \"not\" at the beginning.\n",
    "n='not a mutable data type'\n",
    "if n[:3]!=\"not\":\n",
    "    m=\"not \"+n\n",
    "    print(m)"
   ]
  },
  {
   "cell_type": "code",
   "execution_count": 1,
   "metadata": {},
   "outputs": [
    {
     "name": "stdout",
     "output_type": "stream",
     "text": [
      "l\n"
     ]
    }
   ],
   "source": [
    "#42.WAP to check whether a given string(str) and one integer(n) value, to display a new string that is devoid of the character at index n. if you are given a non-empty string and an int n. The value of n will be a legitimate character index from the original string, therefore it will fall within the range of 0 to len(str)-1, inclusive.\n",
    "a=\"apple\"\n",
    "n=3\n",
    "if a!='' and n!=None and len(a)!=n:\n",
    "    print(a[n])                 "
   ]
  },
  {
   "cell_type": "code",
   "execution_count": 59,
   "metadata": {},
   "outputs": [
    {
     "name": "stdout",
     "output_type": "stream",
     "text": [
      "The address of 125 is 2192490762352\n",
      "The address of 125 is 2192490762352\n"
     ]
    }
   ],
   "source": [
    "#43.WAP to check whether the two variables are pointing to the same memory location or not if they are pointing to the same memory location then print the address of both the variables.\n",
    "n=125\n",
    "b=125\n",
    "if n is b:\n",
    "    print(f\"The address of {n} is {id(n)}\")\n",
    "    print(f\"The address of {b} is {id(b)}\")"
   ]
  },
  {
   "cell_type": "code",
   "execution_count": 62,
   "metadata": {},
   "outputs": [
    {
     "name": "stdout",
     "output_type": "stream",
     "text": [
      "Good Morni\n"
     ]
    }
   ],
   "source": [
    "#44.WAP to check whether the given length of the string is even or not. If the condition is satisfied, display the sequence of characters from zero position to length of collection -2.\n",
    "n=\"Good Morning\"\n",
    "if len(n)%2==0:\n",
    "    print(n[:len(n)-2])"
   ]
  },
  {
   "cell_type": "code",
   "execution_count": 68,
   "metadata": {},
   "outputs": [
    {
     "name": "stdout",
     "output_type": "stream",
     "text": [
      "n is Day\n",
      "m is Good\n"
     ]
    }
   ],
   "source": [
    "#45.WAP to check whether the two given strings are having the same values or not. If both are not the same values then swap the values of one variable to another variable after swapping print the two values.\n",
    "n=\"Good\"\n",
    "m=\"Day\"\n",
    "if n!=m:\n",
    "    n,m=m,n\n",
    "    print(\"n is\",n)\n",
    "    print('m is',m)"
   ]
  },
  {
   "cell_type": "code",
   "execution_count": 69,
   "metadata": {},
   "outputs": [
    {
     "name": "stdout",
     "output_type": "stream",
     "text": [
      "{'$': 36}\n"
     ]
    }
   ],
   "source": [
    "#46.WAP to check whether a given character is a special symbol or not. If satisfied, store the symbol as a key and value as a ascii value of the given character inside the dictionary.\n",
    "n='$'\n",
    "m={}\n",
    "if not('A'<=n<='Z' or 'a'<=n<='z' or '0'<=n<='9'):\n",
    "    m[n]=ord(n)\n",
    "    print(m)"
   ]
  },
  {
   "cell_type": "code",
   "execution_count": 75,
   "metadata": {},
   "outputs": [
    {
     "name": "stdout",
     "output_type": "stream",
     "text": [
      "{10: 'a', 20: 'b', 30: 'c', 40: 'd'}\n"
     ]
    }
   ],
   "source": [
    "#47.WAP to check whether a given key is not present in the dictionary or not. If the key is not present, append the new key inside the dictionary.\n",
    "d={10:'a',20:'b',30:'c'}\n",
    "n=40\n",
    "if n not in d:\n",
    "    d[n]='d'\n",
    "    print(d)\n",
    "    "
   ]
  },
  {
   "cell_type": "code",
   "execution_count": 76,
   "metadata": {},
   "outputs": [
    {
     "name": "stdout",
     "output_type": "stream",
     "text": [
      "good MorninG\n"
     ]
    }
   ],
   "source": [
    "#48.WAP whether a given string, and it displays a new string with the first and last characters switched.\n",
    "n=\"Good Morning\"\n",
    "if type(n)==str:\n",
    "    n=n[-1]+n[1:-1]+n[0]\n",
    "    print(n)"
   ]
  },
  {
   "cell_type": "code",
   "execution_count": 78,
   "metadata": {},
   "outputs": [
    {
     "name": "stdout",
     "output_type": "stream",
     "text": [
      "Last digit of given number is 2\n"
     ]
    }
   ],
   "source": [
    "#49.WAP to check whether the last digit should be 2 in the given number then print the last digit.\n",
    "n=1482\n",
    "if n%10==2:\n",
    "    print('Last digit of given number is',n%10)"
   ]
  },
  {
   "cell_type": "code",
   "execution_count": 79,
   "metadata": {},
   "outputs": [
    {
     "name": "stdout",
     "output_type": "stream",
     "text": [
      "length of given string n is 7\n",
      "length of given string m is 6\n"
     ]
    }
   ],
   "source": [
    "#50.WAP to check whether both string collections are equal or not if it is not equal print the both strings along with the length of a string if both are equal ignore it.\n",
    "n='Prudhvi'\n",
    "m='Rohith'\n",
    "if len(n)!=len(m):\n",
    "    print('length of given string n is',len(n))\n",
    "    print('length of given string m is',len(m))"
   ]
  }
 ],
 "metadata": {
  "kernelspec": {
   "display_name": "Python 3",
   "language": "python",
   "name": "python3"
  },
  "language_info": {
   "codemirror_mode": {
    "name": "ipython",
    "version": 3
   },
   "file_extension": ".py",
   "mimetype": "text/x-python",
   "name": "python",
   "nbconvert_exporter": "python",
   "pygments_lexer": "ipython3",
   "version": "3.10.9"
  },
  "orig_nbformat": 4
 },
 "nbformat": 4,
 "nbformat_minor": 2
}
